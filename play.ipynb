{
 "cells": [
  {
   "cell_type": "code",
   "execution_count": 9,
   "metadata": {},
   "outputs": [],
   "source": [
    "import pretty_midi\n",
    "import numpy as np\n",
    "import pandas as pd\n",
    "from tqdm import tqdm\n",
    "import matplotlib.pyplot as plt"
   ]
  },
  {
   "cell_type": "code",
   "execution_count": 82,
   "metadata": {},
   "outputs": [],
   "source": [
    "def note_vec(note):\n",
    "    return np.array([note.start, note.end, note.pitch, note.velocity])"
   ]
  },
  {
   "cell_type": "code",
   "execution_count": 87,
   "metadata": {},
   "outputs": [
    {
     "name": "stderr",
     "output_type": "stream",
     "text": [
      "100%|█████████████████████████████████████████| 909/909 [01:25<00:00, 10.61it/s]\n"
     ]
    }
   ],
   "source": [
    "for i in tqdm(range(1, 910)):\n",
    "    idx = f\"{i:0>3}\"\n",
    "    mid = pretty_midi.PrettyMIDI(f\"POP909/POP909/{idx}/{idx}.mid\")\n",
    "    for inst in mid.instruments:\n",
    "        seq = pd.DataFrame(np.vstack([note_vec(note) for note in inst.notes]), columns = ['start','end','pitch','velocity'])\n",
    "        seq.to_csv(rf\"POP909/POP909/{idx}/{inst.name}.txt\")\n",
    "        "
   ]
  },
  {
   "cell_type": "code",
   "execution_count": 109,
   "metadata": {},
   "outputs": [
    {
     "name": "stderr",
     "output_type": "stream",
     "text": [
      "100%|████████████████████████████████████████| 909/909 [00:02<00:00, 361.36it/s]\n"
     ]
    }
   ],
   "source": [
    "for i in tqdm(range(1, 910)):\n",
    "    idx = f\"{i:0>3}\"\n",
    "    beat = pd.read_csv(rf\"POP909/POP909/{idx}/beat_midi.txt\", sep=\" \", header = None) \n",
    "    beat = beat.rename(columns = {0: 'start', 1: 'beat1', 2: 'beat2'})\n",
    "    mel = pd.read_csv(rf\"POP909/POP909/{idx}/MELODY.txt\", sep=\",\") \n",
    "    mel_merge = pd.merge(beat, mel, how= 'outer', left_on = 'start', right_on = 'start', suffixes=('_beat', '_melody'))"
   ]
  },
  {
   "cell_type": "code",
   "execution_count": 34,
   "metadata": {},
   "outputs": [],
   "source": [
    "i = 1\n",
    "idx = f\"{i:0>3}\"\n",
    "beat = pd.read_csv(rf\"POP909/POP909/{idx}/beat_midi.txt\", sep=\" \", header = None) \n",
    "beat = beat.rename(columns = {0: 'start', 1: 'beat1', 2: 'beat2'})\n",
    "mel = pd.read_csv(rf\"POP909/POP909/{idx}/MELODY.txt\", sep=\",\", index_col = 0) \n",
    "\n",
    "mel['duration'] = mel.end - mel.start"
   ]
  },
  {
   "cell_type": "code",
   "execution_count": 47,
   "metadata": {},
   "outputs": [
    {
     "name": "stdout",
     "output_type": "stream",
     "text": [
      "          start  beat1  beat2  end  pitch  velocity  duration\n",
      "0      0.055333    1.0    1.0  NaN    NaN       NaN       NaN\n",
      "1      0.721998    0.0    0.0  NaN    NaN       NaN       NaN\n",
      "2      1.388663    1.0    0.0  NaN    NaN       NaN       NaN\n",
      "3      2.055328    0.0    0.0  NaN    NaN       NaN       NaN\n",
      "4      2.721993    1.0    1.0  NaN    NaN       NaN       NaN\n",
      "..          ...    ...    ...  ...    ...       ...       ...\n",
      "287  191.388188    0.0    0.0  NaN    NaN       NaN       NaN\n",
      "288  192.054853    1.0    1.0  NaN    NaN       NaN       NaN\n",
      "289  192.721518    0.0    0.0  NaN    NaN       NaN       NaN\n",
      "290  193.388183    1.0    0.0  NaN    NaN       NaN       NaN\n",
      "291  194.054848    0.0    0.0  NaN    NaN       NaN       NaN\n",
      "\n",
      "[292 rows x 7 columns]\n",
      "          start  end  pitch  velocity  duration  beat1  beat2\n",
      "0      0.055333  NaN    NaN       NaN       NaN    1.0    1.0\n",
      "1      0.721998  NaN    NaN       NaN       NaN    0.0    0.0\n",
      "2      1.388663  NaN    NaN       NaN       NaN    1.0    0.0\n",
      "3      2.055328  NaN    NaN       NaN       NaN    0.0    0.0\n",
      "4      2.721993  NaN    NaN       NaN       NaN    1.0    1.0\n",
      "..          ...  ...    ...       ...       ...    ...    ...\n",
      "287  191.388188  NaN    NaN       NaN       NaN    0.0    0.0\n",
      "288  192.054853  NaN    NaN       NaN       NaN    1.0    1.0\n",
      "289  192.721518  NaN    NaN       NaN       NaN    0.0    0.0\n",
      "290  193.388183  NaN    NaN       NaN       NaN    1.0    0.0\n",
      "291  194.054848  NaN    NaN       NaN       NaN    0.0    0.0\n",
      "\n",
      "[456 rows x 7 columns]\n"
     ]
    }
   ],
   "source": [
    "# try to match the beat and notes if possible\n",
    "mat = pd.merge_asof(mel, beat, on = 'start', suffixes=('_mel', '_beat'), direction='nearest', tolerance = 1e-3)\n",
    "check = pd.merge_asof(beat, mel, on = 'start', suffixes=('_beat', '_mel'), direction='nearest', tolerance = 1e-3)\n",
    "print(check)\n",
    "mat = mat._append(check[np.isnan(check.end)]).sort_values(by = 'start')\n",
    "print(mat)"
   ]
  }
 ],
 "metadata": {
  "kernelspec": {
   "display_name": "Python 3 (ipykernel)",
   "language": "python",
   "name": "python3"
  },
  "language_info": {
   "codemirror_mode": {
    "name": "ipython",
    "version": 3
   },
   "file_extension": ".py",
   "mimetype": "text/x-python",
   "name": "python",
   "nbconvert_exporter": "python",
   "pygments_lexer": "ipython3",
   "version": "3.8.18"
  }
 },
 "nbformat": 4,
 "nbformat_minor": 2
}
