{
 "cells": [
  {
   "cell_type": "code",
   "execution_count": 1,
   "metadata": {},
   "outputs": [],
   "source": [
    "# Convert the time stamps in midi to seconds\n",
    "\n",
    "import pretty_midi\n",
    "import numpy as np\n",
    "import pandas as pd\n",
    "from tqdm import tqdm"
   ]
  },
  {
   "cell_type": "code",
   "execution_count": 2,
   "metadata": {},
   "outputs": [],
   "source": [
    "def note_vec(note):\n",
    "    return np.array([note.start, note.end, note.pitch, note.velocity])"
   ]
  },
  {
   "cell_type": "code",
   "execution_count": 3,
   "metadata": {},
   "outputs": [
    {
     "name": "stderr",
     "output_type": "stream",
     "text": [
      "100%|██████████| 909/909 [01:21<00:00, 11.15it/s]\n"
     ]
    }
   ],
   "source": [
    "for i in tqdm(range(1, 910)):\n",
    "    idx = f\"{i:0>3}\"\n",
    "    mid = pretty_midi.PrettyMIDI(f\"POP909/POP909/{idx}/{idx}.mid\")\n",
    "    for inst in mid.instruments:\n",
    "        seq = pd.DataFrame(np.vstack([note_vec(note) for note in inst.notes]), columns = ['start','end','pitch','velocity'])\n",
    "        seq.to_csv(rf\"POP909/POP909/{idx}/{inst.name}.txt\")\n",
    "        "
   ]
  },
  {
   "cell_type": "code",
   "execution_count": 10,
   "metadata": {},
   "outputs": [
    {
     "name": "stderr",
     "output_type": "stream",
     "text": [
      "100%|██████████| 909/909 [01:00<00:00, 14.92it/s]\n"
     ]
    }
   ],
   "source": [
    "# Match the beat and midi\n",
    "import numpy as np\n",
    "import pandas as pd\n",
    "from tqdm import tqdm\n",
    "\n",
    "for i in tqdm(range(1,910)):\n",
    "    idx = f\"{i:0>3}\"\n",
    "    beat = pd.read_csv(rf\"POP909/POP909/{idx}/beat_midi.txt\", sep=\" \", header = None) \n",
    "    beat = beat.rename(columns = {0: 'beat_start', 1: 'beat1', 2: 'beat2'})\n",
    "    beat['beat_index'] = beat.index\n",
    "    mel = pd.read_csv(rf\"POP909/POP909/{idx}/MELODY.txt\", sep=\",\", index_col = 'Unnamed: 0').sort_values(by = 'start').reset_index(drop = True)\n",
    "    mel['mel_index'] = mel.index\n",
    "    mel = mel.rename(columns={'start': 'mel_start', 'end': 'mel_end', 'pitch': 'mel_pitch', 'velocity' : 'mel_velocity'})\n",
    "\n",
    "    bri = pd.read_csv(rf\"POP909/POP909/{idx}/BRIDGE.txt\", sep=\",\", index_col = 'Unnamed: 0').sort_values(by = 'start').reset_index(drop = True)\n",
    "    bri['bri_index'] = bri.index\n",
    "    bri = bri.rename(columns={'start': 'bri_start', 'end': 'bri_end', 'pitch': 'bri_pitch', 'velocity' : 'bri_velocity'}) \n",
    "\n",
    "    pia = pd.read_csv(rf\"POP909/POP909/{idx}/PIANO.txt\", sep=\",\", index_col = 'Unnamed: 0').sort_values(by = 'start').reset_index(drop = True)\n",
    "    pia['pia_index'] = pia.index\n",
    "    pia = pia.rename(columns={'start': 'pia_start', 'end': 'pia_end', 'pitch': 'pia_pitch', 'velocity' : 'pia_velocity'})\n",
    "\n",
    "    chord = pd.read_csv(rf\"POP909/POP909/{idx}/chord_midi.txt\", sep=\"\\t\", header = None)\n",
    "    chord = chord.rename(columns = {0: 'chord_start', 1: 'chord_end', 2:'chord'}).sort_values(by = 'chord_start').reset_index(drop = True)\n",
    "    chord['chord_index'] = chord.index\n",
    "\n",
    "    relevant_times = np.sort(np.unique(np.hstack((beat.beat_start, mel.mel_start, mel.mel_end, bri.bri_start, bri.bri_end, pia.pia_start, pia.pia_end, chord.chord_start, chord.chord_end))))\n",
    "\n",
    "    midi_in_txt = pd.DataFrame({'time' : relevant_times})\n",
    "    midi_in_txt = midi_in_txt.merge(beat, left_on = 'time', right_on = 'beat_start', how = 'left')\n",
    "    midi_in_txt = midi_in_txt.merge(mel, left_on = 'time', right_on = 'mel_start', how = 'left')\n",
    "    midi_in_txt = midi_in_txt.merge(bri, left_on = 'time', right_on = 'bri_start', how = 'left')\n",
    "    midi_in_txt = midi_in_txt.merge(pia, left_on = 'time', right_on = 'pia_start', how = 'left')\n",
    "    midi_in_txt = midi_in_txt.merge(chord, left_on = 'time', right_on = 'chord_start', how = 'left')\n",
    "\n",
    "    midi_in_txt = midi_in_txt.ffill()\n",
    "\n",
    "    rows = midi_in_txt.time > midi_in_txt.mel_end\n",
    "    midi_in_txt.loc[rows, ['mel_index', 'mel_start', 'mel_end', 'mel_pitch', 'mel_velocity']] = np.NaN\n",
    "\n",
    "    rows = midi_in_txt.time > midi_in_txt.bri_end\n",
    "    midi_in_txt.loc[rows, ['bri_index', 'bri_start', 'bri_end', 'bri_pitch', 'bri_velocity']] = np.NaN\n",
    "\n",
    "    rows = midi_in_txt.time > midi_in_txt.pia_end\n",
    "    midi_in_txt.loc[rows, ['pia_index', 'pia_start', 'pia_end', 'pia_pitch', 'pia_velocity']] = np.NaN\n",
    "\n",
    "    rows = midi_in_txt.time > midi_in_txt.chord_end\n",
    "    midi_in_txt.loc[rows, ['chord_index', 'chord_start', 'chord_end', 'chord']] = np.NaN\n",
    "\n",
    "\n",
    "    midi_in_txt.to_csv(rf\"POP909/POP909/{idx}/all_in_text_{idx}.csv\")"
   ]
  },
  {
   "cell_type": "code",
   "execution_count": null,
   "metadata": {},
   "outputs": [],
   "source": [
    "    # chord = pd.read_csv(rf\"POP909/POP909/{idx}/beat_chord_match_midi.txt\", sep=\",\", index_col = 'Unnamed: 0')\n",
    "    # chord = chord[chord['chord'].notna()].sort_values(by = 'beat').reset_index(drop = True)\n",
    "    # chord['chord_index'] = chord.index\n",
    "    # chord = chord.rename(columns={'beat': 'chord_start'})"
   ]
  }
 ],
 "metadata": {
  "kernelspec": {
   "display_name": "Python 3 (ipykernel)",
   "language": "python",
   "name": "python3"
  },
  "language_info": {
   "codemirror_mode": {
    "name": "ipython",
    "version": 3
   },
   "file_extension": ".py",
   "mimetype": "text/x-python",
   "name": "python",
   "nbconvert_exporter": "python",
   "pygments_lexer": "ipython3",
   "version": "3.8.18"
  }
 },
 "nbformat": 4,
 "nbformat_minor": 2
}
