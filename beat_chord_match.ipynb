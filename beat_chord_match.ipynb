{
 "cells": [
  {
   "cell_type": "code",
   "execution_count": 1,
   "id": "29614d52",
   "metadata": {},
   "outputs": [
    {
     "name": "stderr",
     "output_type": "stream",
     "text": [
      "100%|██████████| 909/909 [00:05<00:00, 165.20it/s]\n"
     ]
    }
   ],
   "source": [
    "import numpy as np\n",
    "import pandas as pd\n",
    "from tqdm import tqdm\n",
    "\n",
    "for i in tqdm(range(1, 910)):\n",
    "    idx = f\"{i:0>3}\"\n",
    "    beat = pd.read_csv(rf\"POP909/POP909/{idx}/beat_midi.txt\", sep=\" \", header = None) \n",
    "    chord = pd.read_csv(rf\"POP909/POP909/{idx}/chord_midi.txt\", sep=\"\\t\", header=None)\n",
    "    # beat[0] = round(beat[0], 6)\n",
    "    match = pd.merge_asof(beat, chord, left_on = 0, right_on = 0, suffixes=('_beat', '_chord'), direction='nearest', tolerance = 1e-5).sort_values(by = [0])\n",
    "    check = pd.merge_asof(chord, beat, left_on = 0, right_on = 0, suffixes=('_chord', '_beat'), direction='nearest', tolerance = 1e-5).sort_values(by = [0])\n",
    "    # a match quality check\n",
    "    if sum(check['1_beat'].isnull()) > 0:\n",
    "        print(sum(check['1_beat'].isnull()))\n",
    "    match = match.rename(columns = {0: \"beat\", \"1_chord\": \"chord_end\", \"2_chord\" : \"chord\"})[['beat', 'chord', 'chord_end']]\n",
    "    match.to_csv(rf\"POP909/POP909/{idx}/beat_chord_match_midi.txt\")    \n"
   ]
  },
  {
   "cell_type": "code",
   "execution_count": null,
   "id": "135718b5",
   "metadata": {},
   "outputs": [],
   "source": []
  }
 ],
 "metadata": {
  "kernelspec": {
   "display_name": "Python 3 (ipykernel)",
   "language": "python",
   "name": "python3"
  },
  "language_info": {
   "codemirror_mode": {
    "name": "ipython",
    "version": 3
   },
   "file_extension": ".py",
   "mimetype": "text/x-python",
   "name": "python",
   "nbconvert_exporter": "python",
   "pygments_lexer": "ipython3",
   "version": "3.8.18"
  }
 },
 "nbformat": 4,
 "nbformat_minor": 5
}
