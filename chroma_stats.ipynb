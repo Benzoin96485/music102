{
 "cells": [
  {
   "cell_type": "code",
   "execution_count": 3,
   "metadata": {},
   "outputs": [],
   "source": [
    "import pandas as pd\n",
    "from collections import defaultdict\n",
    "from tqdm import tqdm"
   ]
  },
  {
   "cell_type": "code",
   "execution_count": 4,
   "metadata": {},
   "outputs": [
    {
     "name": "stderr",
     "output_type": "stream",
     "text": [
      "  0%|          | 0/909 [00:00<?, ?it/s]"
     ]
    },
    {
     "name": "stderr",
     "output_type": "stream",
     "text": [
      "100%|██████████| 909/909 [00:00<00:00, 1221.77it/s]\n"
     ]
    }
   ],
   "source": [
    "chroma_collection = defaultdict(int)\n",
    "root_collection = defaultdict(int)\n",
    "for i in tqdm(range(1, 910)):\n",
    "    idx = f\"{i:0>3}\"\n",
    "    df = pd.read_csv(rf\"POP909\\POP909\\{idx}\\chord_midi.txt\", sep=\"\\t\", header=None)\n",
    "    for chord in df[2]:\n",
    "        if \":\" in chord:\n",
    "            root, chroma = chord.split(\":\")\n",
    "            root_collection[root] += 1\n",
    "            chroma_collection[chroma] += 1\n",
    "        else:\n",
    "            chroma_collection[chord] += 1"
   ]
  },
  {
   "cell_type": "code",
   "execution_count": 5,
   "metadata": {},
   "outputs": [
    {
     "data": {
      "text/plain": [
       "defaultdict(int,\n",
       "            {'B': 9435,\n",
       "             'C#': 9087,\n",
       "             'Bb': 9343,\n",
       "             'Eb': 9187,\n",
       "             'F#': 8646,\n",
       "             'E': 9947,\n",
       "             'Ab': 9174,\n",
       "             'G': 11459,\n",
       "             'F': 10127,\n",
       "             'D': 10821,\n",
       "             'C': 12073,\n",
       "             'A': 10770})"
      ]
     },
     "execution_count": 5,
     "metadata": {},
     "output_type": "execute_result"
    }
   ],
   "source": [
    "root_collection"
   ]
  },
  {
   "cell_type": "code",
   "execution_count": 41,
   "metadata": {},
   "outputs": [],
   "source": [
    "(pd.DataFrame\n",
    "    .from_dict(chroma_collection, orient=\"index\", columns=[\"number\"])\n",
    "    .reset_index()\n",
    "    .rename(columns={\"index\": \"chroma\"})\n",
    "    .to_csv(\"chroma_stats.csv\", index=False)\n",
    ")"
   ]
  },
  {
   "cell_type": "code",
   "execution_count": 17,
   "metadata": {},
   "outputs": [],
   "source": [
    "import pandas as pd\n",
    "import numpy as np\n",
    "\n",
    "KEYS = (\"C\", \"C#\", \"D\", \"Eb\", \"E\", \"F\", \"F#\", \"G\", \"Ab\", \"A\", \"Bb\", \"B\")\n",
    "COMPOSITION = pd.read_csv(\"chroma_composition.csv\")\n",
    "def chord2vec(chord):\n",
    "    vec = np.zeros(12)\n",
    "    if \":\" in chord:\n",
    "        root, chroma = chord.split(\":\")\n",
    "        root_idx = KEYS.index(root)\n",
    "        composition = COMPOSITION[COMPOSITION[\"chroma\"] == chroma][\"composition\"].item()\n",
    "        for key_idx in composition.split():\n",
    "            vec[(int(key_idx) + root_idx) % 12] = 1\n",
    "    return vec\n"
   ]
  },
  {
   "cell_type": "code",
   "execution_count": 20,
   "metadata": {},
   "outputs": [
    {
     "name": "stdout",
     "output_type": "stream",
     "text": [
      "[1. 0. 0. 1. 0. 0. 0. 1. 0. 0. 0. 0.]\n",
      "[0. 0. 1. 0. 0. 0. 1. 0. 0. 1. 0. 0.]\n"
     ]
    }
   ],
   "source": [
    "print(chord2vec(\"C:min\"))\n",
    "print(chord2vec(\"D:maj\"))"
   ]
  }
 ],
 "metadata": {
  "kernelspec": {
   "display_name": "music101",
   "language": "python",
   "name": "python3"
  },
  "language_info": {
   "codemirror_mode": {
    "name": "ipython",
    "version": 3
   },
   "file_extension": ".py",
   "mimetype": "text/x-python",
   "name": "python",
   "nbconvert_exporter": "python",
   "pygments_lexer": "ipython3",
   "version": "3.12.0"
  }
 },
 "nbformat": 4,
 "nbformat_minor": 2
}
