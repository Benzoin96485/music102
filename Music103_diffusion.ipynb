{
 "cells": [
  {
   "cell_type": "markdown",
   "metadata": {
    "id": "4glFUe2R9uRc"
   },
   "source": [
    "# Music 103 diffusion version"
   ]
  },
  {
   "cell_type": "code",
   "execution_count": 13,
   "metadata": {
    "id": "-iydqiNU5fGu"
   },
   "outputs": [],
   "source": [
    "import torch\n",
    "import torch.nn as nn\n",
    "import torch.optim as optim\n",
    "import torch.utils.data as data\n",
    "import math\n",
    "import numpy as np\n",
    "import copy\n",
    "import pandas as pd\n",
    "from tqdm import tqdm\n",
    "from os.path import exists\n",
    "from os import remove, chdir\n",
    "import pickle"
   ]
  },
  {
   "cell_type": "code",
<<<<<<< HEAD
   "execution_count": 2,
=======
   "execution_count": 14,
>>>>>>> 7880c3ad5fa28724f80d6a84baf0436bf55929f1
   "metadata": {
    "id": "-J1xVnVE_6Zm"
   },
   "outputs": [],
   "source": [
    "class MultiHeadAttention(nn.Module):\n",
    "    def __init__(self, d_model, num_heads):\n",
    "        super(MultiHeadAttention, self).__init__()\n",
    "        assert d_model % num_heads == 0, \"d_model must be divisible by num_heads\"\n",
    "        \n",
    "        self.d_model = d_model\n",
    "        self.num_heads = num_heads\n",
    "        self.d_k = d_model // num_heads\n",
    "        \n",
    "        self.W_q = nn.Linear(d_model, d_model)\n",
    "        self.W_k = nn.Linear(d_model, d_model)\n",
    "        self.W_v = nn.Linear(d_model, d_model)\n",
    "        self.W_o = nn.Linear(d_model, d_model)\n",
    "        \n",
    "    def scaled_dot_product_attention(self, Q, K, V, mask=None):\n",
    "        attn_scores = torch.matmul(Q, K.transpose(-2, -1)) / math.sqrt(self.d_k)\n",
    "        if mask is not None:\n",
    "            attn_scores = attn_scores.masked_fill(mask == 0, -1e9)\n",
    "        attn_probs = torch.softmax(attn_scores, dim=-1)\n",
    "        output = torch.matmul(attn_probs, V)\n",
    "        return output\n",
    "        \n",
    "    def split_heads(self, x):\n",
    "        batch_size, seq_length, d_model = x.size()\n",
    "        return x.view(batch_size, seq_length, self.num_heads, self.d_k).transpose(1, 2)\n",
    "        \n",
    "    def combine_heads(self, x):\n",
    "        batch_size, _, seq_length, d_k = x.size()\n",
    "        return x.transpose(1, 2).contiguous().view(batch_size, seq_length, self.d_model)\n",
    "        \n",
    "    def forward(self, Q, K, V, mask=None):\n",
    "        Q = self.split_heads(self.W_q(Q))\n",
    "        K = self.split_heads(self.W_k(K))\n",
    "        V = self.split_heads(self.W_v(V))\n",
    "        \n",
    "        attn_output = self.scaled_dot_product_attention(Q, K, V, mask)\n",
    "        output = self.W_o(self.combine_heads(attn_output))\n",
    "        return output\n",
    "    \n",
    "class PositionWiseFeedForward(nn.Module):\n",
    "    def __init__(self, d_model, d_ff):\n",
    "        super(PositionWiseFeedForward, self).__init__()\n",
    "        self.fc1 = nn.Linear(d_model, d_ff)\n",
    "        self.fc2 = nn.Linear(d_ff, d_model)\n",
    "        self.relu = nn.ReLU()\n",
    "\n",
    "    def forward(self, x):\n",
    "        return self.fc2(self.relu(self.fc1(x)))\n",
    "    \n",
    "class PositionalEncoding(nn.Module):\n",
    "    def __init__(self, d_model):\n",
    "        super(PositionalEncoding, self).__init__()\n",
    "        self.d_model = d_model\n",
    "\n",
    "    def forward(self, x):\n",
    "        max_len = x.size(1)\n",
    "        pe = torch.zeros(max_len, self.d_model)\n",
    "        position = torch.arange(0, max_len, dtype=torch.float).unsqueeze(1)\n",
    "        div_term = torch.exp(torch.arange(0, self.d_model, 2).float() * -(math.log(10000.0) / self.d_model))\n",
    "        \n",
    "        pe[:, 0::2] = torch.sin(position * div_term)\n",
    "        pe[:, 1::2] = torch.cos(position * div_term)\n",
    "        \n",
    "        pe = pe.unsqueeze(0).to(x.device)\n",
    "        return x + pe\n",
    "\n",
    "\n",
    "class DecoderPositionalEncoding(nn.Module):\n",
    "    def __init__(self, d_model):\n",
    "        super().__init__()\n",
    "        self.d_model = d_model\n",
    "\n",
    "    def forward(self, x, tgt):\n",
    "        # max_len = x.size(1)\n",
    "        tgt_one_hot = tgt[:, :, 12:]\n",
    "        tgt_class = torch.argmax(tgt_one_hot, dim=-1)\n",
    "        pe = torch.zeros_like(x)\n",
    "        position = torch.cumsum(tgt_class, dim=1).unsqueeze(-1)\n",
    "        div_term = torch.exp(torch.arange(0, self.d_model, 2).float() * -(math.log(10000.0) / self.d_model)).to(position.device)\n",
    "        \n",
    "        pe[:, :, 0::2] = torch.sin(position * div_term)\n",
    "        pe[:, :, 1::2] = torch.cos(position * div_term)\n",
    "        return x + pe\n",
    "\n",
    "    \n",
    "class EncoderLayer(nn.Module):\n",
    "    def __init__(self, d_model, num_heads, d_ff, dropout):\n",
    "        super(EncoderLayer, self).__init__()\n",
    "        self.self_attn = MultiHeadAttention(d_model, num_heads)\n",
    "        self.feed_forward = PositionWiseFeedForward(d_model, d_ff)\n",
    "        self.norm1 = nn.LayerNorm(d_model)\n",
    "        self.norm2 = nn.LayerNorm(d_model)\n",
    "        self.dropout = nn.Dropout(dropout)\n",
    "        \n",
    "    def forward(self, x, mask):\n",
    "        attn_output = self.self_attn(x, x, x, mask)\n",
    "        x = self.norm1(x + self.dropout(attn_output))\n",
    "        ff_output = self.feed_forward(x)\n",
    "        x = self.norm2(x + self.dropout(ff_output))\n",
    "        return x\n",
    "    \n",
    "class DecoderLayer(nn.Module):\n",
    "    def __init__(self, d_model, num_heads, d_ff, dropout):\n",
    "        super(DecoderLayer, self).__init__()\n",
    "        self.self_attn = MultiHeadAttention(d_model, num_heads)\n",
    "        self.cross_attn = MultiHeadAttention(d_model, num_heads)\n",
    "        self.feed_forward = PositionWiseFeedForward(d_model, d_ff)\n",
    "        self.norm1 = nn.LayerNorm(d_model)\n",
    "        self.norm2 = nn.LayerNorm(d_model)\n",
    "        self.norm3 = nn.LayerNorm(d_model)\n",
    "        self.dropout = nn.Dropout(dropout)\n",
    "        \n",
    "    def forward(self, x, enc_output, src_mask, tgt_mask):\n",
    "        attn_output = self.self_attn(x, x, x, tgt_mask)\n",
    "        x = self.norm1(x + self.dropout(attn_output))\n",
    "        attn_output = self.cross_attn(x, enc_output, enc_output, src_mask)\n",
    "        x = self.norm2(x + self.dropout(attn_output))\n",
    "        ff_output = self.feed_forward(x)\n",
    "        x = self.norm3(x + self.dropout(ff_output))\n",
    "        return x\n",
    "\n",
    "class EmbedHead(nn.Module):\n",
    "    def __init__(\n",
    "        self,\n",
    "        input_dim,\n",
    "        inner_dim_1,\n",
    "        inner_dim_2,\n",
    "        out_dim\n",
    "    ):\n",
    "        super().__init__()\n",
    "        self.linear1 = nn.Linear(input_dim, inner_dim_1)\n",
    "        self.linear2 = nn.Linear(inner_dim_1, inner_dim_2)\n",
    "        self.linear3 = nn.Linear(inner_dim_2, out_dim)\n",
    "        self.activation_fn = nn.functional.gelu\n",
    "\n",
    "    def forward(self, x):\n",
    "        x = self.linear1(x)\n",
    "        x = self.activation_fn(x)\n",
    "        x = self.linear2(x)\n",
    "        x = self.activation_fn(x)\n",
    "        x = self.linear3(x)\n",
    "        return x\n",
    "    \n",
    "\n",
    "class EmbedFC(nn.Module):\n",
    "    def __init__(self, input_dim, emb_dim):\n",
    "        super(EmbedFC, self).__init__()\n",
    "        self.input_dim = input_dim\n",
    "        layers = [\n",
    "            nn.Linear(input_dim, emb_dim),\n",
    "            nn.GELU(),\n",
    "            nn.Linear(emb_dim, emb_dim),\n",
    "        ]\n",
    "        self.model = nn.Sequential(*layers)\n",
    "\n",
    "    def forward(self, x):\n",
    "        x = x.view(-1, self.input_dim)\n",
    "        return self.model(x)\n",
    "\n",
    "\n",
    "class Transformer(nn.Module):\n",
    "    def __init__(self, src_vocab_size, tgt_vocab_size, d_model, num_heads, num_layers, d_ff, max_seq_length, dropout):\n",
    "        super(Transformer, self).__init__()\n",
    "        self.encoder_embedding = EmbedHead(src_vocab_size, d_model, d_model, d_model)\n",
    "        self.decoder_embedding = EmbedHead(tgt_vocab_size, d_model, d_model, d_model)\n",
    "        self.positional_encoding = PositionalEncoding(d_model)\n",
    "        self.time_embeddings = nn.ModuleList([EmbedFC(1, d_model) for _ in range(num_layers)])\n",
    "        self.decoder_positional_encoding = PositionalEncoding(d_model)\n",
    "\n",
    "        self.encoder_layers = nn.ModuleList([EncoderLayer(d_model, num_heads, d_ff, dropout) for _ in range(num_layers)])\n",
    "        self.decoder_layers = nn.ModuleList([DecoderLayer(d_model, num_heads, d_ff, dropout) for _ in range(num_layers)])\n",
    "\n",
    "        self.fc = nn.Linear(d_model, tgt_vocab_size)\n",
    "        self.dropout = nn.Dropout(dropout)\n",
    "\n",
    "    def generate_mask(self, src, tgt):\n",
    "        return torch.ones_like(src).bool(), torch.ones_like(tgt).bool()\n",
    "\n",
    "    def forward(self, src, tgt, time):\n",
    "        src_embedded = self.dropout(self.positional_encoding(self.encoder_embedding(src)))\n",
    "        tgt_embedded = self.dropout(self.positional_encoding(self.decoder_embedding(tgt)))\n",
    "\n",
    "        enc_output = src_embedded\n",
    "        for enc_layer in self.encoder_layers:\n",
    "            enc_output = enc_layer(enc_output, None)\n",
    "\n",
    "        dec_output = tgt_embedded\n",
    "        for i, dec_layer in enumerate(self.decoder_layers):\n",
    "            dec_output = dec_layer(dec_output, enc_output, None, None)\n",
    "            time_embedding = self.time_embeddings[i](time).unsqueeze(1)\n",
    "            dec_output = dec_output + time_embedding\n",
    "\n",
    "        output = self.fc(dec_output)\n",
    "        return output\n"
   ]
  },
  {
   "cell_type": "markdown",
   "metadata": {
    "id": "0_5PFYwtohYY"
   },
   "source": [
    "# **1. DDPM**\n",
    "\n",
    "\n",
    "# a. Building Blocks"
   ]
  },
  {
   "cell_type": "markdown",
   "metadata": {
    "id": "9yAENstIAuDh"
   },
   "source": [
    "# b. DDPM Schedules"
   ]
  },
  {
   "cell_type": "code",
<<<<<<< HEAD
   "execution_count": 3,
=======
   "execution_count": 15,
>>>>>>> 7880c3ad5fa28724f80d6a84baf0436bf55929f1
   "metadata": {
    "id": "16Wd4uXlAsE7"
   },
   "outputs": [],
   "source": [
    "def ddpm_schedules(beta1, beta2, T):\n",
    "    assert beta1 < beta2 < 1.0, \"beta1 and beta2 must be in (0, 1)\"\n",
    "\n",
    "    ##################\n",
    "    ### Problem 1 (a): Implement ddpm_schedules()\n",
    "    beta_t = torch.linspace(beta1, beta2, T).float()\n",
    "\n",
    "    alpha_t = 1 - beta_t\n",
    "    oneover_sqrta = 1 / torch.sqrt(alpha_t)\n",
    "    sqrt_beta_t = torch.sqrt(beta_t)\n",
    "    alphabar_t = torch.cumprod(alpha_t, dim=0)\n",
    "    sqrtab = torch.sqrt(alphabar_t)\n",
    "    sqrtmab = torch.sqrt(1 - alphabar_t)\n",
    "    mab_over_sqrtmab_inv = (1 - alpha_t) / torch.sqrt(1 - alphabar_t)\n",
    "    ##################\n",
    "    ##################\n",
    "\n",
    "    return {\n",
    "        \"alpha_t\": alpha_t,  # \\alpha_t\n",
    "        \"oneover_sqrta\": oneover_sqrta,  # 1/\\sqrt{\\alpha_t}\n",
    "        \"sqrt_beta_t\": sqrt_beta_t,  # \\sqrt{\\beta_t}\n",
    "        \"alphabar_t\": alphabar_t,  # \\bar{\\alpha_t}\n",
    "        \"sqrtab\": sqrtab,  # \\sqrt{\\bar{\\alpha_t}}\n",
    "        \"sqrtmab\": sqrtmab,  # \\sqrt{1-\\bar{\\alpha_t}}\n",
    "        \"mab_over_sqrtmab\": mab_over_sqrtmab_inv,  # (1-\\alpha_t)/\\sqrt{1-\\bar{\\alpha_t}}\n",
    "    }"
   ]
  },
  {
   "cell_type": "markdown",
   "metadata": {
    "id": "IeL8cLF-A9u-"
   },
   "source": [
    "# c. DDPM Main Module\n",
    "\n"
   ]
  },
  {
   "cell_type": "markdown",
   "metadata": {},
   "source": [
    "Here the noise $\\sigma_t^2=\\beta_t$"
   ]
  },
  {
   "cell_type": "code",
<<<<<<< HEAD
   "execution_count": 4,
=======
   "execution_count": 59,
>>>>>>> 7880c3ad5fa28724f80d6a84baf0436bf55929f1
   "metadata": {
    "id": "BQb0JijTA9CQ"
   },
   "outputs": [],
   "source": [
    "class DDPM(nn.Module):\n",
    "    def __init__(self, nn_model, betas, n_T, device, n_inference=None, drop_prob=0.1):\n",
    "        super(DDPM, self).__init__()\n",
    "        self.nn_model = nn_model.to(device)\n",
    "\n",
    "        for k, v in ddpm_schedules(betas[0], betas[1], n_T).items():\n",
    "            self.register_buffer(k, v)\n",
    "        \n",
    "        self.n_T = n_T\n",
    "        self.n_inference = n_inference if n_inference else n_T \n",
    "        \n",
    "        for k, v in ddpm_schedules(betas[0], betas[1], self.n_inference).items():\n",
    "            self.register_buffer(k+'_KAIMING', v)\n",
    "\n",
    "        self.device = device\n",
    "        self.drop_prob = drop_prob\n",
    "        self.loss_mse = nn.MSELoss()\n",
    "\n",
    "    def forward(self, src, tgt):\n",
    "        ##################\n",
    "        ### Problem 1 (b): Implement forward()\n",
    "        t = torch.randint(0, self.n_T, (tgt.size(0),), device=self.device)\n",
    "        sqrtab_t, sqrtmab_t = self.sqrtab[t].view(-1, 1, 1), \\\n",
    "            self.sqrtmab[t].view(-1, 1, 1)\n",
    "\n",
    "        noise = torch.randn_like(tgt).to(self.device)  # Define noise tensor\n",
    "        x_t = sqrtab_t * tgt + sqrtmab_t * noise\n",
    "\n",
    "        # mask out with probability\n",
    "        context_mask = torch.bernoulli(torch.zeros(src.shape[0])+self.drop_prob).unsqueeze(-1).unsqueeze(-1).to(self.device)\n",
    "\n",
    "        pred_noise = self.nn_model(src * context_mask, x_t, t / (self.n_T - 1))\n",
    "        loss = self.loss_mse(pred_noise, noise) \n",
    "        ##################\n",
    "        ##################\n",
    "\n",
    "        return loss\n",
    "\n",
    "    @torch.no_grad()\n",
    "    def sample(self, src, guide_w=0.0):\n",
    "        n_sample = src.shape[0]\n",
    "        x_i = torch.randn(*src.shape).to(self.device)\n",
    "        c_i = src.to(self.device).clone()\n",
    "        c_i = c_i.repeat(2, 1, 1)\n",
    "        context_mask = torch.zeros_like(c_i).to(self.device)\n",
    "        context_mask[:n_sample] = 1.0  # second half context-free\n",
    "\n",
    "        for i in range(int(self.n_inference), 0, -1):\n",
    "\n",
    "            ##################\n",
    "            ### Problem 1 (c): Implement sample()\n",
    "            t = torch.full((n_sample,), (i - 1) / (self.n_inference - 1)).to(self.device).float()\n",
    "            t_i = t.view(-1, 1, 1)\n",
    "\n",
    "            # double batch\n",
    "            x_i = x_i.repeat(2, 1, 1)\n",
    "            t_i = t_i.repeat(2, 1, 1)\n",
    "\n",
    "            z = torch.randn(*src.shape).to(self.device) if i > 1 else 0 # if last step, no noise\n",
    "            # classifier-free guidance\n",
    "            pred_full = self.nn_model(c_i * context_mask, x_i, t_i)\n",
    "            pred_1, pred_2 = pred_full[:n_sample], pred_full[n_sample:]\n",
    "            pred_noise = (1 + guide_w) * pred_1 - guide_w * pred_2\n",
    "            x_i = x_i[:n_sample]\n",
    "            x_i = self.oneover_sqrta_KAIMING[i - 1] * (x_i - pred_noise * self.mab_over_sqrtmab_KAIMING[i - 1])\\\n",
    "                + self.sqrt_beta_t_KAIMING[i - 1] * z\n",
    "        return x_i"
   ]
  },
  {
   "cell_type": "markdown",
   "metadata": {
    "id": "XYUg7AjHottB"
   },
   "source": [
    "# c. Training Function"
   ]
  },
  {
   "cell_type": "code",
<<<<<<< HEAD
   "execution_count": 5,
=======
   "execution_count": 60,
>>>>>>> 7880c3ad5fa28724f80d6a84baf0436bf55929f1
   "metadata": {
    "id": "hrG8n5WJAo51"
   },
   "outputs": [],
   "source": [
    "from tqdm import tqdm\n",
    "\n",
    "def train_main_loop(ddpm, optim, trainset, validset, testset, lr, n_epoch, device, guide_w, patience):\n",
    "    wait = 0\n",
    "    min_valid_loss = float('inf')\n",
    "    for ep in tqdm(range(n_epoch)):\n",
    "        ddpm.train()\n",
    "\n",
    "        # linear lrate decay\n",
    "        optim.param_groups[0]['lr'] = lr*(1-ep/n_epoch)\n",
    "        loss_ema = None\n",
    "        # train\n",
    "        for idx, src, tgt in trainset:\n",
    "            optim.zero_grad()\n",
    "            tgt = tgt.to(device)\n",
    "            src = src.to(device)\n",
    "            loss = ddpm(src, tgt)\n",
    "            loss.backward()\n",
    "            if loss_ema is None:\n",
    "                loss_ema = loss.item()\n",
    "            else:\n",
    "                loss_ema = 0.95 * loss_ema + 0.05 * loss.item()\n",
    "            optim.step()\n",
    "            \n",
    "        # validation\n",
    "        ddpm.eval()\n",
    "        total_loss = 0\n",
    "        with torch.no_grad():\n",
    "            for idx, src, tgt in validset:\n",
    "                tgt = tgt.to(device)\n",
    "                src = src.to(device)\n",
    "                loss = ddpm(src, tgt)\n",
    "                total_loss += loss.item()\n",
    "        avg_valid_loss = total_loss / len(validset)\n",
    "\n",
    "        # early stopping\n",
    "        if avg_valid_loss < min_valid_loss:\n",
    "            min_valid_loss = avg_valid_loss\n",
    "            torch.save(ddpm.nn_model.state_dict(), f\"model_best_diffusion.pt\")\n",
    "            print(f'epoch {ep}, train_loss: {loss_ema:.4f}, valid loss: {avg_valid_loss:.4f}')\n",
    "            wait = 0\n",
    "        else:\n",
    "            print(f'epoch {ep}, train_loss: {loss_ema:.4f}, valid loss: {avg_valid_loss:.4f}, min_valid_loss: {min_valid_loss:.4f}, wait: {wait} / {patience}')\n",
    "            wait += 1\n",
    "        if wait >= patience:\n",
    "            break\n",
    "\n",
    "    # # eval\n",
    "    # ddpm.eval()\n",
    "    # x_gens = []\n",
    "    # count = 0\n",
    "    # with torch.no_grad():\n",
    "    #     for idx, src, tgt in tqdm(testset, total=len(testset)):\n",
    "    #         if count > 3:\n",
    "    #             break\n",
    "    #         x_gens.append((idx, (ddpm.sample(src, guide_w) >= 0.5).long()))\n",
    "    #         count += 1\n",
    "\n",
    "    # torch.save(x_gens, \"song_test_music103.pt\")\n",
    "\n",
    "def eval_main_loop(ddpm, checkpoint, testset, device, guide_w, rate=0.5):\n",
    "    ddpm.nn_model.load_state_dict(torch.load(checkpoint))\n",
    "    ddpm.eval()\n",
    "    x_gens = []\n",
    "    count = 0\n",
    "    with torch.no_grad():\n",
    "        for idx, src, tgt in tqdm(testset, total=len(testset)):\n",
    "            if count > 3:\n",
    "                break\n",
    "            x_gen = ddpm.sample(src, guide_w)\n",
    "            x_gen = ((x_gen >= torch.quantile(x_gen, 0.66, dim=-1, keepdim=True)) & (x_gen >= rate)).long()\n",
    "            x_gens.append((idx, x_gen))\n",
    "            count += 1\n",
    "\n",
<<<<<<< HEAD
    "    torch.save(x_gens, \"song_test_music103.pt\")\n",
    "\n"
   ]
  },
  {
   "cell_type": "code",
   "execution_count": 6,
   "metadata": {},
   "outputs": [],
   "source": [
    "import pickle\n",
    "trainset = pickle.load(open(\"/home/vipandyc/data1/6.S978/music102/POP909/model_train/trainset_w.pkl\", \"rb\"))"
=======
    "    torch.save(x_gens, \"song_test_music103.pt\")"
>>>>>>> 7880c3ad5fa28724f80d6a84baf0436bf55929f1
   ]
  },
  {
   "cell_type": "markdown",
   "metadata": {
    "id": "Il39DdgeBPKc"
   },
   "source": [
    "# e. Training\n"
   ]
  },
  {
   "cell_type": "code",
<<<<<<< HEAD
   "execution_count": 7,
=======
   "execution_count": 62,
   "metadata": {},
   "outputs": [
    {
     "name": "stdout",
     "output_type": "stream",
     "text": [
      "splitted dataset found!\n"
     ]
    }
   ],
   "source": [
    "# hardcoding these here\n",
    "n_epoch = 200\n",
    "n_T = 1000\n",
    "n_feat = 128\n",
    "lr = 1e-4\n",
    "ws_test = [0.0, 0.5, 2.0]\n",
    "DEVICE = \"cuda\" if torch.cuda.is_available() else \"cpu\"\n",
    "\n",
    "src_vocab_size = 12\n",
    "tgt_vocab_size = 12\n",
    "d_model = 512\n",
    "num_heads = 8\n",
    "num_layers = 4\n",
    "d_ff = 4096//8\n",
    "max_seq_length = 2400\n",
    "dropout = 0.1\n",
    "batchsize = 16\n",
    "mode = \"train\"\n",
    "\n",
    "\n",
    "if exists(\"trainset_w.pkl\") and exists(\"validset_w.pkl\") and exists(\"testset_w.pkl\"):\n",
    "    print(\"splitted dataset found!\")\n",
    "    with open(\"trainset_w.pkl\", \"rb\") as f:\n",
    "        trainset = pickle.load(f)\n",
    "    with open(\"validset_w.pkl\", \"rb\") as f:\n",
    "        validset = pickle.load(f)\n",
    "    with open(\"testset_w.pkl\", \"rb\") as f:\n",
    "        testset = pickle.load(f)\n",
    "else:\n",
    "    print(\"?\")\n",
    "\n",
    "def collate_fn(batch):\n",
    "    # Unpack batch into individual components\n",
    "    idx, src_data, tgt_data, w = zip(*batch)\n",
    "    #print(len(rates[0]), len(tgt_data[0]), len(src_data[0]))\n",
    "    \n",
    "    # Convert `src_data`, `tgt_data`, and `rates` to tensors if they are not already\n",
    "    src_data = [torch.tensor(s, dtype=torch.float32) if not isinstance(s, torch.Tensor) else s for s in src_data]\n",
    "    tgt_data = [torch.tensor(t, dtype=torch.float32) if not isinstance(t, torch.Tensor) else t for t in tgt_data]\n",
    "\n",
    "    src_data = [torch.cat([s], dim=-1) for s in src_data]\n",
    "    tgt_data = [torch.cat([t], dim=-1) for t in tgt_data]\n",
    "\n",
    "    # Pad src_data\n",
    "    src_data = nn.utils.rnn.pad_sequence(src_data, batch_first=True, padding_value=0.).to(DEVICE)\n",
    "\n",
    "    # Pad tgt_data\n",
    "    tgt_data = nn.utils.rnn.pad_sequence(tgt_data, batch_first=True, padding_value=0).to(DEVICE)\n",
    "\n",
    "    # Extract the last dimension and one-hot encode it\n",
    "    return idx, src_data, tgt_data\n",
    "\n",
    "\n",
    "trainset = data.DataLoader(trainset, batch_size=batchsize, collate_fn=collate_fn)\n",
    "validset = data.DataLoader(validset, batch_size=1, collate_fn=collate_fn)\n",
    "testset = data.DataLoader(testset, batch_size=1, collate_fn=collate_fn)\n"
   ]
  },
  {
   "cell_type": "code",
   "execution_count": 65,
>>>>>>> 7880c3ad5fa28724f80d6a84baf0436bf55929f1
   "metadata": {
    "id": "L1-Pnrj8BTqr"
   },
   "outputs": [
    {
     "name": "stderr",
     "output_type": "stream",
     "text": [
      "  0%|          | 1/200 [00:10<33:45, 10.18s/it]"
     ]
    },
    {
     "name": "stdout",
     "output_type": "stream",
     "text": [
<<<<<<< HEAD
      "splitted dataset found!\n"
     ]
    },
    {
     "name": "stderr",
     "output_type": "stream",
     "text": [
      "  1%|          | 1/100 [00:10<17:16, 10.47s/it]"
     ]
    },
    {
     "name": "stdout",
     "output_type": "stream",
     "text": [
      "epoch 0, loss: 0.9513\n"
     ]
    },
    {
     "name": "stderr",
     "output_type": "stream",
     "text": [
      "  2%|▏         | 2/100 [00:20<16:40, 10.21s/it]"
     ]
    },
    {
     "name": "stdout",
     "output_type": "stream",
     "text": [
      "epoch 1, loss: 0.3345\n"
     ]
    },
    {
     "name": "stderr",
     "output_type": "stream",
     "text": [
      "  3%|▎         | 3/100 [00:30<16:26, 10.17s/it]"
     ]
    },
    {
     "name": "stdout",
     "output_type": "stream",
     "text": [
      "epoch 2, loss: 0.1805\n"
     ]
    },
    {
     "name": "stderr",
     "output_type": "stream",
     "text": [
      "  4%|▍         | 4/100 [00:40<16:15, 10.16s/it]"
     ]
    },
    {
     "name": "stdout",
     "output_type": "stream",
     "text": [
      "epoch 3, loss: 0.1631\n"
     ]
    },
    {
     "name": "stderr",
     "output_type": "stream",
     "text": [
      "  5%|▌         | 5/100 [00:50<16:04, 10.16s/it]"
     ]
    },
    {
     "name": "stdout",
     "output_type": "stream",
     "text": [
      "epoch 4, loss: 0.1820\n"
     ]
    },
    {
     "name": "stderr",
     "output_type": "stream",
     "text": [
      "  6%|▌         | 6/100 [01:01<15:55, 10.17s/it]"
     ]
    },
    {
     "name": "stdout",
     "output_type": "stream",
     "text": [
      "epoch 5, loss: 0.1499\n"
     ]
    },
    {
     "name": "stderr",
     "output_type": "stream",
     "text": [
      "  7%|▋         | 7/100 [01:11<15:48, 10.19s/it]"
     ]
    },
    {
     "name": "stdout",
     "output_type": "stream",
     "text": [
      "epoch 6, loss: 0.1286\n"
     ]
    },
    {
     "name": "stderr",
     "output_type": "stream",
     "text": [
      "  8%|▊         | 8/100 [01:21<15:36, 10.17s/it]"
     ]
    },
    {
     "name": "stdout",
     "output_type": "stream",
     "text": [
      "epoch 7, loss: 0.1294\n"
     ]
    },
    {
     "name": "stderr",
     "output_type": "stream",
     "text": [
      "  9%|▉         | 9/100 [01:31<15:25, 10.17s/it]"
     ]
    },
    {
     "name": "stdout",
     "output_type": "stream",
     "text": [
      "epoch 8, loss: 0.1417\n"
     ]
    },
    {
     "name": "stderr",
     "output_type": "stream",
     "text": [
      " 10%|█         | 10/100 [01:41<15:19, 10.22s/it]"
     ]
    },
    {
     "name": "stdout",
     "output_type": "stream",
     "text": [
      "epoch 9, loss: 0.1267\n"
     ]
    },
    {
     "name": "stderr",
     "output_type": "stream",
     "text": [
      " 11%|█         | 11/100 [01:52<15:08, 10.21s/it]"
     ]
    },
    {
     "name": "stdout",
     "output_type": "stream",
     "text": [
      "epoch 10, loss: 0.1217\n"
     ]
    },
    {
     "name": "stderr",
     "output_type": "stream",
     "text": [
      " 12%|█▏        | 12/100 [02:02<14:56, 10.19s/it]"
     ]
    },
    {
     "name": "stdout",
     "output_type": "stream",
     "text": [
      "epoch 11, loss: 0.1277\n"
     ]
    },
    {
     "name": "stderr",
     "output_type": "stream",
     "text": [
      " 13%|█▎        | 13/100 [02:12<14:48, 10.21s/it]"
     ]
    },
    {
     "name": "stdout",
     "output_type": "stream",
     "text": [
      "epoch 12, loss: 0.1227\n"
     ]
    },
    {
     "name": "stderr",
     "output_type": "stream",
     "text": [
      " 14%|█▍        | 14/100 [02:22<14:36, 10.19s/it]"
     ]
    },
    {
     "name": "stdout",
     "output_type": "stream",
     "text": [
      "epoch 13, loss: 0.1181\n"
     ]
    },
    {
     "name": "stderr",
     "output_type": "stream",
     "text": [
      " 15%|█▌        | 15/100 [02:32<14:26, 10.20s/it]"
     ]
    },
    {
     "name": "stdout",
     "output_type": "stream",
     "text": [
      "epoch 14, loss: 0.1187\n"
     ]
    },
    {
     "name": "stderr",
     "output_type": "stream",
     "text": [
      " 16%|█▌        | 16/100 [02:43<14:15, 10.18s/it]"
     ]
    },
    {
     "name": "stdout",
     "output_type": "stream",
     "text": [
      "epoch 15, loss: 0.1027\n"
     ]
    },
    {
     "name": "stderr",
     "output_type": "stream",
     "text": [
      " 17%|█▋        | 17/100 [02:53<14:03, 10.17s/it]"
     ]
    },
    {
     "name": "stdout",
     "output_type": "stream",
     "text": [
      "epoch 16, loss: 0.0891\n"
     ]
    },
    {
     "name": "stderr",
     "output_type": "stream",
     "text": [
      " 18%|█▊        | 18/100 [03:03<13:51, 10.14s/it]"
     ]
    },
    {
     "name": "stdout",
     "output_type": "stream",
     "text": [
      "epoch 17, loss: 0.1100\n"
     ]
    },
    {
     "name": "stderr",
     "output_type": "stream",
     "text": [
      " 19%|█▉        | 19/100 [03:13<13:41, 10.14s/it]"
     ]
    },
    {
     "name": "stdout",
     "output_type": "stream",
     "text": [
      "epoch 18, loss: 0.0936\n"
     ]
    },
    {
     "name": "stderr",
     "output_type": "stream",
     "text": [
      " 20%|██        | 20/100 [03:23<13:33, 10.17s/it]"
     ]
    },
    {
     "name": "stdout",
     "output_type": "stream",
     "text": [
      "epoch 19, loss: 0.1061\n"
     ]
    },
    {
     "name": "stderr",
     "output_type": "stream",
     "text": [
      " 21%|██        | 21/100 [03:33<13:21, 10.15s/it]"
     ]
    },
    {
     "name": "stdout",
     "output_type": "stream",
     "text": [
      "epoch 20, loss: 0.0883\n"
     ]
    },
    {
     "name": "stderr",
     "output_type": "stream",
     "text": [
      " 22%|██▏       | 22/100 [03:43<13:10, 10.14s/it]"
     ]
    },
    {
     "name": "stdout",
     "output_type": "stream",
     "text": [
      "epoch 21, loss: 0.0976\n"
     ]
    },
    {
     "name": "stderr",
     "output_type": "stream",
     "text": [
      " 23%|██▎       | 23/100 [03:54<13:00, 10.14s/it]"
     ]
    },
    {
     "name": "stdout",
     "output_type": "stream",
     "text": [
      "epoch 22, loss: 0.0954\n"
     ]
    },
    {
     "name": "stderr",
     "output_type": "stream",
     "text": [
      " 24%|██▍       | 24/100 [04:04<12:50, 10.14s/it]"
     ]
    },
    {
     "name": "stdout",
     "output_type": "stream",
     "text": [
      "epoch 23, loss: 0.0953\n"
     ]
    },
    {
     "name": "stderr",
     "output_type": "stream",
     "text": [
      " 25%|██▌       | 25/100 [04:14<12:41, 10.15s/it]"
     ]
    },
    {
     "name": "stdout",
     "output_type": "stream",
     "text": [
      "epoch 24, loss: 0.0761\n"
     ]
    },
    {
     "name": "stderr",
     "output_type": "stream",
     "text": [
      " 26%|██▌       | 26/100 [04:24<12:32, 10.17s/it]"
     ]
    },
    {
     "name": "stdout",
     "output_type": "stream",
     "text": [
      "epoch 25, loss: 0.0747\n"
     ]
    },
    {
     "name": "stderr",
     "output_type": "stream",
     "text": [
      " 27%|██▋       | 27/100 [04:34<12:21, 10.15s/it]"
     ]
    },
    {
     "name": "stdout",
     "output_type": "stream",
     "text": [
      "epoch 26, loss: 0.0827\n"
     ]
    },
    {
     "name": "stderr",
     "output_type": "stream",
     "text": [
      " 28%|██▊       | 28/100 [04:44<12:11, 10.15s/it]"
     ]
    },
    {
     "name": "stdout",
     "output_type": "stream",
     "text": [
      "epoch 27, loss: 0.0740\n"
     ]
    },
    {
     "name": "stderr",
     "output_type": "stream",
     "text": [
      " 29%|██▉       | 29/100 [04:54<12:00, 10.15s/it]"
     ]
    },
    {
     "name": "stdout",
     "output_type": "stream",
     "text": [
      "epoch 28, loss: 0.0740\n"
     ]
    },
    {
     "name": "stderr",
     "output_type": "stream",
     "text": [
      " 30%|███       | 30/100 [05:05<11:53, 10.19s/it]"
     ]
    },
    {
     "name": "stdout",
     "output_type": "stream",
     "text": [
      "epoch 29, loss: 0.0681\n"
     ]
    },
    {
     "name": "stderr",
     "output_type": "stream",
     "text": [
      " 31%|███       | 31/100 [05:15<11:41, 10.17s/it]"
     ]
    },
    {
     "name": "stdout",
     "output_type": "stream",
     "text": [
      "epoch 30, loss: 0.0603\n"
     ]
    },
    {
     "name": "stderr",
     "output_type": "stream",
     "text": [
      " 32%|███▏      | 32/100 [05:25<11:30, 10.16s/it]"
     ]
    },
    {
     "name": "stdout",
     "output_type": "stream",
     "text": [
      "epoch 31, loss: 0.0694\n"
     ]
    },
    {
     "name": "stderr",
     "output_type": "stream",
     "text": [
      " 33%|███▎      | 33/100 [05:35<11:21, 10.17s/it]"
     ]
    },
    {
     "name": "stdout",
     "output_type": "stream",
     "text": [
      "epoch 32, loss: 0.0754\n"
     ]
    },
    {
     "name": "stderr",
     "output_type": "stream",
     "text": [
      " 34%|███▍      | 34/100 [05:45<11:10, 10.16s/it]"
     ]
    },
    {
     "name": "stdout",
     "output_type": "stream",
     "text": [
      "epoch 33, loss: 0.0619\n"
     ]
    },
    {
     "name": "stderr",
     "output_type": "stream",
     "text": [
      " 35%|███▌      | 35/100 [05:56<11:01, 10.17s/it]"
     ]
    },
    {
     "name": "stdout",
     "output_type": "stream",
     "text": [
      "epoch 34, loss: 0.0729\n"
     ]
    },
    {
     "name": "stderr",
     "output_type": "stream",
     "text": [
      " 36%|███▌      | 36/100 [06:06<10:49, 10.15s/it]"
     ]
    },
    {
     "name": "stdout",
     "output_type": "stream",
     "text": [
      "epoch 35, loss: 0.0592\n"
     ]
    },
    {
     "name": "stderr",
     "output_type": "stream",
     "text": [
      " 37%|███▋      | 37/100 [06:16<10:39, 10.14s/it]"
     ]
    },
    {
     "name": "stdout",
     "output_type": "stream",
     "text": [
      "epoch 36, loss: 0.0603\n"
     ]
    },
    {
     "name": "stderr",
     "output_type": "stream",
     "text": [
      " 38%|███▊      | 38/100 [06:26<10:29, 10.16s/it]"
     ]
    },
    {
     "name": "stdout",
     "output_type": "stream",
     "text": [
      "epoch 37, loss: 0.0651\n"
     ]
    },
    {
     "name": "stderr",
     "output_type": "stream",
     "text": [
      " 39%|███▉      | 39/100 [06:36<10:18, 10.14s/it]"
     ]
    },
    {
     "name": "stdout",
     "output_type": "stream",
     "text": [
      "epoch 38, loss: 0.0632\n"
     ]
    },
    {
     "name": "stderr",
     "output_type": "stream",
     "text": [
      " 40%|████      | 40/100 [06:46<10:09, 10.17s/it]"
     ]
    },
    {
     "name": "stdout",
     "output_type": "stream",
     "text": [
      "epoch 39, loss: 0.0572\n"
     ]
    },
    {
     "name": "stderr",
     "output_type": "stream",
     "text": [
      " 41%|████      | 41/100 [06:56<10:00, 10.17s/it]"
     ]
    },
    {
     "name": "stdout",
     "output_type": "stream",
     "text": [
      "epoch 40, loss: 0.0555\n"
     ]
    },
    {
     "name": "stderr",
     "output_type": "stream",
     "text": [
      " 42%|████▏     | 42/100 [07:07<09:49, 10.16s/it]"
     ]
    },
    {
     "name": "stdout",
     "output_type": "stream",
     "text": [
      "epoch 41, loss: 0.0548\n"
     ]
    },
    {
     "name": "stderr",
     "output_type": "stream",
     "text": [
      " 43%|████▎     | 43/100 [07:17<09:39, 10.17s/it]"
     ]
    },
    {
     "name": "stdout",
     "output_type": "stream",
     "text": [
      "epoch 42, loss: 0.0539\n"
     ]
    },
    {
     "name": "stderr",
     "output_type": "stream",
     "text": [
      " 44%|████▍     | 44/100 [07:27<09:28, 10.15s/it]"
     ]
    },
    {
     "name": "stdout",
     "output_type": "stream",
     "text": [
      "epoch 43, loss: 0.0486\n"
     ]
    },
    {
     "name": "stderr",
     "output_type": "stream",
     "text": [
      " 45%|████▌     | 45/100 [07:37<09:19, 10.16s/it]"
     ]
    },
    {
     "name": "stdout",
     "output_type": "stream",
     "text": [
      "epoch 44, loss: 0.0599\n"
     ]
    },
    {
     "name": "stderr",
     "output_type": "stream",
     "text": [
      " 46%|████▌     | 46/100 [07:47<09:08, 10.16s/it]"
     ]
    },
    {
     "name": "stdout",
     "output_type": "stream",
     "text": [
      "epoch 45, loss: 0.0541\n"
     ]
    },
    {
     "name": "stderr",
     "output_type": "stream",
     "text": [
      " 47%|████▋     | 47/100 [07:57<08:59, 10.18s/it]"
     ]
    },
    {
     "name": "stdout",
     "output_type": "stream",
     "text": [
      "epoch 46, loss: 0.0547\n"
     ]
    },
    {
     "name": "stderr",
     "output_type": "stream",
     "text": [
      " 48%|████▊     | 48/100 [08:08<08:48, 10.17s/it]"
     ]
    },
    {
     "name": "stdout",
     "output_type": "stream",
     "text": [
      "epoch 47, loss: 0.0475\n"
     ]
    },
    {
     "name": "stderr",
     "output_type": "stream",
     "text": [
      " 49%|████▉     | 49/100 [08:18<08:38, 10.16s/it]"
     ]
    },
    {
     "name": "stdout",
     "output_type": "stream",
     "text": [
      "epoch 48, loss: 0.0450\n"
     ]
    },
    {
     "name": "stderr",
     "output_type": "stream",
     "text": [
      " 50%|█████     | 50/100 [08:28<08:29, 10.19s/it]"
     ]
    },
    {
     "name": "stdout",
     "output_type": "stream",
     "text": [
      "epoch 49, loss: 0.0511\n"
     ]
    },
    {
     "name": "stderr",
     "output_type": "stream",
     "text": [
      " 51%|█████     | 51/100 [08:38<08:18, 10.18s/it]"
     ]
    },
    {
     "name": "stdout",
     "output_type": "stream",
     "text": [
      "epoch 50, loss: 0.0532\n"
     ]
    },
    {
     "name": "stderr",
     "output_type": "stream",
     "text": [
      " 52%|█████▏    | 52/100 [08:48<08:08, 10.17s/it]"
     ]
    },
    {
     "name": "stdout",
     "output_type": "stream",
     "text": [
      "epoch 51, loss: 0.0528\n"
     ]
    },
    {
     "name": "stderr",
     "output_type": "stream",
     "text": [
      " 53%|█████▎    | 53/100 [08:58<07:57, 10.15s/it]"
     ]
    },
    {
     "name": "stdout",
     "output_type": "stream",
     "text": [
      "epoch 52, loss: 0.0466\n"
     ]
    },
    {
     "name": "stderr",
     "output_type": "stream",
     "text": [
      " 54%|█████▍    | 54/100 [09:09<07:46, 10.15s/it]"
     ]
    },
    {
     "name": "stdout",
     "output_type": "stream",
     "text": [
      "epoch 53, loss: 0.0494\n"
     ]
    },
    {
     "name": "stderr",
     "output_type": "stream",
     "text": [
      " 55%|█████▌    | 55/100 [09:19<07:37, 10.17s/it]"
     ]
    },
    {
     "name": "stdout",
     "output_type": "stream",
     "text": [
      "epoch 54, loss: 0.0467\n"
     ]
    },
    {
     "name": "stderr",
     "output_type": "stream",
     "text": [
      " 56%|█████▌    | 56/100 [09:29<07:26, 10.15s/it]"
     ]
    },
    {
     "name": "stdout",
     "output_type": "stream",
     "text": [
      "epoch 55, loss: 0.0547\n"
     ]
    },
    {
     "name": "stderr",
     "output_type": "stream",
     "text": [
      " 57%|█████▋    | 57/100 [09:39<07:15, 10.14s/it]"
     ]
    },
    {
     "name": "stdout",
     "output_type": "stream",
     "text": [
      "epoch 56, loss: 0.0482\n"
     ]
    },
    {
     "name": "stderr",
     "output_type": "stream",
     "text": [
      " 58%|█████▊    | 58/100 [09:49<07:06, 10.15s/it]"
     ]
    },
    {
     "name": "stdout",
     "output_type": "stream",
     "text": [
      "epoch 57, loss: 0.0451\n"
     ]
    },
    {
     "name": "stderr",
     "output_type": "stream",
     "text": [
      " 59%|█████▉    | 59/100 [09:59<06:55, 10.14s/it]"
     ]
    },
    {
     "name": "stdout",
     "output_type": "stream",
     "text": [
      "epoch 58, loss: 0.0522\n"
     ]
    },
    {
     "name": "stderr",
     "output_type": "stream",
     "text": [
      " 60%|██████    | 60/100 [10:10<06:47, 10.18s/it]"
     ]
    },
    {
     "name": "stdout",
     "output_type": "stream",
     "text": [
      "epoch 59, loss: 0.0458\n"
     ]
    },
    {
     "name": "stderr",
     "output_type": "stream",
     "text": [
      " 61%|██████    | 61/100 [10:20<06:36, 10.16s/it]"
     ]
    },
    {
     "name": "stdout",
     "output_type": "stream",
     "text": [
      "epoch 60, loss: 0.0469\n"
     ]
    },
    {
     "name": "stderr",
     "output_type": "stream",
     "text": [
      " 62%|██████▏   | 62/100 [10:30<06:25, 10.14s/it]"
     ]
    },
    {
     "name": "stdout",
     "output_type": "stream",
     "text": [
      "epoch 61, loss: 0.0481\n"
     ]
    },
    {
     "name": "stderr",
     "output_type": "stream",
     "text": [
      " 63%|██████▎   | 63/100 [10:40<06:15, 10.15s/it]"
     ]
    },
    {
     "name": "stdout",
     "output_type": "stream",
     "text": [
      "epoch 62, loss: 0.0498\n"
     ]
    },
    {
     "name": "stderr",
     "output_type": "stream",
     "text": [
      " 64%|██████▍   | 64/100 [10:50<06:05, 10.15s/it]"
     ]
    },
    {
     "name": "stdout",
     "output_type": "stream",
     "text": [
      "epoch 63, loss: 0.0480\n"
     ]
    },
    {
     "name": "stderr",
     "output_type": "stream",
     "text": [
      " 65%|██████▌   | 65/100 [11:00<05:54, 10.14s/it]"
     ]
    },
    {
     "name": "stdout",
     "output_type": "stream",
     "text": [
      "epoch 64, loss: 0.0449\n"
     ]
    },
    {
     "name": "stderr",
     "output_type": "stream",
     "text": [
      " 66%|██████▌   | 66/100 [11:10<05:44, 10.13s/it]"
     ]
    },
    {
     "name": "stdout",
     "output_type": "stream",
     "text": [
      "epoch 65, loss: 0.0563\n"
     ]
    },
    {
     "name": "stderr",
     "output_type": "stream",
     "text": [
      " 67%|██████▋   | 67/100 [11:20<05:34, 10.13s/it]"
     ]
    },
    {
     "name": "stdout",
     "output_type": "stream",
     "text": [
      "epoch 66, loss: 0.0407\n"
     ]
    },
    {
     "name": "stderr",
     "output_type": "stream",
     "text": [
      " 68%|██████▊   | 68/100 [11:31<05:24, 10.15s/it]"
     ]
    },
    {
     "name": "stdout",
     "output_type": "stream",
     "text": [
      "epoch 67, loss: 0.0471\n"
     ]
    },
    {
     "name": "stderr",
     "output_type": "stream",
     "text": [
      " 69%|██████▉   | 69/100 [11:41<05:13, 10.13s/it]"
     ]
    },
    {
     "name": "stdout",
     "output_type": "stream",
     "text": [
      "epoch 68, loss: 0.0449\n"
     ]
    },
    {
     "name": "stderr",
     "output_type": "stream",
     "text": [
      " 70%|███████   | 70/100 [11:51<05:04, 10.16s/it]"
     ]
    },
    {
     "name": "stdout",
     "output_type": "stream",
     "text": [
      "epoch 69, loss: 0.0503\n"
     ]
    },
    {
     "name": "stderr",
     "output_type": "stream",
     "text": [
      " 71%|███████   | 71/100 [12:01<04:54, 10.16s/it]"
     ]
    },
    {
     "name": "stdout",
     "output_type": "stream",
     "text": [
      "epoch 70, loss: 0.0452\n"
=======
      "epoch 0, train_loss: 0.9713, valid loss: 0.6703\n"
>>>>>>> 7880c3ad5fa28724f80d6a84baf0436bf55929f1
     ]
    },
    {
     "name": "stderr",
     "output_type": "stream",
     "text": [
<<<<<<< HEAD
      " 72%|███████▏  | 72/100 [12:11<04:44, 10.16s/it]"
=======
      "  1%|          | 2/200 [00:20<33:33, 10.17s/it]"
>>>>>>> 7880c3ad5fa28724f80d6a84baf0436bf55929f1
     ]
    },
    {
     "name": "stdout",
     "output_type": "stream",
     "text": [
<<<<<<< HEAD
      "epoch 71, loss: 0.0408\n"
=======
      "epoch 1, train_loss: 0.3304, valid loss: 0.1995\n"
>>>>>>> 7880c3ad5fa28724f80d6a84baf0436bf55929f1
     ]
    },
    {
     "name": "stderr",
     "output_type": "stream",
     "text": [
<<<<<<< HEAD
      " 73%|███████▎  | 73/100 [12:21<04:34, 10.15s/it]"
=======
      "  2%|▏         | 3/200 [00:30<33:24, 10.17s/it]"
>>>>>>> 7880c3ad5fa28724f80d6a84baf0436bf55929f1
     ]
    },
    {
     "name": "stdout",
     "output_type": "stream",
     "text": [
<<<<<<< HEAD
      "epoch 72, loss: 0.0425\n"
=======
      "epoch 2, train_loss: 0.2129, valid loss: 0.1696\n"
>>>>>>> 7880c3ad5fa28724f80d6a84baf0436bf55929f1
     ]
    },
    {
     "name": "stderr",
     "output_type": "stream",
     "text": [
<<<<<<< HEAD
      " 74%|███████▍  | 74/100 [12:32<04:24, 10.16s/it]"
=======
      "  2%|▏         | 4/200 [00:40<33:16, 10.19s/it]"
>>>>>>> 7880c3ad5fa28724f80d6a84baf0436bf55929f1
     ]
    },
    {
     "name": "stdout",
     "output_type": "stream",
     "text": [
<<<<<<< HEAD
      "epoch 73, loss: 0.0446\n"
=======
      "epoch 3, train_loss: 0.1780, valid loss: 0.1622\n"
>>>>>>> 7880c3ad5fa28724f80d6a84baf0436bf55929f1
     ]
    },
    {
     "name": "stderr",
     "output_type": "stream",
     "text": [
<<<<<<< HEAD
      " 75%|███████▌  | 75/100 [12:42<04:14, 10.17s/it]"
=======
      "  2%|▎         | 5/200 [00:50<33:07, 10.19s/it]"
>>>>>>> 7880c3ad5fa28724f80d6a84baf0436bf55929f1
     ]
    },
    {
     "name": "stdout",
     "output_type": "stream",
     "text": [
<<<<<<< HEAD
      "epoch 74, loss: 0.0416\n"
=======
      "epoch 4, train_loss: 0.1648, valid loss: 0.1589\n"
>>>>>>> 7880c3ad5fa28724f80d6a84baf0436bf55929f1
     ]
    },
    {
     "name": "stderr",
     "output_type": "stream",
     "text": [
<<<<<<< HEAD
      " 76%|███████▌  | 76/100 [12:52<04:04, 10.20s/it]"
=======
      "  3%|▎         | 6/200 [01:01<32:59, 10.21s/it]"
>>>>>>> 7880c3ad5fa28724f80d6a84baf0436bf55929f1
     ]
    },
    {
     "name": "stdout",
     "output_type": "stream",
     "text": [
<<<<<<< HEAD
      "epoch 75, loss: 0.0453\n"
=======
      "epoch 5, train_loss: 0.1604, valid loss: 0.1390\n"
>>>>>>> 7880c3ad5fa28724f80d6a84baf0436bf55929f1
     ]
    },
    {
     "name": "stderr",
     "output_type": "stream",
     "text": [
<<<<<<< HEAD
      " 77%|███████▋  | 77/100 [13:02<03:53, 10.17s/it]"
=======
      "  4%|▎         | 7/200 [01:11<32:45, 10.18s/it]"
>>>>>>> 7880c3ad5fa28724f80d6a84baf0436bf55929f1
     ]
    },
    {
     "name": "stdout",
     "output_type": "stream",
     "text": [
<<<<<<< HEAD
      "epoch 76, loss: 0.0464\n"
=======
      "epoch 6, train_loss: 0.1387, valid loss: 0.1618, min_valid_loss: 0.1390, wait: 0 / 20\n"
>>>>>>> 7880c3ad5fa28724f80d6a84baf0436bf55929f1
     ]
    },
    {
     "name": "stderr",
     "output_type": "stream",
     "text": [
<<<<<<< HEAD
      " 78%|███████▊  | 78/100 [13:12<03:43, 10.16s/it]"
=======
      "  4%|▍         | 8/200 [01:21<32:39, 10.20s/it]"
>>>>>>> 7880c3ad5fa28724f80d6a84baf0436bf55929f1
     ]
    },
    {
     "name": "stdout",
     "output_type": "stream",
     "text": [
<<<<<<< HEAD
      "epoch 77, loss: 0.0393\n"
=======
      "epoch 7, train_loss: 0.1432, valid loss: 0.0992\n"
>>>>>>> 7880c3ad5fa28724f80d6a84baf0436bf55929f1
     ]
    },
    {
     "name": "stderr",
     "output_type": "stream",
     "text": [
<<<<<<< HEAD
      " 79%|███████▉  | 79/100 [13:22<03:33, 10.18s/it]"
=======
      "  4%|▍         | 9/200 [01:31<32:25, 10.19s/it]"
>>>>>>> 7880c3ad5fa28724f80d6a84baf0436bf55929f1
     ]
    },
    {
     "name": "stdout",
     "output_type": "stream",
     "text": [
<<<<<<< HEAD
      "epoch 78, loss: 0.0426\n"
=======
      "epoch 8, train_loss: 0.1124, valid loss: 0.1307, min_valid_loss: 0.0992, wait: 0 / 20\n"
>>>>>>> 7880c3ad5fa28724f80d6a84baf0436bf55929f1
     ]
    },
    {
     "name": "stderr",
     "output_type": "stream",
     "text": [
<<<<<<< HEAD
      " 80%|████████  | 80/100 [13:33<03:24, 10.20s/it]"
=======
      "  5%|▌         | 10/200 [01:41<32:15, 10.18s/it]"
>>>>>>> 7880c3ad5fa28724f80d6a84baf0436bf55929f1
     ]
    },
    {
     "name": "stdout",
     "output_type": "stream",
     "text": [
<<<<<<< HEAD
      "epoch 79, loss: 0.0451\n"
=======
      "epoch 9, train_loss: 0.1609, valid loss: 0.1519, min_valid_loss: 0.0992, wait: 1 / 20\n"
>>>>>>> 7880c3ad5fa28724f80d6a84baf0436bf55929f1
     ]
    },
    {
     "name": "stderr",
     "output_type": "stream",
     "text": [
<<<<<<< HEAD
      " 81%|████████  | 81/100 [13:43<03:13, 10.20s/it]"
=======
      "  6%|▌         | 11/200 [01:52<32:05, 10.19s/it]"
>>>>>>> 7880c3ad5fa28724f80d6a84baf0436bf55929f1
     ]
    },
    {
     "name": "stdout",
     "output_type": "stream",
     "text": [
<<<<<<< HEAD
      "epoch 80, loss: 0.0403\n"
=======
      "epoch 10, train_loss: 0.1231, valid loss: 0.1115, min_valid_loss: 0.0992, wait: 2 / 20\n"
>>>>>>> 7880c3ad5fa28724f80d6a84baf0436bf55929f1
     ]
    },
    {
     "name": "stderr",
     "output_type": "stream",
     "text": [
<<<<<<< HEAD
      " 82%|████████▏ | 82/100 [13:53<03:03, 10.17s/it]"
=======
      "  6%|▌         | 12/200 [02:02<31:55, 10.19s/it]"
>>>>>>> 7880c3ad5fa28724f80d6a84baf0436bf55929f1
     ]
    },
    {
     "name": "stdout",
     "output_type": "stream",
     "text": [
<<<<<<< HEAD
      "epoch 81, loss: 0.0437\n"
=======
      "epoch 11, train_loss: 0.1155, valid loss: 0.1409, min_valid_loss: 0.0992, wait: 3 / 20\n"
>>>>>>> 7880c3ad5fa28724f80d6a84baf0436bf55929f1
     ]
    },
    {
     "name": "stderr",
     "output_type": "stream",
     "text": [
<<<<<<< HEAD
      " 83%|████████▎ | 83/100 [14:03<02:52, 10.15s/it]"
=======
      "  6%|▋         | 13/200 [02:12<31:45, 10.19s/it]"
>>>>>>> 7880c3ad5fa28724f80d6a84baf0436bf55929f1
     ]
    },
    {
     "name": "stdout",
     "output_type": "stream",
     "text": [
<<<<<<< HEAD
      "epoch 82, loss: 0.0428\n"
=======
      "epoch 12, train_loss: 0.1187, valid loss: 0.1450, min_valid_loss: 0.0992, wait: 4 / 20\n"
>>>>>>> 7880c3ad5fa28724f80d6a84baf0436bf55929f1
     ]
    },
    {
     "name": "stderr",
     "output_type": "stream",
     "text": [
<<<<<<< HEAD
      " 84%|████████▍ | 84/100 [14:13<02:42, 10.14s/it]"
=======
      "  7%|▋         | 14/200 [02:22<31:36, 10.19s/it]"
>>>>>>> 7880c3ad5fa28724f80d6a84baf0436bf55929f1
     ]
    },
    {
     "name": "stdout",
     "output_type": "stream",
     "text": [
<<<<<<< HEAD
      "epoch 83, loss: 0.0403\n"
=======
      "epoch 13, train_loss: 0.1011, valid loss: 0.1109, min_valid_loss: 0.0992, wait: 5 / 20\n"
>>>>>>> 7880c3ad5fa28724f80d6a84baf0436bf55929f1
     ]
    },
    {
     "name": "stderr",
     "output_type": "stream",
     "text": [
<<<<<<< HEAD
      " 85%|████████▌ | 85/100 [14:23<02:32, 10.14s/it]"
=======
      "  8%|▊         | 15/200 [02:32<31:26, 10.20s/it]"
>>>>>>> 7880c3ad5fa28724f80d6a84baf0436bf55929f1
     ]
    },
    {
     "name": "stdout",
     "output_type": "stream",
     "text": [
<<<<<<< HEAD
      "epoch 84, loss: 0.0432\n"
=======
      "epoch 14, train_loss: 0.0864, valid loss: 0.1398, min_valid_loss: 0.0992, wait: 6 / 20\n"
>>>>>>> 7880c3ad5fa28724f80d6a84baf0436bf55929f1
     ]
    },
    {
     "name": "stderr",
     "output_type": "stream",
     "text": [
<<<<<<< HEAD
      " 86%|████████▌ | 86/100 [14:34<02:22, 10.15s/it]"
=======
      "  8%|▊         | 16/200 [02:43<31:17, 10.20s/it]"
>>>>>>> 7880c3ad5fa28724f80d6a84baf0436bf55929f1
     ]
    },
    {
     "name": "stdout",
     "output_type": "stream",
     "text": [
<<<<<<< HEAD
      "epoch 85, loss: 0.0442\n"
=======
      "epoch 15, train_loss: 0.0901, valid loss: 0.1775, min_valid_loss: 0.0992, wait: 7 / 20\n"
>>>>>>> 7880c3ad5fa28724f80d6a84baf0436bf55929f1
     ]
    },
    {
     "name": "stderr",
     "output_type": "stream",
     "text": [
<<<<<<< HEAD
      " 87%|████████▋ | 87/100 [14:44<02:12, 10.17s/it]"
=======
      "  8%|▊         | 17/200 [02:53<31:07, 10.21s/it]"
>>>>>>> 7880c3ad5fa28724f80d6a84baf0436bf55929f1
     ]
    },
    {
     "name": "stdout",
     "output_type": "stream",
     "text": [
<<<<<<< HEAD
      "epoch 86, loss: 0.0416\n"
=======
      "epoch 16, train_loss: 0.1121, valid loss: 0.1177, min_valid_loss: 0.0992, wait: 8 / 20\n"
>>>>>>> 7880c3ad5fa28724f80d6a84baf0436bf55929f1
     ]
    },
    {
     "name": "stderr",
     "output_type": "stream",
     "text": [
<<<<<<< HEAD
      " 88%|████████▊ | 88/100 [14:54<02:01, 10.16s/it]"
=======
      "  9%|▉         | 18/200 [03:03<31:00, 10.22s/it]"
>>>>>>> 7880c3ad5fa28724f80d6a84baf0436bf55929f1
     ]
    },
    {
     "name": "stdout",
     "output_type": "stream",
     "text": [
<<<<<<< HEAD
      "epoch 87, loss: 0.0431\n"
     ]
    },
    {
     "name": "stderr",
     "output_type": "stream",
     "text": [
      " 89%|████████▉ | 89/100 [15:04<01:51, 10.15s/it]"
     ]
    },
    {
     "name": "stdout",
     "output_type": "stream",
     "text": [
      "epoch 88, loss: 0.0410\n"
     ]
    },
    {
     "name": "stderr",
     "output_type": "stream",
     "text": [
      " 90%|█████████ | 90/100 [15:14<01:41, 10.18s/it]"
     ]
    },
    {
     "name": "stdout",
     "output_type": "stream",
     "text": [
      "epoch 89, loss: 0.0487\n"
     ]
    },
    {
     "name": "stderr",
     "output_type": "stream",
     "text": [
      " 91%|█████████ | 91/100 [15:24<01:31, 10.17s/it]"
     ]
    },
    {
     "name": "stdout",
     "output_type": "stream",
     "text": [
      "epoch 90, loss: 0.0419\n"
     ]
    },
    {
     "name": "stderr",
     "output_type": "stream",
     "text": [
      " 92%|█████████▏| 92/100 [15:35<01:21, 10.16s/it]"
     ]
    },
    {
     "name": "stdout",
     "output_type": "stream",
     "text": [
      "epoch 91, loss: 0.0396\n"
     ]
    },
    {
     "name": "stderr",
     "output_type": "stream",
     "text": [
      " 93%|█████████▎| 93/100 [15:45<01:11, 10.17s/it]"
     ]
    },
    {
     "name": "stdout",
     "output_type": "stream",
     "text": [
      "epoch 92, loss: 0.0452\n"
     ]
    },
    {
     "name": "stderr",
     "output_type": "stream",
     "text": [
      " 94%|█████████▍| 94/100 [15:55<01:00, 10.15s/it]"
     ]
    },
    {
     "name": "stdout",
     "output_type": "stream",
     "text": [
      "epoch 93, loss: 0.0426\n"
     ]
    },
    {
     "name": "stderr",
     "output_type": "stream",
     "text": [
      " 95%|█████████▌| 95/100 [16:05<00:50, 10.13s/it]"
     ]
    },
    {
     "name": "stdout",
     "output_type": "stream",
     "text": [
      "epoch 94, loss: 0.0513\n"
     ]
    },
    {
     "name": "stderr",
     "output_type": "stream",
     "text": [
      " 96%|█████████▌| 96/100 [16:15<00:40, 10.14s/it]"
     ]
    },
    {
     "name": "stdout",
     "output_type": "stream",
     "text": [
      "epoch 95, loss: 0.0511\n"
     ]
    },
    {
     "name": "stderr",
     "output_type": "stream",
     "text": [
      " 97%|█████████▋| 97/100 [16:25<00:30, 10.13s/it]"
     ]
    },
    {
     "name": "stdout",
     "output_type": "stream",
     "text": [
      "epoch 96, loss: 0.0413\n"
     ]
    },
    {
     "name": "stderr",
     "output_type": "stream",
     "text": [
      " 98%|█████████▊| 98/100 [16:35<00:20, 10.12s/it]"
     ]
    },
    {
     "name": "stdout",
     "output_type": "stream",
     "text": [
      "epoch 97, loss: 0.0452\n"
     ]
    },
    {
     "name": "stderr",
     "output_type": "stream",
     "text": [
      " 99%|█████████▉| 99/100 [16:46<00:10, 10.14s/it]"
     ]
    },
    {
     "name": "stdout",
     "output_type": "stream",
     "text": [
      "epoch 98, loss: 0.0498\n"
     ]
    },
    {
     "name": "stderr",
     "output_type": "stream",
     "text": [
      "100%|██████████| 100/100 [16:56<00:00, 10.16s/it]\n"
     ]
    },
    {
     "name": "stdout",
     "output_type": "stream",
     "text": [
      "epoch 99, loss: 0.0424\n"
     ]
    },
    {
     "name": "stderr",
     "output_type": "stream",
     "text": [
      "  0%|          | 0/100 [00:00<?, ?it/s]"
     ]
    },
    {
     "name": "stdout",
     "output_type": "stream",
     "text": [
      "Sampling timestep 800\n",
      "Sampling timestep 600\n",
      "Sampling timestep 400\n",
      "Sampling timestep 200\n"
     ]
    },
    {
     "name": "stderr",
     "output_type": "stream",
     "text": [
      "  1%|          | 1/100 [00:20<33:47, 20.48s/it]"
     ]
    },
    {
     "name": "stdout",
     "output_type": "stream",
     "text": [
      "Sampling timestep 0\n",
      "Sampling timestep 800\n",
      "Sampling timestep 600\n",
      "Sampling timestep 400\n",
      "Sampling timestep 200\n"
     ]
    },
    {
     "name": "stderr",
     "output_type": "stream",
     "text": [
      "  2%|▏         | 2/100 [00:41<34:11, 20.94s/it]"
     ]
    },
    {
     "name": "stdout",
     "output_type": "stream",
     "text": [
      "Sampling timestep 0\n",
      "Sampling timestep 800\n",
      "Sampling timestep 600\n",
      "Sampling timestep 400\n",
      "Sampling timestep 200\n"
     ]
    },
    {
     "name": "stderr",
     "output_type": "stream",
     "text": [
      "  3%|▎         | 3/100 [01:03<34:39, 21.43s/it]"
     ]
    },
    {
     "name": "stdout",
     "output_type": "stream",
     "text": [
      "Sampling timestep 0\n",
      "Sampling timestep 800\n",
      "Sampling timestep 600\n",
      "Sampling timestep 400\n",
      "Sampling timestep 200\n"
     ]
    },
    {
     "name": "stderr",
     "output_type": "stream",
     "text": [
      "  4%|▍         | 4/100 [01:25<34:06, 21.31s/it]"
     ]
    },
    {
     "name": "stdout",
     "output_type": "stream",
     "text": [
      "Sampling timestep 0\n"
     ]
    },
    {
     "name": "stderr",
     "output_type": "stream",
     "text": [
      "\n"
     ]
    }
   ],
   "source": [
    "# hardcoding these here\n",
    "n_epoch = 100\n",
    "n_T = 1000\n",
    "n_feat = 128\n",
    "lr = 1e-4\n",
    "ws_test = [0.0, 0.5, 2.0]\n",
    "DEVICE = \"cuda\" if torch.cuda.is_available() else \"cpu\"\n",
    "\n",
    "chdir(\"/home/vipandyc/data1/6.S978/music102/POP909/model_train\")\n",
    "src_vocab_size = 12\n",
    "tgt_vocab_size = 12\n",
    "d_model = 512\n",
    "num_heads = 8\n",
    "num_layers = 4\n",
    "d_ff = 4096//8\n",
    "max_seq_length = 2400\n",
    "dropout = 0.1\n",
    "batchsize = 16\n",
    "mode = \"train\"\n",
    "\n",
    "\n",
    "if exists(\"trainset_w.pkl\") and exists(\"validset_w.pkl\") and exists(\"testset_w.pkl\"):\n",
    "    print(\"splitted dataset found!\")\n",
    "    with open(\"trainset_w.pkl\", \"rb\") as f:\n",
    "        trainset = pickle.load(f)\n",
    "    with open(\"validset_w.pkl\", \"rb\") as f:\n",
    "        validset = pickle.load(f)\n",
    "    with open(\"testset_w.pkl\", \"rb\") as f:\n",
    "        testset = pickle.load(f)\n",
    "else:\n",
    "    print(\"?\")\n",
    "\n",
    "def collate_fn(batch):\n",
    "    # Unpack batch into individual components\n",
    "    idx, src_data, tgt_data, w = zip(*batch)\n",
    "    #print(len(rates[0]), len(tgt_data[0]), len(src_data[0]))\n",
    "    \n",
    "    # Convert `src_data`, `tgt_data`, and `rates` to tensors if they are not already\n",
    "    src_data = [torch.tensor(s, dtype=torch.float32) if not isinstance(s, torch.Tensor) else s for s in src_data]\n",
    "    tgt_data = [torch.tensor(t, dtype=torch.float32) if not isinstance(t, torch.Tensor) else t for t in tgt_data]\n",
    "\n",
    "    src_data = [torch.cat([s], dim=-1) for s in src_data]\n",
    "    tgt_data = [torch.cat([t], dim=-1) for t in tgt_data]\n",
    "\n",
    "    # Pad src_data\n",
    "    src_data = nn.utils.rnn.pad_sequence(src_data, batch_first=True, padding_value=0.).to(DEVICE)\n",
    "\n",
    "    # Pad tgt_data\n",
    "    tgt_data = nn.utils.rnn.pad_sequence(tgt_data, batch_first=True, padding_value=0).to(DEVICE)\n",
    "\n",
    "    # Extract the last dimension and one-hot encode it\n",
    "    return idx, src_data, tgt_data\n",
    "\n",
    "\n",
    "trainset = data.DataLoader(trainset, batch_size=batchsize, collate_fn=collate_fn)\n",
    "validset = data.DataLoader(validset, batch_size=1, collate_fn=collate_fn)\n",
    "testset = data.DataLoader(testset, batch_size=1, collate_fn=collate_fn)\n",
    "\n",
    "transformer = Transformer(src_vocab_size, tgt_vocab_size, d_model, num_heads, num_layers, d_ff, max_seq_length, dropout).to(DEVICE)\n",
    "\n",
    "ddpm = DDPM(nn_model=transformer, betas=(1e-4, 0.02), n_T=n_T, \\\n",
    "    device=DEVICE, n_inference=1000, drop_prob=0.1)\n",
    "ddpm.to(DEVICE)\n",
    "\n",
    "optim = torch.optim.Adam(ddpm.parameters(), lr=lr)\n",
    "train_main_loop(ddpm, optim, trainset, testset, lr, n_epoch, DEVICE, 2)\n"
   ]
  },
  {
   "cell_type": "markdown",
   "metadata": {
    "id": "P48jRvRiuqYt"
   },
   "source": [
    "# **2. Ablation Study**"
   ]
  },
  {
   "cell_type": "code",
   "execution_count": 8,
   "metadata": {
    "id": "10QVE-I3V4IP"
   },
   "outputs": [
    {
     "ename": "NameError",
     "evalue": "name 'ContextUnet' is not defined",
     "output_type": "error",
     "traceback": [
      "\u001b[0;31m---------------------------------------------------------------------------\u001b[0m",
      "\u001b[0;31mNameError\u001b[0m                                 Traceback (most recent call last)",
      "Cell \u001b[0;32mIn[8], line 3\u001b[0m\n\u001b[1;32m      1\u001b[0m \u001b[38;5;66;03m### Problem 2a: Ablation Study 1\u001b[39;00m\n\u001b[1;32m      2\u001b[0m n_T \u001b[38;5;241m=\u001b[39m \u001b[38;5;241m500\u001b[39m\n\u001b[0;32m----> 3\u001b[0m ddpm \u001b[38;5;241m=\u001b[39m DDPM(nn_model\u001b[38;5;241m=\u001b[39m\u001b[43mContextUnet\u001b[49m(in_channels\u001b[38;5;241m=\u001b[39m\u001b[38;5;241m1\u001b[39m, n_feat\u001b[38;5;241m=\u001b[39mn_feat, n_classes\u001b[38;5;241m=\u001b[39m\u001b[38;5;241m10\u001b[39m), betas\u001b[38;5;241m=\u001b[39m(\u001b[38;5;241m1e-4\u001b[39m, \u001b[38;5;241m0.02\u001b[39m), n_T\u001b[38;5;241m=\u001b[39mn_T, \\\n\u001b[1;32m      4\u001b[0m     device\u001b[38;5;241m=\u001b[39mdevice, drop_prob\u001b[38;5;241m=\u001b[39m\u001b[38;5;241m0.1\u001b[39m)\n\u001b[1;32m      5\u001b[0m ddpm\u001b[38;5;241m.\u001b[39mto(device)\n\u001b[1;32m      7\u001b[0m tf \u001b[38;5;241m=\u001b[39m transforms\u001b[38;5;241m.\u001b[39mCompose([transforms\u001b[38;5;241m.\u001b[39mToTensor()]) \u001b[38;5;66;03m# mnist is already normalised 0 to 1\u001b[39;00m\n",
      "\u001b[0;31mNameError\u001b[0m: name 'ContextUnet' is not defined"
     ]
    }
   ],
   "source": [
    "### Problem 2a: Ablation Study 1\n",
    "n_T = 500\n",
    "ddpm = DDPM(nn_model=ContextUnet(in_channels=1, n_feat=n_feat, n_classes=10), betas=(1e-4, 0.02), n_T=n_T, \\\n",
    "    device=device, drop_prob=0.1)\n",
    "ddpm.to(device)\n",
    "\n",
    "tf = transforms.Compose([transforms.ToTensor()]) # mnist is already normalised 0 to 1\n",
    "\n",
    "optim = torch.optim.Adam(ddpm.parameters(), lr=lr)\n",
    "train_main_loop(ddpm, optim, train_loader, lr, ws_test, n_epoch, batch_size)"
   ]
  },
  {
   "cell_type": "code",
   "execution_count": null,
   "metadata": {},
   "outputs": [
=======
      "epoch 17, train_loss: 0.0990, valid loss: 0.1412, min_valid_loss: 0.0992, wait: 9 / 20\n"
     ]
    },
    {
     "name": "stderr",
     "output_type": "stream",
     "text": [
      " 10%|▉         | 19/200 [03:13<31:00, 10.28s/it]"
     ]
    },
>>>>>>> 7880c3ad5fa28724f80d6a84baf0436bf55929f1
    {
     "name": "stdout",
     "output_type": "stream",
     "text": [
<<<<<<< HEAD
      "epoch 0, loss: 0.0269\n",
      "epoch 1, loss: 0.0208\n",
      "epoch 2, loss: 0.0181\n",
      "epoch 3, loss: 0.0173\n",
      "epoch 4, loss: 0.0153\n",
      "epoch 5, loss: 0.0160\n",
      "epoch 6, loss: 0.0144\n",
      "epoch 7, loss: 0.0144\n",
      "epoch 8, loss: 0.0134\n",
      "epoch 9, loss: 0.0140\n",
      "Sampling timestep 1800\n",
      "Sampling timestep 1600\n",
      "Sampling timestep 1400\n",
      "Sampling timestep 1200\n",
      "Sampling timestep 1000\n",
      "Sampling timestep 800\n",
      "Sampling timestep 600\n",
      "Sampling timestep 400\n",
      "Sampling timestep 200\n",
      "Sampling timestep 0\n"
     ]
    },
    {
     "data": {
      "image/png": "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",
      "text/plain": [
       "<Figure size 600x600 with 20 Axes>"
      ]
     },
     "metadata": {},
     "output_type": "display_data"
    }
   ],
   "source": [
    "n_T = 2000\n",
    "ddpm = DDPM(nn_model=ContextUnet(in_channels=1, n_feat=n_feat, n_classes=10), betas=(1e-4, 0.02), n_T=n_T, \\\n",
    "    device=device, drop_prob=0.1)\n",
    "ddpm.to(device)\n",
    "\n",
    "tf = transforms.Compose([transforms.ToTensor()]) # mnist is already normalised 0 to 1\n",
    "\n",
    "optim = torch.optim.Adam(ddpm.parameters(), lr=lr)\n",
    "train_main_loop(ddpm, optim, train_loader, lr, ws_test, n_epoch, batch_size)"
   ]
  },
  {
   "cell_type": "code",
   "execution_count": null,
   "metadata": {},
   "outputs": [
=======
      "epoch 18, train_loss: 0.0857, valid loss: 0.0818\n"
     ]
    },
>>>>>>> 7880c3ad5fa28724f80d6a84baf0436bf55929f1
    {
     "name": "stderr",
     "output_type": "stream",
     "text": [
      " 10%|█         | 20/200 [03:24<30:50, 10.28s/it]"
     ]
    },
    {
<<<<<<< HEAD
     "data": {
      "image/png": "iVBORw0KGgoAAAANSUhEUgAAAc8AAAHiCAYAAACOSkfDAAAAOXRFWHRTb2Z0d2FyZQBNYXRwbG90bGliIHZlcnNpb24zLjcuMSwgaHR0cHM6Ly9tYXRwbG90bGliLm9yZy/bCgiHAAAACXBIWXMAAA9hAAAPYQGoP6dpAAEAAElEQVR4nOz9yZJk2XXdDy/v+9492uwzqwNAgiJFikYaJZNpRJkmmuod9DKa6CU04lADzWBGE0kDCKIIFJhV2UfnEd733f0P4vtt3/dWAIgAWGL6xzhmYVkV4X6bc87u1l57n1gQBIHux/24H/fjftyP+3HrEf+XfoD7cT/ux/24H/dj18a98bwf9+N+3I/7cT/uOO6N5/24H/fjftyP+3HHcW8878f9uB/3437cjzuOe+N5P+7H/bgf9+N+3HHcG8/7cT/ux/24H/fjjuPeeN6P+3E/7sf9uB93HPfG837cj/txP+7H/bjjSN7mQ5vNRicnJyqVSorFYt/1M/3/3QiCQMPhUEdHR4rHP05/5X6Nf7exC2ss3a/z7zLu1/hfx7jtOt/KeJ6cnOjhw4f/bA/3r3W8e/dODx48+Jd+jBvH/Rr/84yPeY2l+3X+5xj3a/yvY/ymdb6V8SyVSpKk//E//oeePn2qBw8eKJvNajqdajQaabVaaTabaTweKxaLqdFoqFKpaLlc6ptvvtHr16/VarX0R3/0R2q1Wlqv15pOp1oul5KkWCymIAi0XC41n8+1Xq8VBIE2m42ka0+AEY/HFYvFNJ1O9fXXX+vi4kKJRELpdFqJREK1Wk0PHjxQOp3WeDxWu93WarVSJpNRLpeTJE2nU83nc6XTaR0cHKhUKmk2m+n9+/fqdDra29vTJ598omKxqMlkok6no/l8rmw2q0wmo3g8rsVioeVyqXg8bu87n8/1zTff6OXLl5KkTCajRCKh6XSq//7f/7vN48c4eLa/+qu/UqFQsN9nMhnl83nzwGKxmNbrtd6+fat/+qd/UiqV0vHxsWq1mmKxmNLptK0R/15eXupnP/uZhsOhnjx5ok8++UTpdFqTyUTD4VBBECiTySiTyXzruYIgsL+Xy2Wl02ktFgsNh0OtVivFYjHzrlerlVarlZbLpd6+fav3798rnU7r6dOn2tvbUzqdVrlcViaT0WAw0MuXL3V5ealms6mHDx8qnU7r/fv3+tnPfqbVaqU/+IM/0BdffKFEIqHhcKjhcKjNZmM/PFsQBJpMJvpv/+2/fdRrLG3X+X/+z/+px48fmyxfXl7qzZs3mk6ntp/j8biWy6UWi4UkKZlM2j7gvdfrtRaLhdbrteLxuBKJhGKxmLLZrLLZrOLxuK3LZrNRt9vV5eWlNpuNyXmxWNTjx49VLpc1nU7V6XQ0mUxULpdVr9eVTqft+YMg0Hw+13w+lyTbN5vNxnRKOp1WvV5XPp/XZDLR+fm5hsOhEomEksmkEomE6vW66vW64vG4BoOBut2u1uu1UqmUEomENpuN5vO5FouFEomEcrmclsul/tN/+k87s8Y/+tGPTP7m87mOj4/14MEDJRIJXVxc6M2bN5KkR48eqdVqabFY6KuvvtKXX36pWq2mH/zgB2o0Glqv15rNZiG9HASBret6vdZ4PFa32zX9XyqVFI/Hbc/MZjOdn5/r6upKxWJRe3t7ymazWq/XtjfYU5KUTqdNH8xmM81mM8XjcRWLRVuLwWCgyWSiQqGgZrOpTCZj+3Gz2YT2nb9+v99Xv99XuVzWp59+qlarZeu9XC41Go30R3/0R79xnW9lPFFO+XzeDEIikVAmk1EsFtNms1E2m1U+n5cke+l4PK79/X0VCgUVi0Vls1n7PcLFywZBYNeUpOVyqdVqFZpQSTYJ2WxWjx8/thdHgGu1miqVitLptH12s9kol8up0WhIkq6urjSbzSRJ2WxWpVJJmUxGy+VS2WxWtVpNhUJB2WxWQRAol8spmUwqnU4rl8uZYQiCwDZIMplUEAQqlUra29tTPB43gz6ZTELz+DEOnq1QKJiR8kZQkjkM6/Va+XzevNtMJmMOSj6fVzabDSnHcrmsFy9eaD6fq1arKZPJKJlMKpvN2n1zuZytPRue54rFYkqlUioUCqbcEAwUYiwW02Kx0Hw+12q1Uq1W03q9VjKZVLPZVLVatbWKxWJKJpPK5/Mql8vK5/O2hs1mUz/4wQ+02Wy0t7cnSVqv15pMJmq324rH49rb21OxWAzN33g8Ds3jxzp4vmKxqHK5rHK5bOuF8qhUKqrVapKkyWSi2WwWkkHmYzabKZFImJFERvjvVCqlWCym5XKp5XKpzWajZDKper1uCnmxWCiVSimZTGq1WimVSml/f1+SlEqllM1mlUgkTMkGQaBkMmnzn0gkFI/HtV6vbQ+kUillMhn7Pg4Txj0ej9teQhcVCgVtNpvQfi8UCjZfm81Gw+EwNIcf6/AyhePBujKfuVxO5XJZQRCE1qzRaOh73/ueCoWC6vW6isWiyRkyR4DDXKK7kWfmnqCI7+/t7anVaimVSimfzyuVSmm1Wpnu9qNYLJoT3+/3NRgMlEgkVKlUlM/nTQctl0slk0nT0ZLse1wb4ynJ7oOThTPFmmM3/Dz+qnEr4+kXZTabqdvt2oZHmaH8NpuNRXzpdFr7+/t6/PixeSeDwcAUYTKZ1Gw2U7/f13K5VD6fN49lvV6b8mVsNhvNZjOLAo+Pj5XP5zWbzXR5eanRaGTKIJVKabPZqNPpaLFYmJKUpHa7rV6vp2w2q+VyacqUhUGQp9OpeVw+4pCk+Xyufr+vWCxmniqCvb+/bwo/kUiYYt2FgcGpVCpKJpOaTCYaDAZarVYaDAZqt9uKxWKq1+t69OiRVquVLi4udH5+bhs+lUppuVxqMpmYUf3kk0+USCQMoSBywDPNZrPK5XK2f4jqEXaE10cEq9XK1poIh/WpVqvK5XJKJBLmDKzXaw2HQ4umcPo2m43ty2q1qkePHikej6vf7+vi4kKTyUS//OUv9e7dOxUKBf3FX/yFHj58GIqucQx3ZXjFgeKr1WrabDaqVCqqVqu2nyWFHNTZbKZ3796p0+moWCzqwYMHKhaLSqfTKhaLSiaTIccVhStJtVpNpVLJjNF0OtVisVCv19N4PFaz2dTjx49VKBRMBrnndDo1B5WoYLFY2FqiMyTZHgK1wECwXpvNRv1+36JnH00RgWI8FouFLi8vzXjuykD2yuWyJJk8S9fzhsM/Go20WCwUi8VULpfVbDZNJ6LzmNvZbKZer6fFYqF4PG5GMpvNmkMzn89t3YbDoaEIz549U7VaDTnW6F9vPOPxuMrlsqrVqqTrvTeZTGyfgiAWCgVbs8lkovF4bI5QMpm0Z2RtpWv9NhqNbA46nY4Zd5z61Wp1q/m9k/Hk5mxKD9Px0kzMeDxWEARmKIHaptOpRYJcDwHw3iFeix8I43K5VCaTsYmKx+MW/XhPgsUhskURSDJ4j3tg7DCGUaHyz8CCsvAe2uI6eHJERrsyWFccI4zSYrEw5ycej6ter5vzEQSBptOpeW1Ei8whEakXVjasV2geEsQISgrtB/aXh2G4H54i+xLDzL9EL5PJRJvNJvQ3oppEIqFisWhOD87DcDhUr9ezZ2BueOZUKvX/frF+h8GcMmcgJZvNxuZOku1hSaE1mM1mmkwmtqbMBcYYufDwbiKRsGgQo8o6LhYLjUYjlUolQyVQwihw1sg/PxGth+b4LO/l39VD/OgFv9fYX7wHTjjPuEuDaBy0RZLNIfvfr0MymVSpVFI+nw+lJPwP+no6ndqeR4aIckF/FotFyKilUinlcrkQ1L/ZbEzfMqJoHnoCHcF6SuHoEIOMziWVIG31NvqC/+YZCQajz/Lrxp20OouRSqWUTqfNC/CRInlMPNXxeGxYNMYUwWQRWYxSqWQvzo+P9ogiyK9NJhPzRll4Dxfwu3Q6bZGHdA3V1ut1ew68JLxgvDU2nRc6FiyXyxmsJ21hO4RO2ubgdkno8PBHo5FSqZRFDGxoILpcLmdRYa1WMxhkNpup0+nYPgHan81mpuyAdXA6PLyzXC51dnami4sLFQoFPXr0KGRkJVmOG0M9n88tmrgpb+qRAZ5LkkHwPMd6vdZ8PjcvdzabWQS8t7dn+6LVahmkP5vNLOe/SwNZm0wmFsljqJgv5gaZ9fln5iOfz5sjzHUkhdZLUogrQAQHykFudTqdajAYqNfrhSIdr9y5NgqO6AeDh/6RFJLdqKHwkJ43oDjyIC044LPZLGRkd2FMp1Plcjnl8/mQwcHZIVDI5/PK5/M2T8i8d1CRQZAJoFFkyv99Op3q5OTEYNajoyOlUimL9EiZ5HI545/4NeGePIdH7vyzsVY+D+sdOQIAItfhcGgGmzQOjrMkC4a+k8iTi5KkZ9IRCiYBRShJg8HABJGw22PMGK3xeGxwCVi4n1QErV6vq1AoaDab6e3bt7q4uDCFlsvlQpFhMpk0xZ7NZo1gUigUdHh4aJsJiKfdbms8HqtarVruzuc3vbdTKBQMgri8vFS73TZDgmJncXcJth2Px6bccF4k2doR6ZOzhsBDXmowGOjy8lLValWHh4fK5XIGcWNggc8Hg4H6/b4p7GQyqfF4rJ///Of68OGD6vW6SqWSwUGsRSqVCqEQk8nElDrOHErZw7wIFsaAaHg8HhupYjqdqt/vm2FBoB4/fmx5+4ODA+XzeS0WCw0GAw0GA4OCdmUAy3e73RBciUNAZM07ewOTTCZ1dHRkziOyPB6PdXFxofl8bimYVCqlYrEYgvTG47HtITgUGNV4PK4PHz6oXC6HnFaiQNbWG08cYxy06A/PR8TsZdNDiDhP8/ncIpDxeBxKJezSmEwmKhaLtg6MaDQHRAoqRI4bQ5NMJkOoIAYJgidBEUFUp9PR27dvlc/n9eTJEz18+FDL5VKdTsd0Q7VaNf2KjZhOp+p2u1oul7q8vDSdgC6WpNFopPF4rMVioYuLC/V6PRUKBXPm0NPRZ4UQutlsVKvVDBKGx4Ge8Eb7N4075zx/VRIVqx9NtuLV+8Ui0vDh8U3XviniI+oAfphMJqYw8UCJkPks1+HZPMQgKWSgmcibnsE/PwuLY+AxewTP/+zK8IzVKCTqYbkoWcBD9njuXnEBmYIMeCLGTcoLhh2Rwq/bd3wf4xiFg28awFnpdNoiV54zyvYGafCEOe7NXN3WW/1YhncumGP2MN43+5jPRWFxFJOff5xo/hZNe2C4vAx6RY0zhOJDKXNf9txN8nUTlMf1vc7hB5n3z8nviLp9/nbXxq977qhcs8Z8z8PkXv9JCiGCN8mXlx2PPmEgi8Vi6Lr+OxgzTwYE7eJz6OnpdGqpA78Hb9K5noXr34X39bnR7wS2LRaLisfjFmqPx2NTJMBdTEqr1TIjw2R4cg75yVgsZuy6bDZrk+chFZ/r8tTmbDZrzMdcLmcEHQQin8+r1WqZISBZ7ieQ7yQSCR0eHhqFGjYYnghJcQhNQHXg6tVqVclkUuVyWaVSyZTpXWCAj2HgCCA4ePrSliXNRsNI9no9nZ+fKxa7ZtoVi0WD6mHnYtSgmKOo8vl8KBKIxa6p7jAqgXvYZ8Cpw+HQIEKPbHh4XtoaOJQBJLByuWz5t/V6baQiWNbAV8BT5AGDIFCv1zMP/erqSr1ez/bWrgzPdo6mXCB+eWNEXns4HCqTyajZbCqfz2s+n6vT6Wg6nSqTyWh/f1/r9VqFQsHgws1mo9FoZLIExA1bF2IZEe7l5aW63a4qlYoODg5s7b2hY+3RF6w/ERJ7lM+yl1Hkq9XKiDJeYWYyGVUqFaVSKZVKJSOxEZXs0vB7Ngo5MxdBEKjT6ejq6sp0M/p5MplosVgYigB65/Une4N1CIJAR0dHxqptNptm3Ej1rVYrtdttZTIZ2w9+DeLxuA4PD9VsNkOBCCMIAmMSHx0d2fvBZQCl9IEa6CN7iPX00O9d1/dOxpM8IGE2pAEihul0qmQyqWfPnunw8NAEjs8Q1bFBmcxWq6VkMhmq8/SG02Pa/jrAf+TfUNjREhdYX1dXV3Z/iE4o3CjBByGEHAJUWy6XlUgk1Ov1LFcKvJVKpVSpVFQsFkOlNrtkPPHsMVh+E2I82ZCUGpyfn+vdu3fKZrN6+PChwUSs1Wq1svmdz+dW28m6sb7Uch0cHGh/f99y6/P5PBTljkYjvXv3TpPJJERGIrftHQDeid95A4Dx9FAluRhSEXjJlB0B0w+HQzMclG3s0iAiQLmSJonFYiFYC3Y0zid1sXAPSLlgPMmd+bKubrdrcJwvd6I0hvXHeb68vLR9s7+/b8rX8yn4gdQFs5/yCx9dks+mPAOoHiaotIUy/Wcgz7A3o+UUH/vwe5Znj5aWLJdLvX//Xq9fv1Y6ndaLFy/UaDTM4en3+9rb2zNni/WTwhE+JCGCkFqtFkJ/MJ6UBH748MHSdDg06OtEIqFWq2Ws98lkcmNapFKpSJLlWHu9nhKJhDqdToiZ67kW2BDy+/59PNJ2m3En44mCYlMSinsl6R+CCfYhMdAdn+NfBMgbTV+q4r0cn3tBCUpbmMJfh/v75/H1aLwDnwPO+lWT6IkQKOhfBRPeZSE+puGdFU/O8IN199BX1Onx0I8UZmuuVivbSwy/VkQS3MvDLB7m88QAPEzW1DtP/Osh2egzR99dkhmXKNRM7SLvv2uKVdK35j764z/HfGH4boJOgWJBdPya+fnySIAvWcCJISIsl8uh9WH/RJ/No1hAit6B9hGrj0b4vU9J+Gf2OsMTAXdleP0mKcSa9sOjgnwOh5fBHo/C3FLY6Hg9GtWF6Mib4NUowSyqc1izm1Ix0dy2tx1R2DkIghCr1u8L9s13QhiiqBrm1mg0UrfbNUJIr9czSARSAN79YrGwz8ZiMaMtz+dz6+4BPJBIJMyjlRSK+IBl4/HrWiBPCgECoJbPl4kArRJBUmgLaSWdTqtUKtnkspjeQHhhg+CwXC5VKBSMcQghAYx916AeT0WXrqN6SELe+wfW8ShAMpk0jw4UwM9lNN8NLCRdr4+HcDFGbG5JlgPL5XKq1+uaTqdqNptqNBqKx+PqdDr6+uuvFQSB9vb2VKlUzIMGNuSZIBzgCZNfhTBE9AQhzjsRQHpAyr8N5PMvPcgrMrzSAEHicxA0RqORJpOJer2eLi4uDCkCLqOzD/NCtEaKB+Pp15NOYCcnJ+p2u5rNZjo7O9N4PNb3vvc97e3taX9/3xABbwBg2ErXcGuhUFChUDC59uki9IEnIaJYS6WSdVSSrkkpKNhoSmCXBvMFKuIJdd645PN51Wo15fN5VSoVlctlk2vIdUDp0taw+T1Dugbm9NXVVaj+XwqnCiqVyrecNJwgCEOSQroD5wwHiY5Si8VC6XRa1Wo1BN37Mitpm94pl8sqFovabDaGPmw213W/IEm3GXfOefric1peQQBgwqF5I0y0v4MqLG3bLw2HQ3311VcajUZ6+vSpFdmvVitr91QsFk2JoQCBSoH1xuOxRqORhsOhPnz4oOl0qmq1qkajYUa3UCgYfZraUxQBdUi+tsh7p97jkmTFwhQiswmAMvHSd21gvMhDbDabUC0kQgc7Gg8UCH0ymRiMhkL1JU3ME1EGpSA0qGDOMareAwYx8F2h6vW6Dg4OFI/H1ev19Pr165Ail6ThcGhtHAuFgu2Z09NTSWHyAIY0Ho/r0aNHBj957xwl6vN1u2g8PcriYW4PQbOesMZns5kGg4E1j2Cfo2jJHWNoSefgaPkoFQLWZDLRxcWFfvnLX2owGOjk5ESj0UixWEyff/65OU3VajXU7MATW8hXw4KWFCo/guntW7exZsVi0RoDUCrjS+V8/n2XBnOFwxBFyJi/dDptXdUwLL7CYTabWSWCZ9z7yDyTyVjjivF4rH6/bzlP5IVAin+B41mT6XRq63p+fq6LiwulUim1Wi1jh5NqwGgC57JHojXl0hYl87qGtoPIwHQ61fn5ueXvbzPuZDx9zpFcgleoGDc2pw/RfR7Es+yIQoHwWGjwcL/QPtS/qfGAD9895BeFA3kH/+MXhOdGaWIwfV7Iw1c8bzQ/63MzuzIgUOGdRmE8H30Blfq/Y4hwjsi73ASVeuau9yiB8aStwYxeg+uQQ0UAyLV6IoxfG57RQ4vsB78f2T9ELB4GxAOOxWIWLe/aYN9jEHjvKPzlIXfWiXWPQqoowqh8+MgeZSXJ9AfcAT+Qedi70bISn75h7yGfrCVy7KFk/4PT6/UMij0KI+7iYI6QT6+XcQY9CuBZ9NEmESBrnpDJPeAHILPsLfS5r4K4ST/66xGlRtf6pnfz3/ODZ/ffjdaKR6Fn+Bw4BrcZdzKe5CKAY3ytFDVWKBpgGjqGBEFgTFQElD6Ujx8/Ngjom2++kSQ1m00dHh6aABCFAhlvNhtrw0SkiHFuNptm5PiXz+JddjodLZdLnZ+fazQahRi13psGIkwmkwZNB0EQiqJns1kI4/fQJBHWrgwiLeYAI+gZj7FYzBCFIAiszpFuUlHYhDyWh3qDIDCP0hdwLxYLnZ2dqd1uq1Qq6ejoKNTSC4JIv9/XfD7Xu3fvrKi+Uqno+PhYyeR1r0vu5eFzBAgmZz6f12Aw0OnpqdX4IkCQgyRZJEJROa0oQTB2qZZXki4uLrTZbKybUrlctrXwDERPqGs2m4be+DZmKOfJZKL379+HnOj1eq1ut6sPHz5os9mo1Wqp2WxquVzq9PTUUjnL5VK1Ws0iHchkw+HQaqhBpRgoUODVs7MznZ+fm3ODIi4Wi4rFYiEyEEgZNakYT19XzGAv7Fpeu9frhZq9rNfXNZjkiX2HNU+69C1XcRDpdTwYDPT+/XuTZ8/Qpg0ghhSyD84vDjIBF2swnU7NqDebTUmyNBxRbZTzgsMLaxZDC/8B+cRAejSL+myiXZy6hw8f6vHjx7eu2b6T8UQJvnv3zgxGtGckOU8eGhZjMpm0zU/EANmmVqspCAKdnp7q/fv3Wq1WdtICcByF+3iNUQaVZ8kCzXmlBmwoyViDwLbeWwXSo6i/1WqZA4AgE6nyHLR4ig7m47ZFtx/DYJ481IKy8fnjYrForDwGUCleqo9G+/2+5c4wwDg63hOWrj3X4XBoiESpVLINDwwIw/PVq1f66U9/qvl8rj/90z/VJ598omw2ayxRvGAGXjX3xqkCrsnn86rX60okErq6utLV1ZWVsuTzeWP00kgc+vtNnY0+5nF1dWV7mGjS8w2YM0+kwTsPgiC0jsj+fD7X5eWlVquV9Z8NguvC+6urKwVBoGq1aoqt2+3q9evXJr+UBfGZTCZjXYdyuZwGg4HNN0rfK+R2u63BYGCdqYAGUb65XC5UalapVAxp4h1o/AGPwiNRu4YwTCYTK7tLJpPGWvX6GTlkX7MX2NPA8b65zTfffGP9bTFeBCSe6Cdd7zPpWq8cHh4qn8+HUiDkzNfrtUqlkuUtybVL+lbZiSevsQ8JdoDXWUOiU99tyKMiBH/oLhy224w7N10lusBY8WIIGQ8MnhxlqHkYkCiV8hRJFmWkUinLPXkPl8Hm5u9sCO9tIDB8F+iNEhuILR6q8GwxIk8amZPHgfbOhpJk7GMPSyGQN0HMH+vAC/MRPYOoKwqLeAXqc70+8mbufUKfNWHfoMTIa1IX6hvBc31fCuTZ20T5wMKSTOEjQEBPvgSD+/Nd3sl7sCgKcjPSdk/uWs4zmuIAPuW//alEKBgPt/kIAPkdj8eG6BwdHRnJD64EiqzT6Zgj7hUk6wIsDEkI5e7llHfw5VS+n7HPa/Id37DFR10e0fJpGvYrSnuXSs6kbSMMzxMhsgRB5N0YUeOEoUG/XV1d6f3794bISFvd6uv4uS/fh0BIYIPTigPmEUVp28iGZ2PdeF5fuyuFGflEvT5l5tfSy6yXg2iK6jfO710WgxD+8ePH9sDRDcrD+y4i0YfxSmk6nerNmzcaj8fa39/XD3/4Q6VSKU0mE52dnZlXEBWc+Xxu7ZZ8AtorVnqRkjQfjUZaLpcG71DXtLe3Zwy92WymQqGgRqOhbDardrutn/70p9ZGjsU+ODiwa+PRJRIJ8178ptwloQMu9b0uEahcLhditHn2MQZsNBqZQ+Phff7bt3QEVfDkkWw2q2azaYgFyIC0bfxMjR6wjo+AP3z4YEX81IHh7XrBns/n+vnPfx6KJjxczb5jb/T7fV1eXioWixk7m5NIaHa9SwNoi0iLtoqxWMyK3KXryGEwGJhDjLwDzXW7XX399deW0nj79q1ms5n+w3/4D3rx4oWKxaKePXtmrNo3b97oJz/5iWazmT58+GAwK4gS5BzmHtIWjRs8JOuVnnfOyH+DEOEgQypk/aMOHRHUcDj8Vp0ne3iXBqQ631QGluvV1ZVGo5H9Hh0NXLparTQcDjUajTSdTnV2dqbRaKSXL1/qr//6r3V+fm5MaJ9HBmblvqR0PLRaq9WsnhSyFnZiOp2GCEggFzRW8Y47wQ82AP3c6XS+1ckMHeWdA/aPPwjhV+VYbxp3Np5sXJ8zwOp744kyvam2CE8DssbV1ZUV47ZaLaXTaZ2cnOjNmzdarVZWlO0nY7Va2QYoFova3983SAchz+fzJnBAq8BAw+FQhUJBpVLJuhDxbOVy2c4hBdo9OzuzhSMqRShhI7JgnhD1q8hNH+vAMPh8MpGGRx2kbVJf2hoeD6OQz/JRPb0qya15YSECzWazFqngmOBwofi85wztHOWXyWRUrVaNCIIH6wVjMpno7du3Gg6Htn/8eaI+34fxhGHMyTJ0oEGAd2lECTTD4VDv3r1TEARqNBpmnIgOkCmfb1ourw8OPjk5Ubvd1ocPH/TVV19pOp3q008/tTVDYY/HY33zzTfW4IJjBFkjoFscklKppEajoUajYYYVQ4dzhz4gAqZUhf3hGbPS9bpHIw+PNFFmQZmSf/9dOuBBkgUUIAOkzuLxuB3sHmWKs87I5ng81tXVlX7+85/r6upKb9680d/+7d+q2+3q+PjYHF/0ImgfB1a3221dXV3ZIefT6VQPHz40hzMIrsvKMGwEXRhgjGeUVEbZC98jZ7rZbGyN2ePoF5/uY3hy6F3Hb9Xb1rNPCZ9hVhKq8zJ4t2xYwniU7GKxMIVMxwtJ5k34eyI45CWHw2FIeCAPQJn28CCeTC6XMxiRGj/v1fiWcJCLyH0h2HgqPBstvDwz1M/XLpWs4PWjKH0+yHuPUaXF6TY+Qc/6ecjLGzC/ub3hxSuMepkIOntD2u4nEAGMwXK5tPaRN0Ey/lmlrUPH37ygcm2gTK6HA0k5xy4NojkULOU/vB/vT0rEp078fGJMkXfK2NhDvrYTotmzZ88MBRoMBkomk/Y8kFOQVxQkkTIM0ChrMrpG0ha+I5pCIfs9JSnU5nG9Xlvez+9dyuF2aVD/CAGKEkCcIlJknhAIYgR66BuBBEFg5ygXi0U9fPhQrVbLdDwsZeYP+L9arRrS0Ol01Gq1jKBGG0hk0UeGrE8qdX24APYCh5wSOJ/6Y+9hzFlHPuN1l3fq+Tw65zbjTsbTU/v9hmJSaWVGPgP4rFarGQxA9Hd6eqrRaKRCoaDj42ODwcbjsRkcIBPyMBBVyuWy3WMwGEiSGahSqWQwgD/pBRbdZnNd0N9sNrXZXLf3ojP/4eGhnXI/HA7V7/f1y1/+Uv/wD/+gV69e6fvf/7710iUnl0wmrXmE3zgYBhTNroyDgwNjFtMAAkbmer22SBGjhAJst9uStsl9Wt3BtqUm1tf6oRCla8Xl4UG8WAR7Op3q4uLC7o+D5POhsVjMcioYNMhBCDbrxh7meRA0aXs0EQqZZ0XZ+Hwnp9zvmvF8+PCh6vV6iGmKAqOJhCSr0YRMF0WSiBaoGz08PJQkc1LhC5Bz+973vqcXL16o3W5rsVjozZs3ymQyev78ufb29pROp61WtNlsWl05REB//yDY9srluUulku0fSmRovlCv1w1mZG2JVGjd6R1or3QvLy/14cOHf4GV+u3HYDAwZC2dTttRgzi2R0dHkmTGUZL1LSc4IS+N41qr1fRnf/ZnRqJD1zYaDbVaLbMPviwFctiXX36ps7Mz7e3t6enTpzo6OgrlqKMODWuQz+et5enl5aUhCrVaTeVy2Z51Pp+bHSKQQabb7bbOz8+NmEQE7hENHMnb1vPeyXgiZEwMUYe0bXvHIN+AV+uL3ukJSpMF8mBErT66wGNlUjGyCEs0Ic71YAF75Qg0w0ahyLbdbmu1Wun4+NielcbfNFEAYsLz9ZGnJ075WinIKbtUXM3RP1DIfW4JLxzFhRECWsXz994cEYh0c20Vc8NZqkSeQGlEHQgkdWOwgj1JzTsvQOk+SvRRS/RZ+IwUbhfJu3o4ns/7usJdM56QcdijlHkx91FGoyRTZpJCTiGoAFA2MnFT5FmpVELdgLgW7G3Y1el02vpfowiR6WiE4okqRDz+nhAEgXpvijz7/b6kbVN8T2DZbDbmCOzSYN3Ia2Mkl8ulRW3SNs/p8/2+vtaTq0ipALGzRkdHR9bpy9d8og+r1ao5v5VKxUrCGNFcJDKNzLIP0OHII6gmJSc45OgN0FC4Kcvl0kpwvI5BP4C03WbcuUmCx8czmYwRC6BCM4D/8OyA0WiizUYGOsVzxQhBJiKq9fT26XRqkUi32zUFD6Tb6XQM2iVZzTU82YHFoTMJkwZzkOir2WxqOp3aOaIYVi+8GBXP3mIxd4lowEbDYPkuNNL2RBoPpbKRcZR8UwOUaqVSMW81l8uZcmUePX3eOx7sCU7sKJfLVjI0n891dXVlZCRyNHyHnFW1WjXoysO/kJ48DI8RwfFCmSBcGBrmh45Su+QgSbIzS5Edf1wTChank/o95MuXqNBSs9FohMqNFouF3r9/r1KpZNErCnGz2Vht9cHBgQ4ODnR0dKSHDx+GyH/oCA/NSmHo2KeE+B3rxLU4OzKbzZpT5XPgiUTCyGWsu0dPpOsqAAzsrgyenRIxjwL4rmjoMIIQD5sC69LuEtIRBoeorVQqGS8F4iWoD/J+fHxs1zs9PbWaU4KxYrFotb60PyXyBIUMgsDQCEmmN3xQ4x0fb8QpiUQH8e6wzJH/25L/fmsmC9CZT0B3Oh17EU7q9rWUHN/E3xuNhoIgsLoaoFX/PWlba7her/Xy5Us7oWE4HFptHgQhYFjv+UpSvV43AcGAr9drU/YQZKRrwT89PTVP6cGDB1a/yFFY9XrdDIe/D4qZQv1UKrVTHitRFvliYFPvDfI5aVsSQg0vnqjPhWazWTtmDGHykCdODMLs8w+04wLOk6SXL1/qb/7mb+z0DQgCMEZx6sidNZtNlUolIzFRBM0zA0t7wkoikbBTJXgmnAJameFkARft0qDQ3Z+F69MykLGATyWZ00AucTqdqlar2fGDvmZvPB7ryy+/tKYHsF/Pz8/14cMHJZNJHRwc6Pvf/76azaZ+//d/X0+ePAk9I4ociB0li3MkyUgwPmfOc6Pc2Y+z2Uzn5+dGaMRpAn6UrnUDiBgQII74LnEXJFkqqd1um9MIlwPHRJLNjXcofMlOsVi0o+Hy+bwdv+hP3Gk0GqrX6xac0Ofcn76z2Wx0eHios7Mz/f3f/70uLy/NUZOkR48e6Qc/+IHy+bx6vZ7pf/rt5nI57e/v21FlkixixslnD0eZ8z6lQO57vV5bDwH202az+W4Ow45Gnr5mj4J0aiA9EYQJ4oBjSACZTMbyJV4x8xIe7uP+lAywERDkxWJhBpMSBp4XD5kN43NdURjWw9FEReTlyL1KWyPJRuN6LJY3OLvUJAHj6WsvpXCOy+8D1gb4wyfpIWZJW8XLZxjkK31+gsjCE1M8m4+yAzxXnxdfLpcmWOwxID9pywqWwgaR9/RRrycOeEQBxQuBwbM5d2UQofPsnhXu4TNP6vJrh3MDdEYEiDyu12uD8jlDlRzn27dvlc1mVa/XVSwWrTF7oVAI7S9fhO9hVj9YO/QHxtNHpzwv1+MoO95Vku0Pb0R8FOs7Fu3KYK0oPfHr6okz0rcJdAzWn1Iy8o/ICNfFEUGnRvVCEAQqFApaLpfq9/uWZ/boU71eNxSHqggGDtT+/r45RtK2DNDrDP8+Hr7nez53zz7jHp6o9Bvn9y6LEYUngWLZZNTEjcdjo/N7hps/kYVwWdpuXO81cFgx13vz5o0JB8ljP2jQTfkM0QzC5fNyJMVTqeumw0B6nDu4WCzslIF3797p9PRUi8X2UFjyMXRk8d0rvLeMF7tL+TDyBX6DAmN5RqqnuKNcEVacJZQm8I1nLoI4jMdjy2+zNzyBZTAYGPTL70n8+/2VTCa1v7+vR48emXAA8cPihPRSLpdtH+N0eQY2JwJBmOD+zAHt6yjVGI/HO4UuSLKcF5EnnWhYA++4ss7eOaQec7lcqlwu23wgB0DtDBxIHBqcGgxtu9024wypy+ejaeIgyUhjPDd5LZzv5XJpB5aDKqHoowQYmPW+OqDRaJieaLfbZhBAPnZlYCCBPL3xJI0l6VsHMrCOvtb7pojO12/7yoflchnKUUtb4wZy8/nnn1vKj7/v7e3p6OjIUieVSiXEbcGAY6Q9EQ35RCYlfcvh9roLPZ1KpVSr1Uy3YWNuM+5kPNlkRAgk4uPxuOr1uhWrv3nzRqenpwbNsMEpFVmtVtab1G9uv0CVSsXqL3/605/q5z//uU1wvV63cB3hJrc5Go0MzoNYkkgkdHFxoQ8fPhiUw2IcHh6qWq1qMpno1atXOjs7U61W0+PHjw2a+9nPfqbxeGydUgqFgvb29ixxzmkT3msGpobptysDpea7dJAj8t63Jw/5XDVCyCbGceAIOE/moN4Wokk0v7pcLnVycqJOpxN6xrOzMyMDASNlMhk9fvxY3//+9xWLxfT+/XudnJxY0wWY4OxFHAKEH0apj1r6/b4uLi60Xq+NYAObPJG4Pt6q3W7f6SSGj2VwPBWGCgIPKA5rzlxAmqEDFaS8zWajvb09SddKqVwuhwhfGFyOeSN6QXmDFn348EGDwUDlclnHx8c219LWeCJjOGDx+PUxg9Ea8MVioQ8fPuj09FSVSkXPnz+3mu1+v2/MTPLdvr8p70UdeafTUbFY1PHxsfV33ZVBAAEqgFOPQUWWfa7PHy5OqRAoH9/1soMj4pn4m80mtL6sDUFGrVbTn/zJn5gtiTbSAQYmegSxBOWASQ2jHocL3g0drBqNhprNZgg5kbZ2TNoeZQdC+J0ZT8+IuomxCAyE8fC4OX+PQgZRiI7hWapBsG2J5j0NBpsCQfWtomjrRASKoicXgseB0gBe8kws/6yejOCvy+A98Gzvshgfw/CkJ+AXonxfd+thNK+4pG/D+54NCyTOGjE3eMTR6+ANe1gJx8mzdokayKeSIydS4ll9VItn6r1yX6Ps82z+fXgWnAGMzS4NYNcoy5C9HGU++vf1DgYRJooSveCNLhHlZrOx82FpuefzrP70lJv2ED/AryhyZJ3n92sSvV6UqevLKnwah3tytil/28UR1a/Mlf9v3s3vA9816KZ8r98TzDnf9cSdKKOdv0vbXuWsm2+6E4/HQzo0qmu9M+Dll3JIypbQYx5BQcZZb/bfdwbbYuU9w5Kc52azMS8EjwDoC0Pj24ElEglbEEJoLyxMJEoJaIGDc/Fm/eHTm811Y+Df//3fN++RCWHSpG0zaeAevBDqzIIg0Nu3bxUEgc7OzpTP561WajAYGHMNIeQ8wng8bmSSWCymw8NDFYvFnYJtgR/Z+NPp1HITdF2Srr23TqdjcJbvIQwsdHBwYHsFpecNkmd7+kjW7wPIPuPxWOfn5wYFA7EDx+fzeX3yySeGBkD2QTHjfEVzM3ix5EfwUBFoIlZJoe94b3oXOwwRGQCtsUYeOVivr09EAVLlkASUEfNFS0ocImSCnFWr1bIa2c8++8zK2Kjj9E6th+U861faOq+kFiQZCcw7zsDvR0dH1skGI/jo0aNvGVae2xuNWOy6+QnsT7pl7dIAOvUOqUd1qGZAz+JARNeAgzKm06mRqygJopcxZEDPIcEgEtmjF/yzeFIPbTfJofpnj57sxHMyfJBSLpcNzYQcSvc53p2ol/0EXN3v97+bU1V8fhPIhENKN5vrU7nJN0SNp/c4MaJElHzPR6R4lHiVxWLRyEXdbler1fbYM58Ybjab+nf/7t+pUqloOBzq/PzcTuQA2sVwMvncg6LbTqejH//4x2q32wZxcMguBfEYTwz6+/fvrZcuwk2ZxC7lwyCSsLGWy6UuLi60Wl2fdAOzknwQbFUMCoPfk2/mFAZvGDFmfs2lbeRKfiSdTqvX6+nq6sqEvt1uq9vt2on1xWJRf/7nf2658uFwaI0wgiAwxw/j6YkyQFKr1cqEic4sCOxsNjPl6XOzRLtRosXHPvzxUxgNvHgU0Ww209dff62vvvpKuVxOf/zHf2zGDsWKHsDJQA5RttK1A8Sh9DjPPjoBXcCJlbbRASiFh/dwvoH+e72eNeuYTqfK5XJ68OCBDg8PQ+S/dDqtJ0+eKB6P6+rqSu/evQt1qPLOE3sKp+/8/DzUDH0XBusbdewwmHAPYEP7vCJOLETPTqejbrdr+UhOLiIS9MbTd5tj7nE2uTY/QL8wdD98+KDFYmGNZ1KplPUYjpKEfIqJjlW8A+gfhhAHwTuJ0pY0yLN2u91b6+s7t+eTtpbfh81RdhPCwd+iPwigF0Rp2zLJs8M8lBKF7DC43luE/LBarawEhQQ3MJKHJKKeLcqR/0dofdSE50ruy3s+UXhil+AeD4vcBHN5KI+IxUNs3oByDX8tD/lxP+bZ7yNfS4iz5iEclJ2vB5W2eR5pm0bwv/dGzj+LZwhyf792HvbykDV7c9fqPKODd5bCSNBN5SKSviUzGF+uhcPMvxg8HGfm3ENuXDMKsXMfL5NeRhnR9fRrxx4hIsJ55nN+rzM8hOl11C4Nv65RGfXz7d+NefTywLwzovPl1yd6fa/z+X/PdiXyx5G5Sef4vRnVMR5+l8LpQV9VAVTrdYy/h/+5zbiT8eScw36/b8bNd3HhgROJhI6Pj5VIJIwkFIvFjF3p4RmIAPP53DpPJJPXZ2dSz8nZnvP5XBcXF3Z/IqNCoaAHDx6oVCrp+PjYTkTxiwMd3itllKPPTwIZfO973zNaO1ETdUHL5VIfPnzQP/zDPyiVSllvXC/ofmF3CdIDuqZBBN1IqO8DCqW9FwJBg28ibpwLz2yLx+MhhqefG78Wl5eX6nQ6yufzoQ5DNEFgv6zXaz148ECfffaZRbmvXr0yZwkiAAxsHCDv4MEEpm53vV7r7OxM8fj1wbzU/7GPvMIIgsCQlF1CFyQZlMU8+IYQXnnu7e2ZvCwWC717907FYlGHh4cWcWN8PPuyWCzqe9/7nqQtioQyI+r35/tK22OlSAXh3EaZ8+yVINgWzHtl7p0x2L28D0q2VCrpiy++kLQtg0AX+TQLz8LZn7s0/Pm3QRBYtYB3+JgTUAKvx33jDH9oBzoAXeidH9BEUEqfEqBBBQhQPB63s14pV6TtJnKVSCSsKQ6oA6UvvrEKsutZvuPxWJeXl9psNqpUKra/pK08t9tta+KzWCxC8O5vGncynuS76JJPp3xyP3h1lUpFBwcH9nugGZhchUJB9XrdvFXYVBhbSgdQviy6V8R4EXQp+cM//EPV6/VQD0wWbr2+rj31lG0vZD6axGt+/PixwYWvXr0yijsK4OLiwo7Ngj3oPa+o17Urgy4cMEhXq5UxpMlxJBLXTS7IY41GI/V6PYNYJBkTFbgMBICG30SFPlqPxbaF9u12244rYqPTqYaC9fV6rVarpc8++0yVSkXxeNwK82Fls1c8QcnXfnkqexAE6vV6ev/+vYIgsFpEDL2PwkBEMAC7VueJzEnXc8/pGcDzOCMUvy8WC11cXOjNmzeq1+uhkzCYOwwT5SvNZtPyhbTAxJCmUimbO54BmURpehjZoxV+vn1JhXfIh8Oh9UAlAp7NZhoOh1qvrztdsbadTsdqxz3MGASBoU75fH7nSlUGg4ESiYTlJWnozlzRcc0zxaPGcz6fW+43k8lYMIGcek6JtCV30rWnUChYPpwD7GE1J5NJa486Ho8twPGdgoDmaaSDI89aAdWyZ0jFxeNxO9TDO2zRGnOMOe9NT/TbjN+qty0PiCJi0vEKfSTKhEYjMG9U8ER4IRZgMBiEuoGQY0GZ4816RizGzT8b4ybj5qPEaJEvgu77PPofz9giV4Ci5fpRZvDHPjyrzq+nZ8959p735KLv7B0Yhof2GR5qg+zhSSEYrJuiC8/2jF4rCg375/RwkGf/eUPgnT9gpig0hcO1a2SSm+TAw6LR9fUNLnxjCQ/n+kjgJhg0CrP67/yqFIeHC1l3L18YbK4LLIf+8LoK9Mj/RFNAoGmM6F7YpeFb6HkGK/Pp18qvjV+jm9aRgbEKgiCk9z0k76NCL3PoZpzUIAhM5pG3KBscJAFj7POWvkbY9xWg45WvYWZeovsxOj+/adzZeOZyOetRSO9YoE7fRJyJ8cXWEAY8kyudTqvVatnEcsD1N998o1/84hehDiPZbFZPnz7VixcvNJvNdHFxofF4bD1nfe9JJslDP56555UGC0/NGxE1NaMc1n1xcaG3b99qsVjo8ePH1gS7VqvpyZMntoDeo9+1fNjr16+NAORbJa5WKyus94zTqGPky3toNCFt4et+vx9qwg0RwB+PdXBwYI4IOWW8TPYTAseZrUSzCB+Rrs9xo+y5DjASPTUpmEd4CoWCEWRASHhfPPPz8/Oda4Qh6VtObjKZtKJ030IR55FonqPD6Fe6WCx0dXUVYp9L18x8+ueCKvl8pbQlcaCE6TDk0QjIHL5BuUeLfK0fMj0YDPTjH/9Yr169UrFYtJSOV8K+tMI7jKBjwIy0//TNVHZlHBwcmEGYz+eWQgMqx/GDLRvlF6DLg2DbkIB6WPSlP/6RKJ39hCPCObier0JThXg8rkePHkkKd5XDnvB55JizndfrtfVH9vwamtWDQDx//lxBENhB6OglCG6kgaStk+0PgPh1487Gk00ubdm3HmtG4KKEA77vE/AIAkao3+/r5OREk8lEv/zlL/X1119b1MeRQo8ePVKj0Qi1RaPQmY1A+UqtVlOtVjPl5z0tnod/ITawYL1eT6enp3aqCuUoZ2dnWi6vm8Uj5JVKxXJjbBKIRij0XRmvX7/W0dGRWq2WCRk5BH9mX5Rd6wk0/M0LKhAwJQybzUatVsu8RjZtIpEIMbh99O8JKyAR6XTa2NBEoOxT73F7YggGFBgJkhlkFj4XPcrMN40G4Wi32zo9Pd2pRhjStq0dgwhekq2ztM1DSrI59d59EFy3zDw7OzPdkEwm7bhCHCxPoCPXBuyXzWatSQPyC/MVQ+tZsT71MhqN7CAI1msymejrr7/W3//936vZbGo2mxnsyKkui8X2IHaQLUlmMFerlXq9nsbjsarVqlqtljmCuzLo6MbRfKwbDgMHTIO+sCdAz7yu9mxoj9J44hb7BONJzSVVDqwZ8rxer1Wv121tQAs2m43JoiTLRWYyGdVqNVWrVZN9GL/e4aW8SNq244Q/w7yQcvLEKI+y3GbcyXhyGgqehxc+PJno+FXsK5/v8i/B7zmjDWIDdGVPc8dT9ZPHJvG5GD6DYYzmvHxNEhsFeJquFuQ/EF5we86P5B199xM+t0uKlTmWtuuFV8/Gj8IbdCMhIvDHGxEh4FxtNhsjlaBAadLM8E4XxpPG4hhQX3bCjzfukkJOHL9j/T3c72F/nz/ByJKLZR0xIsBBnka/KwND42XSKz8/iEIwfKARQRCYo+rXgX2BUvYEHpxt7ueL8FHmntXuFa6PPJFtf34jz+OJLuxbkBNv+D0UyJ7n/jhMm83G2MK7Btt6Ahg6zgcOvA9cgng8XAfN+khheJy586kXn1phoAtAHrh2lHjnvxuFUqUtgse689zsR/SF1xvR9ZdkEDN6xaMc/r+/E8LQ2dmZKSkP+6zXa/MiY7GYGTrvkXjiBguDd8MC+4R9u93WT3/6U63Xa/3xH/+xnj59ai37UMSc+EBEE4UWvfD5Hpj0IoVpSQ611+uZAGezWe3t7Zn34+tR5/O58vm8Hj58qGq1aqdwQFSgYQKR1y5Behz2jcKStgXKQOOJREL1et0iTE5OoA4WhhsbGXKGb68FM/P9+/dGKKpWq5JkZARfV9tut9Xr9dTv97VYLOwYOQgJuVxO1WpV9Xpd0jWp7erqKgTPkwvDcBLheoPLiSzsxfPzcwVBoMvLSzux5cGDB6rVasrlctbGcZfWWJJB40RZPs/DXHllhFNKCVi73Ta0Z7PZ2OkjzCUGEQQCtMoTlchfrddrI7WARBAdebgQIg+RCgauVqsZIfHq6spaKnr0gUjl4OBAuVzOri1tz/CUZBEPzE/ITyBYuzTa7bbl+tCJGBlSG5Aff/GLXyidTuvp06dWkwuqQ/0jJyRBOvJIQKfT0dnZmYIgMP0PgjccDo1AVqlU7HBx1hOkAaeY52PgdLO/MKQ4Z7RdJMXnUSLPleBULd5ZCve5xdn/Tuo8r66urL9jFPahCwURG964D4kRAp989x4pL8ILnJ+fS7oW5larpUqlYpvB5yg9MxcWHwoaAYd1x+TBBiOCwaheXl6GGLSSbNMQIa1W16eANBoN66uK8RyPx+p2u4rHr5sDpFKpnep7WiqVDNbyggYjEygOA4uTAHROmYm0jVwxcEQ6kMD88XG+wwmGaz6fm/EcjUbmIUsyiBcnCiSgXC4rCAKD3DwRwUcwRJheGKVtsTfr3O12Dfa5urpSqVSyvRePx62X666duAFi4okbOJzeeEpb6BZol5zV2dmZNcPAUOFUo4xwnn2dtu82k8lkzFnqdDoGrabTaVt/r+B4Nk/kSiQSWiyuD7DvdrsG/YEI4UR7tMgbfiBf/1n2DXl1DgrfpcGxYBhOD1F6AuB8PtfZ2ZnxT/x64tyQu5RkOpjIkvKyb775RpvNdaMajieDD4Dho/EIutSn+TxpzaOV7B/PwiUaJShDp7Nv0CM+AKCkCSccJ5qIHN3wnRxJhgCQbJdkkQQTjEKB1u1zVf70FE8bZsMS2bBIlB/UajU1Gg1VKhUjKgCvenYcE8u/Xng8McCTYTabjUGC8XjcagvZIBjVRCJhjeEhEaB0feSLUgDe8EpoFwb5WkmhTeUT+UQWrNt0Og01jaCmCk+OefL5E6BtD8WjzPz8A+uxzsPhUIVCQY1GwzxjBAjHRbredzhLHubzJC7KXyR9q9RICvcA9USo6XRqHU3wmqPM7o99YNi8c4uHjyPso3Zpe1oOkSqyiPPoo03kz8ODyALX9ZFBOp02eWfPYfA8i5PrYUzpMjabzfTq1Sudnp5atxxaZdKujeiYmmWeifwsz+SjHnQHOmKXhucI+DX0fBQcWVru3eQEsjdA0qTwkV++bGS1Wun09NQCHz8ocxuPx4YklUol1et1uzdBl0cpkV8PIXNv3g8UA30cfVeez6eNGF7fRdORv27cyXjindFOKZlMGtSGBU8kEnZgKexKet6y8fHuE4lEKNfRbrf19u1bg9Y++eQT5XI5ffLJJ/re975nnks2mzUB5+BaIhDfpNoP2kARNQH1dLtdi5SSyaSxLqlB4zuTyURHR0f64osvNB6P1Wg0THmgTBE0YD+OPtslxQp64JnHwNWQu/AEic56vZ7VvBaLRSsoZ59AxCL64/PAaBgzcs2+8QBrvF6vdXl5qdPTUz1//lwPHjxQpVJRvV7Xcnl9MPpwONSbN28Uj8ftZPtfNTC2q9VK1WrVcraeNIEjhofK/r+8vLToBhboLqEL0vU6c9INkRxw5fn5uX7yk59os9no0aNHOjo6snwiHn0qlbI+wkT+8BSWy6Xq9bo1PPHGCIMpbct8SPVwtNlgMLBmKkT4vjMREc9yudTbt2/15s0bjUYjvXz5Uq9fv1a1WtWLFy/04sUL5XI5NZtNY8xypCCOLtBiu91WPH59OhR73Odo2+12iM2/C2M0GhkZM5FImGMkbctUyOlyGpE/NcnzRXA8vBOM0wL5Dh375s0bg4GfPHmier1usnh0dKROp6PXr19rMBjo8PBQ3//+9y3garVaisevTzS6uroy+Bx9hLNOsIaB9ccOgjh5Zjd2CBQFZ8yXx6CnvxPCEBcl2YrXCRXaMxOBOXyOw8OAGFGiDYyNPxuRUod6vW7Fsz7ZP5/P1ev1Qs3mPZyDAvSeBxuJPCfeK5AORthH1GwovFe8HE92mEwmISjKs353Ce7xB1jjrRJVQhbz5APmbzAYKJfLWZN4NiP7JMrcm8/n5mn6yBNIH6XFf0Mu4ugwPFagGPpbspZEMj5CjkaWwPrkuzxhxufrvSBuNhtzlPwc7VpUslgsLF0hbQkkyOz5+bkx1hkYHBSqh87JPbG2RJM4TFK4xlbatloDxvN1vfAnUJrsFXJkRILtdlvv37/XcDjUy5cv9erVK+3v7+vTTz+1vHS1WjWdFCU1oYxxwsmDs1/Ze7PZTFdXV/8vl+h3HkRm7GXPUvakLE+YilYkSFvCDmsvhYlYRJzAnm/fvtVXX31lyB/7it7A/X7fSrwymYxms5k1tvF6nMgRI4dOIIL0lRzeNvl+yAzWb7PZWEoO3eJlPUpW+nXjTsYT3Nhj6BhGjCSeOcqEXBUP58tZMJij0cgEgsWDoBBlaLJg/jxHFDUwD/f2LC7fSQJj5wkJOALQ0VEEGHOawUNoms1mGo1GBvdFa8C84HvP+2MfKBcUHx1GcEL86SQk5YFOffkCdVij0cjyvgjCwcGBtf3D+QKq8YM5x9OEeFQul7/FDGW+fb1a9Gg5lDKQEHsG2J1cO5CsL+b2/YvJB0vh02d2aeCMDIdDrVbX7Ss5FNjXXvuTVCSFFKiPzjCC3sHiPsghtbKkQTBi3lAB2bO+KHn2SSwW02g0smjzw4cP6nQ6tk/39vZ0fHxs/6J4/fPwHJBgJIWUqXfoPWEKwsmuDDquseeZc+bbQ/boZw+TS1t0wOdHQRcg/aFvQS6ePXtmKRLK0eC0YCOq1aqhAcDrpNawAQRgnsTjnV8Psfr8vOcvkLfG8cVZ8CVp3JPv3JZVfSfjCS2f+qHpdKper2cQGPAaJ5kQhZKbAur0kBnsVFpnsRBAsCSsR6ORksmk1SyhiEulknmPKDomHeWwXq+NnckGIEeJEaXWrFQqGbsMQT87O9NkMtHV1ZVBjrR+Iv9WKpVCES5F5/F4fKf6nuKFogSXy6XNSb/fV6/XUyKRsNNj2LSgDgjlYrGwvIZnQSeTST148CBECPAkIZ9HgURCD81ms6l0Om11XD76Yy/4Qm32Cs9KpNnv90NMQQx8MnndU/nk5ESr1cpYojhcGFQO+fbU/l0znkTqP/3pTzUajfTkyRN98cUXZryePXumRCKhR48eqdVqSZIdBydt8+E+T8RJNDhSRJm+522329X5+bmhO1GFDgsaUk+n0zHoH+N2dnamH/3oRxoOh+p0Orq4uFAicX0Cz97envb29vT555/r2bNn5qATgYGGDIdDvX79WvP5XM1mU4eHh6FSivV6bamAbDararWqRqPxL7lkdx77+/tKpVLWm5v2d+hP7/RgOAuFgpX0ETR4dGE6ner9+/fWjpOINRaLGTGwWCza0XO9Xs+aE9BUJ51O6+HDh5a2abVatr7j8dgMIrodLgOwMutEDtaTvKTrII9OZZA+fSRLi1BpKwe8P0HBbcadjKf3FrHO0SL25XJ7Jlo8ft3nlu4vXIPN6Vvf+dygJwfgHbDpPQzKZ2BqEkmgGH0+lcWXtvVHPint34+oGGVL7tLDEx6mYOJ9eQeKwDMNd2H4ufd5Px/1swZe+LzHSuTpYTzm2pczeMJIlDKOl+oPSAZaZ16jz4wwoySBGaXwIeXk7hie3ETJFTn6KPMvytj1+Z9dG0QRHNdHXhtHBPQHBeWjfP/f/ndEGT4iQCa9vPM3D5Px/z4tg5x5ggeO7GAwULfb1Wg0sugSNm25XFY+nw85Pf55QJ1ARHCeiDzREaRjvM7blQHU6fXzTSNKxkLepW/X6gZBYOz3KMmOOSSKRGdS58ncgxgSrGAQuR/3hFfhc7U3oR0+6vS/96ifR6q4NnLr8/7fGWFIklHCCbH9DUnEc64lBBzqgiRZOz/gIb8hySfi3XMwKh6Bz2f6BV+tVuYx4s36XAqT4xl13oBjZK+urkxZowxheaH4KYMpl8va29uziBbB82w04L3bLsbHMAaDgZF3EIDBYGCeu2/ZF22HSPQILFYuly1SpJzFGz4aynsBZWCUUHCDwUAnJydWBgTUns/nLRL1Cs47XFzP38OzRPHEpWt0hfaTRMFcT7pGRDhncLncniG5S6QwSbaHnzx5ovF4rMPDQ1M0EOaAo8lV+XyYV4TeifBNE6SwsovH43YohKQQs96XkwDR4jwtl0udnp4aYvD111+HHBx/Lqm07bnq0RDWnXXO5XJ2MPbe3p6had5BJAonkrlt8fzHMmgMj77FGU4kEpZ2isViajQaRujxzGPKeDy8XigU9OzZMx0dHVlaa7PZWN2wJA2HQwta/ElWnjWLrmetpW2DGWnb5QpH3OtwuoLR6MOzfT0a4tn6tVpNL168sFw8wzt6rPttm9rcyXh6sgeWmojO5wthsiKgFCXjJfJSwAFcm4YDkvTNN9+Y8UQYuJ+HGag3At5FgWLI+P1qtbKjw5hc7w0D7/Bs5PlwCsDgYfs2Gg0dHR2F8poQkdLptEEWHobYhdFut0OEGD/PGELpWsjev39vuSC8/MvLS43HYzuRBCXmjxcjOu31evrpT3+q5XJpbbcSie1JJZJCEPkvf/lLdTod5XI5/d7v/Z4JYbVaNU/SR4ceofC5NTxPf7oLjg7szHj8+rgkFDYjm81qf39flUpFs9lMb968MZh3lwYQ6+eff25y49skMi+kLbwsS1tnQtrOL5+fz+d2LW+8/NouFgu9efNG7Xbb2NI0H8Ep9ajN+/fv9eHDB0sfECl7KA8DHovFTFbpe+sRESBGlClKWJJxHDDk5XI5hFjs0jg7OzMGqhRGDtFPiURCBwcH1i/25OTEaj4bjYbln1lP+uNuNte1z+/fv9disdD+/r729vYkXeuQi4uLG3vRghLiiPmG7fP53Eg9VD1I4ab+BDbYCk8mpM4TnexbxnI6EHsUxIF9iQ4gBXibcefIE8UUzXfgXZKQ9QrXs/p84TRC50NtXhYv8FfdRwpDRtFo1P9e2hIPvIKNFl5TLxoEQYj8wvDPSxQVZeahhBDiKHPtYx9RQky0zg5nx9d1ekgdR4V94NtqefiTqI5cGF6fXztJoWv6z0UJDh4WIpK9KeLwbE++z56EWODrE73iZT7Ix2N0/J7clRGLxSzKYz7935Cb9Xptx0h5UpyXIx+JejYkn7vpvh6OA82CtOW7/aC04UeQQmGveHJINApGQXuYz0fM6JooK9jnz6J7dpcGTgxz44dHVaTwAdigTn7uGD6Y8LLt84sQAT2M7ms2ozpGCsP7vj4zml7xusAzbknTeGJbNKXA+iPT/C36DLdd5zsZT17I5y+5KcqUCUapRF+W70PikGRkm9lsprdv32q1WtmJKTA6fR6ESaM4P5PJWKcflB735rNe4Z2fn9uBx41GwyINnpnFgMJ+eXlp1HgYd8AF3jD43Bf5pG63u1Ot2yBHlEolg6sRMl9LJW0dIUmhz/iyA59/xqvzpyt88sknBgd7mA3mJgJaLpf1xRdfaDKZ6LPPPjOoCWIQzR3Ym0SW0rarDXT1brdr5AmUuXeoBoOBCRuRNvsY0gTQNDmxXRuwHokEPPkDdMlHaT514pUMEQXXRCaB/1KplMGv6AkcoIODAzUaDfV6Pf3iF7+w00xAgwqFgvb39w0FgoMwHA4t+mHdksmktX8rFAr65ptv1O/3DYIm+vEdZDAORK446sg/UGA6nVa1Wr01keRjGeg9EBbq4/kbUDedmXAqms2mRWPoLm9sMMSbzcZIPciqJCNRIkNwDMihs08gbXo2PKVnRKLcE72DQ5xMXvcM73Q6oTypd5Z9HbE3xPF43PZDv983RAFdflv+wp2MJwrSRyLS1ngCi8LYIh95k/EslUoqFArabK77YgL5nZ2dWT5tNBqZkOCBEp6Px2O9evVKnU5H+/v7+jf/5t9YuO7rL7knDNLlcql/+qd/0ldffaVsNqtKpWJwIYqa/CfMTE4bTyaT9lngYJ8b9Qno6XSqbreri4uLnWJiZrNZNZtNtVot630KjMXJF7ynz1dhWMiJ+uiS/Phmc9004/T0VKvVSsfHx3r69GkopyJtO4NMp1MTcOo64/G4nWpPnobngNGLd4yXOxwODappt9saDAaStgSDaETd6/UkSY1Gw3qaeuISPVR9c4RdM6CcRoHx9E4npVjMj6/BQ8l5j5/2mBBsKC3wbdxAq3CeUqmU9vb2VCqV1O12dXJyona7bboER6jVatn92RPtdtu4EZJMvg8PD9VqtTSdTvWP//iPGg6HOj4+1l/8xV+oVCpZeYpXjuw5FD86yzdroKkKkPWuDKBnTpLxnAQ4HKRP0G+lUkmNRsN0GBwVX7KDTMZiMXNgcXAkhY4DhDDkI3xQBPoZ47jF43FrRCLJjC7Gk7+TFuv3+8aB8F2uMJI+xcia4mSVSiXbpx5luwsx7M6Rp2c0Sd8+KcX/d5Rl5z2HKGMK5XlTqM29vQfB9X2oj/eBB+UhAIyoD8vJi7JwUaZglCDhFYgnBjGIXHxu5S7srY9hRNcGpcraeTjMf8dDZt57R+CYc/97b+RYez+H3lvE2/R57yiDL/r87AHgQd+e0X9X+jYMGX0vzy7nerzHLg7ekzn3cyZt18lDXF7Wo3LPPLNH+D3f9eVlfF7arpcnAwIz+t/5CArj7h1z1of/v0n2gQthf6Lso3IenSNpi6bt0uCZkZto6oO964MAH32zTj7F5ecHJALZvUmWvF5mn/EZDBpIFASiqCPq9xLvxHNhfL3M+u9HqwT4f8ZNdui263wn40nND1ElE8pDIojAmZB0oMDTZIHQGPjLHy1GYf7l5WWIkMS9feT69OlTHR4eKpVK2cGomUzGjigi+Y8XBWs0m83q+fPnKhaLevz4sfb29gx+iuZUIFYA/wDfeIanXyRvJOiMtEt1nkEQGAuPNWNDw7zdbDYaDAYGlUII8kJG9yc6E+EFB0FgiX6ak6NYmT+UIzkuPEaf/6KchXovvF/+2zOpOeklmbw+aJtibjoWobxxpmhe7Ut0QC6ITEFZcKp2yUGSwuQRSVaPjSLBOaBlos+deYfV55BQ0qBPOB4wJzeb69Z/NDXYbDYhEmGz2bS0AXLMOuZyOT158kRBEOjJkyd26s67d+8MyTg7O9ObN2+UzWZ1dHSkZ8+eqVgsGhGl3+/r1atXmkwmKhaLdtIP7y1tI3JfYE9nsV0znvT0ZW2BvTFYyDlOCbob1CGq0yRZRL7ZbFSpVAzto3kM6ACITNSp5h7S9R4E2QuCQPv7+zo+PrY+urBtLy8vdXV1ZWvlm/R4Y4wskm/FYcZ4o2vIsaNzqP8nor4tq/pOxhPmqH8YvAnvSRKuL5fXR790u10VCgU9fvzYoBxfmwn9n1IQSmAwYEBJKCkiPwR0Op3q/Pxc4/E41GgYpqavyQRq+OSTT4zZV61WtVgsLHcGxMSEwhCs1+va29uz5LhPxLPR/OkunA4xHA7vMs3/ogOjQh7r8PDQCqvH47EpKt/5BUr/er022A4hwxkBtuHUDJiXOEcYQ3KJw+HQ8hGsB+vnIUMECiVNHt3X5VISUyqV9OTJE9VqNY3HY717987yYnjRtIT09W5BcM3I9CVJKJ5o+c2uDB/hkfcDTSHl4c/npQQNB9ZHIp79zvwzT/F43BqrbDYba5pBIxIPBzabTeMv0KACXZLP582AERWRj6RBy8XFhV69eqWHDx/qBz/4gb744gszBrCGX79+rfF4rGazGSqLwflHt5EjlK5hSA9L7sqgjM4Tr3BM/QlJHo5Gxphfb0jYF+1226D3RqNhOphuVTSnId3im2FI2/My4/G4hsOh3r9/b3lQOAb+JJvVaqXz83NlMhlL3USRSWmbw/bwME6Ar+ON1rxiPDHwN51LfdO4k/HEu/ThOg+NUWPgmUrbFmYe4vHG07NayZ/g7XPdKOPWTxgLEYWcotCQf7abcrE8q4cNWQyeIwod+7mJwloeHtiVQb7aHygMVOk3o49GpPAJGbw3RdQo1Oh8cU1vEP16+j3jUwD+sx4C9GvO+sLy8xA09ch0wwEK8tCcvzaGG1IcUTQOJFHxLg3m41elYKLrQcTvlU4UxvdcCG+YWN8oecxD70BvOMZ+TfxeiMoUkC6kH7rOoAu8/vDHpuEw+YbjUQjb8yei774Lg3Xlub3Rou2pR5c8+dHPm0+RMS8eUveywxoS2Pj8oYf3GcwxsK20rejwEbDnpETTfP6ZvAPkIXu/36MpGr8Xv7OcZ6FQUK1WswYIPlSnNjIIglCiGdgAzB1vh2gMOCyTyajT6ejly5eaTqcWoWQyGYsGfD6FCAWB9JEgx10RGQEtEUlwjiQsPA8HA7NyMHYymdT+/r4JI9EMGzNq0D3UwfPtEmEIAs9oNLL35NQZ4BqiRq94gMc9Q/H58+e2TzjEGgHmO5AJWDuUsIdgfY4GUpJHCKDW53K5EIvUKzzq/jj4OJfLGVMQ1MELHddFWUMiwuCzJxDoXYLmJVlDfr9fo06IdzK9107+EScLxIa0BgYQOJTD7WnZSPH+wcGB6vV6yPH0ck0ODBlGjnhW1rZerxuLk641iUTCzpEk1QIBbjQaaW9vTw8ePDDiEfPgHQBPJDs9Pd0p1rwkm3vkmJOPYK/z30So0pasR1pFkkWTOKKNRkOr1UrlctlSZN54YtiAcGGzAhf7frjUDpPOQUdfXFzo9evXkq7JXNTU+zOdgWF9ao20k3d4JRkyBcoVJbDRVpB3vs24k/HEs8N40tAdw0Nui3Z7PDBeDsaTyHOz2VjJAYJ4enpqHU+azablG8i7+eiHvClKjPIR3+WEzY8wUJANJNjv90NFtcCPvAfCB1GBXrne8/E5L68EMBa7VFxdr9dNGFCM3W7XlCjGM5vNWokRnUa8si0UCnYUFKxFX6KCYHnDR6SK0iJiRUkiCCgE1oi8pT/Zxz+vtGXieqPMus1mM8vPInDAVhgS+pzC1qM5vSdI7dLAwHmyTDSa9+kO1mC5XKpQKFi+S1KotR/IBYYPBdXpdKxb0WQyUTabVblcVrPZDJEEWQvfO5huTj4S8SgDhpzcKEgRJ+xQYiVJBwcHGgwG2t/fV61WMyPLMVYewSIKQS9dXFz8v16m32mg77zTS9SNoUgkEqEesb5+G+Pq4VvK/QiMiFilbaTLGqzXa4PmPU8Bxi/5RsriiHo3m40uLi709u1bxWIxffrpp9YXHadP2h6D6Z0s3yPdoyYgD1KYn4OOi17nNuPO53miVFEuUXYai4ZgoaD8i2Co+LsvAcBT8U3dweGjTEp+vCFjEjDo0XZ5TLqv7WKzsMGoHfVn/3mngBxYtHMJ98H7YgPuEqTnGwZ4uMNHWX7j8R2/9sAezCs1XT7HEoVVPONP2rLxOFKKzzD3lM14GIicDMoPL9YXw/u14n43FWxHBc/nCFEGHgratd62PtLiHVgLSrKoifTee5SV6KEw5iUq8z6Cq1ar2mw2ISXlYUHmFcUYTY9IYVhZkpFdiDjhTvjDm/msL31jsI5EXNE0j+dZ7NKIRtMeSmcfe6fJryEoj7RNgWD8/HpF4U/u6z8XhYEhKQGbY8Q9l4HaU5CvWq2mILjuBUCQxD7BcUaHcG+eCWfa53MZPJu0bSrxnbTnazQaSqVS6nQ63+pO4VlUQK0+XyVtKeG08qO7Cy263r59q7OzM2NyDodDFYtFtVotHR8fm+BK21yH3+T8ncjCK3Jq/Tab67pS35oNz4xJp4lDrVbTZDJRu922aAf2Ya1Ws0NziUq8I4GXxMbYlXF1dWX1sBhPonHyHJvNxhpAkNP0eWHgm6urK9v8b9++1Ww2Mw+SaAKjQz0o/w3sfXBwoFKpZB7iarXSw4cP9ejRI6vVAk4aDod25iKNwSVZZxyMJ3l1f4i3Py/QQ8Q+H8+7RwvtIVnt0kAJ+XpY1rxcLpuRw5mFDDaZTEx+mV8U0mKxsDZ7HJ6Mx09rNCA//z2UJbWGGD8i46gy95wJ9l82m7VIErln/UidxGIxq92N6iyf5/IOOvqF+dilQZ00BhNWvEeVvHPMPiYSowwENGA6nX7L+SSK84gNOhIHGyMHKrTZbGw+vUHvdrs6OzvTaDTS27dv9eWXX0qSlRfR1IR1SCQSqlarms1mVk/viUHIKu8YdRYlGTFss9no7OxMsVjMyJK/adw58txsNta03R/ZhBLxnmkQBBapeY+O/Gg6ndZgMLCGCN1uV91u10pK5vO5KpWKvYzf1ER3PkrAa0ZoEaIgCCynBVRAZIyCAN6Yz+fWZ5XIhigYpYqAshno2eiFC+iKI9h2ZRAdoqjwWIm8gGN6vZ76/b5isZjluVhbypT6/b6Wy6U6nY7B5Nls1gTK5628p+hzlZVKRbVazRpWLBYLg/opZeDzwMDsBxSoj0RRmDhFvV5PlUrFjjvzHrU3nl7IKGkir7JreW1pe06jLy/hB8dPkjUl4T3n83mIdOORCKBVWNCeMAijE90A9wCHiNNd4D/4/rpRB9mjEB4VKBaLod67PoVCPtsfMedl1u93/kXJYoB2rUmCJ2b5dyAS803YmSPSIB5C5XAGn9ePchE8EcwHTJ4b4tsg8uNL0JDfyWSiXq+n169fa72+bi5fLBY1nU61v78fynmmUtd9krvdrh0RCZOaYMcT/CBIeeQTR550wW0d4TsZT3I+eOneyntv3Behe8MZhfRQlJ7Bi3BJW+ICytF7lCw+4TuLhHL0htMvOBsCTxYjB7losVgYLODrUL13zsJ5OATB8g3sJRnUuyuDNfAwuGfUAo9ICtUFesiNjRuFfT3chzDTQs8XS9O0Wdoytf3ml2QwDIKLImXefQ6Vfejz0n5fLJdLI73wHtK2RyfvTmTmjT7EGH+9XRhE/UQOXtn5OfAOoZd9uAW+OTtOEzlirgdk72FRKXzEGxEu0J5vSgEU7xEcH0l4gopPO3B/7ufX0DtJkkLX5ns+ct1FRjX5feSU/c/6opdms1lIV2LMQGEoHcShkrZODGiB5yHchDZ6Jq8f6AlJViI3Ho+VyWT0/PlzBUEQIqHhuEWjR1AojtDDoUIv+/dhTtAdONz+5zbjTsbzm2++UavVMgKN9zposcXLwmLlRbxiW6/XdlpFEAQGHeF1IjgYHhhReI6FQsESw/weofNRi7+Wh3wRWBi95XLZjC7Rcq/Xs1MH9vb27Nrkf2CZSduIPJFIqNFoWMQ6Ho8tqt6VgYJko3sUodvt6vLy0hRUtVqVFM4n82/UaALB4f1SBE+LPYQGxwfDi3Mmbc8nlBRqi+e9W4g8tF2UZHk7rzy8coVdHVXGx8fHIcavtFXA5EfIre1a31MiShrDo+AkGWQuKeQE8Y6xWCyUBkmlrvsIg95Qlwfj+ezsTGdnZxbtLZfXh88/efJEh4eHWq/X1uTERwe0gMSx9aUvPKtv9MD1o7wIdJAnk3ioHgeId+d9+R6yvUsIkiS1Wi0rx5JkeU5J1iQB/U0dva/ZhuQXj8ct2vPGBagzamy8s4IOxwlFnvjx5K+Liwu9f/9e0+lU1WpVf/qnfxpyuqn9xClmUG9aKpVC+gAWcSwWs8g0FoupXq+Heh1HyxZvC8/fyXh2Oh1jRnHMmFeaGEQUMB6CN2BMKnknNq6PSFgkXs7XiPEZj7vzO2mbgwqCbe1YFIrxG4CkNd/l8+v1dYPwcrls+VHIECyYhwN5D4q5EXyKkndleBgM4+XnEQjPdwDxRcf8GyUIeIIX9yAHI4Ubr8Oak7aEM7xf1p294SMSHDSQAdienuAjffukDxjYURQEpem9dincug4lvGuKlTUDzpTCJ9l48oePzohQQI68c+SVJce5zedznZ6emlKkOJ8yNM/QjyJMRJ2sM9GCtIVZPbTuy8h8xOjhegwCTQ88h4I5YE6iec9dizzJafvoTtruX5A1j+4Q4TFfVBx4hIUfEAU/z1HDyAEBIHg+CuYzRK040LPZTK1WS/v7+0Y49CfEYE88OhWt6pC2x+5J1+koCIwewfQpx7uiR3dukuCNGsZztbo+hPrg4ECbzZbCTJ7oJq+uVquFmJabzXVn/larZZHccrkMRXibzca8XYSXvCML5j1R4Ae85kqlYp4WcBXdNnyUE4ttGxF7Rq1XKj4KJbJZra5Pg+n3+0ZM2bVBezIGVHLmwBsSz1D1MFc8HtdgMNCrV6+MQQ1zOplM6vj42Oo/yYkD2RABVatVy03yOea53W6r3+9bXe7e3p5FCDyLZ3wCzRBBxmKxUIkMSiOqSLgmypOIaG9vz+oTo3nVXRqQpnwJQzS/SMSHzLPP+/2+ptOpEXVQuD6nSQs9EAef3lmv17q6urI9w6kcXjn7CDPqvLD3os4wv/OK1ndG8qQS9otHIZBrnsvD/n6/78JAr90ETUPchI0ePZRakp105IOhKLyJYY6mVHCsSqWSESuZc9ZMkulm6unZY9Rkx+Nxy4VSl5/P57VaXbd+nUwmFsyBDkJwAwnBSINycboSThv2JZo2/E3jTsYzmlfwpyjQK5INiCIiQuF7eHVsaE40XywWqtVqevLkiZU2jEYjiwzxdi8vL83wASewGaRt0wUUnydBAFERDcZiMSN/UPvEJqrX67Y5ptNpKKyXZC3nUPx4R5eXl0Z8ePbsmS3YroyrqytLnG82Gz148CAkOH5e2QfSduPhLJ2enupHP/qRvvzyS3NI2JTPnj1TOp3WZDKxdQMSTiQSBjfhtQLPo4xJEUynUz179ky/93u/Z23AcHoQVqJO7uWjT99aDwcMxYxQe4MMKgIxZblcGhFqF43ncDjU2dmZFbxzYpC0JYrRWm+5XFpkMBqN9OrVK11dXaler+vTTz9VrVYz50japmaIKEnJoNxWq5V++ctf6pe//KVqtZo+/fRTtVqtb0FnEI88fI8ukb7dsN3rBZQyDhLoEc/kyxq4NjXLOErsXT6/S+Py8tLQPRykaBpEktXSS1uolXIl0BsfmfncaJTUhT4EBq7X66E0FjAwz4EDG49fNz958OCB6V3y0/x3Npu1tNh8PteHDx90cnKiRqMR+n2327U+vldXVwqCwIhEm81GnU5H33zzjZLJpD0fTlO0ZO7XjTsbT0mh6A3SBtR1jCrGxSeKEYwoNIbyossDihrIAE/FGz6EIgqlsDB4v3hRHnKKlkXwDnS6YGP44QkGPvr2/83CXV5eqlwu6+joyBoJ7Mpg3WAX+847nvzFuIkQxtyfnp7qw4cPBm2mUimDijyrFg9wNpvZevvuNzhdODCz2Uzn5+fq9/vGxPVwkxQ+Iiy6dvzd5898DSfC48tUPPTsDzjYtc5CfmAQSX1QPiaF2016Mgn7HMiO3KSHd33Ej4PlW+QBJQ6HQ2M2etg7uk5Rogm6IPpZPu9REAyGZ4tH98NNkCb/7Y3CbXNhH8uI5vo9pEq06HW0tGUm+1QUOjMaeZPv9vPi54x1x9GEoR5dLw+lgn74Y/E8gsBa4tCQAvDOkUfGuAa2Aser0+lYT3UCAp9fvc34rY0nE8YDeQOH1Ze2h+4C4eJxMGHZbFb1et0WzOcKacF2cXGhd+/emVKO0qDz+bwajYbh6T4p7pmbHtqtVCpGVKBLEZ8BlqLbxmQyCfV3lbZMNhQ9tZHkwhKJhB2EvUs1gNRSITDJZDLURAAywU0D2AThaDab2t/fV71et0MBPv/8cx0fHxs6wLy3Wi2L9iXZugwGA4NzgeNqtZo+//xzLRYLHR8fq1QqGauOjlf+AGaEBPiW3DX5UQQzHr/uSoNT5BWMNypETj7nv2sD55D39rW6lGZF2bV0iorFYnry5ImhEul02hxm5i+RSOjo6MgUrO82BEu31+tpOByqUCjoyZMnIYILcsta4MiwN3GU0DegHryXd8bIl7OPvSMUhR+lcLUAv/cM+l0ZEGa8sQGBobSHtWfQiUuSyRClWEC8HtljeIgbDglIpTeCBFj+8xhsvuMjfY9EgOzBT4B0RsTpjS5OAxE1+495efDggUXXHEbCu942t31n48mE+HIF/ob3yZEvvnamVCrpk08+MaauJxqAiTPpHDYMXHp6ehoSQgRiMBhYcplaIKA3oiZqDTGcqVRKzWZTtVrNICSMJ8pyPp/r7du3ury8DAmwX1xYvxx/xAGyiURCpVIpdGrHLpWq4MWRnwJaZ37o/eghHM+69iVLzWZTT58+1dOnT/XDH/5Q9Xpdjx490tHRkXmJ5CBpF7ZYLHRycmLF0tT9kgKgr+rjx48Vj8dDvUz9kUsYVB8pEu14mB7oidy5JMvPStuI05/UgGHn7z5K25XBe+OgAqvGYtdNLU5OTiTJjNN6vVa73bbGJZ999lmoiQiGtdfrablcqlwu67PPPjPSBoqa+Vwulzo7O9PFxYXS6bRarZalZ+A2eLgQCN7LMcaNEhdY/vP5XBcXFxoOh9ZwwcOVPjLFeHqojiiZd+ezu1bn6WuhJdlarddr6yvsgx4cENCETqdjLGiaJLRaLR0dHVkKTNraBY/8+EjWH/vnoXBJFpF68g+6h9wlnydtNxwOVS6X9fDhQ+3v74eISb5VKM16WG+erVQqmQOAnqARw13g+TsZTyncSssn9hksBA+Bdx5tIsDnPMnEsxc9Tdzj0SgqItTJZGKYNZPDZsHw+S4TPqcT9Xy8QfBF1Hg/nrzg54GNA8ECmAJHYpeiE+APBME7RTfBY37OvCdPzpB8SrPZVKvVMkXmCRtSGFZHeHye2bOx6asLrOQVo4fc2AfsL48uRJm/fMaXM0XfVdo6iXi67NNdG34ObqqdYx6JKD3qgrMBsc87rJ4xC8+ATlt+rn1DBaA9CCy+92lUT/Dsfv9FlbiPeKSwg+/fMbp//dzcdO1dG9HoWtqy2vk7JTiso58jkBqcUo/AcT1v9KTt3OGYIIdR1rqXKe+AR53yKKQO+dCnATw66J/P7zdvr9A1/l+vA2671ncynoTOMPQwPLFYzE42YOLxFpvNpjUI9zVz/X4/hGcDF2Gwjo+PjQHJpOPFkBC+uroyD/X9+/d2T64HMSAIAmsOHYtti7aJIhB4DGYymdSzZ8/08OFDOxGE8gyu4b01oijeh3zYJ598oqOjo52CbSHc+COLWFNKEKTwaQgoQUmGHpTLZTUaDUnS8fGxnj9/rmq1atAK3/Pwfr/fN3hQ2hY/g0rQ2k/aQvaeXU0kIm2FmvtIMoXtDzv3eR0iIva2z694JYQHLW2RCO9A7sJgfiDzQQwCesdpoSMPRK5ms2mKC8PqnRQIY9FzJG9SjJCvgBDpPoXn72FTTnQCYWANPcnLM7KjTPCossYwAAGzb9ED3pBwbfblroxer6dYLGaEKZ/fg7EKgjcYDJRKpXRwcGAEMeYwlUqp1WqZHmX9QRrW67U5SESYHhkgOKFFYpSg52UI+eW5CYBAqGDb+gbxBDveWeL72CTfW5vI06MgpHJokHObcSfjCfMUY8DkQDagKN1DoJyMgkJG6IBzmSj+RVk9fvxYn332mYLgukdqu902OPfi4kKz2UwnJyd24sfR0ZHW63WIdOQFgRB+s9now4cPevXqVSiRDAsP43d8fKxMJqPxeGysNaDaeDwealeFgHnjmcvl7GDXXSKVsNkQAO+JAfvEYjHbvDhU5JX8odJ7e3tKp9N6/Pixjo+PValUNBgM7HgqYHVPGvNKLpW6PlCc48T29/dNwdLWzT+fh9iJYIlAUPLkQzyRDHISipk96B0HnzcnAvZj1yKT1WplPWGlLeOSd8dxRbGQP8JhIgrwxjOZTBqzktITT8TC6fR5S+QP40npmO9AFgSBHZKdTCZDJ/hIW2PsYfsozyG6PuwLDDPOEPdmDngGTobZpXF5eRnqE8w8o7dxVM7Pz/Xq1SuTaeTBs859SRd6YTab2UHW9AwGPmefeGSPvYLT6hFHBvJLVOnXlvQOKRQcMxC+6XRq74shpKGCN561Ws1yof5YTaD525Yk/VaEIT883BUNyW+qH4vCOx4a8b0yUWoIGdf1sCLnN/rWfj4CQACikQOCx98RHg8/+Wt4pe6VvCcb+KbIKBvvDOzKIDqIQpsMvH2cBZRhdP7Z/EQffJe5J1JnoKijgkUOxpceeG/Vw3D+OW+Cqvwz+797iPdXfYZ94+F65mmX1pcRhS+lMFMSKNzX7CHnzM9NBsojP17e/H7y7EavO276YXj47lfBfL785KZUg78ORgEYz+8h7zBxnSiEuCsjqg89VC2F97WPEqM5f79f/HxwLZ8r/FVzj3PrbQUDqN0/J/vEV2x4vRuVxZsc8Ki+4j5e9lnnqD75TePOh2ETmkvb7jzAL2zGTCZjEJDv/IDngeFKp9OWqN1sNlarBwxHwrjX62kwGCgIAh0dHenBgwehbiG1Wk1ffPGFyuVySBH6PMlqtVK73bZNAkHh4cOHRh7y505SDgNUCcwDGcYfmYaC4TNEYXTU2CXYtt/vW/4JYwUE4+nezAuGkzo/n9/m3MtYLKbXr19bNMP6ZDIZFQoFg1aj8wSLOp/PGzSDMEQVtrTt9ORhXJ6Va3ul7XNCsMJ5DpQqzhfR9Wq1UrfbVb/fVzqdVq1WC7UN3JXBGhO9se+9I0Q+jByTh2F9LgkCH2uBguMAcb+X9vb2VK1WbQ/4XrQoQaJAHFGc08FgoHj8ugFHr9cLwWu+9IWaQlIwPJc3hiBlKHEUMi07PVTL+/rerrsw9vb2rMGJN2g+9wcTnW4+kDx5Z384BsiaJ1Tt7+9bFE/TC2lbwua5DOgMdAh7yucmJX3LiHk4tdvtajgcWrqB54Npzf6NxWJmW4IgMLSC/0buQU+QdZy/24w7G08gUTBlQmRP7yZSAKoFFgX+ICxPpVKmbOkmhJCBYXtMPpPJ6NmzZzo4OJC09RqASBFiJsr3rGy32zo9PdV6vW3oAGW5VquZwby6ugpFH76eM51OW+g/GAysT2a/37cjyTAOqVRK5XJZ2Wx2p07c6Pf75vR4Jcr7e4h7MBiYASkWi+ZccKRRo9FQIpHQYDDQz3/+cy0WC1UqFTUaDXOwKpWK3Vfa1tkBK6JsqaGFGY2Aea/UQzkoDAz6cDg0ZYFC5ft8BkOLo0bnFem6ly6Q4MXFhbrdruXAo702d2H4d0M50hlrb2/PUg7wAshL0tzE1/My7/7UDo6HWy6XBgUWCgUdHh4aA5RCem88Y7GYOdA4M6wPp/j0ej1jwvs2kTD8fWSCY4NOQa4pkUsktufNsubokel0qm63q3Q6rWq1ahD3roxaraZCoRAiPfrSG/Q4DQSI3nu9nnVky2azdjwk64X8cNRcEATWl1badnZjzTF88Ed8x6do6WLUgHI9HNzT01O9efPGoGjv5LIPvNNMr2Wvzzk9i2suFgtL63kj/pvGnYxnlL3oWUpeedwEb/BCHqrF00ShecVGpIE3DHxHslfanroCjZ3/95AA3ka0PtRDrx5KBnqIEgx8Dg1PltrO6XRqXnjUKyda2ZXh50natlTk/WE2+37EnqkGdB3Nmfr1Z638PomiBBA/cKz8j89JeE+adfSQIY4aQup//DNHlYt/DgyxtE0FkC/0hniXRlR2fXQShTQZPjpkPjzZznvsIC8+L438+Dn26+7zW1zXs+A92sC+JH3jHV3/OaBnnCMP/fnmG1438FzRdM0uwrYM/16ssf+bX+eb0nDR30XTO3A9vEGUwvsMHU+zA58a8HuNe3g5j6aIfJQYTbdF9baH5vmJws4+nfedEIZ6vZ6y2awqlUqoWXDUCPEQMJmIVohMlsulwSuFQsF6ndJeLRa7TvBeXFxotVoZxFIoFAxmBZrxjRRgxNJWajweq9vtmmfNoqDwNpuNEVZge/b7feXzeYtkoyQUBHBvb882y9nZmT58+GDXxsvt9XpmBHZlMJ9sXA99UJTM731nGuq+IFj5lmjxeNwYyLFYzJpgkNBHUeVyOSOTnZ+fq91uS1Kozy1ziWLzZUaULrHvPDzM4ex8FmFPp9PWdg5oFyFmP8Tj8VC/5uPjYx0cHBic5Bm/uzIw/sgBsCtMTMh/tMiUtg1P4vG4OUjI6XA4NLkjagEh8mQNSGfStcKCuCFta/7a7balSlCIHNDAvcmj1+t1q7FOp9MGOXr4nsPqc7mclTjB2t9sNlZ24x1fadvq00ejuzSYv6izKG2dHpxNInR/hJk3uJ4giOHxzkW5XNbz588lbWuISesRJS4WC7MbyM1isVCn0zGSGTXb0tZAcz/QKJqs7O3tqVwuazqd6uLiQpPJxKJd9jLG1p9Rix2KGtXhcKjRaPTdHIZNWQfenvdcUWI+iiP6ipaCAANwdib0Yw8RbjYbOyaqUqmo1WqZUNMthsldLpdqt9vqdrs6OjoKNarudruWp/RlB3gfvBOHLbMA5ON4bh+ZxmLXdGcgC29g2WQoY6CkXRn+tA1gs8vLSwVBoEePHqnZbCoej9sm89A8pQK09vPsa+9kQVkHlkeoMcCj0UgXFxcGk2H4PEwPZd6vj29HhvEkPQA6QfkSEG4mk7EuUBTVI2T01Y3FYjo6OgodwkuUhXK/bZ7kYxlAXSgZ1kTa5qIlmZwTEaJwYCePRiP1ej2NRiMlEtdH8oHKtFotJRIJM2hE8vAJ4DgEwfZkntlspna7rU6nE1KyHs71tb2FQiGUowQF4jOUtM3nc4Oj0+m0HVywXC7Neff5XBwsHyXtWuSJ0UHv8Y6SDK7EeOJsALOi05AhfscaetIe60ArUuSU+WNefa0vyBVli+Px2LrEMdc+YMG2kA7jOEP4EDhd5XL5W+VnksxxkmQQNH+Px+NWSkOThduMO0m8b14QhTXZdB6rRuAkGZWYbhJMKEbOwydMGC/rBQgo13tOsVjMjjbyi+yhNl8USykJ/89nUCgITzTJzsJjBHg34CPgLjYNP7skdKyp91aprfTz4olZ3htF8fq6OQ+nkMtGmWI4WX9yZJQu0J2GNWWNMWS+rtMT2BBODzd5uBCHj5pAb0z4DN6zj3JRquwJ375slwbNzz3czH+DDLFGyJTvLeoPkccAo4TZ83SmgiDoIUOvO0AVfN9qmmn4eyLrKHOe2UN6ntmPA1guly1q4X5+HZkH5Jp9BhOfOdmlkjNp2+AC59139/G9ZnFuPVzq+Rse3vR6XpIhFiAO0pboyf7xHBLp232CvaHzOpsf77ygI3x7RvQv5VFRJFTaMuq5ZvT7RN2esPqbxp2MJ23wUEw8FBNKWO8NHREmTajn87kdY4QRw+McDAZ2ykOj0dCLFy9CeLl0ferH1dVV6LlisZgODw9tYfBuEUS8HqDESqViQoHHi8Aul0vrWhEdKI1YbNsqigWl/RisLwqLISTsyvAlJ37epGvh80eI4eX7KIxGBkQCkLckheB46bp9H9Ahh9USsdKXc29vz/rp0owhl8upXC4bbAgpgJw47G8EAcgVchfMQYhBEAaIqDDIEOKkayU9Ho9DuVPawHHNXRr/+I//qIODA2t6QB57s9mo2+2agxOLxazZBbJIS81MJqNOp2MRHDV+xWJRs9lM7969MyMUZTF6uHgymejVq1c6PT1VoVDQ3t6e9vb2JG2VKMxgOA7NZtOUIMgDKQScIvYKPXh9kwzSQThjICM45YlEQuVyWa1WS5PJRK9fv9bLly//Rdbqtx2dTsdSHUEQqFarGYmv0+no4uJCsVhMBwcH1sDER5bMEwaMKA2iGWsnyWTS/5694tG5qOPNc2HouJ5P6WAnPEKBM8UzlsvlUI9e8t/oK4IiHCUqM0BCITBms9lbN8O4k/H0bLsoKQODwSaWZApqMBiEXpQFQNExsd1uV+/fv9dyuVSlUlG1WjXvlk3NCfbe0yBSSaVSms1m6na7oeJuIkI+76MZnhMjgMLleX20iYcmbfM4kuzdMa58hkOxdykf5gkSvLsvP8Ar962wvCcIbO27vXjPFeYrkSRCSalQLBYLMXIpuOazKER/zqunmuNBg1YA/eHUECn6ll7Sdg3x1ImigXD9QQUo8uVyac7crp3d+uHDB8ViMcs5EoltNhsNh0M7Hg62sy/tQd5wppAXUIpcLqfJZGLz0mw2ValUQkxK9hNO1vn5ud6/f69ms6lHjx6ZIvaoD4ocI8l/Ex3hwHsjCZxYLBY1Go3sfFiQCm8YSOWQz61UKoZ+jcdjnZ2d/css1m85KL3DgcUZxulkjff390PMa5wUb6g8w53/9n2s0bGSLC8dj8dD+8OjUKwrSGA8HjeHHAeJayG/kkwHcA2gZ+Qb4++JiegoGqCQ1/UpRhzCu/QvvpXxRPFNJpMQQcLDkSSDyVlRZ8UpCt54YuS4DqE2kweMg6fvjSebAWUNtIYBp5YI5YZSY8Exct7TIffGtf0zeePpF86flhLtpJJOp61TCu/k5/FjHH6N/eHgUeOJF+nnyrPdEDiME9AQ8Ig/7YScMCQioELf2ita5uTzsclk0nKv3qP18BM5Hp6LWkByG74VHJ+jbMEbfZ9P5ZloLwjK4a/zsQ6ej3pWFKt/b0hiyWTSZNAbT+Bt8tvMAXnjIAjMUCEHnogTddBotA9ixOf987Leninp5RnECacZUlomkzFnjbNI+Rxdazza4nOywLze6Ppn+liHl2WQLwiWlB1xSD3zPxwOJcnyfiA9yJoPmtClPoAYDofmaBLgwMJFNn3lgTee7C+6tnmWLeuCnEarF3DAPHPa58/H47GlFLieR1nYd6QnKI308/irRiy4xU54//69Hj58eItlux+/brx7904PHjz4l36MG8f9Gv/zjI95jaX7df7nGPdr/K9j/KZ1vpXx3Gw2Ojk5sW4V9+NuIwgCDYdDHR0dfbT1gPdr/LuNXVhj6X6df5dxv8b/OsZt1/lWxvN+3I/7cT/ux/24H9vx8bpP9+N+3I/7cT/ux0c67o3n/bgf9+N+3I/7ccdxbzzvx/24H/fjftyPO45743k/7sf9uB/3437ccdwbz/txP+7H/bgf9+OO49543o/7cT/ux/24H3cc98bzftyP+3E/7sf9uOO4N573437cj/txP+7HHce98bwf9+N+3I/7cT/uOO6N5/24H/fjftyP+3HHcW8878f9uB/3437cjzuOe+N5P+7H/bgf9+N+3HHc6jzP+y79v9vYhdMY7tf4dxu7sMbS/Tr/LuN+jf91jNuu862M58nJyf35cP8M42M+B/B+jf95xse8xtL9Ov9zjPs1/tcxftM638p4lkolSdLf/d3fKZvNaj6fa71eazAYqNPpaLlcKp/PK5vNKplMqlQqKZ/Pa71e26nim81G6/Va6/U6dCo9J9NLslPAgyBQJpNROp1WMplULpdTJpPRcrnU+fm5Li4uQqeb5/N5NRoNZTIZLRYLDYdDrddrJRKJ0LU5FT2XyymXy9nvl8ulNpuNnTCfzWZVqVTsntPp1L6/Wq202WwkyU6z57TzIAg0m800m82USCTs+cfjsf7rf/2vNo8f4+DZ/tf/+l+qVqs2t/7Eus1mY+9cKBSUy+XshHh+RqORZrOZksmk8vm8ksmkEomEnRbPqe+bzUaTyUTD4VCxWEx7e3uq1WrabDa6urrSYDBQJpNRs9lULpfTcrnUeDzWcrlUuVxWrVZTMplUt9vV+/fvtVgsVC6XVa1WJUmDwUCj0UiSFI/HlUgktF6vQ6fGl0olZTIZzWYzjUYj+30+n1c8HlcsFlM8HlcQBNpsNtpsNorFYrbPN5uNZrOZPdt/+S//5aNeY2m7zv/7f/9v5fN5BUGgIAg0Go10eXmpzWajo6MjtVotxWIxTSYTTSYTSbL5YM3X67XJZzKZ1Hq91mKxsHki6mHugiDQYrHQYrFQMplUsVhUJpOxdVkul8pkMiqVSkqn05rP55pMJlqtVkomk0omr9XVbDbTZDLRZrNRJpOxvZVIJBSPx5XNZlWv15XL5TSZTHRycqLRaKRkMql0Oq1YLKb5fG56qVQqqVAoKB6Pm3xvNhvbQ5lMRvV6Xev1Wn/5l3+5M2v8V3/1V8pkMqa/mEPmivnMZrPKZDKSZPvB//dqtTK5Ya+v12vTo8lkUpVKxSLdxWJh+2M6nWqxWNh+4N7pdPpbUZ1fn9lspul0antjPp8rHo+bLfDrPZlMdHV1peFwGJLfRCJhujmVStm78+9qtdLJyYnOzs6Uz+f18OFDlctljUYj/ft//+9/4zrfyngiBL1eT8Vi0SY3nU6rVqtJkiqViiqVimKxmBkZHjqXyykWi9lDbzYbrVYrBUEQMp4oKUlKpVL2wihqlG4ikVAmk1G1WlU+nw8JczabVaFQCF3PGzXp2mCORiPFYjGl02lls1ktFgt1u10Nh0PVajVT2lwPBdPtdrXZbGzjxGIxu4cklctle8fFYqHVaqXVahWax49x8Gy1Wk2tVkulUkmJREKTyUS9Xs/Wk02Zz+dVLBYlyRTOYrEIrf1yudRqtVI6nVYqlVI8HtdyudRsNlMQBCoUCmo2m7YHksmkgiBQuVxWOp1WLpfT3t6eisWiJpOJzs/PNR6PtVgs1Ov1FI/HNZ/PVSgUVCgUVCwWVSgUzEFqNpsmfDwbe8I7dihHhA2B47klmXKXZJ9Jp9N68uSJstmsBoNBaB4/1sHzXV5ean9/X9Vq1QxZo9FQEASmTIMg0GAwUK/XkyTl83lTsl4+U6mUKTLW0CthHBFvPBOJhIrFovL5vFarla1rqVTS0dGR8vm87T0+z1q02211Oh3bK6VSKaRM2XvomUqlokKhYLKeSCS0XC41n89Nn2BIUPKbzUblclmLxUKpVEqVSsXWf1fWOJ/Pq1armWPQ7/d1dnam+Xyuvb09NZtNW79UKmUOw3A4DDn/GLLJZKJCoaBGo6FEImEyL0nL5VL9ft/2QDKZtDWfz+emM9LptNLptMrlslKplObzuQaDgVarlXK5nOkdH+D4vYQME7TE43HTFev12t4fe5PNZiVtHS6+j7OHQa7X63rw4IHq9fqtZflWxpMxnU5tUthgbNao1+A9OAYbnO8SCfpFTyQS9lnuww9KC6FlgpfLpRkq71kxmUy2JLsvz84PSnY8HiubzdrzYzB4PiKnXC5n3/WLy8bBiOzaQJF4L9UbRIaPSP38SLJ598qGuUBp4eigePke+8UbMtZTUsgp8c/Bvb1gsQd4Dr4fBIHtGZ6/WCwqlUqFIia/9t5L5hmjztcujeFwqEqlYnschECS7Wnmbjab2We8LPqoHEUZjVoYUVn288zwzjRKHVni+XwEyz2QQ78H5vO57QXvCOHEMXyU7KOjzWajdDotaeso+PfZhREEgRKJhDkMGI/lcmnr6Z0gAhoMDPoceZnP58rlcjaXOEJenkAEQRRAE3kOLzusA5/x+pI9xhqyJpJCkSyfTafToWBJUmhPE0Hzd/7fO3he791m3Ml4enhls9nY5BMCo0C8BxDd2NHIkoeOChOego/sfMSbTCYNUmWxEeb5fG5RL54H9yZK5VkxpkEQKJ/PS5J5w9PpNBQNbzYbVSoVexagBA97eIjKK/FdGcw3kdp0OjXoBSgdzx4FRdSP81Iul0NCiDBFHZvNZqNutxuC0r1ijsfjmk6nBo/iKXJtSea5SrIoNh6Pfws6mk6n5mUCL/GTSqVCUJAXOO4PZMUc8UOKYDgc/sss2G85isWi0um0vRspFUkhBVIuly0Fs1gsNJ/PDQ1CYfmIHtjWO9MeVfBKkzVCkUnXztVkMrF9RWTh98B4PNZwOFQQBBqPx4Y2eOcLGczn82o2m8pkMvau/AsCwr5GF6VSKYMqkQPgyF0aBCp+XUmNMB/z+VydTsd0ndezHq2p1Woql8vKZDLK5/PfCk48MuAjf/YKUSAOKnaE6F+SQcI3BVA48cPhUMPh0PQuNoS9xj5lPyKzoGDYCZwm5CCXy2k6nRr6eJtxJ+PJhADjFYtF1Wo1pVIpe/GoVxmNGlhUcmoeJvM5pslkorOzs1Cu1MMR0rXinM1mpjDxnliQcrlsESIeFJsBYfXQg4f9WFzuHQSBSqWSGo2G4vG4er2eOp2OYrGYSqWSGVWfI+K9b+vJfAyDTUq0MR6PDTojF4pwjEYjE8DFYmGbuFwuh/LDXuD4781mo3a7rTdv3kiSHj58aAYMAYP11u/3TeEhtKxlr9fThw8fQn8HomKfzmYzgwSfP3+uarUa2nvecABXSdJoNNJgMAh5s9I22mV/ZDIZy6/uyiCvyFziUBJxEF0A+61WK52fn6vdbluOK5/P2z4gchgOh1oul5ZSSSaTZpwkGVS3Wq0MIsSpQX4Hg4HJNYYc2HC5XKrb7arX6ykIAksXkVZB9jACDx48UKVSUbFY1Hw+t71MPnWz2Zjz5BX8crm05/A5uF0aGBacimQyadA8+36xWOif/umf9Itf/EKpVErPnj3T/v5+CFFIp9NqNBomlzg/OD6bzUbZbNZgVvSBpBCsn81mlU6nbc94OcY56fV6ZtTQxcjpYrHQeDzWhw8flEqlLLWWTqcNEsbg+x90vE+7YERBnDabjfr9vrrd7q1l+U5anagEL5wHw8CtVqsQFOq/F4U8WAQfnUoKhedcn7yhj2KZdIhBRK/+eTykx3fZEIyboCV+7++PMPq8iod8ouSa6DvuyvA5QUk291EDwjz7H+bBr4UU9iCZPw/BcL0ofMYaeHglCtd4MsN4PLYIczKZWNSIMONt857+X+/ssRc91OMhev7mIeH5fP5dLMd3Nnx0zfphPL2zhzMBzOfRA2DUKLrEiBIDo7+TZGiFtNUvpH28smaufQQRHT7S8Ovk86F8jn+j6++deL6PLMCZ2JXh0yisD9Eh7458jMdjpdPpUHqG98b4eejaQ+Jedrivh06jiI63I/45vR7x6CX383ArOoTPRfcav8cOsA+in/WpAQzsbdNtdzKee3t79iJ4ZHgKkDa8hxFVxH5RptOpYrGYfZYkPgovk8no+fPnITjI52Y8k8szqNj4XA/PFsaWj4j4LDDNaDTSfD5XNps10gq5DzYD7FDgKzym8XhsuZho3o4NuwtjNpuF8pBeUS0WC00mE2PSZjKZECGMdWDupW3e068TUUihUNDh4aGk60gom80aHE5eBugdxciz5HI5BUGgq6sr9Xo9IxT9+Mc/ViKR0P7+vlqtViiq6nQ6+slPfmIRzng81mq10uPHj/XDH/5QxWJRm83G9iAGOB6Pq1arWY5wMpnY/vdO4q4Nj8CAMAB1lkolS41AzslkMjo6OjLlx54nUs3lcjaH3sn1OsArsmKxGNo7sVhMg8FAP/nJT9TpdFSpVHR8fGw55dlsZpHiZ599plQqpf39fdVqtRDfgTQAvAiiYXJ0PB9EQEmaTCamdDOZjEHZROfj8Vjj8fhfbK1+m4GxA5LNZDKGxPn5PDo6MlmGLAiKwBp7aBwEcrPZhBipHhblPiAYGEtSPVF9DZqFvgAxwkiyh7LZrJ4+fSpJofSOT71I16m96XRqUH8ikTAyZ7FYNF1DcEC6KZlMfjewbaPRCEF2nn06Ho9VLBYNGvBeXjQCIXfqcWePaW82G9XrdVWrVQVBoHa7rcvLS0tGSzJYZTQamYGKxWLGAiXMJyKIJoq9sOF5DIdD9Xo9VatV1Wo1U9CeZOJhPODmxWJheTfe1xsSjMUuDEhh/t0YbEQMGpEIhtR7oUSDzDleOw5WPB5XqVQypVoul5XNZrVerw36TqVSdm085GgJUiqVspKpb775Ri9fvlQ6ndZf/uVf2n5lv02nU52fnxsU/M0332g0Guk//+f/rM8++0y1Ws1y7aQhxuOxUqmUMYM3m406nU7IQdrF4fc1ucOrqysFQaCjoyOTSdi2yWRSrVbLGKjAW5456RXhbDYzWfbG00cKlUolRBYLgkBnZ2f60Y9+pB//+Md69OiRvvjiC8uZwZP45JNP9Pz5cytrAT7mXolEwpyx9XptOgqnGiccuWSt+W90E44BhnfXjCflVDiJ1WpV5XLZnFuc0VarpePj41BwMpvN1O121e/3Jcl4AkSp6/VaxWJR5XJZsVhM0+nUDC0wvQ+kVquVer2eGcRUKmV5ZtaEkhocZXTGbDYzxm6lUjEW/Xg81nw+t2txT0lm5Ekn8KwYyUKhYFAtjPtms2mlLrea37suCBNMvacPqz0DMgqDSGGYhL/54RP6ngDkIUBPyPHJbS+4/vf+X/+96PN5aNfnw/g+3/VMXSJPSYbb3wQV72p0Ep1fv17RefMwoP+X4WE9f10/NzdBcdG/3QS3epacfx4PB/r9wl7FUAJXcl2iDhwknCwP+/gRnZtdGVHIDVJPFLL0RK2bZI9refjWz7mXe8++hPeATEMW6vf7ln8iCvDkEM/E5TlvGjw/eTBfX+if068dSpfn5nMe9t2lEYWhf9VnvK7yiBw5RYZfe++seL0cva+/pqSQjo3uQQ/9cj//nDhQ/nmi6UP/ee/cAkl7yFnapgd/nf65adzJeA4GAxUKBautgsmKdfeQH7WWbFwS/aPRSPl8XvV63YQHrHk0Gmk4HFrND5Ef4TcLilHL5XImhBAggCOgVVMDBuPSR4x+sVKplA4ODtRqtZTJZIxZRvTKO2Dci8WiisWiedme4esjTryuXRkUIfucBZF5FJr3VHA2Lk0D2A80HgANWK1Wxqb0Hj5GTJJBh0S+nvLuc9nAP1988YVms5k++eQT/emf/qkSiYQ+/fRTPX361FAGkBE8706no2q1qna7rVarpfl8rtFoZMQU4MH9/X2LUjAkeLTsRzzfXRpAatlsVvF43FipkgzqlGQNDTxEjuLBoHkjy9p4yAzYjmucn58rm83qyZMnyuVyWiwWevPmjU5OTvTq1Sudnp5qPB6r0+mo3W5rNpvp0aNHevr0qTXIIJUzm83U6XQMOYLsAXnRK/l8Pm/ENUgukgzOJEoDRfIOGXXAuzTI89frdTMUkJ5gMjNvnU5HiURC1WrVIO9Hjx7p8ePH5tggE8zVarWyxhqedMe8QxZD16bTadMDvgwOuZa2ZFDv0KRSKUM1C4WC8vm87S3Kb0Alo7rh8PDQyIlffvmlEomEPvvsM9NpoFbIdzab/W5g236/r3Q6rUqlYhsLHLvX61nYHo/HbdL4zGaz0XA41MXFhZrNpg4PDw1bJw8xnU6NWUnXD0khNmcU12Yx6TAElXkymSiXy5mwYIRZGI+5s0AYBg9LInzAHCh4FpSNSNkKHioKl59dGUAueGOeAJTL5UK08ygJg7wx+8Ab4FKpZBArjEdp61kiBDheCChwqye0RHPj3/ve90KeKjkX0JGLiwv73ePHj1Wr1ex3zWZTzWbT8uOz2cyev16vWyejqPFcLpc2L3epDftYRiwWM2UWfXYMCHOJkru8vDQH+uDgwKA8onVP1CMv7D369Xqtk5MTvX79Wvl8Xvv7+4rHrxtnvHz5Ul999ZUuLi7Ubrc1nU41GAx0cnKiSqWix48f6/HjxyqXy5Jk+4BUC/uPNcIZY+3I83nFzf5Op9OWGhgMBrq8vFQ8Hg85+JCmdmnAPqfxAHOKseEHvcy7ov8ajYbJ0NXVlaV0mLt+v6+LiwuDTn2zDO+4SFtnzeco4/F4yNkmb85+47vo+UTiunkCzhiGn2t4VAJHoF6vS5JOT0/15ZdfKggCS8thPK+urhSPxzUajZRKpW4Nz99J4qPQl2dvQVWO1jVGP8tEeNg09ED/P4/AQ6DStmbJh9t8xhtBQnWM9mQyseiWa3gI1jOzomE798KIotw9w5TveSZZFNLapeFzEGx+EADqa1ljH7l7D595+U0jOk9RaNdfj/w4HqV/ppsUG8/pISJyqIVCwQQrCALL790ECXtoJ1or5t9919bbzy/yFnWEgiAIwaNeMXEN5MJfN3p9FCeevc9PMb+ewFIoFFSr1azTV6lUMmKRh9y8fHpoGScLxIcyFK9DvB7zJBg+7x1DPrNLCJKkUETnkbabUireQN2056ORJTJFXtV/P5qKiUK9Pg3H9Xxqj3+5n5d/rw/YC+xX9mW0NNI7ijwDe+13WdM7Gc9oq7JYLKZyuWyQSK1WMzjHFz3z341Gw/qJ+no9JhtvJwgCY0NxX6I8HzGyUKlUKlQ2UCgUlMlkdHV1pZ/97Gdar9d6/PixHjx4YJ4W8A4GASOK1wWkk06nVa1WLXLmfSBNsOiw0aRt/hNK9S4JHXWYntLeaDRCn2EzQt6StnmDqOFkc3vom7VDIUVzGTBaifhRjDhdmUzGWo55xee7nPi8J8q6WCxqb29PrVZLtVrN2v5lMhlls9lvOWUIMHCerxPzEZBv/bgrwzcJ8I5tEFyThyCKEH1JMrKFdD1HsN1prZfP51WtVg3KJRrN5XJqtVp2X9aQuuFUKqXZbKZ+v69kMqk/+7M/szne29tTNpvV3t6eoVMYYNbL70OeazAYaDqdqlgsqlqtGnuY7yGfRKmsbSaT0cOHDy2yxQDR+3eXxsnJiTKZjEGloDrIDHsWlC+RSFjd43K51IcPH0JNJUB66B0LAol8RoMmT96h6QzpNxBE76BRQeH3jiTreex1NHuXPQt6CeJJioigaW9vT//xP/5He/e3b99Kku1PX+P7nZSqoFRQUHjyGEwaTXvDiPKLxWLWfxTl5qNSvB9vMP0iAH16WMCztVhg4EWo1j/72c80m82UyWT07NkzJZNJy22xSB52w1PG0/H5rPV6rX6/b+8FVADMKG27pkS9pF0Z5CmAZRmsu4etWS/PdPRryg+QK94r641hInqgJGU6nRqlnc8QOSST131Y6/W6kslkqKm7JPs3GnECCVUqFVWrVa1WK2NpQlS5qQUhazcajdTv95VKpdRoNKzRAwxB3wJwFwapBvYqZVmSbE5jsZhqtZoZHC8HrNF0OtXZ2ZlGo5H29/cNnmftcISBeBuNhvWLBYIDGer3+2q1Wnr+/Lk52nt7e2Yc2QtErURSOLreqeaaIAvoHb++7NfRaGQ5v0ePHqlWqykIAmOHUubUbrf/H6/S7zba7bYxUyWFdKyH0yEFeTh1sVjYIRxwSlgrZMqTzKStffBGy0ftEPSIVvk+wYvPk3td4REMdAHGlf/27f14Jh+40chmuVzq1atXevnypUHzwNpEz7dNs/1WbFu/SX1BPCw1z17y0Ag/eBmeNh6F6zxzEtjFe0Cx2LaQFmXt4bMoxOtzq9w7CjH5DYBSicJZRD+eIIHy9AtGRELUtSvDw23R3zOHOBXeQcJJisLo0eEdJ59rIxJgTaIQDHsNwaAUBrKWFza/Zjht1WpVxWLRSE3sT7+2ft+SD/NRl49meX+vCHZp8D7StxmNEMIkWUkARgpDimdPNEpk76FVr6h9MwxkaDgcarFY6OLiwjoD8TzMKa0d/d5AGeOAse4+p1YoFFQqlUzpex3DNSCsca1YLGaOA2gDDgaGZ5cGLRSl7f5GT/nI0O9dnx7xOcZo2gwZQx69fvXN/6MnoHDPaIDBf7MOXJf/9s4SwRKGjrUlLQDPxaMT0bQLSJN3HPicT0P8unFn48km4uFgR/n8iU/2Mubzuc7Pz9Xv95XJZFSr1SxPSvhPuz0mhkmD2btardTpdIwg4D0qCEU+ZwdMQ4RweXlpkITvy4nweAy/2+3atf2CcuQVzGCMo8+zIGyj0UjxeHyn6sN8m7aoAfSF4h6mHQ6H1vSCPeEdHSmcR/R9jREE2NCSQkLnGZ38rFYrnZ2dWTSMc4Ki9TT4VCqlvb09VSqV0Duk02kVCoVQKoJrIdgcdSfJ1hliGS3rJO0cNC/JlCKIAAoEhYKX3+v19P79e+Xzeb148cKidn5KpZJarZZ9nt+nUilrmzefz/X+/XszuuVyWdPpVH/3d3+nr7/+WuPxWGdnZ+ZM0TqP01AKhYLVEeKksw9ZLyBHcqNHR0dqNBpWh4oRYQ8NBgOdn58bJIgeOz091ddff237FUfes5F3ZUCOk2TwNIRMdC/r5gMc6XqeqIf0KIIv28K5QV+2220tFgtLi4HIUQsKOkdlBbWbGEbPyie6lbaG3+sO9gpoFbrGN/hAv5CKoF3ner3WwcFBaM8wP9ig24zfKvL0L4cXyUN6D0fawqyr1UpXV1e6vLw0JiWQL50ffORGTsuzL2FzRpPQ3N97Kd4zwkuGLUwEE00+cz+IRh7Lj8fjdoQSxtrD2D4K85tRUsir/tjHr/O8YKJiJIm+OJfT90S9KQfq10rasuiYQ79ncM7wDL2A0KzCnzEIxIjXiXeMgBSLRS0WC11dXYUE2yMTvv0bjpcvZ2Dv4PECDRKB7tJABnyNq0+fIAdnZ2f68OGDSqWSnj59ak4NcuXPvoUtjzOK8sNhicViVqg/n8/16tUr/ehHP5K05R5IW5RIkqUQPKSOIxMEQaihhnfKSqWSKWKfX/M6CtZ3vV437sbV1ZU+fPggaXsEGyVvuxZ50ttb2s4ZPWXZx7Cd0V/ILcaM6J4DODyhCBvAfHa7XdsDo9FI5XI5ROTxrHWaaHj96ut3cYQlhXSDRxGIjr1x98YTnQHKgPH0VRisMTof5+8243di23o2F1abSI4F8PnKw8NDU4YQh1ggNjUPjyFMJpM2cSwejcen02kIUvFRDInoBw8eaLFYWBNhH5V4GMHDOih9PGg+xz2BGFCofvMBSft8r88dfuxjNpvZxiISYaPSAkva9iDGOOKJ+tpWz86LKi7u5cuUMILUh3rB8+QhICEfLUnhdl18h/t7qInPeZjfs7z936nfBe7BMfQEKN9WbFeGLydCJnyuECXK+Zq0NPMygpEjT+VbU6IHkAnO+k0kEtYqU5IZNkgb5LPL5XKoA5FHiXw6Br4FSpV1pHwB+cVJ4/kSiYTlwHDieQ7gZ5xlcra3hfM+lsGaSOGTTpBB5tIHO965xYj4dAbywD7BqH748EFv3rwx2WAPXV1dWbAEMYvAif3kEQ9J37It6BKfU/WkIp/6i9oSvychp/lTdLwzcNdxJ+PpYdkguD7xgrohj6ezufEe6H/YaDRCUZk3sLww9XtAJcCel5eXFoUeHh5argQBwTMcDAaWQ6nVavrzP/9zJRKJEBzpI03P8mRx8NJms5lFKKnU9uBWSSbk0rYg3OeOeBe/CXZhdLtdY9J6OroUzlfisbIx8SopBfE9Kn2O2OeagGq90+Sds0wmo+VyadCMb8+H44WwSgqVrfjIH8HyUL43yp79x4jFYhapSrKjx9j3vDvR7y6hC5L09ddfq9VqWX00UXZUVvb39/X48WOlUimD33AmgExns1nIIZVkbdwk6eDgwPpiX11d6erqytpcYiBpStJoNPT555+rXq9bVMCeI7/tI2VO36B8CdQDgk+lUtHR0ZHBj8h+Npu1vsqel1Gv183g1ut1c7jz+fxOcRekbS9qHCXv5PE3KWycOJ2ExiLUr7OuEMQ4jeXLL7/8VsRGbhzEwM+zdH104LNnz0JHA/IcIECstaRQwMPwTq6vy0fXIJuw9iVZ6gbEi+tEnevb8hfuHHn6aIPuHn6CUVC8lKeHA/WgQPEc/HU9AYAXpBgaAWZDe6XueyVS5I1yoPC13++H4ESUZpQ16r1cDAXwBcXjbDIiMB9lSdsENY7ArgxfkuEjNeaYLh7R3LaHyUEagE6ksILix3eH8dEe0OlyuTRvlD2zXq9D54NK24bUXoF7Jq9Xtj7H4gcOnBckvGU8YU9+8d6tX/9dGf1+3zp9eWYyc4gMwkmIEjB8ysOzHD3U54/mI6cIgxXDio6A6EEHIfKUHlnwxDwPIXo4HaeIHBcpIxwffiAVeaOCwwbK4jtq+UqAXRnMly83IRXFPmatPcoTdZCAZ3GsOp2OxuOx3rx5o7/+6782HgvOC4coLBYLtdvtkD4nuie/6Y2nJ2stFgtL0fkj7fz64eBjVzy6wPt69I/9FK2u8PrhLuNOWp0HxDjmcjnV63WbfDwFJpGXQoF6pcND8z1eloOUN5vrbh/ADShWvH7fIs1DcBBE6F7EeZHR90DwgAOlMDkIdqYXPjYYUBF5Wa7h30vawgS7NIDnfO2rzwFAEPDlJJ65hyOFwxN1rLxTkslktL+/L+nb0TvCxlpJCgmJFwCf//BKHYOG8LIPiVC9k0d0GyUgkdP3zFFPhPLGdpcGCoz384cbQNqLxWJ2qox3hlHI0Ujdk0/gCEiyA5c3m43Ozs707t076wTmT0uiRo9yBiJEdM3e3p5FRNShSlsmOEfS0Zau2WwqlUqp3+9rMpkYSYx97Ylx3nnjXfz+u0tE8rEMUBvmMEoG9BUFzHen0zG4k9OKcHTR1axbr9cz4ie8Aq9bgyCwmlsp3B+81WppMBiEzvqNNmTAofFOFGsDKjQej1WtVm3tvD2hlEratmCUtnoeHoxvx+f1zW8adzKevt0cFh9mJaesBEFgfWl9dMhkI4woL4qjF4vrw4prtZqRFU5OTmxjA8ecnp5a1yCiP5805tikzWajr7/+Wv/n//wfTSYTHR8f68mTJ3bcmK8do9WaD/2BFOixyRFUKJBisRhqT4aHA94PUcVHYrswaB6A4vAtE6mJAkIjKvMwCMcYzedzU1oeFcDIxONxq7kMgkCXl5fWJ5P1xnh5qjq5Zt82DYPrBc5HG8BB7FeMht/HEB98KsLXu+L9rlYra1juSWa7hC5IsuiO+eVIt9VqZZBbLHZ95CARXJQv4KEvaZuXxJGhoQINBubzuV6+fKm3b99qPp8bwYR1RPl2u11NJhPt7e2pWq1azpQj4S4uLqy+1jvj7Ddkr1araTQa6e3btxoMBjo4ONCLFy/siDP2Lz1vMSKwd30z+rso1Y9ljEYjlUoli+KRWZx9+Bv0s57NZvrqq6/0+vXrUNQ2GAz0+vVra2PHelerVR0dHSmZTNp9guC6PhZYHia+h4FPT0/V7XatCcYnn3xiKTqPNoJc+JOYkPvlcql//Md/1KtXr3R4eKg///M/V7PZ1GQyMTTUo0+tVsvugRFer9d6/fq1fv7zn6tQKOizzz5TtVoNnST168admyR4mjKGDViL//bK0idw6UbChvSTtFwurS4J4wllmI0Nu+7y8jLUFcZDSYTlKM2LiwtjVxIF4XnxHZ7Pw5REJeQs6ZPpmWEokigBBQOAUt6l6NMzqInWSLr7CFPaEgowItL2dHmUk1dynqzDvegk5fOQ0rb/sI9ofATgheAmKNH/UEAdjTJ8Dtfv7ZuiEiJdv+d5zl2MPD0zFUVCs4lisRg6+o8IBZmIOpr+GuwTH83AxJxMJup2uxoMBhYFgdigOImQpO0xZd6B3mw2N7ZjxKHjeKlKpWJ9WafTqYbDoTFq+Tz7msiMfcZ7RvNhu7bGPufv65JxMn2OElkfDAZqt9uG3ARBoG63q1evXpkT5UsV0cMcugAqhVx58iQ9xyVZc/dYLKb9/X1Ddzwi6NcqmpcMgsD60pKPhv8wGo3sPuwdXyfMCIJtgwyche8s8szn89bRwee8MBieiQnUysP7F/eTk0gk7JQErs8CeUFko5OLAHYil+KT4Rix+XxuXY+8RzmbzUL4tyeZ+HeTFCr29YqYBtmxWMzOFYU4MpvNLFdEP8VdGbAnPVxFvV48Hg8RfFCevu4K45lKpdRsNr8F06MEPQNSknWcwYnxClPa1n6yTkCrnqjgu4PgecZiMYtggWqIhnken0/t9Xq6uLiwfYAiYO9K4V6b/Owa25Z5Yj8Tcfr18Xkqzw9g/08mExWLRWOye8hss9mY8wvE65mwrBkoVb1e19HRke059p9PDbCXOJ1J2uZTWUvKFEg/rNdrNZtNJRIJ6wyVy+U0m82M4c0BFBhUoD7kwNes7tLY29sz/YNcesNAZAkCMJlM9O7dOzsU3evsZ8+ehU5BisViev78uUWNnjuSSqUsn0kKz+dKE4mEsas9kukdllwup/39/dCar9fXDTsmk4kZyEKhEDqkArjel6jw/ldXV0Y6zefz1lJyb2/PrnMXJ+lOxpOicqIJn8D3DRN8PtLDWfw/Hh4KmGJdPCQenhwWUCheIXVlNIym/pPP4M0i3HjZ5HI8td23FfT5LoQVJyCbzdoGA2ZEKWAwV6uVnS6zt7enR48eqVgsmge1CwOWsc9DkVMg3+GhbhwdFBX5QJiTsJSp/6N2k+8xUHgIONEdwoNxxfkB6p/NZgYRHR8fh5q8o6C5HsLEs/PvZDIxIkuv11O73dZqtdL5+bkZWQq/s9msXrx4YYcHo1x21Xj6Bh6+ptWjKkD4GKTRaKSXL1/q/fv3Ojw81P7+vgqFQqiDF4xJHE6QGhocrNdri1yKxaKOj4/16NEj+z6yDnrhDynv9XrWBxfIMBaLWQcp9hZG//j4WKVSydIOqdT16T6cyEHqQJI1U/EySxS7a5Hn/v6+crlcKNfp87ZAt1999ZXevHlj/br7/X7IwBUKBb148cKuhQ588eKF/u2//bfWMAS922q1zEFtNptmqE5OTtTr9axqgZwsaR9v2EkprNfXJ/G8fftWo9FIX3/9tU5PT42YRF9eHPl8Pm+59ul0akHNaDTS6emp4vG4Dg4OrF95qVTS48ePLSf6nRlPLuyjCTyR6MJEWZb++/yd73gPns97T5/fS+H+lXioQAOercv9fQTF3z3L118/6uFGWVj+cygHomJ/XU8o2cXh51IKn2jjS5VQTh6K9QbF56pxhPy6ca/oemOUvcfs1wM4iEgHAxBFHm6KFFAkRI7k3SE3caRalAFM4Xculws10GBf7ep6e9mNkjIY0XQGMufRHj7jGdBc39/Lywfz7/PbOLHcnz2IovdK2ssnn/coAbJPhMOz8y/DX8vPCc8JKrFrhCHe3zeYiOpokBjyhDgoPpWFY1ssFo19u9lszzTmTFZSHuynVGp7ihHRu6TQ2b0+j+6NFjpe2kLykI/a7bZxTlhvvxeQW4Ib9BbpB6JS0gVEzV6/32bcyXgClUS7k3iYBsXmyRoIGxMKhZkO+zw4/Sj5nG9c4JtS45V68gJlETDqwLNR3hAUfIRMDpVJ9REPCxc1jL6tnz8AG7YmLd3S6bS1E7vt4aofw/AMUxSZd4yAVln/eDxukIdXipKMkQs8JG1rhdkb/oxV8p8+J0MbLz4TdXRGo5G1awQW9PuC+QdV6Ha7VvfmHS3+vbi4sNMkOLaMfeEjEBihRGm7BunRHIBIHcQhCAIjZEWVknduYElzChJKlWYIODWgMUCtlJHF49dnqTYaDdVqNUv5eAfJK1Pa7LHO6AauTyqIFA16BJiYnCcRRr1e14sXLywqBp4nd+chQuqNd60ciRNomAucTXQxDgl19OhqDB1N8mlNyDGAOIqHh4dGivTOjXckka1Y7PpAcRpT1Ot1zedzKz30iGMQBIbyoQOksGPO+kjX6Zrz83NDvCCeoRvW67Wd+INTFU0ngYh4Z/w3jTsZz263azkwFJQv4/AFzEwChgkrD+sLxpW39JVKRa1WS+l02tp4ec/Re4OevONzY3ixsVjMWsahOOlpytFpQRCEICSgAq8oeDdv6Hk3FCj9G9kseHQcFrtLvW19OzyUIqw8CtKjkT95JN/ogE2P4HjD5wu1KVWgNAjCAZF9u922NmoYQX9UFYdrs/86nY7BRdVqVev1WmdnZ+p2u/Z3hIRcD+uXTCb19u1b/fjHP9ZisdBnn32mzz//XNls1vYjSpu19zn8XRq+rIxoEZYxaRGcXmQXhzKVSqnVaoXaoE0mE2NcAtX7YvvRaGTcgF6vZxHJwcGBOSXecPqBg0oNJsaT/UkjCxQifAhawVHacnBwYH+r1WpmQAaDgfr9vmKxmA4PD+2g5G63q16vJ0lGdtylMRgMVC6XDar2ZWTeYRqNRnZiDMe3VSoVvXjxQk+fPrWOcMw7kDiwuyTLQWKAPVGU9BwHy6/X180o4KAgU96JxXgul8uQ8WQfbjYbOwovFovp5OREi8XCctPpdNpY3uv1Ws+fP7cjKcfjsfUl9/rat3y8zbiT8Yyy3zzMI4Wbf/NvlCWFQE4mEw0Gg1BOhZcgYvhV1/aMK+89oMB+FRMTQ+ifnwjkN+Hc/l7SFsr0w7838+XJR7sw/Nx5CFvStwyEf3/vBN00/3zGDw8NRWFZ/obx9k3bgXD4e7QzCagAv6MdHMbaMz2pCeTevt4QjxhkAS8bgsSvgpx2YXi5iqZg+Ht07XyDAknfUpL+ur9KJ5ADxQn1cLE31ijcqI7hWihh74xxr5vSSTjF/vfcn+96aDO6F/1778qIpqL88Igde1qStUXEUaYCAiQQWfD6nzn2zXA8hO/1JvPtSWn+eaP7MDrgtHhOxE2Qu08Lct+oPfH6zNuc28Lzd26S4CfSKw6fQ/BRIYaRF6EM4OXLl/rFL36hZ8+e6Q/+4A/sEF2YV76OEizek1NisZj1RgUyQIggpEhbFi4KlkiJEN5PINh4NMfJ+9G1JAgCNZtNtVot2yB4K/5cuXg8bjDnrgze17NneR+8b5QQGxTyhbTNUeGVkhMmwveeq9+oeJteSUPaOT09NTielnxff/11qLuPN9br9dpqc2HQ4hUDyRMtS7Lm5ul0WoeHh/rBD36gIAhsD2YyGT148ECNRsOUDaxziGK7RhiCJNfpdCSFz0GVwnllIEuaEJAnQraRE9AdiD7dbtfkk3yXdN3dCPLZaDQymLhYLFqU2Ov1VK1Wtb+/r3Q6bfAi+4s9yv70DrF0HVmzhw8ODtRsNpVOp3VxcREqhfPKGJ0C1MdBFswLKYZdGbDFe72eUqlUKF+cSCTUarVUKBT0xRdfGNR5cHBgbQkPDg4MaUIngrSBOGCsqtWqpcu8AaP+H8cI2wHLmnXALvi+5JyrSq0pQdfFxYV1owKW3t/ft5IXdEg2m9Xjx48lyVq3AgkTZcZiWzY+fQOIdH/TuJPx9Al37xVK3z6k2sOfeHJs8OVyqV/+8pf6m7/5G+VyOf3H//gf9eTJEzOCsFuhkAMv+OQuOVaExzeClrZKAAXg81t03vfRI7kRYAC/YXgHFm69XtsxadCw2QBERZlMxnIsvkPPxz78OklbY0j+E0PlyTJEdQgF5AxqAemvybV8nS/X8HAJwge9/fT01OCnQqGgi4sLvXnzRuPx2CBXDyPjKNHqC8fKF/D7fsiUFaXTaWvcwD4FCTk8PFS9Xg/tC9iJw+Fw55okkKPvdDomN/5kE6Baus3MZjO9fftWFxcXymazOjo6sjljr+DkJhIJ9ft9XV5emjyR1pCuIT5yTOPxWMVi0bgIzCkNUg4ODow/AHyfy+VC5SXsSY8EoEuSyaTlrcfjsc7Pz0PlR9L2RJd4PG7OELyMi4sLu/Zti+c/loGO7Ha7IR6AJKtagKnKoeNPnjxRvV7/FicA7gMlY0T+zAlriPPKd2iyEo/HDXGA20LJEI4tLNwgCOwYwSAIzDEHqu10OlosFnr06JHthWazqVqtZrp4tVqFODTk2nknr5Nx9HEaYJ3/pnEniff5HV/jKW1ZTh5S5YXxQojK8AopE4keSMq9pHAYHr3eTVDTTfAqkLCHGfh/vse9/D29YwBkQR7Fs3f5rIemb3qWXRjeOESdiGju0r+7Rxv8YE5ZB0mWc+H7UphIhKEjL+FZvT7vgoBUKhWDV6NOm7Q9WZ49x/Pm83krgUH4gaT8NXx07FGUXR6sBc4Gc0o0GWWtknPMZrPWrJ2/+3aJN8H1Uhi+jTrf0RSB/7lp7/m9FIVzb/rxf+edPdznYT8vx5CLboI9d2FEdWd0TVhbUhK+HloKp2k8Csdc4GRgVOGl+J8ojOudcu+Ms+eIaP3zoxeISLEbHkpGNyCjUV3sdT171r+j34O3Xes7N0mIxWKh0gCgMH/EDKdleGGgPms0Gun8/FwPHjxQPB7XixcvdHh4aF6Gj06AGMh3UeOH4WLyUYwsDNARyhWPcjqdmtKF8OENHUrbw7nUOwFBovRzuVwIwmLj4JlxvV0jGnhD5RVdEATmoREl+lZo/txANh9sXEgckMUuLi6MGYeXB7w3n8/15s0bi1qWy6W1DKSNWqPRsMjw+PhYL168UDqdthpN7zED/8K4e/DggcrlcgjqLxQKRgbCE/ZQMFFL1Fiwvr40alcGOVtyvnjpOBjUvIGcrNdrZbNZPXjwQNLW4ECmoksP0QfXJQokX53NZo3sVSqVDCrzHamA7RmxWMwK79frbdtEZIyUjlfCPm3AfiACRnH7Hr7cBySC/bm3t2cnON32kOSPZaBPcVajuVzku1Kp2JnKvorCO7cgErFYzNIllI0sl0u1Wq3Q35lzIn/WBANHLa1Px/CM6GDf1o+1ajQa+v3f/32LFMnL+jQCJU/cL7qu6H1QKdAR0MPvhG2LteYMNxL7bFq8NAgaGE2w6rdv36rf72s6napWqymXy+no6MhOLI8uul8EFgxBRCn6JC9GkPpL6Pg+YvZdTpjEKHWZTUDUA6OM+/BcPg/LInEtFh3W2K4MH21FYXci7yC4LhFhDik+90Qdv4ZsXul675yfn2uxWFjO2MNsw+FQ796909u3b5VMJo39R1cpmNgcc/f8+XM9ffpUqVTKIDZgZJQwa1ur1fT06VPVajU70YVuUEC/HGUFWxTjTr6LPDZOWLQj1a4MIoV8Pm8OBMbTR/BBsD1pJJ/P25pSQsQ1cKxxYOkcg4HjJ51OGzzmiVfIdfQIP+/AZDIZM55c+ybCEgqUdn5eT+DkweSMDvZ4LBazd0KGdxFt8IiOR8ikLboXPVmKefFz6lECUhmj0Ujv3r3TYrGwnCFr6Tsa8Xsgft+mcX9/39JbPoWGLvEwbBAE5uQmEgkzujCrPcIkbRFDaXtkIvsZBNHvHXTGd8K29RCoh1WisKeHcKO5Tg7N9h4QSsjnIXzEIMk2NJ5kFL7x12MyIDAglP7ZvOEkOorC0VHYBwOCgcRD8lDGTey9XRo8cxQ64XdsYrxWz2KU9C3mNMqWvAYkDE9Tj8fjIYEjKgFaBSpEUPCmeV4Pw0NmoJ5Y2ubjaRnm1xgEA+VIdOSfLbq/PekJBbtrkad3kjycjgwgY379o46V3yusB8bMO9XMOXuH73so2BMOpe15qnS0Iorhc77G3Eeb3pGNPrc3JN7p9rrGG1q+z1zsWl6btfXpFPQpUSa/I6r2v4/qPv715Wjc46b95PdBVBcif+RFvZMTHR5J8sgPCImvvff38U4thlHaHnwfZQBH03i/ady5PR9hNTCqb2Tg26HB5vOGdjAY6OTkRNJ2MWjdJsmwbKIHf3IFLbRQnHS9yGQypvx8hx9Jury81Lt376yWj+781Jh5xYjypqbRG0UPUVUqlZAg8i5sJJLp1CftWq7kJkXKRqdNGvMDsQYyANAakDktEzudjv72b/9WnU5Hg8HAjqdqNBpqtVpKpa7PaaWt1uHhoRqNRghOoybQH4C9Xl83ROC/k8mkHbgOsxAD51sB8lxANoPBQK9evdJqtVKz2TSCCQgKz8BehHC22WysNdkuNcKQts3CPfkDJjnDI0fpdFqtVsv2v88xgULweZSSjzRms5nBYty/XC7r8PDQyiFQsjhg/X5ff//3f69kMqkHDx7o4cOHSqVS1n8Yw0kkUSqVbA8RIYGIJRIJa9eGUwW8N5lMNBwOzXBgPEBRcJI9Y3gXBsgJjh6N84MgMCRHkjqdjjqdjsHUVDl4x8eXgNHyDr3q62o9bEoki7GVwoZws9lYrTXOLXrZBx/+/uTl6WFbLBZVqVTseXBsQQwGg0GIHMS+QB+ARvh973XFrxt3ZttiOLxH4b0aLwDeW0kmk8am8iE88CYvDPbti1aJPtjoKE2Sx2wMn/CFmcXioIA9pONzACyqNw44Ckw+XjJKA6PiT7jHQ/Xe6y4ZUJwG3wLN/4sigejlIXEicxwa6PGz2UyvXr0ypiPNMWBIw54maqhWqwbRocDIj3GclLRlhHpvGqeNdQPeoS8nih5PlCL5d+/eaT6fK5VK6cGDB7Yfo5EIEDTert8LuzQ8QUO6dnxhI/pmF9TG5vP5kPHwcD48BCA2oDGfMvH5Yb7P8YC+UYPXKb43abFY1PPnz23eKScpl8vWmAH59FGMh6FZc9INpGPQFeREiWopaeC5bsvC/FiGJzkSyeMM4LAwV1dXV5aPRjd7VIh122w2lpv2XBMcHl/B4PUxMun1Js4WvalbrVbokHtpWz7Ic6MjSLWwf9irkgwN4xhM0guelIojzN7wz3tbhOFOxhOSDQbClwcwvJKVwtCBh0gRMvoc+s/7H65FUtfDrRheoBiMLkrZU8un06k6nY7VPXFiAs9Mv1PPLuT+PjfivShvqFGefnPgFe9SqQpJeroDoZB8DpR18EgAhBKIJl4Bp1LXB5TH49flPmz2VqtlpQiNRsPObsRBAcJdrVahA7ox1r6M4qa9iCD7FoEQUjCsEAkoW8Fo4yR4LxoHaTQafQvuu21t2Mcy2KMekvewpiQjg2FomAvkF08f2NVD/f5alJnQLPzg4MDypKwpA+eE9SZFAmkL8iDzj1L0TGDfHMMT//yZvBj9zWZjdaWxWMzKNIDzafFJfm2XBsYKufWtSz0BkppOZI4zVj2xRlKIdY2T450dZMwbT8oMJYXqssmDottBcaJpMJ6HM4Ux7D6H7fsWsy/4PobRp1bYs8wRz8d73Ja/cCfj+e7dOzulBIHByvvog43ryRUUQnO6ydnZmSaTibLZrNV6kefiur6WCKYszEtqAEejkQkbPSgvLy+tBROTcnl5aceItVot7e/vhzwMFhVvDSo00QmLRW6MzRXN2WLk1+u1Cd0uDQ5Evri40HK51KNHj/T06VPLN3rCBaQL2q5xMDqQJsJULBb1R3/0R0YUgGkHFAdU5hm+KE0/996DBmJn/oHniIYRpPX6utidveBZmRhO7rdcLlUul0O5OYhQ/X7f6uXoGeodp11iVEuy8hRkFu/eMzOTyaS1q/PO7Hw+V7vdVrvdDsHpPrIAOdpsNjo/P9fr16+1XC5VKpX0/e9/X7lcToeHh6HyCNaeA9c9BCdJ79+/lyRzioFqaScI8ZBcKWkTrzRhzg8GA0NCLi4udH5+bqgH0P/V1ZUuLi5UqVTUaDSMpLYrA6OErkomkzfqo1arpWazaU7g+fm5paAwVtS0E/Gxf3wAMhgMJG0DIIIbDuDGKc3n89bP2MO4fvi8Y7fbtQO6eY5ms6lPP/3UWg/6EjPPR8nn86HuY7wLp6rQ/pNAhzaGtxl37m2LcfGWPhqme6/TQ6Ae6hmNRsa89SUnUVKCJBNEKew1ADUhEChc3xeRQYODXC5nZxFGsW3/vB7u8AQDokgPAfj3ZTPgLUvbPOIujH6/r+Xy+uy75XKpZrNpitTXvRGF4bnRXxY2nPcccXqAXnGKjo6O1Gq1bN18xMM+8XVf3tMl4vNEBwSDdfR0dDrLsFc8NIVHjvOE5+mhKyIVUAqYnBifXWJUS+GWaV5u+dfPJw0OPOxHe01pG1H4+cCpwbEAEq7X62o0GsZBiMq6jzwpoYnFYqE+pR7NYl/ioHuHAIQBPkS1WjWGryRr0oChpVQJeYZwSBTM93ZleBQBx8TD9Mvldd9xjAZpjfF4HErPeVIX+tcbT/KL6GhvPGHQe/6Er9X0uhO00BtSdA0HVpNbhRsThZg9TMw7E8ywd1hLvz+jyOhtxp2PJOOFyCf4pDJsSd/NhbKW6XRqxJBEIqH9/X3rp/jmzRt1Oh1dXV1Zpxo6lCAAdBYhsuAcR05uwHM4OTnRmzdvNBwOlUgk7NQHvFt/oK+HIVG2UbYYMA8bCePp4SY2ZZQ4tUu5TgbJf9aTri84EURllOEw977Wk894Be3zhDhLzKs3tJ755kkD3hP1JCDf2MB3u2GtgIOoT2TgHPEM7AEcAp6HPeKdNu+o8S675CBJss4yyCznrzKQgyC47vACsuRhN+o7MTisBQgMjfyRUfTAcDjUcrkMHQbgjS57hzrC1er6kAUUKIQ/nDnWUZIRynwrPZ9zw6H2aQXQqFQqpWq1amUMpVIpFHHuUvpF2p6/7J15D0kia1F0jbwxBCNPuAP1wRB6xi4yGw2WfJ7Ry7S07YKEw8Z90Pn+OeLx674A+/v71hiFVAA62JPWfETrES2CMZ9W8g0XvpOcp6eAeyjEexk+ueu9daCu/f19y5XAwPubv/kbrVYrPXz4UK9evVI6nbaktPdoc7mc1uu1Hj9+rPl8rvPzcyMg9Xo9JZNJvX79Wv/3//5fXV5e6oc//KH+5E/+RIVCQe/fv7fjl4rF4rdynEQgJL5ZWE+q8M8UhZowDN5g3Jby/DENyDXNZjOUa5pMJjdS+3l/CqFZcxTVZrOx0hMMHAKdTCZDJUQ4MB6y96QuRjp9fQJOEAShY7W8wWRvJRIJVatVHR4emvLGQfOkMSBgaZsrAl3AuBCB+Xw4rNxdK2Mol8sW0WGQms1miPCxXq+tpR1ePmtHa7fFYmEHk+/t7anRaCiTyeji4kInJyfWTg1GNMz6QqFgUSjz7f8NgusD51++fGknspyenmq9Xuv4+NgaLTCSyaTBjTex5YGbWf/xeGyOQ61W0/HxsdLptB0gvdls7CBn1nvX+hd75wZ5Q4d7oownPMIqnk6nevfuna6uruw0FAyT7wwkhUleHmmUwo3/kRef4wbahRTm2+nxXJPJRJeXl6rVavr000/1F3/xFxaRXl1dmZMgyVJ8PB/3IsIm7UMJ1Gazscib1OJtnaTfqj0fI7pJUajek/QsVrx3lB4RJMdEZTIZI24wcR5aoiQAjxZiEPeMx+MG71xdXdmCVCoVO7pKUqgO0TOIo5Gof0f+O2oc/WaJGk/vce3KALKORnAe1pO278TnPWzCmvsyFxwUSEgoyJsgWcavcj48kQe4jrlGaFhfjDtNqHkmX5sWvS97yUNe3ony70K96q5Fnp4NL23Zr/49gLRwnPw8+bw0hslzBiBqeYKW5y8QAfho00P3kswwDwYDXV1d6ezszKA7iC+UT2HccGxp6O/fBcMsbSFN9hCfJ1XDHgMKBl3bpYFMIosM9rJHWjxT1TOT0cvAvP5aHt70TNsokQj9GkWTuAbXRk94Y+uDMUkqlUqq1+vGEB6Px6Ho2usfb8T9M0EG4/OeB+HzuL9xfu+yGPQAJa8Fs5W8UjT3IX2browyJeLb39/X4eGhKTl/KC7Qi+8uEwSBNYju9/u2uL6x96effqrhcKhKpWIQEXRlSRa1UpcI88srZI6j8nAS8CSf8e/EM3tol3HbBPTHMDy5wG82DI609eI8WQzlgrL0jlA0Wr2JIOD3CBsb1i9dgOr1ujKZjObzuXq9nuVsPEvOPyueJp/310Nh8g6emMLAKCBY5Fk8wQihxfPdleEb+bPekPy8MwTpDaXn65n5HMbVl35gjIHfPnz4oMVioYODg1AuDghc2jo+pAAmk4m1YmS+cYilb5cboJd4Pt4J4+rzsNTwopx9/t4/j3eub5sL+1gG6yltYXj2OToblCbadISIHJ6AtG236dm2GB7fjcsjQJLMuYUVK23PQ/Z5UtBLSTo7O9MvfvELQ0aePHliB3J7GUdXs2fI0XpngXdFr/gqDPQ6eVRSVrcZd26SUK1WbVIHg4HOzs4sjPc3RTiiZBofsSSTSR0fH+sP//APVSwW1W639fbtW0s+M/mlUkkHBwemoMmNdrtdjcdjlUolgyiazaYpTPqd4uVi8CAwUEKBQpS2nYx8UhnYA7aZ94qiRAsiYh+h7RKZxHvcCF70pJlkMmln/gGfwGajCcLh4aEePHig/4+9P3lyNL2y/OCD2R2DOwCfIsLDc85kZncVm61WaSgN3YvWQmYy7fsP7I2kldZayGStoU1W1WJXkZUkK8nMyBh8ABwz4Ji/hX+/i/O+4UmGk8WqgBWuWVhEuAPv8Ax3OPfc+9RqtSBe+KbyPKOkxM+IJqbTqa6vr9XpdHRxcRGtHPv9fnSrcma3G30nD4FUwAyeTCY6ODiIHKk7Ax4tA1tms9loJydtCGDUsRLtbJMANZNzpNGIpGg+AlwNmYqaT2o4yYXRMIXvoNhgzU6nU3377bcBweFwg0BJyUYj9FldLpdB8oPr4AXuGE/gNti2HvFACPIifxAvP32DSIU15Q6CG95tkuFwmEDQ2NeSoobWuRwYTtZ3s9lUs9mMz9zd3UXUj1PB/vGmCxA21+t15E9xborF++PlXr16FfWd0uaAAn72s5/9TP/+3//7OInlq6++iiYYRKkgmZDPcPIcKfP8Z6/XCwcN/UzQhPHEMXsXeXR7vnQS2EPuH/LMGGD/PoxMzmWr1WqxMZfLTScJadN5iInxEJ2FgeIkvwYrlIHjM+Tk8D4cgnADn4akUQhpSNedBL8fkv7/NogrH4c106QqYDuH870JuJQspnc4/4fuKW3gIJQdyX3PqTBXKNSHciweMUCKIBIhf+4Qu0eeD+Wv0/m0NNS/TeJKizHk5z5H6bxWGo7z9eBRi6QE+YII1NeH6wvu62sLViYOKZEFkT973svb0miIw4l+H8/dpSE/adMIPQ1jb5P4mCKuv9LplfSadrgaJ/GHCEGey/T78XvmBlYv9/IgwyF1nJ7pdBoRp9d/o6PdWXYeggdpvLcHOnz/h3Tdu8ijjKe3d8rlcuFd4DU4S5EHJ+GOR1ir1RJsJy/OBRbl8x999JEymUxEOQwsnjKRZ7lc1unpaXSROT4+fott5fh5u92OA2JptZYeODeEeGZ4zZLUaDTUaDQkKc509Pwei88djW0RFhTRRDpSzGQy0dZO2pQqeFQ5Go3UarUiCk+jDq6sWCdEip7HIsrJ5XIBt/ppGA5FwcoERgJpcMKHE8WAoVxROIuagnzekagFqNGN5rYZTx8faRP5seZZz5DkmCNaMnoNth+CTYS3Xq8DYvNazGq1Gozc29tbff/992EkuaZHQEdHR9rb29PR0ZE+/PDDhFEvFAq6uLgI5qV3KnJlXyqVVK/Xo0HKbDbTy5cv9c033wT0fnh4GGVMlFM585xx2CYh0qMrG9CpczxA6SBeMr/ov7SRY58jDuezt/r9fjC0SX+BQLC+CG5ogADSBJFrMBhEqg6Ug8gW44vjBMIArE+A5TlsR5e825CnJ2Bpv+vpOY8yngwy3VTS1j1NAACP5giofD7/1gL0jhG5XC6ODGo2m6rX6+EVp0tEMGZAig7BeQ4Og45xx+OlzpPTJPiMwxcsIKLrdrut7777TqvVSv/iX/yLKH9ot9u6ubnRer0O7B3D43WK2yJpj93JM4wJEK20IY84uWg4HOrly5fRXMEPH2dzOmMXxcxGJdeI8gJqw4i68SQHM5lM1G63tV6vdXh4mDjNYX9/P6JOYDlyIN6hBAKSpMgJsY6IelhrPNc2ClCntNnHTu5z44mDSt9fcobsi9FoFF2XiOhBlfL5+x62R0dHAZeTO261WvrlL3+p/f39RPmBR30nJydRnwnJ0NEkP5kFops72KvV5ji8+XyuXq8Xa/Mv//IvNZ1Otb+/r4uLi3AKMMLA0sD929YIgzraXq8Xjh+OCxEkc9xutyOv79133HjyB13sfWsZu9VqpW63q9vbW+VyueiVy30wpNRrZjIZXV1daTAYRFMKr68FEnZY2EsTcXqBqMfjcRyWfXJyotPT00SaBaeOtJST/XifP8qRZJ7nS3vcDpMhDpVIyWNh3IP073gEkG5EgLfJC2MYUaIOoXlI7jAhnigeEQxDFkAaPvTvpjF0xsHfJw1neGHyNkj6+R+CWCUF3ZtIDCXDn2w2G1Eb8Dvj7HPvUCj38zVF7pm15SQdJH2dNATP+Kehx/T3H1o7zjpOMzXT19wmYYzSaYj0vnaEwB0o//NDe83hPyINb5eWHjO/Pp9xLgJOadqZdljWdY4jIkTJ5DoxrOk9nkaf0u+4TZKGJR2WfWhfu/72fZpe6/yM/egpO19XHsHifKb3HbJeryPyI6VGntvJaWln1VM40iY9QEMPni/9Dmmo1tf4H6VUhUFJ1zhKm7xmOsqimJ5BqFQq4a3iQRCGO9Vd2oTneLnuGTqbiwEjEnAj6LkYvKSLiwtdXFyEJ+YEBDwyhyCZtEqlomq1GpsRaGK5XCZqSPGE8WC3KfLkZAM8VNrwea5pPp/rl7/8pb7++mtls9noS7tYLNTtdjWZTCLqW6/XcR5nsVhMHEHE+KcZjWy0bDYb6IOkyH96QTeOFKiFN6On9tejR0kRXXrrSH9e1gnzCUkNb5oNCFpCp5RtEpqIuGOCUWJsPKecy+Wi+5Qr0dVqpWq1GuPg3WqYo1qtpo8++iigOZyqZrOpzz77LLFXvGCdNcLPMZ7Af2nljqxWqyCtTCYTvXz5UsPhUN1uV5eXl0FIfPr0qaT7FAxrHgiS6JX630KhsHWnqkynU+3t7QUals1uDrog/0xk7qxmaj5BaWCzErgQ4Mznc3U6HS0Wm4MbgH6Pj48lbfKuIIVp3gCIJORMyKDn5+f64IMP3jpth/Qf4o4yQtCFjXnIWLqNYI1DLPujRZ4YTE/YS29HmfybusxKpRIFyITZ6RIO4DNXlpLe8jShwHsUQj6S5wLHdqOOQj4+Pla9XpekxIkBvAfQFTkxrunGH2YYhhnjCSTAc1LSsy0CzAoUigLi9BNKRX7961/r//q//i/lcjl9/PHHOj091Xq96bjDSRzMpffFpZk/Y+pz5AaUZggUetPYX1LCu+UPeZHFYqE3b97o9vY2kZdEyaKMcZwwFrlcLow7cC5r7fr6Olr8OQuTtbFNcyxJ3W43UTrgKQ0IekQD9CalVholBorEODKWpGEgjVWr1WiOQm2edG+0nj17FvfHUfUxJfL3a2PUPUpKRzFAfzc3N/rmm2+CH0HDhlKplOgqlIYrMR4gF7VaLZpkbIvMZrNgx2YymWBUMzc4iRzMQPAAekT7VPgdwO1Ee4vFIg6UlzZlR4eHh5F+I/8J1I/D6akP8pAwYsfjsT7//HP9yZ/8SbBzYYL7SU5SktiHIWVNj0YjvXnzRuv1Ot4BQlnaiK9W90frtdvtP85h2DwwiysNc6GcHmLwpRmyfs20F8DLkM/05LZHJj5geCaID2gaWnYSD95YeiL4He/L770uzZ/P8758h/faJratQ9ZO7OFn7sikDZ+UhFAxopyXyKb0Oed7GGiYdmnHKc0KxPuVNvPm8+wbFCePHA7vAryMsncD7jlv1ro7i2m4b5vmGPFx4x0RHwfW+0OpCf4vbfY934dZm06veDu1dFqG+/AdZ+gjvsb8WVmXRA/9fl/9fl+9Xi/KFHB8PJqi3tefPw1hOzS5LZLWj75H0+JRvEd6q9XbZVg+36B2GELfq172xX1BdyCbEgGzzkAgaL8IkoSz6vCt8zLc9uAUEgSBHPha8npTtxOPSbM9ynjSE5YXh6GGkvU+meVyWcvlfZd+z4U5KYdyFM9lMODj8TiSwJykAmkEJUtNViaTieS4t2fKZrPxe57fKc2+GCigp/4NsgNsMDrJnJycSLqPWG9ubhLRJhFKr9eLUyOq1epWHVfF4ga6wcC453p3d6fDw0N99dVXkpQ4cNcVHV5nq9XSz3/+c2WzWX366af6/PPPI0eK0Xz9+nWcmsGmIeJkLQHfQ0CCAEA0ysKHrPL06VPlcrmA5FiDwMa8G1EWGzVdRM2aPj8/l6SAJT1Psk1zLCmQBY7pymQygQxwED2OKsQiPpfL5RKHH8MboNYXxuPr16/jKECQnGLx/lDtg4ODRAcgN4Z+CARMeJShw/1EM8Cw3377rV6/fh1OGzDgT3/6U71580affvqp/vRP/zROSXn+/PlbzGknLLkS5XiybRLSY0R8ziPB8BCkeIchjBgkP2nTbQoSFfuM+2CoIPp5X1oactA0pdvt6q//+q91c3OjcrmsZrOpfP7+RJsf//jHkqQvvvgi+qB7npLUQDpqdBQSg12r1aIiwp1o6kVBU0ajUSAuJycnfxzYFqPT7/cDT2czSUpAq5SNYBR5Oc8n4SWQM6GIGs/k+vpa2Ww20QnGc15AhHT9h5YNG5PnQaF7rjZNEuCeQMzVajUgAzoZkdvLZu9p9hzqTJP75XKpVqulV69eRb/F9Xq9VSw9xoLF7zmD6XSqXq+nxeK+F+rFxUViHlBqtPdinQCfMW9ffvllwKEov7/+67/WX/3VXymbzcZpKxTdk2ty5U2+knMlWQd8xg065DAYh04eWS6X0Y+Vspw0IUlS5LyAq0A+UNLb1AhD2pC4cJLSsDqHTeMYSskokJQEnZooU8FBmc1mAYFRr0cUA5TI/nAo0El5GGav7XOUCeU8mUzU7/f185//PPLwpE5arZa+/vpr3dzc6OjoSE+ePNEHH3ygZ8+e6fz8XLlcLvKh3DNNPiT3+a4lDO+LkPun9zCHzDv0zZiDonmER8tCAgvq8IHo/T7dbjcaHOB8S5s0XjabjbKTbrerb7/9Vt98802c80ut/9HRkQqFQqT42K8geQ6vO/LgCGIawfC1w5ryI/S8EYojWr9LHmU88cqc5utsPM8V4MWTtyB/VC6XY3O554LS4uU9OUwSn5dyaIVBSjOqHmJSMQFe/+klLA5dOFzo10OKxWLkTVHyTA4RNR7atrJtkbTSIkph40Eu4fsOm0IKcGIK7dwwXq5UiRTdw4SslIbWHFpl/TihhfWBced3GEmUMrk75hpn0O8jvX2ANOiJ10tui2AgcAIg6LDWi8ViIgeZzhMxXkTq7BnWCN2+IAze3t4m8mn5fD5+h8FyGJhng1eAI+eON2sJYz8cDuOw9VqtFpHTxx9/rHK5rGfPnsWc89w47bwD+oJnlbaz0YmUZL6m94zvaT+NyPc94mvbSwTdAcUASskyqHRDGnS/N30nondioacK0CXpwIe/HSb2d5UethHoHIwuDoNH5O8ij9LqFN0CcwKdkNsAoqWEQbqfQGr4Tk9PVa/XwyuhPRSH1noO1RsjSArvAA/ZjZtDxijitPL3Y20cq6e/IoPvCp5J5r4Y3kwmE+9DZAkJhh6sNKSvVqvv7Mm8D+LQJ84G40xbvvV6HW2y3MufzWa6ubmJsxFxKvz4q9VqFbV9OBiLxf1Zix999JHy+bwuLi50dnaWyInQh5h7pR0cYHxJCSgdEgKMb0hInhMFGeHkH09FSBsaPVEaAmpSKpXisO1tEdY/qQoIWowLjqErI1dEGBsMj+eSCoWCnj59qpOTE83nc/3FX/yFXr9+HYzGbrcbh06Ttjk+Pg6GNzqm2+3qpz/9aZwxCZRM3hTFB+L06tUrvXr1Sh9++KG+/PJL/emf/ql6vZ7+5E/+JM79LZfLmkwm6nQ6ku7XCpEr+5oohmgKUtFDhuV9Fq9ecP6FG5BsNhtkIFBF0D8CH3eMScOkWaxHR0c6OzsLNIK0TKvVCsdpMBgEokhNJ+hguVwORIA0HvqYwMuRCY8qvdqC9ZDma7ijTXqBVA1rnfl911abjzKeQGF4EEAn0qYDCzlHcoeHh4cR/hNRMCBAaeSy/IQMlDiQCR4qsGCaNIBRwwhjBB1GoItGo9GIgadwHu/SYUuPnKXkqSo0f2AScQR4T/JswJPbIjgXjgLwjp4PItrCUAGhws4lqc88EXEsl0u9efMmFi05Cejy9BtuNBpaLBYBOXFPUgXSJiLwPzCqYTvjnF1fX6tcLuvs7CzWkOe1O51ORMhEW17e4siKvxdnS26b4IDQ49SPYgIek95GdaQNEQWojzwXJBzSNvQKPjo6CsWN8p1Op+p0OnGkFOQd1h8w8Lfffqvb29vE2Z7oCfTL4eGhptOpWq1WpBWePXumDz74INq74TwzzzjsmcymlzJrGeece/rB3dskTqJxCDo9p+gyJ/jxfa9vZq5fvHihu7u7RLkXzSzQ2zilNM8ggJHumd4QuqR7YzUej3V8fBzGz1FNypfQ16Al6BOeO01we2g8HKFibICBnRz4LvLoDkPSpvUV1p5JoAayUCiEsQN+I1rlhaH8M6heDuK5Fbx+rwXEU3b4LB3dYdS5lp8MQbSYNsx+MoBDxDwnHpUn2h3S4bPk3CC5bNOpKjTUB77kD2MnJcebdyYyPzs7U61WCwUFVIo376VEOBeMLV6yz6VDKY4seKcUCEMOueLQsFEcjsYB8EJqT0MQSTlRwZ/JDaqzurdJHA7FUWAfOFRL1MI4E32j1IjYUbI41IzHanV/GPmzZ88CSZpOpxHpAOHzM/Y0kWev14uWeswdJyHRvYjo/+OPP1az2dTZ2Vk45jhe7G/SRh6NuSPohBqMZqFQCHhym8SZpxgV9pcbOXQswYNzB3xPSQqUCD2B8czlcqEPvW6fgIL1BYIjbQ6hQA/g1Ho+O40g0g7SjT/zxd8eUHlKx20C4nv7ofTcb5NHGc9ut6tyuRy5B7fgeB+SYpM5oxaDihJ1LxMSULlc1uHhYRintGLCYHningXgg8BgsUAwZrQW6/f7+v7778O4zWYzVatVffDBBzo8PAy2ILk2FhOeFkqHBDlEFDeeLDTIRtsivV5PuVwucXg1TFWPPpg74FQU4+npqaR7mP3ly5fq9XoJKIXOROv1Olq1SYocisPGkt5iY1O75l4uELsrg16vp8vLy0TJg/e1nM/ncayZv+dqtUoc2IxC99IaDC55Od+Y2yJff/11RIm5XC6xZ3lveAf0o2ZMgXUhBX733Xe6vb3V2dmZPvnkk0T9rHR/KPN//V//1xoOh/rpT3+aIBjS/7jRaISTimP87bff6m//9m/16tUrVavVqMdsNpt6+vRpPB9Ej5/85CdBMCqXy0E4xFHn73TuGhSCPY5z12g0tLe3p+l0qtvbW7VarX+w+fp9hH3psLs7vfyc9oP8HESNPyAJOLykWpy9m8/nI5qnLhNk5vDwMJqWgA6sVqsgm9Gk4vj4OBC70WgU+xBnab1ex5GCODdEpDjS/o6wjZ3zIik4OawH//cfLefpZ93xcIT4eCHusaQ9HIyVTx7Ky/Fq/g+u7nV6JJyZMKcyp5PDfh8/coq6L0pnyPfgBaHIwdwxwHhxeMppuBdP3WuMeN5tEZir0mbs0s4MvyNKwTlirNxzJ48ILOfHIDHfbKSHWnB5fotN4LkuRyrYAKwdDj/3sgr+4AFzzJKf/4hnmy7RQFiH3uVq24R8U7PZTLRWlDZNJNxBwnGgYTdOLrmsTqcT7HTQHTz5Uqmko6MjVatVvXz5Mo4AW6/vGe7uQJP+4V7kzDKZ+5I1FDnn9wKzlkolPXnyJJxfcnd8xokhrkzTXAvXKd557O7ubutKVTyvj/i84KSSA8R5IPJzEo7zSJg/D06ICnE+acLhtZqLxSJRw83agmdA5OnpOhAOfkbkyffSul9KpppY1159ge5JG0nG5Y9iPFFsKA28Eh4IQg4wHMIE+Bmd/I0Hj8Hx6NQ9RCbPGbBeaM2ilza1SoXC5lxKJ6fQGFq694qBfbx1HJvHJ4ccAP8nUgGO4Pc8N9fZJsIQ0QgsOSBNkujuoEgbNADIj7HHMwVeQ/kybygsJ/sMBoOgyDuEgpHGeWHMORCdBgzOevY1SLSJkedaQPTZbDaMJgxAvsdnQChYtw77bSNs22w2o1sWY9doNGK8Wc/krNh3sCFxDpfLZTT+JnpkvJl3jCLG2YlkwHWZTCYQGvZzo9HQP/2n/1QXFxfB1CeXzT5sNBpqNpuxPumg4w6tQ/V8bjKZRPs2dIMrXZ6DNdRoNLbKCZbuoXlIbU6gwWFgL7G/gEqB0j23D7kIpzgtaZ6JowuDwUC9Xk9ff/21Xrx4EdBvrVZTs9nU8+fPA+0YjUZBRjs4OAg9S+DDM2H0pU0ukz1PCom5TRtYnADn1rBOGYN3kUcZT6+Xc1q6pEg0A/lxEK43Yebl8QiINv04ImonPXLEs8R7gMTDRnWs23OlDheyoSEW/PznP1exWNSPf/zjIKoAzzjhIc3YwkPDW8JgwlB7KBe7TcYTRQRRx6MPjA7jgPIcDodvEbqcfJP2Yok2UcpEia1WS8ViUc1mU9ImJ4IHTX5lubw/JHm9XqvT6ejVq1eaz+eq1+uJ/qNAcUSeRJhA6xRtc0IMa9iVOJuPWsBMJpMoFJeSSMe2CDW6l5eXmk6nevbsWRA2iCRRUMBni8Uixhd0ZrVaBbMWopyXakkKXgERB3vr2bNnOj09DYe23W5rb29PjUZD+/v7+uijj8JoUbPIHgMdoPWfdM8c5lmlt8+S9LIx3ms6nUadKs6c6zZ0x/n5eaQYtkW+//575XKbYx49IGFciBi9NhsUgSY47iA638AZ6OwtaUNAms/vT6JqtVp68eKF/u//+//W//v//r/67LPP9N/+t/+tLi4uVKvVdHJyktDN0r0eOj4+TpSsYD8kRaBFQIZzV6/XoyqElBr6AwfJdRGRMXAzBMN3kUc3SfDIA2MlKUL/bDYb+TI3OkwcD8+GkJQoA2FDch+u496CJ7LZIDwL0TDejxtV/k23ECJHFoMnu/16vEcapvNEPMIie4hosg1CVEhuGeiF8X7onYksPOeYZq15XtC9R2fApdsxpp0Q5puNg9NC43oaVUib+jAnvXhu3J2CNEscJe9OIkbe1yH/3kbj6Q0h3BktFAoRkeGF826ej8ZLlzZ9Zz1fmHYaUXDMB/lK8mGDwSDy1swPZEMIfoPBIOacyBh0iWfBuXVkIE1+8ZxYure1CyiJ8x22SdgjUvLEFCnp2Pt8kSdcLBbRhcfXN2PoRCP2GjrB656Xy2X0RH7z5o3evHmjo6OjOIOZnDrBE2RQnHhSRhg7xKH3NPPWgyiiS0cXvOsc6wE95OmL3yWPMp6016IY1o0dv8cjcRjTw2smEoPFgHMNNicv53ApP8fDcRo14nk3njGTyURRLoSTi4uL2MBOKmFxENWiXHg+X0Tcg2Q2k8+7+wRtiwC9k5tgjIFBPG/AhnNGnzdWd+OIh4oX6As2m71v1k8eBaYyRIbJZBLdUdzjxWhz/4ODg4B6vEaPEgoYgWw4p+DjmTtszLUymUxEVG7EiUy2DV2QFFDeRx99pNlspmazGU6snxzkTRD8iDnQIN+bwL3uKLNPuDa10dL9Xmq1WuHMsm7oTOWoFKd2OLqTzd6fekP0wT1LpdJb3XFYW8zhdDqN8gyu7WkCTwVheLap2Ykkffrppzo+Pg6H0/O87uxBkERv4Qw5/C5tUjTu3KbTb9KmMcJ4PNYvf/lL/exnP1O73dbV1VWiNpu1BWqV7h3Q7XYTDirpneFwqFwuF0xoSYkUTKfTibkEfSKXzmcpL3OWMU153nWeH12qQl0V9XHAe04t9uNuIGV4PrBWqwVbLx1tooTTnj35BrwIn3C82tVqFWQCJwbw7CjcarWqL7/8UtlsNg5gRgl6rjTNMiUq4t9sLHI3y+UyGiawmT0vvA3SbreVzWbj9AkKyz33KCkBg5Hsp0kCR7XhjGAIV6tVHHnmpSeMv59aARntxYsXweQEjmFjMp+QImjvBRGFSLZSqejo6CjgYdILfhwamzB9PBlOEC0ieTa/72MYeu+LcExVpVKJcgKINZIiEmi32+r3+6Ho5vO5Dg8P47B69q+T+bietInQOdotm81GtHl1daV2u53YyzhnMDG9Qbg3ceD61BWjA4BZ4TIMBgO9efNG19fXsa/JxdP4gL3uDhBOIZGPpEQv3m2QTz75JPLaGCsPZDx3iIMhKVrgMS7SRvdB2AGxIwgCSXSd3+l09Bd/8Rf63/63/03j8TiaKwD545S5vgcmns1murq6kqTYX8vlMmpE9/b2dHBwEGuWfTwcDvXq1atIRZyfnyufz6vf78cpS9gfKiYGg4GKxWIwt/8oTRIwIihRZzlirNJ1NekIhJ956M+1f1uu0MNx/x3XZPLIszi8jBH1fCmTlB6oNMzzQxFFOvnuyWg3+v4s2yB4pul5RHhfjIUTMvguDGqHvrkWm5aNy1gxD56/4N9sWL6PB42iTTN9fU6cEexrhZxIGo7yPLnDQPzuIQjJafDbIswN4+BojTtJvpZ9//oacMYlCEOaROXz7I29uZ7vbXd6HSZknlHq6fs5XOdkQjfq0v18wdJmbTh8x/ulI7Rt2sfSpowPx9XfJ72n3VF0yNP1rLRphoPD6yQ97oGeBQLudDqhn10/cm9+7kiOpAQ0z73T8+FoIdeF9Iez5uuKdeKfd0Q0/Xy/dXwfMxksdj/ZhGJnzsjj90Qf0iakZsHj5bmC9j+SAmLh5RweYJJZ+A4V4Zl6ATeDA5nF6/skvQW/ARmQSPZNx8AS2XhE5mPjed53xdDfB6EEgYjClR3RhRswzx1CKGD8gTpZzBhFSkiYP0lRwM5aguV7dHQkSVFrSINqadMJh0hRkm5ubiTdr5mnT5+GEnV4BhKQ/+zw8DChODxHxvVQ1N59ihzbtpUxtFqtaFMoJY+iciVF56eHcv3D4TBqJGFoE4Ws15uOMq68PKK7uLiI+ZU2KRqkXC4H3I5ThrjTA5zrpBZpoysqlYrq9XqCiUnE5Okhd5aXy2U0tEexb1tj+E6nE+kqdJHnqVm7MJuJQNOwLAdCgDwwv0dHRwlmK5Gnp7pYH7Cll8ulnjx5kjj83FN4rg9obcrvVquV6vV66CVnfpPf5cASHCI/Es8RNE8ZoedpH/iurTYfXaqyWq2iABaIS7pPTu/v7wfR5O7uTvn8ffssr8eRlKgbc6PpuVJvw+dYPQqPPAjHVoGze/QAiWmxWAQVmu96DhUPlc0EZOjsMicfSAp4VtpAYCjWbTaeJO9ZiJA7MplMEDXSRBM2wXq9TpyXeHh4GIdnA8WMx2Pd3t4GfI/ipUUbShfyyOnpaTSq8NwWcHilUtHJyYmy2aza7bZevnyp9Xqt4+PjYOu58WSzeP6GPsQ4XBhJ1oTn7vm352QhLW2TvH79WrPZLPoOu/ft+WCYyuwTHKvxeKx+v6+DgwMdHx8nTqUhpYP37yxXol3gdJSZ13fjaDF3cBa84N0hWvJaadiVtYqO8rpgFzegyGq10u3trV69eqVSqZTI1W6LXF9fR1mPozHsAS/zoz6Wfe/G09MnCNc6ODgIxwKdia6kVIR0DHN8enoajU/S9d387aciOVLlaBG/42Sd0WgUuVAcX3gbksLJZp15qnCxWESE/Ec5koyH5sbp2j+MK8qFKM29Ovf2HC5If8690B9atD8EsaYhpvTzO+zM+/Bz7utdZDwnivCe/PshaDr9ftsgDsulnQok/a6SEvOLskyPsRMF/D5pKN6jeS9y5zrcT9rkQ/i9Q74eRXi07Izc37X2/F4/tB63bY4RX58QwB6CrHAyJT24x9KQYPraDgn6PZyggwJdLBZBDHvoeTwFwPP4Z1iPDjO6scAYcy0kDcl6mmFb59eDE57fIfb0XkrvexcMFGRK5gcyoa8D0Bz2InOPsXRGNfd1ghnP5Kkh/saZRdK6KL1u0nC+j42/L8+YTjf8Nnk0YcgPz3XFIymS+7BavTTAIzwekpfHaEE+4eUwTn4folgGAu8SOAhqNN4FCpxi3fV6rf39fX322WfR2OHy8jIOQvWaH96VcN8njKhHSi5I77qUVvjbIN98800wW4kQJL21oJx5y/tBngIahZwxn8/1m9/8Rre3t4l+oeVyOaDDbDab6DzixDDmFS/SWZMOwTg0RbMNnj2dG4fVi8Pn0FYarmWTeWs3CEPHx8c6OTnZOtj2yZMnQRZyott6vU6wlr0+EwPk0Tf7h7kCHQBtcePoShCEgfl14pW3gKOW2J0iomOPolarlTqdTkBuHp3AcfC8qRtEV+JOrqHkDoLRNvWolpQ4sGG5XEaUzjvxniB37Ntms5nIQUqKOueTkxN9+umngRr4AdgwZYE+b25u1Ol0dHNzk6jX9pSb1++CennaSNo43lJS14IcedljOkDDeDvywfeIcOnF7evjXeTRxtMvnoZ6GLx0xOkv5UrJrT8Tx+AC+6Q9VpQ6C53FjhLFeEqbc+UI7b1Im+bGnLhRrVbVaDTi+YCJvGZJSjacJ5fLmKA0KPfA090m4/kf/+N/1KeffqqPP/44yCQPeWKMPd4n80guwxfifD7Xr3/9a11eXurJkyf67LPPoskEjglwaTabjSYEKEugee7pJA+8Xhwy1oDXKo5Go9igzCWOHoqUPKsreidLudOHN48DRXS8TXJ0dKRisRhM2n6/r2+++UaLxUKffPJJEOrG43E0HiBqYB9ns9mAb4HrnLQlJfe9R3fL5TKgPnKb0qbUzHWAs/f9D3OSz+ejZ/J3332X2K/ValVPnz5N5NVQvo5EOeKUPiDc82TbJOxFjAWMUoIJ2M3dble3t7fRDALHyceIdXB2dqYnT56oXq8Hg5W0mPeGbrfbarfbur29VbfbValUCl6BpwDIp7L3WAdAzTi2GGhvs8ra8Gg3jW6k+Sro6Pl8HpAy/dq5xrvO86NrKNIPyCZyA5F+AemHIS//jv8e79/ht4eMMd/xpDKT7mzJdKjvXiwTIm3CeRS0//EN/BBk7M+Xfu9tEe/z6uUanh9g3DA0jKfDJ27M1ut1lEIQVaAgH4KDHV5lHfhcPwTFg2CgMNgopBccqiIvh/g9HBXx/I93s3JyWnq+t0XS48jc8jsIWziv6T2D8yJtogG+m2Y5+hjxPXKajhr49bmn6wHmKJ368e/h0PJMOGfpdfwQ3Ov3kzYOk6cRtkl4H29NmYbf+TeOaHq+CGoo7yB/jLEhKnRoH64JTg/XcXvBZ11vSxsj53Pk88Z3mG/+jXj+HEPpY8C48H0PwNLQ8e+SR7NtUZgwHWFE0e0ehed9YXkoNiSTlZ5IJoKNTKKZmiDfMEwqyoxIIQ31jEajeB7Yu9PpNCAqSCssHiKUg4MD1Wq1OM2hULhvak6XE+/JmU54+yQ5vLkN8tVXX+n09DTgVHIdKC8aCHgpynK5jMOFUYSOMmQyGX311Vf64IMP4qQHcifpvON6vQ4CDoQQPFpJbylZiDtAxs+fPw/0odPpBOmII+moJ/Rogggyn88nmMGc55jP5/XRRx9Fa7r0HLuS2BZhTnF6GTvmmWbs+Xw+ajRhI0qbXPPR0ZEuLi5UqVQCxeG4Km9KDjpUrVZ1cHAQkQ/sTo6v49qONFFv7Z2E0AEgBpJizzKfOLw0XXBIDxIa1wAipKGGtOmchULeNkd4MpkE09hh2jRkDXqCU+Q6OJO5PyD8P//P//PQjf1+P9HOUtrAo/z++vo6zlaleX+tVtPBwUHi/MxCoRBn+uZyudj36GXeg3mAjIhN4Xkhp3n6rdPpBDHu5OQkiGWekptMJuFUYE/+KLAtSpOB9sJqBtYjFMS9BvcYuCZ/HOdOQ2FO8nCIyOsLfWGQ92Jyj4+PYzLG43EoVvpoAg8AH/BehPXkDsj7srBQIrwvz+TR2DZturOzMzUajXCQPAfEJsCoEYX6OD/kuUoKtqJHDs7yRBkC51GLCUPSIeI0IYu1AfubuSS3eXBwoKOjo4B6OA3Hux4RWaLU6bP54sULFQr3fVj9nEM8Xu6zjcaTd1iv77vKUJJCb1vpvscoh0PjUEgbA9doNHR4eKiDgwPl83m1Wq3IB3uUCXEHh3s+n0cecrVaxZxLmxwkx1nhrDghEVSBXHUud3/IPXuVvsXMN83OPaftcC3GlSYe5GR5V9II2ySU0sEkn06n6vf7b6GEpE8khUOK00OQBJeh0+nom2++Ua/Xi72QRvxGo5G63a4Gg0HkWsm3pqsoMIYEV3AHvPyMzxKceI02Di9zRZRcKpXiOUajUaJbGDpmtbpnVM/nc1UqFZ2eniaOcPtd8ijjCbzJQzjExkBLyT6maZg3/SfN2EtDPXwP45SGFpxN5tCdLwCUg3eRAfsHnmQROEzlkJAraH8e/12a5en1ZtsiTnJCUTlLlqjNx9drbx0OcyOKoXTIRkqersN1HIZxh6xUKung4CAMnRfCp4VNxHpF4WK02bhOQAEhwEimD3LnuC1fEzz3tp24gQPMOgedkTZtN/1zRCXpw+IxSI44ABFSFuJ7hCPq+L/XaHI9/5PWD+n0D06ztIEScX4wyjjFvu54rjQs6CVJzjAFtdgmweHw8XS9hfw2qNrRneVyGWOAQ+Prg/Evl8s6OTnR/v5+IHWVSkVPnz7V4eFhIHmsO8+TU/IHEUja6G9gVq+3Jf/pdoN1AgeD+7ju4r2xaRAbiUrfRR5lPPHsyP3hKbDIYe85OccnwY0vkzWdThNQKN4ov5c2RAWux4A6Vs2C96OVJpNJkBk48SGTyURrJ1f4vnkcbsWrATY4OTmJ+2G0SVqjgIEAvK3YtoifhLFcbk5ModMPNVB+eDXRORGpz52UJIe5AkNJE+0AsZNz5TMs+uPj42ACetTw0H1o3SXdbxKe2yE4YECIL8wbp7pICuJRv9/Xt99+G84ZfVN7vV6Qy7ZJgKkhXVDrSnToSgfFxBmajqoUCptD7mmUwmdpf7dc3jfGwAG7ubkJxfb8+XPN5/cnnNA20ZuWAJ1igD2vjoIdjUYJluZ6vdbNzU1ElLRklDZGF8IUhBoc3OFwGHu/0+mo3W7HnG+bg3R4eBgRHEbKHRdSYZ7S8rwie3kwGOjbb7+NFoccRl8ul1Wr1ULX0pb0/PxcFxcXms1m+uijj/TmzZuY60ajEetnPp+Hzqcu323L5eVlQl+jJ25ubrS3txfpmGz2vhc3c+g1wmdnZ1H50e/3E0gV8D6tRXu9nq6urv44dZ5+NFiakONKCUXLJPC35wbZHHiFQKEeDfrmRZl6xOn9FPE26DzhMA/ekJ8O4k2tHQrEg/KeuRhHNry0OQ+QRYDR9Xwfi3KbIk8MHwoF58Hz1ev1Wt1uV8PhMKJAoBeHsD06cPIJP0OZkqfudrsBvzmBCwOH8yNt1gHf51541J4r5UgsJxT587GWWD/kRjAoRCCcN0pTBppa0yhhm4QI0tcsjiv700tEpA3q4ogM0D7OFoYPpciaoHnKYDAIZ/bjjz/WwcFB5JkdBmQderma5zvdWUWHsL8pS3Onzw2vpMQJPOxh1in/v7m5UavVCgW+bcbTG1xIG1IYjg7iDHNH8Jx49+rVK7148UL1el0ff/xxoHcHBwehM2micHp6qnq9Hk0Sms1mnKJSrVY1mUzUarUi8PL8OJHk3d1dXA+2NPd48+aNGo2GTk9PA073VCA6I5fLhXFEB3jqiHUKCnl1daWrq6t3RhjeyXiiZEjqE4n5pLDgwbx5AIdEYTm6N0t9Ga290gX2bny5l7ShuhO5YPy4J11OaHjMhmBzsZmcgOIG0+v+fCHxHEQbbgBcqQAJFovF8GTe59wnz0aTZOaa8y3JWbHBvCH3aDQKqI48o1/T85NuPDHOELuIINgQQDso5IdIZmnjiXhawOE3Skz8+Vx58t1MJhPRMM+IMiBCJuphLPya76v4PEuKvUfuCZLYQ/WVDmm6w0lU5mQ9n6/hcBjjyF7lGWj0z2fIkab3e9p4cn/G38kuICbMGzrCr+Gnc7DGuS5EI8aGezqM+D6L62v4Au4MMW7kF52V6saTfQdRzDv54NCio5k/7steY374ubQJPMbjcega9CX62L+HfkFPTCYTlUolDYfD0PN83lEC112saTee6Cxy51w7jVL8kLyT8WSj/dmf/dmjJnEnSRkMBonDmt8nYY5//OMf/wM/yXbL+zzH0maef/KTn/zDPsgWy7bM8X/6n/6n/8BPst3yu+Y5s34HN2q1Wun169dRprCTx8l6fd90+NmzZ+/M5Pr7lt0c/2GyDXMs7eb5D5HdHP/jkHed53cynjvZyU52spOd7GQj76/7tJOd7GQnO9nJeyo747mTnexkJzvZySNlZzx3spOd7GQnO3mk7IznTnayk53sZCePlJ3x3MlOdrKTnezkkbIznjvZyU52spOdPFJ2xnMnO9nJTnayk0fKznjuZCc72clOdvJI2RnPnexkJzvZyU4eKTvjuZOd7GQnO9nJI2VnPHeyk53sZCc7eaTsjOdOdrKTnexkJ4+UdzqSbNel/w+TbTiNYTfHf5hswxxLu3n+Q2Q3x/845F3n+Z2M5+vXr3VxcfF39nD/WOX777/X8+fP/6Ef40HZzfHfjbzPcyzt5vnvQnZz/I9Dftc8v5PxrNVqkqT/6X/6n3R0dKRqtap8Pq/xeKzBYKDVahUnj6/Xa02n0zhRfjKZaDqd6smTJ/rxj3+sZrOpyWSi169fq9PpqFKpqFarxanlnD5fLBZVLBa1Xq81HA7V6XS0XC41GAx0d3cXJ4bzuWq1qkKhoOVyGSfWz+fzODmdE+az2awODg5UrVa1XC7V6XTU7/clKbyMxWKhyWSi+XyuWq2mo6MjFQoFDYdD9Xo9LZdLHRwc6ODgQJJ0fX2ty8tLSVK1WlWpVFIul1OpVFI2m9VoNNL/8D/8DzGO76PwbP/+3/97HR4eqlAoSJJ6vZ6urq60WCxUr9dVr9clSZ1OR7e3t8rlcjo4OFClUtFisdBgMNBkMklcu1gsqlKpKJfLaW9vT3t7e8pkMur1emq321qv1zo8PHzLU14ulxoOh5rNZpIUv8tkMspms8pkMiqVSiqVSspkMnEafDab1eHhoarVqtbrtcbjcVwDSV+L9TcYDNRqtbRcLnVycqKjo6PE+47HY33zzTd68+aNzs/P9d//9/+9nj59qn6/r48//vi9nmNpM8//9t/+WzWbzdjL+/v7qtVqymazWq1WWq/XWi6X6na76na7ms1murq6UqfT0d7enp4+fapKpRLX5WTD5XKp9XqtfD6vXC4Xe9r3dzabDT0xn88T18jn8yqXy8rn81qv14lnWSwW8Tl+1ul01G63lc/ndXZ2plqtpvl8rlarldjXmUwmvsPPCoVC/BwpFoux9pfLpVarlfb399VsNrVer/Uv/+W/3Jo5/l//1/9VkvTq1SuNx+PQtblcTuVyWXt7e1qtVrq6utL19bVyuZzOzs5Cr/lcFotF5fN53d3dqdvtajqdqlwuq1qtKpvNarFYaD6fK5vNam9vT8ViUdPpVH/913+tFy9eqFar6U//9E91dnamxWIRe/Lw8FDHx8fK5/O6vLzUz372M00mE+3t7alcLiuXy6ler6tarUqSZrOZFouF9vf3dXJyonK5rMlkolevXqnT6cRcY0P29vYkSTc3N7q5uVEmk9HTp091cnIStmU8HqtWq+nJkyeqVqsaDof6b/6b/+Z3zvM7GU8UTbPZDCUoSYVCQZVKRev1Wvv7+yqXy5KkyWSiyWSi9Xqtu7u7GCQ2TSaT0f7+vqSNwVoul8rlcioWi8pms7GIuXYmk9F8Plcul9NoNFImk1E+n48NyWZ1Iy4pNuB8Ptfd3Z0ymYyq1ar29vbiM+VyWYvFIp41n8/HoKOc+dl8PtdqtVKlUgnlfHh4GJub65RKJR0eHmp/fz/G632GUHi2Wq2mcrms1WolSdrb24v3q9VqCYVZKpViDFGCtVpNtVpNy+VSs9lMy+VShUIhlCcLO5PJqFAoxKaoVqvxbxwd1sp6vY655RrZbFbZbFbValUHBwfKZrO6u7uLdbW3txfrYG9vL+YA50xSKGbm1pX6crlUpVJRuVxWJpPRarVSNpvVdDrVbDZTsVjUkydPVC6XY434OL6vwvPhXDA2mUxGs9ksxpbxLhaLKpfLMVfL5VJ7e3tqNBqqVCqxt5gv/jDH0v0enM1mMV98j72Z3st7e3s/aDzX63V8brlcxjrje8ViUblcLpx8l9VqFesaxZrJZLRYLMK5Qu+sVqvQY8ViMbHWt2WOGedisajlchnrtFAoqFwua39/P8a4WCxKUui9bDYbOtWDExzju7s7FQqF+EylUgknlnHOZDJqNBqaTqc6ODjQ2dmZjo6OdHd3F2NZKBRirWEQZ7NZ2BOujb6eTqeaTqcx18ViUYvFQsViMfY+a3h/f1/VajVsx3Q6lXSvo1gbOPa+dt5VX7+T8UQwnL1eL4wMi75SqajRaCiTyWg8Hms0GoWRwdu7urrS1dVVGLhisajxeKzLy0vNZjM1m83wQsbjcUJRonzv7u6Uz+cjqkU5u9Hb39+P7+BFjsfjxEacTqcxwJVKRdPpVJPJRP1+X+VyWbVaTcViMTbRer0OwykproOHc3BwoNlspu+//143Nzc6ODjQ4eFhjNG2SDab1Xw+V7/f13w+j/fLZDLK5XLxM8ZtNpvp9evXevnypSqVij744AMdHBxoOp2q2+2GYsK4YvQeiiLZdMPhMCL/TqejyWSifD6f2KB8DwPHJuY68/lco9FIkhJKDwPsxh0P3A07EdhisYgxwInI5/M6PT3V3t6eFouFer2eBoPBP8yE/Z6CkzqdTkMp9Xo9rdfr8PQxLKz5QqGgUqkUipd9wx8XlBX7dDQaKZfL6Uc/+lE4nXd3d2q32yoUCjo8PIz95uvFr4eBwwDwTESQGH8U7sHBQawpjy4lRWSTyWQSzn4+n1ehUIjnx+jzLtskrF+iQubSxwOUBoe33W5HJF+r1QJFq9Vq4ZBOJpNYG8wrxlG6R2k6nU4ETVwLhy2Tyej29jauw5wtl0udnp5Kup9j1ijBEc4Sjtp4PI6g6O7uLiJfd3ZB/4i0JSUcedaydO8QsFbfRR6l1TECs9ksNl0+n4+XZxET5vMCTOJkMtFsNlOpVAqodrVaaTQaaTKZqFwuvwXjAAMQoXr0ggLkmYBl8Sh5LlfQXNcVAp7Zer2OBZbP51UqlQICBsLxaMifkXfxyJPfvc/kgoeESGE2m4XCZDx5bxY0YzYcDmOsGQveG0fDFRgGiYXs98bgss7u7u4iUsCYMbc8S3qTOSSY/rzf6yHl6lET7+HREUgI7z+fz99S9u+7MOa8+3g8VrfbDYeQeWGf8B3/k8/nIxr0z0n3SBIKezQaqd/vq1AohN5gTbB//fs8g6TEPLjj6nuaeWWfusPNekpHjUQtvON8Ptd6vY5IiL3rayT9ju+7MM7+f38PH0OcZulel/qcMtceLDli6DqQ66IvQSdBLxy2x6hPp9O4LrrG0ao02sQc4sxwL39Pfz/XDY6K+Pv7ek2neH5IHmU8F4uF9vb2VK/XEwucwcDzQ5kAtzEwLGIMFgbq4OAgBnY6nWqxWMQLs8nY5MViMbykUqkU1+TFJUX4PZvNdHd3J+keSh4Oh5I2BtMXAVGlbzycASIVns0jWN/kRCQOBTgMsA3S7/fDW8Nw4oykx+vu7i6MFPMnbTYtm65UKkVuzfPhvn64z3K5DM+vWCzq6dOncV/ugdLlPuPxOK49m81iHsmZ433j7DGfrBk2FesVuCufz8emZB3jIPF7/7NNMplMVCqVVKlUEhAd+STEHRvGgHWRhvrIObN/2eOtVkutViuiHBTkbDaL6I/Igfwre98dG5wzX2eI8yQkRTTC79J/g6akjbNf0+E9Se8ckbwvQpqr0WgEn4CxQ4/DFQBRct2Ms0xAgI7HSHp+fDQa6erqSpKCl5LNZlWv1wPeJVAaDofqdrsaDAYRLbo+xpihz0EFcVx9X6O3iYqljVHFIWCtOfrFOJBykBS6mvv+Lnm08czn82o2mwkcmYXHAJM7ZFDApXlIIo5CoRBEBXJG4/E4PuNKHGXr+SWM6t3dnW5ubmLjSorvMLk+ePv7+5FjdZjP8y88N4pitVppMBhoPB4ncjAsMJ7z7OxMp6enCSWwTcbz8vJS9XpdlUolYHCP5BkvoEo8tfS8uPE8PDzU06dPVSwWNRqN1Ol0AobD4cLhAAZdr9cqlUo6Pj5O5Fml+800HA5jzobDYcJ7lBSELeaKteeOD2sCg8wcojA9YibyxXhiaDEiKO1tkU6no4ODg9h7wFqMlb8jzgZOAmPB+kZROuQOTIc+uLy8DGLhbDbT3t6ejo+PdXBwoOVyqV6vFzlrHBxPlTiy9dB+Yg3t7+9rPp+r2+0GpIgT66gVaBb34Z2JXguFgk5PT4OA1Ol01Ov1/gFm6veXyWSiw8PDgFOn02mQqMrlcqTZ+v1+/LxQKMTYsNchAoIaYAyBbheLhVqtll6/fp3gJ2Cg6/W6FouF+v2+ut2u+v2+2u22er1e6BngYZw1dPNisdDV1ZXa7bZKpZI+//xzPXnyJMiE5F5JKfr+xEaxBknVSQpjPp/PNRgMVCgUdHBwoFKp9M7w/KOMJw/kixsj6Uy2NMSRDp8fgn9+iFHn0AP3R/xa0saYenTA4KUhV/7wc88B8Mz87bmy9Hj4O6Zh4m2Da6UNZON5ZsTH3vMp6TXhpBGHTByFSI+Pe50OqbhhYrxRpvyfNeNGkvlyqO+HYKz071DOvp78/R1G2lbxiJp5QSGmIVIfG1/b6T3te8tTNqAUpG5wQFG0/NtRnTTEiHjqJb3//G8cKRAC3pk96qQWvxbr2tNRPhbbJD8UUaVh74d0HZ9zhCYNdfp35/N5zCsoEtf08SZadIJZ+nkRT/nhZDs3gedzncv3PDXgayG9591Zcnj6XeTRxpMBcc/E4U42AYpnsVjE5jo8PEwMOJsHdh2QG5PLpDNQeLbAdOVyORSrR3lu6PBWnSDABPIMDt9BNoKM5IMNZMH1H1pQDgk4ZLgtcnR0pNPT00j0D4dDtdttLRaLtzYFrFwiMIgWg8EgDDAQy2g0UrFYVL/fj8iTtZPNZiNZny518GjXc1e1Wi08yn6/HxsEQlmz2YxIyh0ihxvTSj8N23kuZTQaBVtbUkBEkGW2jTAESgByRF6SHCUQ5f7+fkTwngtKO0lEfkdHRxGhDAYDzWYztVotffPNN1HiRcQDCYx5hdX+UI7SlR2KlJ+xJll7PDe8C9aFR1Xz+Vy9Xi8iZ78fSES73Y61xfhsk0DOhFDHe1Pig67CAJGjJAXS7XYDDTg5OdH+/n6MIUgPqSwQJkkJB7nT6Wg0GiXsAumYo6OjQB4LhYLu7u7CAFNWIynKSHK5nJrNpqT7eQKlkJTgHbBmKKUEiej3+8pms2q32wnkoV6vq1gsql6vJ6ojfpf8XsbTDQSW2wVjhIFBERIWs0H5jLMdMaDpKIXBb7fbevXqlcrlss7Pz0OJAjulo0yetdlsxsAPBoOABh2mwpBnMvcMPDaVQ1geBXnUhaLnmSUlot9tkUajoWazGcZzNpvpzZs36vf7Ojo6Ur1eDwitWq2GZ88czmYzTSaTgFKARwaDgbLZrLrdrlqtVpQXkEOjJIC5c8fJcy9svnK5rGw2q1arpcFgEAp/NBoFFZ/0ghNL2PxSsmzlISSCtb1eb5h9rGOgf+qYyadvi5DXHI/HyuVyGg6Hurm50Ww202AwCCNEeRL7yMcrzdosFotqNBoB619dXWk8Huvm5kbffvutlsulzs/PdXZ2FvNOfhnHZrVaRXRKysSJO9LbyBZrbzweazqdBjN6b29P0+lUt7e3AdmxDkgZ8OzuBONQt9vtKIsjL7tNcnV1pUqlovPz8wQjmT3d7XZVKBTUbDbDgLHvVquVWq1W1OIvl8soMyJCm8/nmkwmWq1WKpfL8TvWxHw+15s3b2JPNhqNcGqePn0a9+LZCIy43vHxsbLZrJrNZjiy1HnCkygWi1EdQMUFa2Y4HOrNmzeRM6WCA6NLWgjbcXh4GHrlXeT3Mp7+73Tkxc/S33sI8kgn6TE+znD0e6FAaZKQhpbSz+j3dyZeGjLwSPeh76W9UqJXnAZ/f7/mD0FP77O48U/DdeQJHeJLR90PfU/aRHEYRjxGIsOH4HOPONNj+NugX48o+b8bY4Tn4D5ppMHn0lMKzH2a5bdN4uPL3x5JOnTFmDiiw3il9wD7N70+0tCatIET/Xm430OOOuJzldYRD0GLnhLg+26Miba4DvPK+7HvtxG29ZSD61d+z9/+2TR73fcw10rvdZwn9AQ6/CFo2CHVh9I1fI6/PQXj+zAtvl8dDfUeAOl7pVHUx+zpRxlPh0AwXniwPJwPjEcMmUxGo9Eo4LXRaPQWJTqXywW060oM5QnBw3NReIlEsngykByIGgeDgX71q18FhAsj15PfeB3kZjz3IW1YupI0HA6jlhUBIgES4xm3qT4MZKDdbkcU8OzZsxjj6+trZTIZHR8fx3dYqNKm6BkjzGYi+i6XywHvdDodtVqtxAZnEyKMM+QyIH7uR5RB+QibrdFoBGRMjRq/J+LwTlMgHm4QiI4QoMubmxutVquItGgAsk0CQcPTCpVKJSA6yjwgAElK7JterxcMSPaR64Dl8r5D02Qy0ccff6w///M/13K51IcffhjRLAxLxh/Ynj0Ls75QKCSYlZPJRN1uN2BG7lupVKIDFpD+er0OYhSOd3pfNhqN2LOTyUTtdluZzH0zlePj47jWtkHzaWNEZ6i0kwhig3ElOtzf33+rfpeuQqRoMDrVajXgeK5XLBb1wQcfRCkgrF6YuePxWKenp/r4448DRvUIudvtJtApd6jcHqzXyRIjflatVvXFF1+E/ge2PTo6UrPZjHRTNpuNenXG413k0fz6xWIREAihr+cnMXYoKDaSpKCjA9um62lY5OTAvLFBJrMpgfEohvsB3VEc7Up7Pp/rb//2b/XNN98ok8noRz/6kT777LNERwmgRxousGF4T39fYDxYxbwTE+95OuntRPj7LDCjr6+vNZ1OVa1WdXR0pEwmoxcvXoTh8PpPSYn3lpL5RC8tqdVqOjk5ic/d3t4mPEknKpHDuru7U7VajRy3w7mFQiFRupSuE5MUGw+YFfiVDibj8VjD4TAK4VmXwM7SxhGaz+e6vLxUr9dTs9lMdNrZJkHZeMkPCowGH+v1OtF6cm9vL6DVXq+n+XweShOHJ03Aqlar+vDDD8MBBvqrVCoJQhq1wr6GyInS6k3aNEvodDpRVgMzv16vx1qAHYrTVSgUIm9Jno7Ip16vx76GWVssFnVychKQYdpR3gZJR304PziBOIytVku3t7dRLcC+ODo6Ui6Xi/wn5U3UbFIZISk6qkn3+g5eysnJier1uqbTqW5uboJV/e2336rdbuvu7k7n5+ex9thv7EWcIkeM3HjCqCZX6aVwbiTJf0obJ9Hl7u5OL1++jOYN7yKPLlXBa0EwbL5hXHzyPGLEy3Hj6grY4ROH3rx41iMGNgnEFZLebBaMdTabTXREcWqyw3K8Rzpn6WQgh6MeqvlDMWxTDSDECoc/pSTTmqgAmCY97+l59GjS4S+MnMOz7nSwBrx205mw0iav7GvLWXpcR9rAfU4WkzZ1pnigGID0XDp8iTfskNA2ib/7D+1daQObeeqDOYFA59GrzznOC2Q98tWsK78nEY8jURgzIhEUKkbPa05pzIEj+0PpG+bfo2XWO+vae2Z7ecy2oQusSa+7T485JUjAp562cVjXoW4IYXwX3eBpMeaIckYid7oP9fv9KP3zNJrbCymZ/pKSKRMPSvwzThBE0DVurxxi5nmJkt9FHqXV+/1+1HcxaBghlAiRIA/MAsd7o6AezxMYmFwYg0d0KikYWYvFIkgBmUwm6O8kvVFmKPXb21v95V/+pQaDQQxSJnOfmL68vFSpVIrJ9dyIG47JZBKtpoiMc7n7NnX08vVWUt5YGtmmTff111/r7OxMx8fHsZCc8n92dqZcLhfNlSVF5ygpWSJCch+oh83KYQLL5TJa3hHR4WlCAoGMgzcMMkCdJ80vgIXwYNMGzdfUdDqNCHW9vmd5np+fK5O5r3m7ubnRX4zPbwABAABJREFUcnnfy5cm2aAb0j0jmd6pRDXb5CBJGwcRuNsZ6IwTigvCCO0rl8tloEjT6TTBtsYJIQ2yXq/15MmTgOzSipt1w5hCWKJjGIX3d3d3kfYhvcPfsL77/b6urq6Cie+OGREr3cxOT0+DSMP8rddrNZvN0G+kAzA+2zbH9B2/vr5OEB0zmUy05JM2aRfINDhEnU4n1jzGk/pMPl+tVmOfwbJ3Qma/31c+n1ev19MvfvEL3dzcaDAY6LvvvlOv11OpVFKv14vuYVIyf44uQQcR+HhgJSlQQp4Jhwf7BLSLOLoIQ//4+FhPnjz548C2vV4vQnO8CjYEtTJSMrGMl86DDodD1Wq1YF7h6XvZh7Q52YSBpHk7fWcdguN0CMJ7JnM2m+k3v/mN2u22Dg8PY8NNJhPd3t4mEtyeWyV3UiqV4jSJ0WgUTEIvFs/n7/s2UuLCe7tsU6nKz372MxUKBV1cXKharUaJBp1AYOHW63UdHBwkSBs4SzgXno84ODhQPn/fs7jVakVEQc6x3W7r5uYmFBmM2NlsFt4pawkkAUY0vycCcifICQEYBXJr5Lj39vbi+WCezufz6N/KO7BGMe4gHdsYeXo3LsYUBQnsJimiMZpXYDwxhkRxjFU6IpQUuUOcHW+qQJN9TiNibqR7p+z6+jqiTp7p6OhIx8fH0eazVqvFPv3++++1t7en8/PzRKNyoliUZalUUrPZDOQJHcABBc7mdNLJNgmRfKfTiZ+BCrCGpU13NZx/mLTsSeDzfD4fOnyxWOjs7EzPnz8Pp4J9SAqNtAt9k3/5y1/qu+++03g8Vrvd1nQ61cXFhYbDoRqNRqzJNLmHNUkANhwOA9mAAIXu9rx8OrjzFAwRLMzyarWqZrOpg4ODd85tP8p4VqvVBFTHZKBAgT5IzKe9B0oImBwWNgPF56QNlIagGJ0NhfICx2cDQAro9XqJ76CAWSTUlUF+YnMQ4QDdQKJxyMmZnk55x5NNE562RY6OjsIJcYjH34fFR/TCGGNEHT5zo+bQjkfjODzptmB+T78OGx0lTYkLBk1K1n05m869a4dxMfSQxBzecUIbwmdBLd41T/K+iJOrXFk5S9LnwOdW0lsoD/PDOLoTKyk+x/z594HLHVJPRx0eUYBkMW/eXg594OkVj3YPDg4id+tr0iFNUDAfExzDbRLXjVJyztGTkoK3gf5iPOj65axbh7mdQU3KJE26w7lkn6ALcWzIobOuGGP0rvRwT172HzrIO1HxvqwR5hMkgpwo74kuAp1419LCR62G8/NzHRwchLFBsfHSKKTxeKzvvvsuYL5arRYLt1gsBpNqNpupUqkE5MpGId/kjE4v4Oa8N8gaDOZkMtFgMNDl5aVGo5F+8YtfaDwex6Ym57m/v5/oQcsC451ghAIBAhnB9nTjuVqtdHt7G5D206dPdXh4GKzA+Xy+VTWA/8l/8p8EUSBdkgFcl81mE63KgGfTG4ifYRiZY/7N4mZOqMukUN7vz9xKCpY3bEAgKc5YXa1Wury8DCavO0xeo0kkQk9c1rUfQ+e5Iowqz+Ddcrat7ylzAtyKc+HGU1Iiv+UIEwXuRKHOnAfGBcKFKIRCnkwm2t/fj3Ng5/O5bm5uNBwOgwBWrVYjVzYej3V8fKzz83PlcvdHEnJuLBA+96V+EIfKHbZyuazPP/88GPWdTicUqytQ8l9+dGEul4tIbVuENqGgCpB94IvQMpFa5Vzuvh4evX58fKyjo6PQu6TcGBPO/WU8MTzcL5vN6vT0VJVKRa9evdIvf/nLgL95NpBMECOcLD8vmfaB7rh5VMsaXK1WUbMKSej6+lrr9VqffPJJEEnhwvCepC76/X6cCPYu8ijjyVmP3uoIcU9zOp3GsTbkHjA8lUolFn673Y7OEUCkwLjObKXI1T0DrgWEC7Q4GAz0m9/8Rt1uVzc3N7EZPHIBaiVKxFvxCKhUKkW+g85EfD6d1O71enEkF3AmkBQKdlvk5OQkxjRdEuSRwXg8TpCCnNzjRB3mD/YdTpYn7TFMfsarG2GcKkqkiDaJKLkXLE7Wj5cvZbPZOGauXC7H3MC89MLrdG9P3t+jZZ6p1+tpPB5v1RxLm5pYIkDIH6Azzl8gQpM2XcGAN9mzHr2hnN0wsZfRGUR/5LYHg4G+//77aGLuz+WNDzCKdL3CeAItonB5Vp83usgUCgV1u91glAP1SZsm5F7/i1Lftv7F3kSdoADj2ev1gumOjgR+xyDybz8Qg2gxk3m7P7CXEjLutVpN9Xo9xhTnmXwyvBFH9kjbkDPHQU0TgtCtbjzpKiZtevnyPH46FDwbd+rJqb/rXn40DuGMS5SbQ3dEBU+ePIkBRrHywITwhPRSsujaIVRP+KMIyTGijB1+c8/35OQkBpNJKZVKcVq638PfASOAl8KCYKAdjoIuT31nmhyUNrTvu5Bfwmh4aRBRgaRQkNLb0Bjrg5+loTTPiXsLNaA3xjKfz6vRaEhSKEWcEow4G0e6b6HnhrfRaMQmdq8WRQBExGZlrpz85EaE52aOycVvY86TlAcQPI6pw2Or1SpQF4h5tDJzpjwGB4fT4U5ps78kRQTnSBNzyVhTogaxi3wo15lOp0HiY50VCoVoNO+EMfaezxlOA/rHGd6UMLlRYM1tW4chxofAAWIMes0NIvsWp9EdR75LN6p0wAF0i1NMHjmXy4Xe5/CIk5OT6P7lJ2pJG3iW3Ljbhv39/XCWnIOBk8V6BI5nTZH3ZTwQ2N8OPfMu76qvH91hyAcJI+PUcUnR3o2BgyFFgb2kCM0dviMawGP12iugT8gdHKeEAoBJxzFHuVxOX375pc7Pz4OoQh0ZiWEUKYoRj2O5vO/9CLkIyMJZo57PpHbRE9gsSofAtkGcmczYA13SwgoFx1whGFc/zYQFTa6bHrZsCCJFoLhisajj42M1Go2AiTg6idwYpAW6HbEBYAGiAM/Pz9+C2OfzeaJNF+sW5TwajXR7e6vlchknypASQHk4td9bgW2THB8fJwh7rHMiA5zIm5ubYEE/e/ZMT548ibll33W7XQ2HQ9Xr9QSci7Lyk1L8hBMIG0DDe3t7ms/nevXqlaTNQc3eiGK9vmd8/vrXv461hJH9+OOP9ezZs0jH4BBhqD33tb+/H0crOjrEnEvJU3UgvWyT3N7ehiFz9CaTyUTVgrRxboFk2U/OIaENJs4M/BUcFXgeXAfjRInKYDBQs9nUj370o2i9B3QP4uQlTzDoC4WCTk5OdHx8HEzsbrcrScHMZ/+6Y8C7UVOeyWTU7XZDF9fr9be4GfzuXR3h3+tUFS8pYZPh3ThtHc+GBC3eDrVUTtZJw3ROUvDcmDczcE/Jc2wY8ePjYz1//lyFQiEGfb1eR8E9UIN7T1yLRebUaCmZ2yWXwhFNXiOFbFvkSU7ToVhP5mNMmEsnI3h076iEw6woTcaOsQRKYTMSqZKPYA2glG9vb4M1ySb22sOLi4tworgvHinQPRuOOSVP4gdpMxZOMOCdMZ7Ai9sk7FG8eMaFuSDyGI/HUUpAiRkGh6iE3CTMW/Y048X6kZJdmxzqk+6VFk7wfD5XrVaLCMWJihwGgEPc7/ejmQeMeKJj5h6FyP+Zfw8AeD7gWZAs9MG25bUhsXmeHuNEeoW59vp5h+g92iPyxmF0BMmrKiTFfvPgA+e7UqkEMdGjf+ed0KXIWdE8F8glsDJOO7lQoFwcIU8n8n7uVKCL/qiRpyswNhfKNJvNJhQTQgjOIIOTM5nOzCK/QEQIEWA4HKrX64UiY5PSQYTJ9TwL9x6NRhF54o0QsWAEnKqNMkeRkFDGccCQokQ9D8ACQtKs3G0QFA4RibRxANhMkiJyk5K5JUgcKEnenZyibzjmjPEGSr+7u4v2by9evNDl5WVs8Fwup1arpRcvXgRUiCF49uyZLi4uEnR7nC7WFMraERCHD70WkQjGI3Bp01Cetclm3ybB0XWY1hUn83JwcBDozWq1Cu8dJ/ng4EDHx8fa29sLUpDn0aQNVOvX9/sRdUr3a6leryeUMMYaZ225XKrRaIRzhAM7n9+fnuElKuRVvXbRCWnchzNcna3pQUI6XbMNAmzrddrsb3c6nfuBM4GDAW8F4idj44idlGyk4BAozivoTb/fT5CNCDwcgWSNMD9Axh4h+jry4Ac0hDSDvzO6yNMwlMJJGwb5H4VtS30dyhIGraR4QRYyuay7uzvd3t4qn8+HB4G454oxI/ynFnO5XMZhqJIiH+YD5hAciwTjen19HR4tHgsDyMQQfeLh8lmMAHmcTCajwWAQ9/XSFqd0s1ge68m8D+Ldm3CE+BnzKSkWvUdl8/k8jiA6ODjQ6elpOB6MPXkGSVE3KN0XdAMJd7tdXV1d6fr6Wv/7//6/6xe/+IWq1apOT09VLpd1fX2tv/qrv1K/3w8DV6lU9D/+j/+j/uzP/iyaX7BWHdnAwfNcGJuI92Pu9vf3gw0ovV2WNZ1OdXV1pX6/v3WlKsyjlxk5osKeaDabevr0aTBi37x5o0qloufPnwcjPZ/PJ0pNvIc116WY3iMeL5ORFMYQR3Q0Gqndbms8HifqfVerlT788EPNZrMEKWYymejNmzeJVA415aVSSXd3d7q6ugqSEPerVCrRl9UJUl6zTM5um4R+teSsHfF79uyZnj17FvvaDRV9aTFwGND1+r7X8atXrxLpOE9VSRsj5CSg1eq+iQV1u9SLE30C2ROxgnrkcrlolwgC4F2fpGSQwjpgvrwLmBtl/vR6PQ2HQxWLxWiQ4amo3yaPhm1RqlKymBWSCZ/jbyYGb+EhmNaVmXu+GDAKqxH3QMmpsel4LjfMTIjXdRFhePeQtKeE8XBIwt/dDSQGxqPMbTSeiMNt7nDgaXpXFj7DeA+Hw8h78j2HjhDyZdIGRmTe+/2+Wq2WLi8v9atf/SqOQru7u9P19XUckwZJpVwuR+4LkphHtZ6jdsQgHWmxplgLQIx451yH9+J9t814pmumpU1nF35OVAI7mUgbRQS8DjTmZDPG3z/re8vvJ23O3SUfSRREZAqcC3EPpTsYDGK+IbZI984BrHnmc7lcBqJBiZt3OyNa9edzB32bECRpQ8xLp52kDVmPefMUDUaMzzn5it+5U+pIXHrM0mVABCusP5BCdLbvSYeNyYv7ZzzV5igGz+TPz7/996wZf9/HzPPvnfP0CQIecY8AhbW3txct3chbzGazqMU8PDzUs2fPIpr0BwfTBi51AgEvKm1q1jxxnclkguCTzWajjyL3IGpyyJF35JpAgiSl3Qg6yYB3lxQGn3Egcb4tArSNUnX4LT1WDqOzGSAGMb5uuNxZAYoj0qPOD7jo4OBAJycn+uijj5TNZqPMAGXdbDaD6QyB7OLiIqJAp8x7dOMkEn8PXw8eRfX7fWUymbimrxnpPq9eq9W2rlSl0+mEIvN0CRGX5xjJWUkKo8XcUobEunGnCijb86kwcyUFtIaD47lwolnmys9ZpMbXOQeUrNCVrN/vazQaxSHIQINAzZS5oTuk5AHfOHHOsE43E3/fpdFoRNTPHDtPBOKcGyLGAj3qXBIiU+YHh4Tv8jPWjaQo81utNocCeGMNoFwnjBJscZ4nqTnuBQ+C9IxHltSLLxaLiJzTaKO0CQhwuIiqfd3+Lvm9jGc6p5nJZAI6kxRMzNVqFR3sUUrkh371q1+p1WrFwbi0zvMcBqfMZ7NZjcfj+NnJyUliIeAtOe06k8lEb1LysbD/gGLde/JJd+W6v78f7DKHBmazmXq9nlarler1esAUKApOeXgMDPA+iNdUuYJ0z5RxSJ/QkM1mo30iG8brKIED6UkM6WM+nwecs7+/rx/96Ec6OztToVDQj3/8Yz158iTxjDg0lCccHx8rn89H7bCkSB2wTlhbTlDwqMc3mfdt5XreCILxoZFHqVTaOrbtmzdvwuiQ16dFIW3vJAVTknk/PDwMWBRD2O12o4kI+9gbucOIZR+jnLwbF2sLCJBrsBfZTyhIYMRKpaLj42ONx2O9evVK7XY7CGXOtZCk58+f65//83+uZrOpcrkcEa7Xbzoadnt7G2SpZ8+ehX7bFnny5EnUUUpKNDCQpFarpVwuFwRK9ocTHx2Kd8idYMeZ+Ow316nUluZy932Ib29vwwlhbdCWk+eT7g3/6elpOK6kd7A15G3Zt04EOj09lbQpm3M0xSNkaVPXS/TpbSB/lzzaePqN0zkghwTw+vk5g46X6TRzSBwPRTb8cXgUz8WNmX8XuMChIp6J53aY2A1nGrZJvzt/3GA7/OWs420ymmlhfBkPh0BhlzrRi3FxByj9Pf+/wyZOo2c+gcoPDg4S/Y/X63u29MnJSUQRdCZaLDbnkNLNindx1q0jJ2kIkd+jALhnOoJGyAmDPGyLOHkOdqrno33tMxbusHpUAgqThmQZd0+xoIylJGHIYX1fV1zL97IbXZpeSJuSC9YYhgIHgf6pji55Liy9v52PkUbctkFwOng/J2p6LaSv54cgUPYn4+g62dmqjNNDEK7vP7cDbtC9WQn7n2uk00XOL+EdeDY3qOl3eQha5vuOgLyLPMp40uGFB4BhR06RlkeDwSBqKoFLgMD6/X4w4oDbyGekSxp4oWq1qufPn4dXcXBwEOfD3d7eJgwZ5SnkYYiaOA5Huu/fyobztmKuKDHokBaAjonMXDkQ9qfH6vLyUtlsdquYmGdnZ9H2DuVILSZj5LCapIhCWaQYGpSYL1QgN65FCz1OKYEFSMRaKpWixo/NBHTPPblXu93WL37xC63X68QBu755XZGzmSCF8Hua1cPyhvkNc/v4+DhyZkCf2xZ50hLTySTeas2bbx8fH4cxwuii+Dqdjn7zm9+o0+mEcaJ+98svvwyDQ79pUCk3WLBxnXHpjTo81yVtIih3xohsstlsNJenFKfVamk8Huvm5kY//elP45DkP/mTP0m0GCQSYo8DM4J0bFP6RVJifBDnhXhQ4nA1n+dvZ0/T2Q3dCozbbDZ1dHQkSVE+hPMBgsNpOexXL32CuwCKBzQLskWHskajETA016ZpxnQ6Teh/aZPnBCHJZDI6OjrS4eFhOAQEBOifdyWGPcp4wl6ENHN0dJRgtg4GAy0W930Qe71evCyw6c3NjW5ubiLXUa/Xtbe3F/AMMKDn0jKZTAIrR8mu12u9fv1av/71r9/ynD755JNoI0hI3u12w3i22+0EdZ6wnlqm5XIZ1OjhcKjb21tNp/cHwqLsP/vss1AOnFIOc69YLAbTl1aE2yIUL6NU3QgSLaJsiBRZcM5mBV0AigW6cZYup5es12udnZ3FsWBcm1w60R1MQU5AKBTuD+Tt9/u6u7uL/pkovqdPn0pSooTIFYT3MSUCgYUpKfrpcgoEEB7rlhQEzt82CXVx0r0x8iJzjFM2m9XJyUk0PKGvNMXqo9FIb9680TfffKObm5tIp9RqNX355Zf68MMPVSgU1G63dXl5mSD/eURA685yuRysfaAzjG86IsRhdQJfo9HQwcFBoiNSr9fT9fV1HHbO8VyFQkE/+clPVCqV4plwmDhGi1pE1t62dRjySJ+9hN5zI+HcA0dY3MnkGvSHLhaL6vf7cfQY+wIECKez1Wqp0+mo1+tFQwyHYev1eqR76FdOHSmOMfuLgx+Ojo7CIN/d3anb7erbb78N+/PRRx8l0nLYEk6Iefr0aeKUH/r6MtfviiI9ynimSTMe/kobeMehTykJz6RrMVGoPHSaVuwbJg0poaT9eZz5lfakiJqZEGd5+WdYcORtgJaZeBaZM8mALhDPnfgzvu/CvGFQ0jAc/+azDtv75/z/iF9DUkT4XMthsYdYj0iaxcc4M0eSon4XRyy9nnx9sk4cHuIZHOrxVMBDNPltEk9XOCTpkbyUhLVdGPM0Sxnx1Ek64ue6ri/8mfwZH7p3Gj5n7NEdIBb8Ae1IpxLcSPA+6TWXfqZtkzRc6XOCePSZ/o47z74u0vdwlCkdzDh0yzqDE+N11f4drsv/yV+m020eQfv3STn5+6RtRTotx9/vmm57lPE8OTmJUxFWq1Wi1RZ/w9SjjZ03/61Wq3EWHC93fHysjz/+OOo0GVwvWv/bv/1bff/996pUKvrP/rP/LA5OddiYjUPU5JO9Wq10eHioTz/9NH5Oq0AmBXiwXC6r2+3q5cuXQRbxuiUmu9FoJPp8Ymi8IJnmx9vExLy6uor3IiKnVRZ/PGfE2MOwJMKjkQVOBvMKuWixWOjFixf69a9/rWw2q6OjoyAIuJPCfNFVRrpX3LVaLRL81Jbiea5WK11dXelv/uZvdHh4qB/96Edx9igbCHJBJpMJzxYDzGeA/3K5XLR98/o32pkRRW+TpOn5Dq17fpL3Wq/Xwaol8iM6bTabyufvT8o4OzuLBu5AoZSXYEQZX+8bDSsTaJA6cT7LWuB53XASKaAQuTcdbfb39xPrCZgRXTQej+Mg53w+H9EQ0bZH5Nsk7D0MHqkyyHW8s7TZy5D6EJwpEBbpnnFNWgvE6fb2NhBEHJFMJqOTkxM1m82Acff399Xv9/XrX/9anU5HtVot9DgpMPYc81qv14OIlslkotGC98pdre7LqDhoBN0PS9eDm9FopE6no/n8/sxSegFASv2jEIZQquSIPLxGibJR8AoIx9frdTBvgcqWy6WazaaePHmSYLKxUYGJr6+v9bOf/UzValUXFxc6PT2N+zDozhZz9hQKgjzMYrHQ5eWlXr9+rfV6HXmeo6MjPXv2LPI2w+FQV1dXQX2GUs8Gps0UhccQFWCQ5nK5UNjbdJTRq1evtF6vw1EiT+WkHRSUn4LgDFZ+zzpxJABIcDqd6vXr1/ruu++UyWT04YcfRiMFh5EYb/KKtPmaz+ehJGFFYjyXy6VarZYWi4Xq9bo++uijtzpHeXkTkL0jDDwHaxUlkI7WHFbeJsG5kR4m5qFwvbOPO7TsMQwR/UrPzs7iJCWv52OfgeiA/njZkrQpEUM/kPvEKXUHjTkgqmIdkqdlvwPRgSjh/FLaguOFsqerFOkD1vo2IUiSIpeHgaSNHWk2qgX86DXpbQIRDga5anKD6/U69N7l5WX0ln7y5Ek4VHyWci5IPvP5XLe3t1GmSB6VtAD5b3LZ8C5wdLg2p/NkMplozsK6duPpzuJ4PNbt7W2w/G9vb8NwExy+izyabeuD6srNmZPSxpPxz5AgdkXsEK2UPI7qIUZuekOC4bM5PbT3/3s4nn5uFgj3YNGRI6CLinuu1H46i8zhQf97myC9NESVhrnS4rAXXirK13OKjAFNBdwgswYc3kGRO8NyuVzGmDsDEGPrZATYu0Q3zvDE0PFevrZ8ruiAkmbopmHGbYRt2asOrzN35H795x6hgKyk9w7Kzhm5D6VwvBwNY+eEPY8sXfmnGfzS5rCKNPHloXu7EfZct9e1ut566F22STAskCKlTeMEJ2XBUpY2zovPRxp2ZZx8H/i8ptNXzp3wHCopLfR5JrNpg7hareJkFXLiPrdpaNXXBHvdHS7Xw35fvvv7QPOPbs/nC5swXVKwEaXNcUcoUdhrBwcHwaS8vb3VeDyOVmq0XeJFut2u/vqv/zpaOgHD9Hq9IP7Qkd83BVEghhU4mOQ2XrMrA5ijr169CnLQ8fFxeE1Et57jozj+h/IH/u9torjX6/UwGFKyq1TaOSEKxUt3Q+vGs1qtRsF2p9PRX/3VX2kwGAR5g3miBlPa1GgdHBxEpOnMUJyq29tbvX79WsPhME73cFhwNpvpxYsXqlarweYrl8uaTCa6uroKcsrNzY1ms5lOT08Tp0acnJxIUmLdoABYZ67gt0XoUYunTvQt3ZOJaEs4Go0SzUCICPHUab/Zbrfj9/ztDqqzYkn3eFN9mrx7O0zqRoEZpXtlTO2gpEAxPD/HWgGJIEoGroNM9Pnnn8faozaZKBNYX9oEDeTTt0WePn2qfD4fkCnQZiaT0e3tra6urmLMMIy0P3VSGD+HLMRpWG7ICIwkRcpOUuxHqhaoxOj1ekEs5bSWcrmso6Mj5XI5XV5e6sWLF5LuI8XT09O3UoTeJQ7HbzqdqtVqBRLhkD6EVNcl6Bh3Dt4VYXiU8aSNnXsxKBROX/AFKG08XCYgn89HkTyGC/iHkgcG/bvvvovTUPAUCNuBS2u1mubz+076GGDPR1Wr1YDgyKW5JyYpJuL169eRy6X43b1PoL5MJhPeEOJeu1932yJP7x0sJY2nH0DNz6WNEQUtYHz5GyNTKpU0nU71/fffR86BBe5NDYgmYN9VKhXN5/P4G0VPeUqn0wnnjf6nvjYpaTo8PNTJyUmkDmCLwv4jl0o0VC6XAy7qdrvqdruJvK9709tmPIfDYeJAeIfKj46Oomc1ik9SoDG8cz6fV7vdDgfXm5d4xOrkHIxrLrc5l5djq7rdbjiyRINET5JCb4AISUniEagUzjiMeYyn91Y9Pz+PGlHPrfqeRZmyVrYt5+kNK9iLnJXa6XQiCIHpTIqtVqtFMxNp011ptVpF6Q7GEweJtSHprXGj2xPM9clkEuttNBoFwgiiVygU9PLlS93c3CSQK/gGdAnDIXPEgmuyl8lfgzjxeVKC2Wz2reYX7xrs/F6HYTsBBEWKcpQUIbeUNJ7piMWjG16KpHShUEg0kqc5MVGBK1w8Dodo3QsFWsIboUaP+9DVBG+ZzYky93cFXvCcapp9uY2RCOLwLA4BY+yMN96PecMLxMFgTRCpA+t1u93wPvE06UrkuTeUmEew0oYswnhXKhU1m82gzmPUyYejEIhyXNnSugwveblcRu0xkGLaMPLueK28+7YpVofgGG/Gx0kj7F0pycTFKBH1SQplSeTo45pmtrqRTPMX+EOUwP71+2DsnMiGkfBOYihIj1rIxdM4HfGx8Of1esVtknSu2o1CoVDQwcFBGCdnqXvnKfQ988T1+F16/BDGD6QBR1naHDherVYDPWTNcO18Pq9arRZoInqaa6cDEs9n+2fhL1D6lmYMo9+4Ls/3LvJo45nP5xPHiiHubXAiCooVZizGkIcEvvFJBiKqVqv68z//84TXn81mgwjA5BPNOIvSc3QsislkEoMKFCQly13A4f3AbYcmnAXKqeyw8xw+dmcgXcLyvgvKz8kXjUYjkSNyoRVap9OJ2l1gOwztdDrVmzdvNJ1O9Td/8zf6+uuv1e/39V/9V/+V/ov/4r/Q4eGhnj59mmjOzZiBFJAP8Tzzer3W+fm56vV6rIGf/exnmk6najQaevbsmQ4ODvTBBx+EgQW9gExULpfDaVuv749KolDb4UY2GfDtYDDQfD6PBiDbxraljIN968evcVpMOv+J00CDkm63q9vb24D0x+Oxvv32W/V6PVWr1UTdn59ag9Fkf0KuY515gw4gOHdivOesM3aB7SUFscWhPa83Hg6H+vnPfx7QMPA17Hnp7dM3Wq3WP8BM/f4yGAwkKVoVQprMZrNRLbBcLnV7exs1kDBrpXuDhL72vO/NzY3W63sCKNUOOB44HMwV6E2pVNLNzU0Yzs8++0xHR0f69NNPdXFxEbYBPb+3t6d/+k//qaRN5yhpcwoShpl7kn7Z399Xo9FQLpdTv9/X999/n2DvorvR3zRMACljz7+LPNp4ssA8yerePAvt5uYmkSx2qMZzgShLJgtjQ2Nw6b7PYbqzD7AsG9uVKsrO6/7wQLPZ+yJuemM60YRNCP6e7rsJsQQvCgMB/RsiBeSWd52E90mcAYmxdHg67Qig2Fi4fB7YLZe7P1Ko1Wqp2+3GiSiTyUR7e3v6/PPPY3PhkGGgPZcK9OvsSrxMoPvDw8NYh0DvBwcHYSTZeMCTRKTujQJfZbPZICN51Ju+Bs7UtjVJAHpjD3pUjhOLAQJJwKDBRqenLcoVBiX7DoSI6BxjCRGEsQQqpLGJ57Eop+Ba2Ww24fA6VEsuzVmeHlmAVrGXLy8vVSgUIjrhPSUlCIuc/sMJQNsioH+DwSBxlCBNH0hfkH9kHYCq0PUJ/cx6J5csbRq/S5t6W9YKjhdjjnPs8Guz2VSz2VSj0Qg0QLrns4BGOXLxUOSI4Uuf7+s8F8+TU8lRKpV0dHQUgY+kRIT8u+RRxpNFi+F0vJmFxv/xYt1QEpaDj7uS9JDZ4V3p7aJofsamoW1et9tNeFcMLpJmTHK9NMuTCCe98THADm/hWXuxr+d8WJDbIp7PYNFKShgs3onxwnPDYErJiJ7oghz0s2fPNB6PYzGnmX04aEBxQO4oXS9hYNNQ7wlUS1cqCGN4qw45p+cfYa6dCehzj3EFztpGiJ6xR2mmx4A1zFi7kJbB2ye/KCnOz0QhsUdAcXBufJ85w97zyYy5jz3iRBX2aqPRCN1CJINzMxwOo/k96xCEwfWFi0OW29i/GF0LkgSZEgeE3KA3KoEzAIokbWBW1okbT+bF89r8nGfwUqQ0e9kROk8ZMb+sifS6wLHG2fc1RkmMpChr9ChV2ug5Z/E+Vh7NtvXjh+gX6G2OMpn73qMcQ+YHTHe73YB0wLpJ7nvUxmZiwAmnpQ2DFe9/sVio2+3qN7/5jW5ubnR6eqpPP/00FrpPphtUz1FhVPmbriT0xuTkDzYrUQmTNBwOE6dyOLzoBmgbhFMzcAhcPMfhpI1yuawnT54k8mDUkfkB6YVCQRcXF/oX/+JfaDabRfs88hWsAWBwrwmlSQJR3s3NTdSKfvvtt7H2zs7OVCwW9ezZMz19+jSRS8GIpo1FmkXMezP3ruyBN3GaKLnZNgNar9e1Xq/13XffaTKZqNlsBqMRJwiPnjM8iSKIVmg/eX19rW63q48++kgffPCBnjx5EiVJ0+k0mM7SZm9kMplAdyhNAIJ1hwln2g+E8BwzLG1JkSMDdSiXy7Fm3rx5ExDter1WvV4PZif3RJhL9Fc2m40qgW2SwWCgWq2mo6OjRICwXq/V7/fVbrcTqbLl8r4+ejqdRlRKgwLQm3a7raurqxh/jJCfuel5Y8rSgNppx8raYuxB/xCcd2ljd6QNocsJYgRm1Wo1qiaWy6XOzs701VdfKZfLRRtPUCzPn7rRTudxf5s8yni6lyDde62tVitenqQ0+UK8OvKS/X4/UdvnkICzthgcDJZj6P4s/B5F3ev1gjnlEAL/99qwdOjvg4bhc6/Yow8knZDnHigDh8S2Rby5AZFzeixRajgovC+RGlFhv9+Pw4ph/rGZ5/O5qtWqpM1cevSJN+v5Y5Qrins8HuvFixf66U9/qvF4rA8//FDPnz+PPItDd86KTRtO3ol/O4vYGcN4r6xt3/jbJr4nh8Nh9I12Ug3rnl60fu4lCs0jUGkDt0mKCAXjh8PhBDRPtaQjDBSlK34nDzlKwT0kBQxMf1OMvrSBGev1epQouHPM+0mbNeGM8G0SDv1OR83sN+YHQ+i5Qw9OpI2z7MiStOG68H3XtxhImMqgU54bdePlOt7/7c6NV2hglOmcRLAzHA41m810dnYWfXhJ40FAojc11/h9os9HN0mg/ooFT7MAyBRsBhY4NVUoIBY1BpLr8eBeLEteksH3kH6xWERbNjBsIDlyM2mjyD2cyONeiG9Unh+PymtaSWg7hs+zkePFM3LIYhuE1ouQaorFYhgg/qzX66jPciIPkSKbkTIT34g+Fp1OR7/61a8SqAB5SDYkUBM5LYxnr9eLnEav14uDCYB2gZ3cSUvDSkBYLs4SdVYhSpqfe67NPddtEd4N2CqbTZ5G4vk/0BZps4foCrNer9VsNmPft9vtUGLsMSBDnBjfeyh1Ik9nL3sHK4ymtGHvcj1+zjmsfqLSaDQKngNG0HO8oB6gX74Wvbgf5GGbBNQG/QqiJm3qloFVeddKpZIwSIwTOdPl8r4rHGVkzLuTutwIsb4mk4l6vV40LvEyFXdAH9LROKyZTCahDxxW5xnK5bKePXum9fq+r4DboXTelH3rDVTS6YHfJo8ynlDMsfLU1aQtdyZzf0o5mxDjCfbuER05JFiZnOZNYT0LnOPOGNTr62v9P//P/6Nvv/1WtVpNT58+jdNW0pGgTwpeM3k4EsxpIwtEg3GGws1nKYHwDex4/HK5DEhvm8gk1NqRaK/X65EbYowWi0WclFEsFvX06dNg7vHOhUJBJycnyufzYST7/X7CeL569SqOEONwYjxlyAbkz6jhnUwmymazury81M3Njb777rs4qQdYLpO5rxejVy5r1HOongtaLBah7Cm58tyopKgrBrL0spg0iWEbBLYhcJykqNMmame+06dcQCTiBIzlchn9fr///nvd3t7G0VXklSAKSpv8OZArNZjMAQ4ccwHz2TtIOSmQPQipp1Ao6Pb2NiKObPa+/SYOOXqLns0O6Tmj3OFjSDbbJAQV5IHL5XIgQJ5WckOFXnc9ScUDY/PkyZPQrR6Nez6b+alUKqpUKhoMBnr16pWGw2GcVNVqtXR6epqoMWZtkDrCacFBJwUAYxvdytriuEJIm9gmj6KdRU9wRECEPngXeXTk6bkfr5F0nJiIK40ne50P1+P/XuPDBHjtpHsMRDC3t7f69ttv9eTJEx0fH8c1f1uJiBs3xOEhKYmDO8PQI1QWDkbfvS6HMLcN1sMJwCulSQDeN4pqMBjECfDe6YnvS4o6XIc4vV6Po76I8IHsaEJNPszrRr3kgT7CXNcjQYfZgF6dZCZtUA6ezaH5NGTo+SIU+Q/BTNsgTt/HCLFOgbQYAyfx+Z4l/wlRAwiU+cdQORnPIxUcafYNUZA7I3zHFZ476q4XiDTRSTRZoBkE/AuQJWlz+hG6x9NS3M/HYZvECW+OAjDvOD6MLxEeJV2MB3MjKaBb1s1DBDwknbOWNjW6pGkcqXPj6Q6SryFHDxyOZs5wcuh77e1c02QktwXpvf4u8ijjCYzi+Qn+pGtxOCTVJ0DaGE5n7jLQPDyeAmfFkXNBgWaz9/We//yf/3NdXFzEINDiixZ7EE9YMCg/JgoFwDPxc48kYZP65KLsmVyfHM/bZLObzhzbIhgeznCU7uFVh9mA4I+Pj6NLC8xk5lu6ry8DDiT38ObNG3U6HY3HY3U6HV1dXSmbvW8TB0MWgwa0I0n9fl9ff/21Li8vdXl5GfW4NFhYrVb64osv9JOf/CQ6CbHh2aju0LGpfGNicKlj9u8ASYOWAEc7mW2bxFERECXIVY1GIyJ4YHjWvdc+Mr406Ebp3t3dxaEJGFYMs5eTMNae0/S8cza7acFGpMj4OxLCd0EecrlcpJNYSzwXnWzcyZOS+sdz+a4ntg22JU9JZzfOMwWNIcJnbt2xSesxT3E8VNPsvBQ3mu7oAPUvFos4ONvnCWOIkQdV8HaP3oqRa0rJPDVRZr/fV6fTSaTcmFP+OPLJM/9RCENuPH0TLRaLIGn4YLJIYUI6mcYbSfPS7u1zKC0viZJjU52enuri4kKFQkE3Nzf6d//u34UiBtsvFos6PT1NdArynJdvih+KNsH+MQKDwSCgJYyEe2BEMSgj4INtEZQT0CWFxovFIiARxvjZs2fBcvM6TZL59I+kniubzerm5kZXV1dqt9sB3ZRKJX3yySeRS8nlcpGDwtC+fv1a/8f/8X/o5cuXsSbK5bIODg5CYf6Tf/JP9N/9d/+dKpVKombQa1dd8ZNLr9frOjs7C2XDu1NMzTXcAazVarFBt2l+EeB5IkXqYYvFohqNRiA5HPTue5YoldTH4eFhOBtAfdTxOTED+O/Vq1cRERL1OPGEfYrxBFql8Uq1Wg1SEkoPRizXYe/Ro5X15BHUQzWKzgZOG+ZtY9uik+FnjEYjvXr1KpEvlDY57TShEscRJ6hQuD98nl7jfBYInkDFUUM3wsy5JB0dHQWREIQJXQsSQgDmvAUITTg56ROr1ut1pP5ubm704sULzWYz1et1NZvNMLyOhjqi8Ecznp6rlPSW55aOIn0i3Ejy83Ry2X/vtZN+PU8S4/FOJpNEkbfDAR6K+zXSg5QeMCeXPBTO+wR4wpz7/z4wwPsgjDcbyiE9+oDyTmw4d3rSMBrED5QSUDfijGTPP3skD0xPYb7XWpLHwohDSPMyoYcif6Io1lgaWkzDdFwn7VW/60Z73yS999hTwGKeYgH18e+l9wZOMcLcMFZOzvCI3p/B7/NQGgVdkn52nwuMJ+/j7F0nBmGgfZ9yrfR7pfXHtgjj4PlqEAdnOktKNHZ5KI//UIDgc5COyh3OTUt6bF0fexD1kPBsGNS0bnXU0FNFrLm0HUqv7cfIo8/zzOfz0ZILJi0DR7NdGv+ihJlEHxw8BmAdV3R4+kQGNP0uFos6Pz9PdPXHi6JDBc3igRNR3MA2q9UqSEBe28dAeg6IxeaHxvI3ni2Lkg3KGBB1O2S1DYJxxCARaa9WK9VqtSDhcLoN8w9k50gDbDw/VeWf/bN/Fmf7tdtttdttZbPZKDPBGPMHok6j0dDTp08T6MB6vY58N6222LSsHeBmYFbWHz+TFNR18kAUzbOWSRdg+N0BZG1tWz4MJrS0ORgcZGm53ByC7e/mChFnh88C95NfPDk5Ub1eDwgc1KhWq+ns7Czy4J1OJ+bUi+1ZhyAaRCaeo+SeXtIGMoXxXK/XASF7rS9EpGw2Gy3meAaOpnOkjX7M2yZepwvztlgsRjP+TCYTPYUlxVxinBhDPxoS3ecGlrlLrxcc7NVqpevra71+/TpScuPxOIhpTuLKZO57BVA6xR+PPOFS4AQ5YRPdsL+/r4uLi9j3GFTWkpSsjgDleFd9/SjjeXh4qMXivt9ku90OJibwCq26YE85VMtixZACz7E4eWlJYRS73W70Rb2+vlalUlG9Xtfp6WkoN6I8mJ3kUYBNgRugZi8WCw0GA/V6vURjA+/AIW1gHCDDu7s71ev1MAJ+jJHDgfxhYvB2t0XIA7JBvDVbrVbT8fFxwOo3NzdxZBs9YqGhc/yXs/xgd37++edarVbRxpEcKgQUageB1YF7zs/PlcvlEr1lnaFLYw42GYxLDltHuUoKyMdrejEilFV4D9Y0s9DzRERs2yQUv1MW5IoQdru0SW9IyaiMtYHCo9HC06dPValUdHZ2FofIsz8wVPxsNpup1WqFfkAhk6PCQLM3cVD7/X60AXTOgkcXKO1MJqNarRbrivvi1LPWMczk2R3GBJ7ftt62UrJG0hnD8EP4Oft3NBpF60wOOYcgyNhSquh5b0mJ/YUR9Xm9ubnRN998EzpxsViEPikUCup2u0EgdGYw8wqUSye5Wq0WuokyJZdyuaxGo6FM5r4rUrvdlrQ5JUZSlEdxDUpn3kUezbbFu3D2EmE2Bs2hSodefuia/jfCYNELkxIFZ785O4uWW75pGFi+55BQ2mtxaCkNFePpOivLnz8NPaWJSdskeOMI0TiQpef9PMfhEQmGEM/Vc0gOA2JY8XR/KP/Nc1D+ICkcEmdRpgvB2cBpiM+fJY0+pOGjNFTPs/iaf0ye5H2RNHQmJVuiMWY/xFBkrzgk9hCs/dAf32fMPWPqey+dXvEx9u/zfHzG0wdpiJk593l7aC55loeusy3iabYf0keu06UN8Ydx9XXiqQy/jqcvPFJM7wuiO4dTH2JQ8+z88edLz7vbFz7jsC//Tu/1dMrx9xrfx3yYWp/9/X01m82w3iSDKZrGgnvOyj09PBkUqB8LhbKbTCbRRebNmzd68+aNGo1G1FtKG0+zWCzq+fPnEfXilQ6HQ11dXSXo2UQcx8fHAamSm/MmD0CXy+UyYOJarRaeOu+YHvxsNhvj4Ay0bREOg/bxuLi4CK/u6upKudx9F6k/+7M/S+QOc7mcTk9PdXZ2lljg0mZT+nmqeHgevUtKQP3kOyXp+fPnajabur29jTnAAENqQFyJkwJIK2v+TisPpFAoJJo8DAaDeHfIJkQs2wTNSwqEwEuQ0kqEvUwKA+IVTOlWq5WIIlgHs9lMvV4vcbgC+6HdbkeJ09nZWRDQUGw+H6wLN7hEh3Q08qMDPQp1HeTdsoiYXZm6YQEmZl0TBe/v7wdDdFsEHQ3Ri0YiQJU4oiANjA/NEdDJe3t7Ojk5UbFY1HA4VKvVCqYu+4UTazySl5K5xVKppFqtFmVu1NdSh10qlfTkyZPQIzSGTxtbaZPPpUENiAE5e77H2s7n8zo9PZV0v647nU6sO5wMb/bzLvIo43l7exvQpkcoGE+KrSHwoHRckbEhaDxAjSDXwtOYTCZqtVoajUa6vr4OxudsNkvANLDBgO44L5KOFuQ2j46OonE0LECK/TmxBQVLcT4F3OQEfKNCuWfDMWGQmByH3yY2JlAeLcuy2axOTk4CCn316pVKpZK++uorPX36VMvlfT/MVqsVpyWwYQeDQbDy8DBHo5G63W7kq4DOMZ5sYMbQf84JDJVKJWAnGLJspLQHLCn6EPvP0ySQdCtINhOsXXqBYlCdUp823NsglN4wto4QeI7p7u5Ot7e3iYiQg++B2DztggHt9/sJ8hGO0MuXL/Xq1Svt7+/r9PQ0Dt2WNukaL23j2h7h0hZQUjg30qbPLa3n3Hgul8to/uA1ityXv9FtGBTWWKPRiHaS2yK1Wk17e3uJBiH9fl+LxSKR8+fA6lwup6Ojo0DwGKdSqRS9gtvttt68eaPBYJBA6TwHSSoFB5kaeVIiOD80G8FBo+d5qVRKNO9g7VAqJiVTBwRA8GJYz+geDDrX6/f76na7wRTnPT3Aehd5dKIGY+BM1nQo7/AA3ksaynUYx8W/t7e3p+VyGeUD5N+czeowIAMLlOfeMt6XQ0AO7aahJT7D+3mdU/qZHzKQD8FO2yDp+l0pCct7YwyUmf+Ng+MQCtf1v6UNFOhzyaZw9jTzxrh7fgJDB3EHWB/kgOfmvqxbYPo0ZOkQvTMPfV34u/7QOn7fhfdOM2QfgkbTew1YHgeUhhpeuoXi5PrMLQQwyEZ0d3FDxr2cLYph9bFOQ47+rO4c+Zwzx3xGSubquM56vQ5lChq2TU6w9DaUjTMjbSK39XodaRneN02M41qeItvf34+5Zw+mIXFps1f5HPegQTzsep7ToVoQKlCwtD7yvcr3fc1IClvhZzOnxwj9/1Cq5rfJo43nYnF/islsNosoAGiGCA7CEBYfmJXNyEB7KyjfCOv1fb/ML774IiJHkt0c1FssFlWv11WtVoPxh0Kjtqnb7UZBPZMCZAOJyAvxGTwnhgDXwtx0hQKJwUkI6dzgtkm73Q7ywHq9TlDaa7VaeN/0toWIAbwF2QK2s0cCKDlvMI4iY348wnfPlUh2Pp/rxYsX+vWvf61er6darRbEpL29PdXr9YCejo6OYm0AM/kawRt249jtdhMQFnPqLELaukkKA7GNNYC0N6MfbDrfiLKj9g6nhhNGGo2G2u22fvGLX+jq6ioaXLC38O5psZjL5fThhx8Ga3o2m+k3v/lN9LxGkbI/geSz2Wx0nXKHBSSDemyUutdYe36VqNV1kKRECYvXeRIpocAhUW2LoJOkzbFip6ensZ5xbCqVSuxxarYZL4fKWR/n5+c6OzuLDm+ggYw5qa3ZbKbb21u9fPky9i5NMb788ktNJhOdn58H9Mrayufz0eAAxIvmCJlMJj4zGAwiOEI/EVGT1oE9zHpBh3uvZSe3wgJ/F3mU8fR85WQyCVo6xciE1VCaMVbVajV+jhFyz9ChHyarXC7r+fPnwbCaz+fxYtfX11H0yukQUJjxajKZTPRRhF6NMnfmpbNh8VrSngzKnAjW8yceHTlxhu9vm/R6vWDVoURxciDlLJdLXV1d6fXr1wF14cUyPihMFCn1ZSjETGZztJSPM5sc5i1rhVIj4FN6256cnATU3mw2YyPt7e1FY2hO3VksFtHwnpxPOvJ0WBlGaiaTSRhPNrNDxO+64d4XAUkh95km/3kER7kJ818oFPT8+fMoeF8sFrq9vdX5+bmkDcxGuRrj7KUsGM6XL19qb29Pz549C24Bf1grwKgPRUKUUMBP4DN+Li26ZTKZxMlOoEnSPWxJysbLlij8Z/1uo/H0gy9Iq5DLdugbg4fzACrA+LlzQYWFozk4ol7bu16vdXt7q1evXkWKwM/RZI+BMjnC1+129fLly4CYiYbREZKikU6az8K7sLY994mOx6nAkSBA417vIo8ynnR2AFIlL4KyBWb1nAXiRoaBkpKHX6eFl+UQWy95kRSn1UPWwGNEkfkpDd4AGIiJSYfyjKCs3VDy3g5Ne7jvpCRgB/d2tkWYO3du8EC9tKhQuG/hJ+mtPBHOCMbR4bw0s9HHh7+dWee5rjTDu1AoqFqt6smTJ0FLd2PI5/FoPVrEM+ZaThpgHWM0MSQeMTskto2saofgMJDe6oz3dgjLIWr2JmPL/sRAIblcLuF0IjgjKCuHRVljvq98rlBy6b2FM8zaBcp39IJ15Hlq1gPvlZ5Lxsk7qG2DOHTqSIKk0JsYUrpFURPLGKCfIV25PlytVhGlslekTeMBh+kJZhwJkDZ6lD8Pjb1Hs+7Ae8MLh4y5bj6/aaPJGiKdwzNyHdZUGsL/bfIo4/k3f/M3Qbxh8WGggPR4IE5ocO+EkhMU1EMYuedFgVbwSlnENFi4ublRq9WKDVytVhNH39zc3ASci5dCoTCGlq40DCKbtNvtRkRDGzHPAzyU5/ScoE/uu2Lo74NQuIxBJHJjXqnXOzw8jJZ7LOi7uzu9fv066uE4DJnN6xEFG9I3Nn8Di7LR8IIdueC4ui+//FL/+l//a1Wr1cS5ks6EJoJYLpcBU5J+mM/nUZDtrE1gxcFgEJAQTfJJSzgDdNtg2/l8rlKppGazKUnheTP+5KgwktKG3e6saE40Yr28evVKV1dXqlarcZIJzHqcHeaOFo/SvWGmaJ9Cec+/8XwYVp6HuaS5AQfTA+UTMYKo4FgXi8Vou4lDjcLleZx/QZ3yNokHExArMWROpnv58qUuLy+Vz+d1cnKiRqMRrfPIbfb7/VgzQPC0YYRQORwOY4y4N41LOp2Oer1eGGwMJUx49pU7qzg3fvYq0CoO0WQyiTpVRxokRdAlKc4AlpQgjN7e3urm5iacyMccev6o1XB5ealCoaAnT57EJHhuzDeFR2b8QRFLCgXtBikNF7FxaRiOcK1Op6O7uzsdHBwE9EBJwXA4DLYn9yXfAWRB1MkCYSMxoTRG4CxAjDnRhsOKLEZ+7zT3bYo8gd6dBs7mkzZoQKVSCSo5DkOpVNLt7W1AImmY3kkgjEs6RwxEhPHj5+Q2+DyEkydPnujDDz/U/v6+2u12GGvIJTwraxKoki5Tg8Eg2NhOiGGNUV/sJ8fwTo6mbBuZhLVLJynmh/3h+1dSQil59F8qlQKBIOpEJ3CeqjfUd6QK0hFODZ9LRzgoYTpWuX4BeiTCJX/Fs8HsbLfbCWcdRIvnI5p5CBoGVdumfSwlkRzgTyL55XIZOeF+v683b94k6iCr1Wr0OoY3MBqNwgllraDz1+t16FogWRxXd9BYU/wNOoUD42gdz1MulyPVQwrJo1+uzbOCcpC6yWQyEbhJCnuFrsEx4PAKnMPfJY8ynh9//LGePXsWhk/asBdRWITkHl2QZ+KhwcvxMhBnMP4QAxa4lbM/IfuA5S+Xy8iTONuWBuJeVsLzuRJ0iBbPh03tJAOXtDHg/VwRbIsA23itpUceLHT+j9NUKpUix3JwcJBQtogTPdgcoBW+eVBsTmxg7L2EApQB2ryfCSg93OSZDUnpArlPFMtDiALrjbXmOWHWzLYpVuYSYp8bTz8pBpTI4Wk3rChjdypxVonyuRZzQxQJg5660PS5t0C6XovHumF9OGrhsJ3Xn7KeuC/zhaHFyfN15noHIw2qsS3iEKenuiQlOkNhSDFAfph4JrNp0u7pDq7L9cgVk/IaDAaSNmdAU75Ca07m++zsLBwdT7lhQ6RNHTj7H+dJ2qSZcOqd9DadTtXtdiUpECY+54dFMMe857t2hHuU8fzzP//zIAnwQB6Gc/oCCgk2HKw7JobvuqFkwJz56J4ufyCe0Dav1+tFaA60dnR0pHw+H2zcxWKhRqMReRk25Hq9Dk8ZfB5FQA5ouVyq0+nEpPgGxoFgUola8LB4x3f1ZN4HASLBK5c2Tg3QBzkjSBVPnjyJhclJDrAT/SxNlC4KrVKpqNFoxDpxiBQ0AOjXKeigDq1WS999951+/etfB+uazYeD5DkQYH/mb7FYqFqtBpQIKcwJNKzPTqcTsBQHd2PYMf7bJCg3nAl3AIjeMTqNRkPS26UhnivF2YLYRYMSoF0/sQWjSS3fcDjUy5cvdX19nSCNAL+y1th/OMfr9TrSQ9LmRBTpPmVArTJNUdwIL5fLOKXFCUN+L1+zo9FIt7e3f9/T9AdJuVwO8hOGrtPpaD6fR29q6n1xIA8ODsL5bbfbocOAVEFdgE7H47EymYw++OCDOInn+vpab968CZQSm/HkyRNJ0uvXr/UXf/EXevnypf70T/9Un3/+eaTGaESSy+UC2QINxOGC1Y2BXCwWiXQQ6/P29laXl5daLpc6Pz/X8+fPE8gi3eswnNiCd3WSHmU8KU1xIo1HWH4oNIqIiWLjpGum0vDuQ+KbFoMNHEN/RhoWkIvFO6nX66Ek/XBenn02mwWE6x6009xhbLmSgcIuJY1nOie6bZEn3r5HneSZmEtHDMgnAqdBdQcmT7NQmUsn50iKWkHmwRWojz2QEwqabiX+Xc+be0ToBBQnO3jf5YfgV6BMirDpiStp64wmAoHOOyMRxTFHzmIk4sdRcIIVcCh7CkVNmRnRJSQN1hRjSQQwmUwSREKgXhxS5hJUiP3ubE3ugdPG8zrhJJPJRH4c48E65VoOVwNbdjqdv+dZ+sOE+eMdMBZAlX7ogzNNaazAsYKOBJKO8vQXeo9IEcekWCzq5OQk1hCOKqUo7XZbvV4vEXlOp9OIVJkrh/o9TSQla5HTKaHJZKKbmxstl8to8sAexyl35DFNJPxd8ijj6awozz0xuA7lSJvTGuhYgVUnYgEaIPnrBojJlDZQLfDCZDKJkzr4nrN/b25ugnhA2QGEBbxPvEsvEEYRONNWUtQ28t5sLmCfdF9VNrlHn9siOCi+qFCedJGCcg4B4eDgILxEruHMWB9P1ofnkyRFSZOkUKSes2TjcngznX5I/rP5GPs0cuFrF3jIjamjHrwH5ws6XAkq4cZzG2FbPHWPsnAcUHb8HAfVIzEUaLFYjHNYcZwg7vR6vXC6cDyc5EFtaKfT0S9/+Uu9efMmxpw6YZSlowrMG8LYYwhBgBzGgzDjZ35KmyJ+8twoYYwwawiUZJuEHB/zxviAHB0eHkbQg/OJXsNY+ak2jAuOE/sARID52dvb0/n5eewtoFBHA5jXbDYbPBXmRtrMsacLMIzp1AyOAWkXdPzx8XHos0KhEG091+t1lNGdnJyE8wzp6F27hT3KeHrkhxIEBvOOLyxAXpoodDAYaDweq9FoxJFItEpic+EhopSZFJQxxnZvb0+np6fRqu36+lqj0UitVkt/8zd/E4xNPF6+48wsFCGKgmjH2Z0Yabxn4AtgnGw2G23/XHyxbhMTE0Pn5AoIAJxqs1qt4sSFYrEYLb1QRMwRc+ZsPW/9hTHKZDJR2LxcLgNRAPLzEy84GR6iAmQyntGjfBwrNjXepecpUQ48p0dGoBVSMmLGWfLI+KFc+Pss5KDYb8y7pIgQpHvW+evXrxNIiqc4SqWSPv74Y0lK1GT/f//f/6df/epX6nQ6oVwLhYI+/vjjgPf47Gw2U7vd1nA41MHBgc7Pz+NAc+4xGAzU7XbDwHtZDc8PErG/vx+9WKWN801JDc47jMt0H1yIfjhspBK2jW17e3sb+01SRJ3z+VyVSkWnp6dar9fR0hRDxb9zuVxAvzQfcQ4LnaIwqKPRSJnMfQUDhpm9TOTe6XQ0Go3C+c1kMkHaw6jiCHNt1h3G1A0nvwdyBdbFGJ6dnWm1Wuny8lJff/21JOni4iKOVkRv8b6S3sq9/5A8ajWkoUg8C14CJeR/4w04kQCvxqEyV0C8iBfcen6J3FqtVkt0m4DYAzWd581ms4FxO0NLSpJ9+IOidFo7nqnDkERnnrNNj9dvg6PfR/HoQlI4FswXDFxvyO6wGgqH6/hYepLejQ1eJvdinJ28xTrB+KFUPY8lvX3ag+dbeQ4UIpsTpeHPI21aS3JNDIeveT6/bZEn+9Ujb94H75vxo4sP64LxJiLhGiATq9Uq0b7NUSNgu9Vqpdvb21B6EFLW63VwFtK1puS3eBbGPB15+vv4e/GscBIcjk47B45gMCbbxqjm4ATWa7q+nYM9MKoIOhMnkn2PUfOOPM4tgMtA2gxnGscMRMv3kbQhd6Fb2ItclznwFEmaZ4BtQQ/5s+Okg6D4Gv4hBONd5FHGs9VqRU9CPDkiBmmT+6Ozg0Nz6Xyg5zqd3epncdIw3r8HBEr7r+l0qn6/rxcvXuj6+lq3t7fx8v1+X1dXV2/BL8+fP4/SBBYAUS0bCIPgz0DOxGEfFyAP71gEtXtbhHwRioucJPAIEYSftwcjD9YkdX1EcsAkbCpJCQjfnSauT3SHczIej/Wb3/xG3333nSQFc+/w8DAMOM4M4obRaxRx1DyXC8TlEDCRlLNKJUXtMM/mxKRtERwVok0ntj3EQWCPutJkDP1MUBT08fGxvvrqK11cXCRyirQBlBR7i73H905PT3V4eKjDw8NQwIyzO0ruZJOCcWNOROpGg7lPlxeBbpDrc1RK2rBTt0ko73AHBT1IBCltGuITidFViXKu1WoVhB7GjICGsUJ3r9frQADQh3Bh6DRH9znIWhCXJAXRlPOWnWW/XC6DpcuaYg3hlLOOeSYcBJAzBJa5BzjYpT9K5PnNN98klNTh4WEcDn1wcBBQjxere22R5xE8d8oAeTQDoxFxRSUpDsnGg/3pT3+aOKw2k7kvzP3Lv/zLOBliOBxGMf0XX3wR+RW8ysFgELVMlLVgLNmo1KV5jhNBybM4OCFg26IS2GiLxSIaITiBg3cjBwSN/+7uTpeXl8G0Ax4Hfk07T/SmzGazccwXxtNP2mFufvnLX+o//If/oA8//FBffvmlDg4OdHZ2Fu0Tuba0ceT4GesNxwDvl40HFNVsNnVychK5GE4UYT0ul0tdX1+r3W6rWCzq9PQ0HIxtEpQlbENnQXtdr7TpRkSeyJEm5plo7u7uTrlcTs+fP9c/+2f/LEgl3Kfb7YYRwgFyQkq9XtcHH3ygZrOper0eKRSeLU3MYx96npPPYTxJnTjZhT642Ww2oP/VahUQpjN9WR8cprwtQnedVqsVrFjGLl2OgbNKOo1Dp4HKqdnFeJIKw/ni+DMMH2PlkX6j0VCtVtPd3V0gC6PRSC9fvgzbUa/XE5ySfD4fVRSSorEJtoN7em3y5eWl1uu1Go2GTk9Pw0jW63VJinUvJRt/kI/ld79LHt2ez3ND5LZY/A51eF6JwfOF7Zaehe7J+jQk5hAN0QQwAA0NyNU53Out+fg3m4jncKVOFw33eJD0v/GGeGfe22shty0qYSx8UbmH7gxcxs/fm7GWkqc6eIkA3p7D9Sjr9Hz79TmPkPoz5tmVKbDvQ9f4oT9c22E73o217s8MRZ+fbyNsKykxB4z/D6UY3GA+tB9RUPwbAhHOE63y/IQN5s/HFzTLa8lxdrjfb5P0732OiUIdQWHt+TsB6/v7eRpnW4T3YY49BcPPfU59Xz+0ph/am6AVDrcCw0qK4IH59vreNEP7oVRPGsGCd+KpJEeB2MuOoDkbG/E0jq8Ndwh+lzzKeNKKyQuNyU/xhwfD+PCd+XwetV14t9SF4tWDm0MlZlE7YxVIjwU+nU51cnKiL7/8Mg5DZcKIZqbTqT755BN98cUXQRTA0wLyy2Y3R1gBF/AuTCzJaKAJvFKfaJ98iAfvWnT7Pgj5JsgBKD3Pc7LoMTj9fj8IQTT0Bz3A8/R8CZCOfwYlBtMWwhCbDDYu3Uqur681HA5VqVT08ccfJ1IHwM3k7YBynBTDPHveHmgJJjh5dZAGjDItG2F4b1NOGxkMBsGMZW7Zg57fc8eJKNNZ5Gno13kJGD90xnK5jDMbfY64D2jWhx9+GCxnFBq/57PkxEejUeRVgeKIWlDMPDstRPP5fLTrBCXCiDu5D5gYxb9tZ7b2ej3lcpvD230fPuT8AMXSLo9WfdVqVcfHx9rb24vTbbxRvJSEgZfLZUC4zAX7CYLhJ598okzmvnPU06dPo5642WwmkEe4CcyPPz9/iIiZJ0hSflY0Tjp6x7tUYWz9vOZ3kUcZT9iW5DnpG4mhwFhg9AqF++bhnG5Bv8TpdKpWqxUJbdhRnmNarVbhYbBpgAshI7gyo1ECeclMJqOnT5/q9PRU8/lcX375pT766CNlMhnd3t4GbZlNweR6lCRt8qyZTCaYZ/wb5UA0wr/5HlH5NrFtgapwWvz9K5VKNEOQFB1kGE8YdJxET1cXz0txSDHrgRM3UHRs3k6nE+xIILlarRZHKr18+VK5XE7NZjNOoZc2cC3kFUdI3OvmmpAUIA5gPLPZbNQ0e9mNpDisF8dA+uGI7X0Vjp5j7CuVSuxDkCJ3BlFi5MPcQ4eol0aTIHQ1m001Go2A0miG4G03+S4lIaVSScPhUDc3N1H/yR+MJ05sq9UKUggRMDC859Hr9bqePXumQqGg6+trdTqdOOxC2nSSkjaRNsYTw7NNcn19rUajEWuVSA0d7XltfsYpNZxShM6jfCiXy6nVasXYuvHs9XpxLYhjODfA5OVyWcfHx/rggw+0t7enRqOh8/PzMJasQee8pJ+Te6KHICNhAHlfb8oDWsX32ffUlzsB8V2Z848ynmwsjIuH+W6tHwrv+XmaMZUmJmAs2bx+LYdCnSzg93Riw/7+vur1ekREaSbWQ/CwRyFpRp97vzzHD727lGwluC3iJC8ndvFOjI/DLA63OJzyEAzEupGSRfncO309vy4Rn/ejxMADQTnU5AoivT7SDRVQkj73bjC5XpoJ6Ptgm+QhY+/zwN++z9Iev49V2tg6rO7fLRaLUaLgTeJZTz80jmmdkp5bX2P+GU8HObNe2pCk0t3OXNc4mWSb6rWljZ70tZ6eOx8PdyLSUHYaxvVx5/8PQes+fq5bcJwxmjRFcNvi+zltI/xv34fpd/XveHqINespAR+zd5FHGU8/Z3G5XKpUKun09FTSJuEsbYzser1OdNLHQ2AR4uH64cNEdrRrw5vA64OOTgif9kKkzUBzXBULAc9ovV5HUT9QRRoWSucyuTcRDMSiNPsW5TybzfTmzZtgrG2LvHz5Mg6VLRQKcRbmarWKpD4wiNPegUq8aJrFDJGEDUT7r9lsFl1bPC8GJAcBi833xRdfqNls6vXr1/qP//E/Rn1wt9sN4wrJDNY1USh57Hq9nnCUpA3tHZgQssNkMgkIy3O1vDt1zn4u6LYIiot9Q6oEhjiGhkiA/YmR8bIi0CKE+X/69Kmk+8iA1naFQkFnZ2dBBCmXy8Gch7DR7XYjP046xRUqa4c5Z4+zP4l6ndAEmsJz3NzcxMESzjRer9eJY7kgG7VaLb1+/frvc4r+YKEOXlKsW8ha3uObsaWEg3/3ej0Nh8NYJ6VSKSK1NETqJUTwHjBO0qbrEPrw6OgoEW2y/9GlPG9ar7MHpY3OB1WQkuUtQLJ8l/IZGngsl8uIjIlS007Cb5NHGU/YduRJYMvxsryc5xDIh7k4DEsD6cVioaOjozhodTgcqt1ua7lcRl9KoEQGGE/FB9IJEEAPDCJNgiElMNBelyhtiEOeVEZJcFySJ8DdW8G7ubu709XVla6urrYq8vzVr36li4sLPXv2LAwfjDt6U0pvn5fJwnPvHmUHUYQiZjbj7e2tut2uFotFwEMe6QL74Hx99tln+uSTT/Qf/sN/0M9+9rPYiOR2crlcgjX56tUrFYtFPX/+PFjhdMHxdeIRJ3PstHc3mOmIDXh4m8qRJAWE5o4h+zSbzYYBRbm58yttnB0OaPDTTHK5XBxWn81m4+Dy9Xqt58+fR2qAXBytD0Fp0rD+Q+gWxtNZ0MPh8K1oq1QqxQHcd3d3arVa0ZSBnKfXCDIuOP+kklqtlq6urv7+J+oPEJq7eP9WZ896o3QvQ8JxAZ49PDyMlAwODvlObwbPz71UkX2BYyMp1sfx8XHck78dVvYzXB+KQNm3QLTuAHNvL7ti37daLXU6nbgHOdrDw8NHETx/r5YZabguLWwi9xJc0l6qwyrpP+nfudJLs/9QgA7lcQ8f7IcgZeAEVyb82+EMNq1PtN+bKIYcCUe3bYsQSadZmCxon2/mB0WDYFSJHBwi8eJ3j/YfguV9jhw68xyUQzU+Bw7lucfqECP35fP83//gxUIucqeBMfHIZVuE9ct8OjTv4+yePO/sYwA0SmTne5LvYIS5r+9TIjtXdESMDgm6Y+awvpef+Gd4D1+HzurEQYDzABHFozFfE9uY8/TUgqMmzLXXUfpeY56B173hxUP57TTsyz0Zd99f6FmviPBx9rFPGzHm2+s4QY98Hbu+SNsg/z16xLkL6eqC3yaPNp54FumiY8gXDAKNB9KY8lsPkM+HZ8vB1LBoKY2BseuRQT6/6UXINYBLOdfRYUTulVbKnsPCi3J4GXw+m81qMpnEIdmnp6eJ2ieuRUlMpVLRF198oefPn28VbPvxxx9rf38/cUCtlwzQSgtGnKRg5tIizRuO5/P5YOIRkbNwYUzj8VNE7aQTnCbqegeDgXq9nmq1mp49e6ajoyMdHR1FdMFckFIgaiGaIVJGQbuRlBQ5Oaev83PWNB1ZMplM1AZvWwE9sC3j5WSbxWIRUagbQNAB4L/hcBh5aNIn7ow6RPjpp59K2jgrIEF4/kQ0HCCBk0U7TM7VzeVyUTcKwkDU2Gg0orHCcDiMqBI40ktVOAA97WRhzF2JFwqFIBptk/Bu7ohQxVAoFNRsNpXL5RKNDIgQDw4O9OGHH+rw8FDD4VAvXrxQq9VK6EwInTgWMFhxwFlPaaTQjSWOGIbMD4RwvYN+GY1G6vV62t/fD5aud6jyQMVtCEgJNot5PTw8DPsD6emPcqqKtIFFWYTkGKCAI2kv0SfUPYFsNhteq/dKdFjJj4BCeQIp0tkCKHCxuD86q9/vB5uPiDJNVJE23qnXIHkkifHM5/NRZrFYLHR6epro0u85MRYCRyFtk2I9Pj7Wer2OYnb3UFerVXQFciYbBpAIApjI67BQkjQNX61WUTbExqIBhZ/C4V5su91Wu93WaDSK73EQOpGNU9bJrUpK1HPh+bJm3aFy9iw5U+BBP+SXTQ/j+F27krwv4obQ0xVEauSocYRKpZKePXsWZWakVRqNhk5OTlSr1RKe/mQyiWPPDg8PI9c8Ho8jb/bmzRtdXl7GficPx7rgsHI/M5L95saz3W4Hy5IcKmdV4gh7akm6dx4wHtLGSSAX5lFQPp9PsMy3SdiDGE+6NbH+GRdvMkCJ2unpqRqNhrrdrn7+85/rxYsXAaUD2ePkNpvNQGb8WEYiT3gR3uYUB9qjXQyt8xco9eM54WCQh+Xno9EoDK+kMLSk8FxHoNfq9XqQSq+vr2N9vos82nimk7XuufNvvD2HyNLwbXrR8lJEI55z9Do9JwwBA6KUgQIZ/DT86xi5G1L+eK6TKMYXHpPLvz2C4ntsViaRxbst4vPFWHlel0jMiT0O7/E78iCSErCnpDBC3sEpDbd7XhxjTc2utKGn48BkMpm3cnLchwiE53Diif/h/R1JQIiCETcUD63v9128JjOdnvD8rpc4OOxHtOHlWnALGBucKwwewp71Lj9AqLlcLuFs4Vz72LvDjWP1UEqB7znCwNyn+xq78+tpGlfu2yaUZ+DUsl9AXx6COqVNioYofDqdRs7TyTiuFz2CZAzTwZMbSUcp2Z+egmF+0ykxvsP1uC9dzpyxC6LFekUegqp9D/xRcp4oS27gDCmHbTlrM61cPMrDe6EdEtANg9Pv9+MsOc9X0PrJqc10LEFhc8oGMEA6j+XG05m1nHcH3g+MyPMTzWAc+O5gMNBgMEhsQs+lvGvHivdBOJ9PUniLMOpo28fGcEeFxhVEYQ7bUgBN9E7k6WtmPp9HEh/o2xGIQqGgTz/9VP1+P1qHzedzPXv2LHFG45s3b5TNZvXpp5/q6OhIy+UyGirQ9QYGIobVc6I4cL5RUbooYWljfHDqto0w5PMsbfJ6rjQlRV03CgwGvJ96wt4djUZBkHv+/LmeP38ecw4MTOTiKINDi6vVKnoHk47h94wxEDo1xqAUvpepMZY26RonILk+ghTE9x3eo61d2gHYBmm321qv17q5uUlAsXAx0HWkNHg/0l+Xl5eRhqnVavriiy+irnY8Hgd6wdh4Mxh3XBEn50Dc6/f7UW8LQpfP5/Xxxx+r2WyG8Wc/sg+Zb+bu+vpa/X5ftVot5r5Wq0X9v5+c444VDiE6HT32LvLo8zzxHBzSwJLjna7X60QSX9rAYDw8hs0/4/AXvVKlTf9KMG+MpUe4kFB+iLzgECDPy70xuhR+080Gaj6Th8fqkyfdKyIO45b0lqHepshzNpslyn9wdHK5nHq9XmJO8CBJ3KP8HM4hAvRyEZwMzyPiuDCX/nuIGjSBn8/ncZTQwcFBOEKTyUTtdlu5XE6ffvqpKpVKGGG6nPBMKEcMpkcvRK/OQmRtpb3obY08XWFIG1TFo0+f//V6rfF4HKeWUFDOOGBAr66uNJlMdHZ2pnK5rFKplECLWAfL5TKuK208fhzv0WgUkLyTtYiaPCLm/o5YOFpClEF+lhSD9zdFsXpUwrPAh9g249nr9YIrgF47PDwMg4eOBk3wucCZxVkmPZbJZMIYk+JCF7JvCDSYE8bN74EBZ9yJPtmvz58/T+hrruu6nHmnYqPf78d6wBDinEuKKhH0ha+dNMfiXeSdtDovTH4HDwLvzz1YiAJEjQ8ZT76LsaI0AGPMvTxxi4cPJr1erxN5Jt8oKHY3nmkDivF040uOBKOO8WTQR6NREGkchnzofYGt8KR9HN9H8TkuFApRPgRkmsvlEnPi+Q2cD+oiyYsC+xUKhWgCz2cwjlyHMXTj6ZEOJRHk4MbjcUS+zC9rI5fLxckO5L94bvK4DsmljSeeJ+vRYX9IUbwDm95PqHifxefZiVIOjzGHmUwm1gN5TJwQYDaux/f4DHXa9CNmf7BnIPWwh3kWSB6TySSgYXQFuSqMJ5Gh64PhcJiYUzeermNYix41o0BZH4wDxiHds/l9FZ4PdixneLL3HCIlX4iO87HHiKIvs9lsYo59ftjn3J858M5zro9xRhhjiGE4dKyfbDYb64R9j9PDGibQ4l3Zi94ylvs4DI+h5FlxDrn+75rnzPodVsLLly91cXHxe07lTpDvv/9ez58//4d+jAdlN8d/N/I+z7G0m+e/C9nN8T8O+V3z/E7Gc7Va6fXr14ljpXby7kIE9ezZs3dORv99y26O/zDZhjmWdvP8h8hujv9xyLvO8zsZz53sZCc72clOdrKR99d92slOdrKTnezkPZWd8dzJTnayk53s5JGyM5472clOdrKTnTxSdsZzJzvZyU52spNHys547mQnO9nJTnbySNkZz53sZCc72clOHik747mTnexkJzvZySNlZzx3spOd7GQnO3mk7IznTnayk53sZCePlJ3x3MlOdrKTnezkkbIznjvZyU52spOdPFJ2xnMnO9nJTnayk0fKO53nuevS/4fJNpzGsJvjP0y2YY6l3Tz/IbKb438c8q7z/E7G8/Xr17vz4f4O5H0+B3A3x3838j7PsbSb578L2c3xPw75XfP8TsazVqtJkv6X/+V/Ublc1nK51Hq9TpwMXigU4rTxUqmkYrGo1WoVp5hzonsul1OhUNDe3l6c8I53xCney+UyTidfr9dxwrck5fP5xDU4vRxZLpdaLBZarVaaz+e6u7vTer1WsVhUqVRKnETPieKr1Urr9VrT6TROM+fkek5cz2azKhaL2t/fl6R47tVqpX6/r8FgoMVioV6vp+FwqFqtpouLCx0eHmo4HOpf/st/GeP4PgrP9n/+n/+n1uu1Li8vNRqNdHBwoIODA+VyuRgnSTEmkmKsOC0+l8tpuVxqOp3G38PhUIvFQvV6XY1GI3G91WqlyWSi8XisQqGgo6Mj1Wo1LZdLDYfDOA2edbJYLDQej7Ver9VsNnV0dKR8Pq/ZbKbJZBLr7u7uLtbBYrHQdDpVu93WZDLR4eGhPvnkE1WrVS0Wi1jT+/v7qtVqyuVycZr9crmMtb5er2N95XI57e/vq1gsajQa6V//63/9Xs+xtJnnf/fv/p3K5XKM0f7+vvb29pTJZNRqtfT69Wut12sdHR3F/LMXFouFRqORptOpcrmcyuVy/Pzu7i7GejAYxLVLpVKsDeaRdZPNZmNfr9fr+JPL5eJ7HkGhGyTFZ12Wy2XonWKxqGq1qkKhoOl0qm63G/oorXcymYwajYYODg60Wq00HA41nU61t7enZ8+eabVa6Z/8k3+yNXP8P//P/7Pq9br29/eVy+XU7/d1dXWlxWKh4+NjHR4eJsYeHZ3NZjWbzXR9fa1Op5PQ8/l8XoVCQZlMRvv7+yqXy7FmXrx4IUn68MMPdXR0pNVqpfF4rMlkonw+r3K5rFKppNVqFfvN/8xmM41GI63XaxUKBRUKBa3Xa41GI41GI0nS3t6eisViYo6r1apOTk60t7cnSaGXfG34GuH+q9VKnU5HnU5HuVxOtVpNxWJR4/FY/+bf/JvfOc/vZDxZZOfn56pUKomHWK1WkhQbi0WZyWS0Xq9VKpW0WCxUKBS0v78fA7JYLMIA8z0U6mq1SkxYs9lUNpuNyWDDMwh8F2PGoNVqNZ2dncUm3Nvb03q91t3dnabTacIYuPT7fX3zzTdqt9tqNps6Pz8Pw8vEsMgymYxqtZoKhYIWi4VarZa63a729vZUr9djcfk4vo/Csy2XS+3t7ens7CzGGOMynU41m82Uz+cTStUdneVyqeVyqdlspsFgoPl8rmw2q/F4rEwmE44Jm5C5r1ar8QzMNfOzWCyUy+W0t7enbDaryWSi+Xyu2WymarUaChjnZrVaaTAYxHuxEcfjsUajkYbDYTwnStoVAvdZLBaaz+dhKFHus9ksDDpjM5lMEuP4vgrP12g0Ys3yLuw5HL9sNhuOjCTd3d1pNpuF48o+ZQ5dsd7d3Wk4HGq1WqlSqWh/f1+ZTEbz+Tz+3NzcqNVqqVwu6/j4WNVqVfP5XIPBQNPpND6Dsj86OnrLWXbDiuPMOuDn6AMcs/V6rfl8HjqA9+bdDw4OYl8vFov43d3dXWIM31fh+Q4PD1UsFjWZTMKhIXDA8Dks6eO1Wq2Uz+fDWFUqFeXzec3n83CEa7WaarWastmser2e5vO51ut17E9JoXtLpZLq9boqlYpms1k4JujlTCaj2Wymcrms9XqdCHBwxvf39/XRRx+p2WxqOp3q6upKt7e3ajQaYZvG47FarVboGJyvYrEYa4f1h7GW7oMB9DU/+13z/E7GMz6cz6tYLMb/8eoZpLSHyANgdNhcy+UyogEGyCdtuVwmvl8oFMLbQEGz6FGc3J9rc81isRgTiOHmmdOSy+XinuPxWIPBQPv7+1qv1/FeOAv8jOhjf39fi8VC+/v7sUi53jYJ3jrzgqFg8xFt1Ot1SffKi/lZrVaazWaSNusB8bmdzWZarVYJp4frSIroH0M7m83i+plMJuYYBch8Yozd8+RZPFpByfJuHg1hsFljDzlXKGPW/3K51Hg8/iPMxh9P0gaH8WTsQJKYW5AZ1j/G0vc7Sop1zxju7e2FMcOpdrSnWCzG/Pt4z2Yz9fv9iC6QdLTJ/XC4eDacMBwgf2Z0DNdhDXpE6uuC9b9NAlIyHo9jDCS95VSkx9PXP5/HeWRf+pgyp3yHPevBjN+X8U8HX+6g8m8cV95nb29PlUpFuVwuDCJGslQqxRoFXeDdfH4dSeJ9uT73fRd5lPEcj8cxIa5ApE04zUPwkJPJRJPJJAGjzOfzgGeLxaLK5bJyuZzG47GGw2FErHgkHtXyNx6ORw5p44m3VCgUAsJFUAh40xiK1Wql0WikbDar/f19VSoVlctl7e/vJ4xBt9tVu91WJpPR06dPY+MD66JIHnIo3meZzWYR3S2XS5VKpUAbRqORFotFQvFKCpiUjQOqgGNBFIcRLJVKby1SX0s+ZihBFjZRT7lcVqFQULVaValUCk/V18BgMIi1g+GsVCrhYWaz2YTz52tWUsLJQglkMpm4/3w+V7vd1nA43DrjeXl5qVKpFIp1NptpOp0qk8mEIvIx8UjdnR4g3MViESgLEC5COkTaGDiM0d3dnXK5nIbDYcwHDlE+n9fx8bEkBZTuCs73FU4ZDgBraLFYaDKZaDabJVIw2Ww21jXvj6OOYChQxqAZ2yLo22azKSmJFBaLxQcDHXc6JIXTg+7zQGhvby8iz2azqePj4xj/4XAYBg5d2+/3NRwO4zqgeRjbtKPKWqtWq9rb24t15VEuegDHfDqd6vb2Vr1eT41GI97TAyrmdb1e6+nTpzo7O5O0cfgJAH6XPMp4ktdDaaajSsfMGezpdKpWqxVKJ5fLRdg+n89Vq9XUbDaVz+c1mUzU6XS0XC51fHwc8BkRLzlI6X6zDAaDBJ6Op4LSq9frEUWNx2N1Op34ea1WS+TG8HLdQNRqNR0eHqparUbeAAjh6upKP/vZzyTdL0Q2NwbXc2PvMzMvLSg0oI/z8/OYH0lhJNKRJJ4oec79/X01Go3wBjFqUtID9Q3s0ajnWHCAPA9yeHgYCnt/fz+BYEj3TkC32w2Di0cLlMU6QmkC72Dk094yiieXy6larQZEdHl5qdvb260znl9//XU4l0QI7K+LiwsdHByEIcGpdAfCocybmxt1u12dnJxEFOBzQapFUuxH8tPkqG9vb2MNcb/9/X0dHh5GdIFiL5VKodQx6vP5XOPxOJw/j5TgIQDn5nK5RC4fxwFoV1I8B+t5NBrp9vb273+i/gCZzWY6PDxUvV6PfcMeZM961Mk+4LOk3MgvohfZT+VyWYeHh8rlcrq7u9P5+XlwF3q9XqR3SA9cXl5qMBjo4OBAz5490/7+vmazme7u7hIIokfGoFzkSofDoS4vL2MNkkcFURyNRnr58mXYEfK6GGhJoZeLxaKePn2qg4MDLZdLdbvdcCbfRR5lPPES09AN4saUP3iZSC6XC08PRcWk4BHg4UqbPAz3dYXLwKMI8/l8AvYFbuTawC48PxOEYuC5PA/inqp7YBhez986icqh3m0Sh9SkDWQDDM1YsxFZtA7tAoUyBul14tfm3z4nfCcNm/r6cijHoSNHRJhHX69paPAhWMmhHv74mvTxcCdpm2QymUR+kr2VXsdpKDs9F74XmH+MmX/OCSI4Rg85Jw6VM3dAc77ufB34vKQNAeL8CHSR71Xm07/n6wjj/K4RyfsijuQwV4w97+Sf9XFlfHAm/HdEek74ZAx9rhD2pqMKbifS8HHajuAAM9fodKJKTwU4bMx65v18bfFvntlTf+8a7DzKeP7mN7/R6empTk9PA9ZxJqorGzYksKxDAjAa8fT4bqlUUqPRkKRERMEGQvmxadrtttrt9lvsLRbNmzdv9OrVq4CUUXi9Xi82+Wg0ik1xeHgYTDs2cqlUSiwyNy6E+6VSKYH3pxfDNuVKmINPPvkkkY9cr+8Zy/V6Pcan1+tJ2uS25vO5er1eELKIEqRk/hF4350V9wxZwHi8y+Uyoj2UukOKQH4eAWcyGT158kT5fF6VSiUILjhSoB9EKo6guEFmHYNQMBasgVKplCCFbYs8f/5czWYzIjF3OkulUryrQ95ucHjf/f19nZ+f6/T0NPaXM6+lDUToRi6Tyejo6CjYysDvIEDwBsrlsorFYuTZ1uu1hsNhOK7k4ZkTlCEMX6C+arWaMK7kqXlH0i1u/Fmf/H/bOAxEhK9fvw7kj/nG4SNdhcNLpYT/3KF8SWo2m6HP2+221ut1sJj5/enpqaQN81mSjo6OYs0x78C/q9U9434wGGi9XqvRaKjRaMR+hbktKUiBpAPm83kisiairVQqcQ8iYneIQC89INzb2/vjwLbffvutJOnp06eBQeNpOIbuHgPGk8lEIWF8PZeCss1kMqHw+GwaFl4sFmq323r9+rXu7u7U7/djkticTFKhUNAXX3yhP/mTP9He3l4MmrTxqguFgg4PD8MQOpTgngwJ6dVqFUW0bjzJr7jnBHtrG6RUKunk5CTyuKPRSDc3N5GvZOzJ+fIdSgGAvkejke7u7rS3t6dSqaRqtRqK2PMQ4/FYi8VCt7e36vf7b0U3HqkcHx8nvFwiCVidw+FQg8FAmUxGJycnOjk5SZCFUK7kNTudjkajUTwP65V0gRtPSQlCDWsWxb9N0LwknZ2d6ejoKMgX7nhOJpPITaF80rlG1rbnvbwkyZEHJx15XrJer+vo6CiY1DCindUL+3k8HsdacYRqOByq3++rUCjo+Pg4yg34Hk43hnA8HsdeHQwG8Ryef2O+yZc6ZL9NQi75zZs3mk6nOj091fPnzyOadOd+MBhE+glHB2i9UChERYFzVLrdrl6/fh1zCsP14OBAjUZDi8VCNzc36vf74ZTzXV9T7L9Wq6XLy0vN53OdnJwE5NpqtdTpdEKnVyqVKDvqdDo6PDwM52e1WqlcLmu1WiWM53A4VK/XS0SjlCExt/AxKHn5XfJotm06UZ8Omz1MdqjGP+uhuMNzHrn6H5/odImBs1o9+uQ7y+VS+Xw+lDn387Iah5lR1OmyG97JPTZXJq700zBSOhG+LZKG1Dzfxdg6kcDHUlJALChWj0gymYwmk0lE/sPhMMhiHt0wvnibDz0fz8X9MLhsSoeGfE79Pu6NOtyVhoIlJT5Hjs+hym0QZypi6IBKiehRKmnjChT+0Lr3CFZSYvylJITIvdNpEXfK3Slx3YLxBGlIrw0cq4fWjK+bdGqAa/nP0VdEXtsi6fTHQ3OVHjv/OWOMA/nQWHnqLZ3WcPTBn4fvSkrMu/+ez/NZdMdDOsb3o9sFX3cufC69hrimpxl/mzzKeP6rf/WvVK1WlcvlAiphYFGO6/U9g3UymSiXy0WNl0+GpAT5wweHQWRQ1uv7IlkS+51OR61WS4vFQhcXF3r69Kn6/b5evXoVhdtEjdPpVKPRSJlMRjc3N/rmm2+0t7enZrMZUebh4aEqlUrcE7gKaNHzfJlMRqPRKFGr5h42CWzqSVlQnu9732UwGKjVaklSRJ7tdjs2EXMGDJTJZIJQRekRTgqGbzQa6fr6OiAwFissbJAA5vng4EDVajWxZsbjsT744IMgY7GR3FP0vHi5XI7yBtaFlMxxUqu6Xq+DTIZ3zRqgRGY4HKrb7QZJBoJRpVJRtVrdKnRBUoJowd5j/GazmW5vb7Ve3zdJYHwhjUCMI4oHjXGmuytQ/wMa5MrLI/vlchlQ7f7+flyT9YcRYA0BJzqiQQT8Q4bTA4BsNhsIiKSIcLkP70nN5zYJDtLHH38cqQ9SDMPhUJ1OJ9ATCI+wikF0QGao1QcdyGazMWbAwOnazuVyGcz0TCaTII6lnWIIf9RtOzrId0D5iF6pGYXYxPpkz/JdoOdGo5HQNT7v7IPVavXOe/lRWv2rr75SJpPRmzdvEgOXzWYDU57NZnr58qVubm5ULpf1k5/8RPV6/S2v3qE3Np6TAjzvyHdh7l5fX2t/f18XFxeqVqsaDocqlUrBlup2u8G2bLfbUVJAlIACkO4hR9hWKFkUqNe6OaQDRAGdnokliU2+jqYC2wTpdbvdMHjkTIgIq9VqGCSMCzlsNgELFxYuLLaXL19qNBqp3+8Hk5exXC6XAfeWSiV9/vnnOjk5iTlhrY1GIzUajYSzwvwRLWG4y+VydMMaDodvNTHIZrPRmAGGHt/l2pVKJYxrr9cLSJjnrFarevr0qWq12jtDPe+LeC4Rr5t1ipO6Wq10cHAQkSadeDBixWIx2Laj0UiFQiEMmXv/0oZcWKlUwgGCcY/ikhSG2REB1ogjQ3ALeA8iVp7/5cuXur29DcMA3Ej6AAHSxVhiMBxu3t/f19HR0dahCzDDDw4O4v+QfUh7rVYrnZ6eJvYQhqXX68W8emMTeCeMGboUvYrxXCwWkbbBaFEOhfGErYveAEZdre47t0mKQI05gWmNYfYc7mq1Cn2No8tarFQqoZe4Nk7W3d2d2u22RqNR6IrfJY+GbTEQDt8AtXmOEqPqUK+H5mloDoiIiWEipQ1rlkSuwzr82xcIShCqO5P4EEzl8I7n0xwy8ho1fz+e9YfeMQ37boN4jgjF5ZBNGgZhzGDD+Xpgk/r8kV+BUCQlmXDkI8k1Ob0cxebPwcb2/DnOi0PszIEbT59vNqTDu1Ky1tOVrjcW8I5D2yKe/kgLMKWkxJj8UArCo3UfX09pOETo68ThYP7tcBvONpEq/2cuiDh9Hy6Xy4TjC3nIdYvD8FJyj6fFn3+b5Lc57T8Egfq4MLZpBIHv+Nz4+DuqgL2ggUw6Z57JZCI6JJctJREif15n9KfhZt4ZRx5njn2OTscB4HvplNK7BjuPMp4YjpOTkyiO7vf7Wq1WajQaqtfrWq/XsVD39/ejIN3hOhKz5BCAP8vlckCo9BWloQIEhkKhoIuLiyiWJ0L4/PPPtVqt1O129atf/Uqj0UjHx8d6/vx5eKiQnEguz+dz9fv9yIsCMXtUdXd3F5FsPp8PBhjCZBF58I6O/28T0YDaTEgb5DOkTU7Z359IAbgFyAPojHmEgdvtdvXq1atgw0EKYC6l+wJ+ivhPT08Dnvn666/16tWrmENaap2cnASMBAnE81PAR5LeUgLAzkRDNNNYrVYJCA9HzBGF0WikFy9eBJS1TcI4eXQoKZQdEBewJr9zxxLv/+TkRNKmdAwdwF7yJin0CpaSBhzmJGhUOmdGKginnYgY+BmlSA3pcrkM0iGEIKIOnDIiGncW1ut1OJA48PRE3ibWvKTE2Pl7Sff79vDwMAKCNCSdzWajuYI7NxDEcrn73s+wbInss9kNoRCjRQWFX5vx7XQ6+tu//dtAD6k9hlxEtIlhb7fbarVaCR6GG1kQJ/RuumuZ26HFYhG9d7PZrA4PD3V0dPTOe/n3Mp54HcvlUtfX15rP53ry5ImOjo4kKRZmoVCIBezdhbD8RLB4hJSwkLcABr69vVW321WhUND5+XmiUbWH7yjVwWAQBfIOq3qkg6LEQHNvIhCuvVwudXt7q8FgoNPT0yjaThMcwOydMPFYT+Z9EMYRIo97+06E8ogOhiqKBhgMYwZZC7ik2+0GfANigIc7n8/VarXU7/dVrVajkfx8Ptf3338fxprCb8pNiDi8BgzF6KVODyEB5E1BLYCtVqtV5EIpqudnGIR2ux1GY5sEdiXlPy7sWyeLpAk/jGM+nw8exN3dnTqdTkKZEi1g+ChCd0PsrR/JW4IE8WxAxqvVKnJ37Hd0EogQ9YQYV3cIKYMB+sVgs9/Z+9JmnaPPcOC3RYgCnUHMPnAYEya6ozMEMzQ4wLnZ29sL6BvjhQ73ntA4Z7VaLeHceOQp3dcbv3r1SldXV2o0Gjo9PdX+/n7AyKw3So5o5M66g1+C0EOX4Ce9fihlATmiMgBoHmfsXeRRxtM9Rd9MwHyOFRPlgSfzXTYGP/MCe4wrn8H4EbnizaZrshxmBHf3OtQ0ZBcv//+/tofxLCL3PB16fIih5j9zjxZ4apuIBmwmjAmRGJuEBu/eO5KogE3GGDBmKLFMJhPNodm8jD9IBNeFOHR6eqqjo6OE0YM8xmelzVyysdN0fNaJ9MMNn0EavEyJHr4oBo9UPNWwbbCtlx2lYVMnEHmeMb2W+b3Dr4yNO5fsQ6JGz1mj4F3SaA33Bl4jsvDUANcl8mQfE216dOu6y5t/+Dv7fT0nu03iuuuhxiWexsL5d+IPRtb1tHePwiBKij0sbYIncpnMM3+cZEbOFUeu2WyGI+2MXPQ49bqe7mO/0zmM5yXIYSzInZPSQ2e40/YYeXRv2zRtncGhOJ4I8smTJ8GoJITH86Ae0DuaMOh4u7PZLJobVKtVPXnyRLlcLqJDSA0k94fDoTKZTHwvTfbxSInf4V3BGpUURxMxWRTuDodDHRwchJEAhpSUOILNS2KYvHdNQL8Pcnd3p2KxGHAqHjeknqurK0n3vUaBaoFZpU1UD6RPndjFxUXAn7BnOf6pWCzq7OxMp6enms/nevXqlVqtlqrVqr766is9e/YsvES8zzdv3sRcED38+Mc/1meffRatHNl81N36un3IQWKDMa9nZ2d69uxZICHu5LFRUS7eE3UbBCiTfeg5yuVyGWxzCB9EE91uV5VKJUg4jrYADeK8sve8Bo8xlDYRP/WXGNe9vT3t7e2FM4bh63Q6WiwW0TqQqBXnzuecv6fTqS4vL+Pa7oQRtbiTjSLmelxzm/Ywgo6C6X5ychJGw6NAkJnFYhE1lZDlCGiYe0lB8iH6W61W0dRmtbo/iPvly5fK5XJ68uRJRJ84TJPJRJeXlxqPxyqXy/ov/8v/MjgTBCjeb5igSVIQ+EAkR6NRwLygX6ylcrkcSCYtR3n+er2eCLSY+8fkth9lPPE+EBYeEB3h9MXFRUACvV5PrVYrykIKhUK8yHA4TCT8HcqRkgQlDJGz6ySFV8kixxty5SYlmyJ742tgZYccuTaeOZASR+2s1/dN6WFsAR05DRp6+7ZFJXd3dzo4OAhYzD25+XweMCYGFjYtzfRhWwK5A4k3Go0oY+l0OppOp3Es0t7ens7Pz/XJJ58EBMv1P/30Uz158kSz2SwcNGDSwWAQ7N1CoaBPP/00rgesKm0MuivvNGGB0zuIZPL5vM7Pz1Wv15XNZjUYDKLLCTC9R04PEWneZ6FxCaVdDnE5o5LoRNp05fEoLU0qI3LzqNW7yBDdONHMSUI4nd5GkTnBecLBhhgGHOdH5uFAz+fzSBNwIocbyofIJLyvK/JtSr0grHWO/8LZ9Xwge7ZYLIYuHY/Hb40R/WrJkzpJlFwoDs9yuVSr1VIutzlGkBw0hu/6+lrX19f68ssvdXZ2FgEROpa+5TjcfvKOVwH0+/14h3K5HPwY7zoEUgYfo9FohH3yNNMPkSJ/SB5lPDl/zVl1PshAfXjjQB18xo+LgULOgOCVPASRuFdPdOpn8fkke77SxXMZEFuY1IcMMIsjk8lEzsS7b0ibdl28M8bdN+W2Ce/msBqQhvetxBtk0aF8WAO5XC6ieOjxbKDnz5+HgcLRqdfrsbmfP38eJB7yF0QY5Dil+3E/OjqK1nB4k8ynQ4IPMUYd1nHIinwZubpsNpvI/6bZx9vIxMRJcQOGOLeBnCXzxeHKGBi4A8CCjKkTjdhXzm5HibIHQYFYNz4XpEM8x+ZEIwheDs27MiSiwCj7s6c/79fxiBQHY5uEyM07aDH+Pk/o0+Xyvhb0o48+Cn3G+HP+K7Bpuobd0T14CQ75U0bGc5XL5eguhZH0tcE1ncTHmuLvTCYTBFP0wmQySXQSQo/d3t7q5uZGkmKdSRsyoTvW7wrfPsp4UizPwOAVSBtvFQPm9F8StEQce3t7cVyMlFTYGE4nKRBWr1arYG6y+ZyOzoTzDEQoKHeUabvd1vX1taRNIfH/j70/W24sy9L88A8AAYIgMROcnPQhwjMyojKqKrMqVa2S6U5SW79DX+gd9BZ6Gl3ITBe60J1M1V1d1pWZURkZg4cPdM4DiIEAAWL4X7B/Cx+OMyudWZX9D1hzm9HoDgIH5+y91/Stb60NScJLYLgW0J0rXzfS1IJJCoPChnzIYvwYhjsGOESsS6lUirWAyCMp2mW5505ulIJrlOHW1pb+4i/+IhiqGCfIWJlMRk+fPo3NjcHiqKGzs7Mons5ms3r27Jm+/PLLaMXV7/cjh0F+xinwCCP7hrUrl8uS7iJveh8D+fnaO1vvj/FWfyyj2+3O9X91uNprZzlAfDq9q/OFaYnBvb29jcimWCwGkQtkwOsznROAPFNwT+QAHOcHT0+n02DFsxdQpiAPkubIHuiR6XQaOTS+A4jSFbXDvUTLq6urkYenXeAijU6nEyefSIrewcCVnpoiXQPMOhwOdXFxocvLS2WzWe3s7ATSAGcFkhD6jYApl8up0WgESkOukbp4uASweQ8PDyUp+CzsDWwMKSAf6JpKpaKbmxu9fv066vTZd6VSSbVaTel0WoeHh/E9FxcXweLf3t4Op5uUm5ek/XPjwTlPjFQyrPdOL3iibGCMEOd1Eo3Qg9AVkf8bwXO2J2xIn0QYld4ViPd7FAKuTgEwnhOfT6VSQU7CQDrUg2fjxj7pofI68IV7w4s0mFePJoDCk+vtRAsUlaSYS6BWIs+trS3lcrlgukkK+By423sQo2xhYKPkM5m744pevHihlZWVOSHzKNkF0aNEh18dTaFTCfCRE0uSezQZzS7K8F7F7rRKHx56j5ef7OYkzWSs3+/Pkb+Aw1CYoA94+NIsWnHWLEqs1WrNcRYgAXkuEtQIFAmHiftyeNHzmTjROLbJ9fOaP+YhWdKzCGM4HM5BnkSeTu6SFI4igU6xWAxnFeIP5XhwIIBFHT6/D85Ff+M4SYrStuXl5blI0Tk0vh44do5geAkSpUQca0fA5Ic5nJ6eRsoJ/QwhEZQFpOxPEnlyYYc2IF84O8rZWCjc29vbaPVFhMem9s0saU5IHE7F2OHtOCyAh+z0e5Qe8ANREOcvsllc4TOSBArynOS9crlc1JpJmvOU3XMil7Aow6EzYB8UDDliSUGO4lnZE945iIjfz9ukbImohX3kZIF2ux0NvMmbjkajYOORe6WcpVqtqlgsRo2X58KkGVvP857AeE5M4W/OQHRqPXvN2wfyDIsWlaBU3FF0Y+qHGziaQj4f9AlYH9n0dWQkc4rIL3lJSdHnGHgY5QpL27shIe/ksnCC6F7k7Ew3om482JuSwtGV5g9fJ1UwmUwib79IgzlAf7ozgpMynU6jrzQyjYziMEHydAIV18Dg+N+y2azq9XqgBMgv5W8EIJ7Oke7qu7/99tu4V2SWw+a5Hg0Xdnd3Va1WNRwOw+G+vr4OYtlkMgmSUyqVCtY+Z4Mi90kS6MfW8z7IeBKd+QZ0CDPpNRDJsWkhDXl+FAFFEFB4SePJBJPc9iin2+3q3bt3ajabWl9fn+ssAZGn2Wzqhx9+iLwZ7ee4nrecSkZQKPtOp6OjoyONRiO9ePFCjUZDqVRKrVZLrVYrNhUblyT6Io1SqaSlpaV4Hj94OJvNqlqthhfZbDZDIdLph5pY5hYFCXHA2cegAOQUiexoTuB7ajwea2NjQ7VaTe12W99//70ODw91dnams7Mzra6u6i/+4i/03/13/11AwhzIWy6XVSgUwkHr9XrREIP2jhcXF+r1elGzyt5JUtg994t3C8N7kQZMdcpyGo1GyA5QnnS3j0ulUhS+U8wO3AucC/LjnamQJdZRmsGp6XQ6FN7NzY3ev3+vk5OTSOlQw0dNN+uHk8PB1OTvgJorlcpcSoU1R0ljDD26Zh/yvMyB157SC3uRhkPy0ow5nU6ngyQ3Go2iNSYnlqDb0+l0kAIJPJgfAhKMLk5TOp2OntEEKq1WK2DgVqsVOiOdvmt2sb29raWlJf3617/W//V//V9qNpv66U9/GukbP1EH3V0ul/XJJ5+o0WioWq3qJz/5idbW1tTpdPT27dvo3Xt6eqrxeKwnT57o+fPnSqfT4SxQdw47n1agf5ImCU6ucOKENM9odOPpkKYrUIfKHDJLhsxJCNeZfF6nNBwO1el0IiLwZDEC1Ol0wvMBtuK5eDb/fiAHjDieFgrAT+3w/AnD4cxFGSgO8jxAMNIMSWDd+/1+zD/rBNsNZco64Yzg5SeJYb7OeI/ZbDZo7tPprHMVkTFG7+DgQKVSSZ9++mlEyk6CYI86OUSaRUR40TA1WTffu46m4Cz4/l8kdEGaOYTJI7dwCoA0ieqA+oDxpHlSGRGb6wHWIole+A+fQ5lPJhPV6/XYM0Q+Xg7Gffg9cJ8eOXrKx+F2CEp8VtKc7DqciaF1ZG1Rhu9d37+O1nnExTpQasdeR/dRNsR1HXnxnKZHrH4P6F7ug9/kYK+urvTNN9/o8vJSmUwmarYxau6c0+cax5w0IGRU0BByvDhrpN/QBaRnQLlwAj5qfh+yGODD/iUoQu9875CsR460e3OCjxMwyGcS8QCTjEajOHjZD7ZGUJaWlrS1taVyuRwGDW+T30tLS6rX60E2YoOUSiVtbm5+kNfibEmIBmwEbxBN/nYymUR+7z5W5iIJXafTCSgb5wTPlQ3IWgF3sL5AMeSvgN6Ai1xhAeE6NAg5A0gOdt/q6mo0b0fB/vKXv9TLly/nIhsiUs/Xjcd3h6ZDMsrn89rZ2YkG9y5Y5FyTZSjSfA7VnSpIaYvWuo25JVIDqmNvO+nOmZUoLIcDeT856WR6BWOHLkBhHhwcRARAvqrf7+v8/DwiUPYixB9pvr2bl8YAO2JsUZR+uDZRszvsrLtD0w7VEzUtWhcpyHAYwOFwGIxT192e58PpxCjhANNdydMwLgdEbOl0OlJovI5jdHR0pKOjo6hcWF5ejraH6XRaFxcXoUfH47vudZlMRs1mM2rNvdri5uYmSIdOEONnfX09CENbW1taX19XOp2OLkTZbFa1Wk2rq6sxH6TkPmY82HgC6XnxMhuOExeKxeJcbowJBgZBmVKP1263QwmBUe/s7ES7v6OjIx0cHCiTyUTPQ6edLy8va2dnR5Kinof7cuO5vb0dnlWz2YxSB3pzcq+9Xk9HR0fqdDqqVCra3t4OY8I9SdLl5WXkY4h4eRaPpDzC+rGPs7MzNRqNKET3jknAnHjwkH3ceAJt0cbL2ctEMsyHw0h4j9RzEuWWy+U49YZ9UCgUAp49PT3VwcFB1PP94z/+o7LZrDY3N9VoNDSdTnV+fq6bmxsVi0X95Cc/UbVaDc8XL5ROQi587rFTsybNFA9IBMpikQY5e2B67x2LbEmKHFM6nZ4rOscA+t6GuDEcDrW5uRnXpr8xckid3j/8wz/om2++US6XU71e19ra2gelQrB+MZ6ei3ZUA9Sj1+spm7072B74+fDwUM1mU1tbW9rb2wsyGhEGRoL0TqvVCoeCtn7n5+cBFS/KyOfz0bgAOTg8PNTt7a2KxWLMkTQ7IgzCDdEjpSCksHCOk918gEIlxeHwODPdbleXl5d6+/atvv76a9VqNT1//lzFYlHNZlOvXr2KagwOth6NRnr9+rXG47vmLBD3vI6b9p9Ay8grz/v06VPt7u5+0KoPdi06Br2Do/gniTwd5rqPkZQkDPlIKiS/hhsZruEkD2lWl+awsGPzRLt+D/fByEmIGGGUZiw7vGqvLXP4ifeyAMwN13R4cNGYmMnoQ9IHRsSfMbkPmM/7WKw+HPK7D8bndWdIAq3SUL5QKMSRWNwjhCVX6k48cjKJNGvHmERK/LmT0KPvLdCNjxW4H8tgvh1dYN7Yy9KsQYGjPNJ86oa9QS7c2xv6vDJAa1CqOFrk24CMnSCErPJ57sGVIp9FDyTRAa7rvAyu56kV9EDyuRat+T971p/X26GiO33/M2f8jTV3GUU2/XPMX3IPALlyUtL19XVUWfj70Tuk9kgbuWPOeqMTJN2rX7kfIu9kSSTPgFOQ1Dd/klKVVqsVnhgbkU4l3nwbJYb3gmHjSBrqrOgIwoISMfAwnCNJiQMeaqVSmcuPeTmFExVQDuPxXXP3V69eBbuK9xP5cg2YhM+ePdOTJ0+Uz+eD5OQ0aDxeFsqT8ryOh+zK6Mc+aNTOyQXebQaBkO42Iu9F6Nxbx4sF8nPGo+ddUIxOPBiPx6rVanOklKWlJdVqNQ0Gg2ggTV2g1xmyVihjSVEETYTiJ6944Th7jX977oR9BdrCsyEH9zkIP+bhTqD/xki5wnFFmk6ng3jjjgrvg4mcTqdDrlKplIrFYugFFCOyx3cSKdGgG9jfkYnRaKT9/X19/fXXkqRPPvlE29vbkjRXU8198d2SojUkShmEyPN5k8kk9g3OejqdnmPWL8qAk8B906AE4+jlKcD3fI6UBXLSaDRULpcj5UXKhvkpFot6/vy5RqORjo6O9M033+jm5kbHx8dqNptxiAKkUWBUxnQ61fHxsd69e6fhcDh36hZoIWx/YHZ+Ux8uaQ6KTaVSkT+FVCbNAgCeBceXOtM/SWP4y8tLrayshJdKQh+DA6Wdtmm+6fEG8fqZePJFo9Eoyg6AdShWH4/Hwb6rVqtRrkDBPN/jhAX3miaTiVqtlr755hsNBgOVSqVIHvd6vWBc+TFH/NsZn15jiPGUFBERDgI5BpTKIhnPYrGo29tbvX//Xr1eT7VaTdvb20qlUlH4nkqloixAmkF7QNhEiRxDhdcOxRzl6tBZt9uNtaxUKnP9S6W7+d7Y2AiItdFohDKlpdfm5qa2t7cD8vN7wonq9/tqNpshIJQScX/O+K7VarGWpBycYZskPS3SQHl4az2Ge/askZN8cFrJ+Tv0R6nIeDyOntaVSiUK9el3jAJG9pDharWqvb296D6GonPC2enpqf7f//f/jfIHnBznWvjeojTOjyVDZpPRM7l65mY8vjsooVKpLByjutvthlPiem06vWsUQ59qdOp0Og05ZP0JQDiE/vr6WicnJ2GYCRCQ18FgoK+++kp/93d/p3a7re+++04nJyfKZrNhgIvFonZ2dqKNK403Xr16FSS29fV1bWxsRJkjjU3obQ77++bmJuRUUtwrDtHJyYmm06nK5XIQkBympwxmeXk5nLaPLTv7o05VkWbC5x4e3opDHkkWm8N4ScjHDRXwC1EHv9374/uJfPx7/LfDNwiUM/38fUBUPE+S9JSEnv0ZHV5KQsaLNDyKcpIHf/t9HrjDRE7qSP447EmU54iApDkWL/PuG5/rO/kMT9SdqN8XESZz0hhOjMl9779vTVnvRXKQfDjslYTf+Hvy/fd97r7oOymrHtknHRvfLyBAyRSIk1M4R5JGG9QBOxucCAsUCKMqzZi0fl98F3rHn+ef2/c/1uHld8kUBM4EkSU6lvyfQ7jJFA0y43PCvELkAaIlF0q5G/LrDg+O0erqahxvh3MOR4IghCAK9IfnlOYrPnxtk3bqPr2cTCt+zHiQ8UwaME5MmUwm2tnZiQnyBDMb3HHo+3JG0Jxppk7TcP87zLfLy8tIVCcp757ToqaTBfUONjQHhphENxmgBVrR4aE6HZuN5AXHlDnA9OO9i5YPo65tc3MzBIKay0qlovX1daVSsxo4aT73xN4AOk0aHTeGji4AzfBZOpR4ez+MJEXb5MGfPHkS8BFsT9r0+aD0xSFE74dJvs/LHjDU7AFpnojhLL1FHKwJLEpJwXiW9IGC5HmRUZQvcwTpiIYWLrOUi7VaLV1fX6tSqejzzz+P7jVEgsBsrgTb7bZarZZ6vZ5evXoVxJf379/H0XZPnjyJ2mtv8oCihgzIfiWF4OgQr/PsrscWjW375MkTZTIZtVqtaIOJfi6VStrZ2fnAIQA2J22GQ4vuBDXwdNtkMtHx8bH29/ejZterFEj/7O3txRpRG4xDQ3T485//PBo0oE9gwuOokiajSxmRKIzfo6OjSOOAZEqzvuiOrBBpTqdTtVqtOKnlY8aDjKekgFeku7KG/f19jUYjFYtFNRqNuQSyw13U4bCJmSBplsR2ajULBnyCAuX0cr+fZN0YOTe6CrHYeLTAw2tra6rVaqrVaur1erEBPEfS7/d1dnYWRoVNxHM4ROT5Iu+ig8FdhNHv95XP51Wv15VOp3V9fR2EnEajEf0oqbfCoXIiEfOQTMbj0BAp0JcU58KvhTLlKCQOPEdQ/GBb2LOdTie6i2A8ye3AMCyVSlpdXY1rQ3enYJycinvGOEieA3I4d9EcJIZHkTh9ODXkvIHJJIWzSvolGfGzVr1eL/rcLi0t6fT0VBcXF9Ghi/WHWcl+Qbmxd3BKYLH/0z/9k9rttt69e6fT01NNJhO9e/cuDpmgqYITxNbW1gLiHwwGcdA53ajQVThf7FVp/jxLynAWaayvrwffgxJAkLWtrS09e/ZM6XQ6Gg84EkB7PkrX6vV6tNPz/sTM81dffaX/8B/+Q7DayR2CNAHb7u7uxpm+XmOdTqe1uroa5YmcYpROp1WtViMniwNLmgzODSmZi4uLSDnBW8nlcnN5WjoMIctEshcXFzo7O/vTNElg8rlxSaHMIIiQ70iGwa5gPPqQFF6mQ8FORHC4QZrBB77JHb5lYuhI0W63505FoO0XBCaugXH8fUwuZ2NhGN1zchjQBX+RohLyjM4+83MPnSWXjCjdcPpaMngtydpz40oe2Vm/fC+vsQcRhPtgQyArIGcMsncNIjrBYNy3B+6D+Vzh+n5dpOFR131wVZJN6fCpQ5rJefe5wRhyXCGMSz+sAeXnKZhk2iAJKxcKBW1sbGg8Hs/VgvoZouTbkznp++7X97FDvUmodlHz29IMik6mzfjtkKbrrqReQw8438BrnTl5Czmmf+zGxkY4rl7q4rLvaR1pfr59/2FLkvLo8judTgMRQY8h966zmRPW/CEpmAcZT3ohMnK5XBSqS4qTSpJ5ESAyGJVEh9y0k09IcnvtnHsxtPVjcrk+9WFEBOl0WicnJ/qP//E/Rrs48PVGoxG1m3i8koKlJc0MM5EqNU94q/RXdaMxnU7DayEZjcezKIMesawheQhJEV1gbJIKh2iNgns8Pd8HXp9bLBZDKH2Nh8NhnJRBYX6/39f+/n6QVDDQkuaOyMK5ITciKaClfD6v9fX1KMSmPuz6+jpOhoGxC2mt2WzOwbNe54YH7g3uF2VwAgnPhoKUZnPOv524g8JN5hF53cl1b9680WQy0bfffqtvvvlmjrGcz+f14sULPXnyROPxOKBFd4bYW8w7J2Csrq7q008/1XQ6DWWcz+f19OlTVSqVWBNOCuH5UK4Ox0vzqSWMhu8h9vKiGU/0TtIokPagTp1yEkkxPziprDEEOUkhNxcXFzo6OgqSEd9Fjf3Kyor+zb/5NyqXy1pdXdXe3p5qtZoKhUI0dZdmjhqOFvC6EwglBQmNRikgkisrK3FwN8RPXud5XEdwbb4bJ5vo+E8C2/Z6vTBS0+lUe3t70TgB9pYrQmkWodAliJNZarXa3IMxgdw4OQ7prjmDl3/AoPXuNknqdCqV0vHxsV69eqVWq6WNjQ1tb29HN37HwomIKb1gEdk8wHjkYVOplK6urnR5eanJZDJ3FJKfTecQx6IMYEsMDr1tUYh0DkERSjMP0ZtW4ND42YzkNbge9X2SQgFizCiLKpVKAavQxzaXy8W5qaurq3MeKLAvEK0rRASL+0Ppk9v2Y7VwkPyQbNZamgkdBeKLBumhTHCCkBtpxpplJMkz0jypxslF3pHm/Pxc/X5f3333XZSJQU4pFov67LPP1Gg05orTvQaXazrjlVwdZDJQCBojOBxITtuNu7NIeV5ysbyOkQXWYywaNO9t6JwEmU7f9aUl/eX8AE/BeP7XD1MAam82m3FAA/ufHDdr/emnn+rLL7+cI/YtLS3dy2p1UicGHXY3+6Db7cbRYjgEBEVA8TC7XS/A8ieQY997xOtR68eMBxlPlCPG02sjyUmNx+OATxy68TAbuIb3YwQ9ooCQ41ApE+xsKYcgULx4JpQk0PHIm8o7JOhRjMMGCBwCxfNybxCaeM2hHmADhzoXYSQZyrzGHDjE5XMlzRSdwypsUJ83F9CkozEe351C3+l0lMvlNBgMtLq6GscjJck5RBlLS0vB7AOi9c4iKPkkkxAPlueEeCAp6lqTULOzcx22XqQBccbTJ95EAGXLv6XZ8WMOkzlkTSnTcDgM5xJiF4aIDjEQA5PoBaQjHGRphiawZ8iJSjPOAyiW8xtAUTyt49EXez2dnvVwRYE7X4G9vIjD55SDKjziZpCK8nRUkr/iuWFep+PU1dVVQLXo2VKpFE6xw7PS/JFx/uOpIk5IcgcNYhvcEoIvL4dkTyOjvmecpwDH4r60xMeMBxlPPHIEIpfLzR0vBomGMRqNdH5+Hid0sFjU+RSLRbXbbb19+1a9Xi/afwGrsNCQAYBFfdGdmNTv9/XmzRv96le/UqvVCi8VT7dSqUQES31ZuVye67FKvoReipJiU/iRVzwvURj5XmBJSAwQWRZlODNtNBrN1enidLhTIc3nTnCs8Ppvb28jYsdpWltbUyqVivpMEv0UU5+dnenq6mquvg6kAeeLcXl5qaurq4CSYRW2Wi3t7OxE9OpniyIgydx8JpNRp9PRu3fv5pofoPiB+QeDgVqtVtSwLqLx/P7776MlHrV0zA1wpdfVTSZ3tdKdTmdOYXmd7fn5uX744YcoUbi6uoo5puxgZ2dHm5ubUSzvpQ3sAyKTtbW1aBKfSqXmkCUMKc4Y7d3Ozs4C6qMIH0gQpeyR1XQ6Dd4GjtPFxUW8D2XsBMdFGaAnFxcX6na7Wl9fj97EEOYkxVyPx3et8KjRd2PHII2Djvvyyy8DVTo7O9N4PI7WmIVCQXt7e3PIIj/OYcAJhbQmzXovp1Kp6HnN3mTNKU1iLdPpdOhu9Aq6oVarRY0rjO90Oh1wrxvPjx1/1JFk/ED59VDeLT+KxfNjPjH0sry9vY2HgdkHC4oowklFHjW6F3Vzc6OTkxP9p//0n3RwcKC/+Zu/0bNnz6KVGwpc0hyUinCywMAzCCo/bBggI0kR7cISdNYvCmYRB8oEb9AjxSRpxMkzSa8dwg6RIL/5HJ4+p6P0+30dHBzo+PhY2WxW6+vrISQ0k/a8G6ereLkL+5I1AHqmcYP3Hsb7xFG7vr7W/v6+hsNhHHHF87NPPE2waFAeAwY1MDvziBPhMB9OIukMPzTA5/3y8lKHh4fBqKWMDbh1ZWVF6+vrevr06VyzFJwQSlVOT0+VzWb15MkTra+vR+SJDvDIh040jloUCoU44xXjPhqN5vLt0gxl8m5hRM10FqO0bhEjT/Yqzky5XI45GA6Hkecl7QQC6CefONqEocNZwTGdTCbREWw8vusOtre3F+uQbI8nKfQC6ZLJZBIRJbLmA53vx+HBRfG8vaS5PumwstlfpAZBN5xExXN+7Fo/yHje3NxER3rgWSaBiAQhS9ZuJolGKE0mjdIRchbSjHHJ/4kWMNIIxfX1tU5PT6NW79NPP9XW1lbkOLmHWq0WBheFiLDgDOC9oGQ9ovZjurg3yAVEpF7wzT0vUlTC/KKcoOlnMpm5xhUOpUj6YBNKCuXqXicGbDqdRnNnaO94nZBAvN2jM/v8uyF7kPui9pOaXc4o9BwZe4poiH2LAKJcqeekoBwl4A6i5+EXaZTLZVUqlfDkiVKIAJwgxF73NaJf6WAwiNxms9mM97JvIAdtbGxoZWVlDulBR3A/tFRzGWWvEDm68yZ9CP8hd+TdcLjdWDs86MFAKpWKchecd/LwGNlFGk6UIjBxfoZ0Z2CLxaLW1tbCkEmzoACnhMgPNEmaEY+I3jc2NjQajZTL5cIAOzfCoVn2GP/n78gn73FHnP2HE4U+cOPJa7e3t3MHhqytrQVfAXuSzWajwxHf7QjpHxoPkvjj42M9efIkYBda9TG5PAi0ZcgYtFVDIDgAlxut1+sRHXpfTOBeogkEC5jp6OgojObbt2/VbrdVr9f1P/1P/1NsBhZia2tLu7u78VmU7enpqc7Pz4MCj1cFPAw07QYco4JCYUO60WF4xL0Ig9yIR/TNZjMUqbP27nsuV2I4I5S/oAyvrq40Go10dnam8/PzgLzpXQuz0Y00R0uNx2Ntb29H3RntwhzdIC/Zbrdjr21tbc2hGOVyWZubmyoUCup2uzo+Po4Cf4gF9Xo9iGWUQkBaQCngyS/SGkvSixcvVKvVArbl1BNgdm9G4YSi1dVV3dzc6M2bN3FMV7PZjFpa1o5jqKS79m9/9Vd/NVemwPpcX18rn8/r2bNnKhQKIXtEGhcXF5LulB8saDeMnjYhkh6Px5F7BeXCSYLQ58dq8eOkJBjHENKWlpaClb8og+CCNBhQNi0I+/2+UqlU6F4IcdS9v337NmTV+1Sj77xxRLlc1l//9V9HQwyg72q1Gj1x+TzRI3rBORJEw35MXLvd1tnZmbLZrLa2tiJyvry8DLl3Yhho0MbGhjY3N2OdJUX6Abnd2NgI9jDlTa6//7nxIONJqYmzTr3G02+eaAKv3ZUp4brT22FL8V43ckQ8niyeTO4KpzGep6en6na7qlarev78uSqVSvwdYUFRENYDKR8eHkYk4kxMh5mJKL1e1L0ovOkkmWnRIk8cBo88kzC5k6t8JOfN4TXmDFiIBhYYLJwqPGTynI5koBDpsynNmJLX19dzxC72GOQUjxyTnjgRF8qRCIO6UHIxTmZzgpuTahZl4KiSj8LQSPOnTvi8pFKpIHEhW4PBIIynEy88Wsjn82o0GpGS8fehPzgph+8CReh2uwERYtAdKv99UBsNv4lmKfz3kqPkvTj5CCiXKIfId5EG+hjdiwPo9Y/SbJ+7k8Rn0OsegXo9v68xskRnIqJGRwvcwcXRcVSItfVae9BBDgbh2ciru3H3lA2kMdfpICL9fj/SSP7s7PGPGQ/aDevr68pms2Htvc2R5ywkfWAwMVRe/uH4dlJQXWDZzNJMKPFGzs/Po6YLj5SwHc8CJYeCZVM5E5SJxtN0qIr7YoNgvBF8omNnDXrEtUgdhrrd7gd1uAiAk4WAKpk/5oS5d2MIzI3nSd4YwshkMpnrbAJJzOcQaL7f76vRaATMD+GEz3n5EXvUnRqEligEghhCQ/5emsHHOEFAVOwVf95FWmOGM6qdJY28MG8oNCeR5PN5ra6uhjPUarU+IPn95Cc/0dLSkkql0lwKxA2XO9tJGXbYcTi8O+eV8hovsSFi+e6778IRppuZNw33/YtBIABARzEvvldY30Vrzwd5jtygdNe5h/llTZzPwH5OpVIxd+wNZBcd6I50u93WyclJdGo7OTnRysqKGo2GKpVKzKUbbWlWg+polTSr7Z9O78rb9vb2wniWy+W5NAHrBkJEOganEP0Me340GsX9w0T2Mpk/CWy7tbWlfD4fuUUECKIFITed8z3yoI9ps9mM3AcLAYQCcciNkXuBRJu9Xk+Xl5d68+aN9vf3dXt7G5uCVmtEHBxxNhgMdHx8HAtDLgPSQaFQCHIKrFEmErgQEkI2mw2BQviJoPgcCe1cLrdQNYD7+/tKpVLa3d2N4+fwOv3AWxisTivn2dvtduRRVlZWIlLBe/fcFoQMlN10OtXz58+jTqxSqWhlZUVXV1f66quvdHFxoVKpFMfFlUqlaEOGQR+NRjo8PNTp6ekc/Mzf8TQ5oR5jT3SD48A+gaFHgwaIRMD+5P8WaXiJGF6/57Nwfnu93lxEjjwXi8UwdBx0XCqVtLm5GUpzb28v1rDb7Wo4HAaxBIWNUaIBi8uypDnlTA04ih82/9XVlTqdjn7961/rq6++Ui6Xi442z54909ramvb29uLZMcY4x+gYz3u5A4yDAAy9KOP8/Fzlclm1Wi0g0OPj43AYeH7mU5od9J5Op7W9va3d3d25nLDnPzGEk8lEV1dX+u6779Rut7W/v69Xr17F8XToV9J9nvbxfDTIghPBJIXRdPY9h5zjACPbHK+Gg46+Ojs70/v37yVJOzs70dLTo2SM8Mc6SQ8ynkSLHro7S83PgbsvGY+RkTTHzmUDY4hcqD2PyN/pEEEhrRfhuzdK9JOEap25x8QTfZLX4m94qh5xIWj+N4c3+DcLuEhMPXB/5jzJtkOpeeMAh2Y9UmWu8FpxKvAKiVSkGXREZAfDlvZrS0tL0ZKNNl8OM04mk7kcSrPZnINZPRdLlIGxZ31QlhhP4B8ikdvb27kSCZ7doe1FGQ6jSR+SoBzO9PfwbxAjUAXIhMwVOTaK4d2bT16bCJ618+jHkQT2kcOHNPOm5+3R0VHIMM3n0REe9Xh6hXX2vZK814cQSX4sA4OIU+g5X4ei/YQS9oAbMNcFEP7Y+/ALJEUA1Wq1gmlNCRIy52vg6R1ptqfckDL/zrgm5+nkRe6RazgJbjq9O0rt4uJCqVRK9Xp9ziaBQPhrHzMefKoKkA1KBgEC5kilUh80kyZM5jw3FqDb7X5AtkBIHApDaQ+HwyhjaLfbury8VKvVUrlc1ueff661tTVtbm6Gd+tFweDxeNy0XctkMtra2goFjAeMkshms9GqDLZWkp2JscdgO/vyvnzMj3ngkZ2fn4dgsAHJSzlbmY2fLDnw3Ce56vtKBaS7OSJ68wiQyIeemdVqNYgE/B02LZATRK/r62tdXl4GbOg9bTGcwD50jwJaovhamp3EgFJwuAfPvVQqzdWeLsLAsfN9Sx0cihblyCHSNKTodDp6+/ZtNA4nKiDKoYbTIxWi9na7Hef+Xl9fB1r0/v17DYfDiFSXl5fj4ACaY6CkQaLG43EQ/m5vb9VoNAKyI+Kh1IhSFRw3ZBgSlJ836nXpzrpftPM8nzx5onq9HgQocn2eJknm630fkw5Jwvi+Z9CVVDRId21O19fXoz6fVAi19hhVroG8oQeQUfQDa0+uGlmnlA2Y3g2s66jJZDLXzQznmFQiPJZku9Y/NB58nicsWyIEb5sHKxXjiZdIxLG5ualsNqtOp6NXr17p/Pw8hECaRXC3t7ehMD2aJK9B1/zDw0Odn59rfX1df/3Xf60XL17EPQG7MVHSrGj45OREx8fHWlpaCkblaDSKNmvAiQgMBgNYkYV0Y+ykGhS7NHMGFmVwFNkPP/ygwWAQ0Hw2m1WlUgkYHCPJJmfdvDkCA2WWRBk8CmDuc7mctra2oqlBq9WKhhy0dBwMBkEkobFGKnV3ajz9hFutlg4PD1UoFLSzsxNkNL6z3W7r9evXarfbATcWCoUgjZHbpwEAOZ1UKhW9cOkyxcHpizQckSEioD0l60mETR1ls9nU8fGxWq2Wvv/+ex0fH2t5eVm1Wi2OJGSNPA8O5O0yhuyVSiVdXV3p17/+tV69eqW9vT399V//tTY2NvTu3Tv9wz/8Q5y8Qz52c3NTm5ubmk6n2t/f19HRkVZWVvSLX/xCu7u7kmbICCe7JOt/Pae6uroaRBRSQzhYvEY52iKN7e3tMGLpdDoQu/F4HGkVSXNpByfb+YEaHgn6byL4bDarer2ufD4fDi+sXnRItVpVtVqNtBvpHWp5OXUHA42u8HpxECacXtrDIo8EM6wZSCh7U1JAx17miH7jBJaPGX9U5OlhNuF8MnR2qIwIxMNuaVbHmXyffx+TgUGlNhDGJgLFOY1+H8nENK/huTgExSbwBgkOGSRLNNwbSjJsfY4WLfJ04g9EGjabQ3XOnEvOhf+b4RAc/78P7nVHR1LAKjglydpRr0nkM9wTBwX4fbgzxp5ypjjP5NAW+w+B5nPS/Ek7izRcZp01Ls1DuC6TpCVwbG9ubsJZBelxZjqfdzISuUOgeY6Ha7Vauri4CBIY695ut6NTEfMPc15SKGp0C6+zXn6QhD+36y3XFf66p4D47CINT5E4YUea7+37z0HVwN3SrGmM7x3kBT0xHo+DxU4VhetQj/xxcPweMHyuP1we0c/8RifhsHkaJmmrvDkL12V9HSn76Pl96GJ4EwDffDyANN91h9ykd+vHyyGSA4cHWiGv6sor+RuSCRAEEAteDt91eXkZC48AptPpgGlokEwkyf1jOMjfuDAlP3efE+HQ7yLlw4Dl6/V6nGEKjAr85kl9FCoQD4w2+pze50AlGXUIHMgFpB9n5kqKRtYoMYSFNmMOwUJSyGaz6vV64V3e3NxEBPHs2TM9e/YsSlHS6XQQEYjKvOifOkOQFZQ1udpFGpC8KAlyx6PX6wUzHmNJJCIpWOzMYyqViij9/PxcqVQqzsr1VI47q5KCxDcYDLSxsaHl5eVIkcCMf/bsmWq12pxzWqlUAiJcW1uLE5LS6bQuLi5UKBS0u7sbEDIt6dBBfD+/YYhKCh3izh5w4iK12ZQUtbZAod4QnZwkRo/974xY5sGjTWn+tCzWdGVlRXt7ewGfQ+5yuJdBWeB0Oo3ORtwvzFfqSLkXCKOcwev8GEnBn/CmCaRgJEUjBAw93bRoIcjzuoPxh8aDjKd7/+6FpVKpUFqSgpU5Gs1OUkEJOmkI4+kJfTBtMHCPYnzCCMWZIDYGsPLy8rI6nY5OT0/DKLvnQS9H+h8CUXGP5FmYYI+QJMUh0ShVP4UC4+lMxkUZCFOj0fjgvoFRM5lM5KVQqrS8gnAE6zlJPoJhzWb1s/fYD+TKuBdJcarK9fW1SqVS0Oj5LgQZIXImOE0QcLI4Eunly5cR6cAG7XQ6Ojo6CkSDe3dj4NAuHXoWCV2QZsbT887IGejOzc2Njo+PwyBC6srn89rZ2Qny3unpaZD3qP2E3UqUiLNKBECRe7vdDgh3Z2cn9glO2s7OTji8vofYF/V6PZzqTqej8/PzYPq+ePEijC7RtTM7iY47nU4wMWmSIM1HYJRGLNJAB2NQ/Hnev3+vg4MDpdNpffHFF1EK4pGin2vLcK5H0ngyt7TgvL291cHBgfb39+euAQfF+RLoXO4Zlj45d64Hm9f1NVEn13TCoreUJaBCX7kj7HvjT2I8HeJwL4S/ecTlDFjeB9yFUuZm+YxHbnzGoSLIIBglvEjvnYgSIP/mZ0r6feMRJesVeY/fu8M3/jwxif8lIk9GnnzvIg7mxtdXmsHZjgTwXm+nx3p7eQPv4xoO/Urzx1wlIbL7oH1/D59zB8/LDzCwDvcA+ThTO8kA5HvYZ3yO50lCe4syfC6TKRbky+dDmm8ikE7P6qVBD1hv9/pxZohSkV9XepQYwMB3Zif34Sxo1oBcWzJNQAThxiIZNfH/++BJnpW/S/M1sYsyXBd7baPrVdaR97v+cuPo8+Xpr2SaCyPkRtgJQUlZSe43ov3knuS9vh/5ziS868/re5xr+zon4dw/mfGk1ydemxtINxa9Xi+62eO1TyZ3dXWer6IO0nNWbnggF7x//14nJycaDAY6PT3V2dmZVlZWtLW1pWKxGInqVCqlTqcTcGG32w1WbblcDtjNT0fhpBhfIJomAxuQX3UYI5vNqlarKZVKaWNjQ5VKRdPpNPJB1EXCNl6kgeFDaXnHITbr+fl5bPZyuazd3d3IP9FeDYiFayC8QDCwLV2ZZTKZaCJOpAusXy6XgzkI9OsOGEK9vLys9fV1NRqNiBiurq7UaDTiVA9gI2oMz87ONBgMtL6+rt3d3SAwUEdGzRprjEMHlLdoh2Eji14KAhzGfGezWW1ubs6RaRgY1mq1qo2NjSB9Qe6p1+t6+vRpwPEcsA78ST1nsgaaPtfLy8u6uLjQu3fv1O/3tb29rZ/85CfK5XLqdrvBiOU+MpnZMXTs1YODAy0vL8/1MPb349gtLy9rc3Mz/u17ETTMOQ+LMnBecHClmRGk7STy5k4FLGw/RccP6SgWi8pkMrq6ugqmMzLpxm88Hmt1dVVPnjyJ8pKrq6soMYJkyMEO+Xw+0B23C8jbdHp3qsqnn36q29u7tqEgXtSRX19fR6tN2L3OWSGSlRQMYcitMOg/1kl6sPF0rw6vxT2c8fju5AXgvXK5HH0Uj46OdHZ2pmKxqN3d3Q86VXgkwUQQpv/ud7+LsB4l50ebsembzab29/eDCo1HCTQMrOsUanJWXquZyWTm+nWiOFhUuswAOUHB5gQDyiUWrQbQnReo4UTk0sxTPD091enpqUqlkv76r/9ajUZDvV5P5+fnEbFiUJhzrkWUcHl5qXfv3mk6ncYcAguWy+Xog9vv94NggtHE2SHSlGb51OFwqHq9rlqtFqza3/3ud7q5udHf/M3fqNFoBDEKY395eal+v6+dnZ04ygyyiqRook4eHRTk6upKvV5voRphSHfGk3RGOp0OJ8IjjWR7M8o2pJmXjwxls9noNHR7e6tKpaJKpRIRI9cAEmYf8YMSLJVK2tjYUD6f1+npqTqdjjKZjF68eKEvvvhCuVxOzWZTp6enYRSAchuNhorFoq6vr/W73/1Or1+/VqlU0u7u7typOuPxOKDfdDodncUcUcGIkMbxsqxFGaQWfM2I1iqVSuSXWRv+hgy1220dHBwEU5V1RA7b7baOj4/V6XTilCzPnaZSqblWm44E0nTeHa69vT1tbW3Ntcfjc0TJONbso6urq8jtjsdjNZtNvXnzRtfX16rX65HKgZzGXnFD6udKO5H0D40Hs22dRpwMv+/77XkjZ+U5/MMksXndO/T8Kg8uKUoUyDcSFSKsGABX+kREND9HKNxbwkMlj4VzAAwMDi/NFLdDD56fXcSRhM2TUDq/MYQoF+9S4u3XpHlmH3OUSs06m/Aawx2xJOztMBv35wxC3p+s0QMWdJTDGbvO5OU5YBfyb5wrPGYvT1q0qITncsjTWfLOOmY4jM/fnNFJ3mk0GgVU52meZKoHaJ055Xp8BocJAonrFPTCfdFhkl3q+9BLLnx/8Z3eYUia7cVFKzlj+Fxx/+hWSFZeeuKwp1+Dwd5wstFwOJyra+d3EnrlO9hrzsDl77+P8Z5M9UgKnk2yO5Qz8HGEkFWX/ftYt8k9/8+NBxlPyBk8jAtGEl9mMyNcwKyE5cC/eBY+6ShT4FiOTyKXkk6ntbGxoV/84hf69NNP5xbIz5gDVgMmODo60nR6d2grXtLOzo5KpVIwTLkvSWGQqR/keul0WtVqNZ6FWsDJZBKEmUWEa6VZtxXP+bgyYp2B3SVFswq8N2A+v4bnjojSYGIjNLy/3W5HHZ4zsBEAPFhgde7RSx+Oj4/1/fffazQaqVqtqtFozB2Im0rNmn0Q+XKm5TfffBO1qbA66aWM8wWcS53nosG2EJ047CGXy0VjAxoh4HyikLzQPOnYEIVCDHLD5YqQRguZTCZOLeF7QBhQdsvLy3r+/HmQvEjjwKqWZtEVe4fIZmVlJdrBEWnkcrkoZwPVmkwmc4gGBDjP90JWA4VYlDGZzDcvAO4ej+9ajdJgwPtOe6/o6XQa5DiMEXA78/XkyZNg13v3IuYP9M5RDGSaphhet0kzDR/+f9pFAuECwUqKmtStra14HvQLZERP70jzndL83x8zHmQ8YUQB75ADRcDci3MPkH+TF5Rm3icK0uvpmDC6RjBJk8kkYNatrS29ePFCu7u7kaMEbmWh+/2+VldXg6V1cXGh0Wiki4uLYHt2u11tbm5GAS+CCDyNMez3+3N5UIpy0+l0lK34xllEgoGkubwFg3V0xjLKdDAY6OTkRKenpwGdwVZkJEkBGEbYuRhGIsckDOp5TaLcq6uraKuFMFByMhqNdHl5qdevXyudTutnP/uZtre3VSwWI/cGEgKLj4OCgaomk4k+//zzMCiwcH2f46iRM1mkAbxGhA605WxFZ51D7oFV7kgLUbiTepJkIxQXssT11tbWwtkk8pQU6E+9Xo97ofuXl8zBxOSe2Fu0B3RdRPkSBgND60QVyGU8O4gTfZAXafBcrAk5PZwL5of6eeeZsL5+PB1ODZ3AUqlUlBEBn7qj5MaYdUIfY9jdWfI1ZhDdggSS/4S7guGFLU8OV5pVREyn00irecDHvmLvPRQ1fHDkCVyH947X6JN2X8TFzTJRXj/ngubkDzY9G1lSQLSQTvw6wIEsNNfAiCGk3h+RMwm73e69xh3vi2ej9AKIzyFdNwx+jUUyokkYKwmT+rM5FOIkHtbZC6KJWB22JX+Cs+J5JYdo7tvM3JuTkRz24QBmjKTDMQ4f+mtE1yhjPG3mgrpiFC5wU9JQLMq4z7g5FO4wnrNreb+jRO78JKGvZDTCa27spFndpSsxftABfA7jCdfBr+vvh3AiKY4kZJ+ynpLivTyHs8J576KdqsL68fzey5luPnA7mFsQBPQuuthlkP0BSuWoAusAHO9yjIFkbTCEBCUeaLFX3DlOQq7oHI8mPdXH330Pcc1kesJt0sce8vAg49lsNueIMhidZO6TTeY36bkpopVOpxMJW39gFt6bKrx79y4U4tbWVhxLc3l5OVd7xMJxLe9jCITL4bj9fl8//PCDjo+Ptb6+rt/97nfRcf/FixcBd2xtbc15JiwW7EQaIg8GAx0dHanZbAbjc3V1daHIJH50FGvhwsfGwokB8sOLReiy2WzAog7buqNBGz4IDF6KQFOGZFNvTxMAE8LApbftaDTSzs6O/uZv/iY8S6Apd65whFCY2Ww2TouRFKQI5gOIitPqJQVBbpHWWJrPSfF/FJikKD/hWYFO3UFC+UDCSeabWHM3higw6u3cAcvlchF9+OuSoh57NBrNncQEh4JrophbrVbUBZ+fn8eB6F9++WV0v6HV5Gh0dzoLz0N+1Yk0lUolIOlFGaAqPL8je/v7+9EYgjlGZ5Eiy2QysbbJWtFUKhV8E2To9PRUkqLHMLKBc4WM9Pt9nZ2dqdPpRP/i29tbbW9v68WLF1EH7C0i3aF1bguQsp8fTT9zIHnkv9lszqGhGHw3muiQjxkPMp6E9tw0itCxYvfkfx92PRrdNWbnyBw/pgYD6zk2CqrpQIOCI1yX5kkIfBcKUdJcyI9QDIdDfffdd/rd736nUqmkwWCgw8ND7ezsRFkLeZ5knRJwBPAjcAcsVG9UjPFZhMHz8bxE1pPJXVcSGkqQL5EUOW1Jc14qGxyDxXv5HneW2ANuuFOpVAifE5aceEAeK5PJxOHat7e3KpVKev78uW5ubnRychLdoLiGpDmSAfvF27lhGNLpdByzB/SD4SFyWqQ1lubJUPzfERKH7skxJXsWS7MDAXBAWCtHEJIEEL7PTzkiTYKiTp41CZPXm6Sgg+6LOslpXl1d6e3bt3HM2cbGRhiItbU1pdNptdttNZtNTafTaASRHIuILCwtLUWaivNWebarq6voGIU+X1tbC56Jr6s0axLvZCGvlphMJnOwNtEr0S+RHQ44PAkOVUdm0RnSvE5POmTJWm5gXe9tTlpGmsHxGFj2GnobPQ6f4qPm9yGLwcZEmFCyzlyUZidRJBlN3jSAA1KZKKIVJt0nZnNzU3/+538e+U8W0BfHPWi8CSYwk8mEV+MlLAge9w4RpNVqxSkPhUIh4B4UDDVQl5eXc/dxe3sb7cAKhYKq1WrQ9RdlsJZJdhuGam1tbc7oSfezTYk4uaajEOS4HRbjNYdk/J48b5pKpebae933DNTxLi8vh5ImNwm8xHc4g9YPE2C9PaJ25Q70jBJZpDEYDGKPSh/2FnVnQpopsPuIfUlIbjqdRk6TqITP0WFKUhjb6XQa88c6UZ+IwiYS8nsBUeIasOGJWMhJb29vq1KpaGdnR+vr6yHPtOCkTlFSRLJu9JPw8qIMiD31el3FYnGOwU7fZ0lRtYDD7+gaRglkwtcYfcm6VKvVcGw9nXZfeoRzkzltZTwea2NjI5x1SXM6wFNBzstwVMPTgNLMYMIG5nOgnexT8u6Xl5dz5Vp/aDyYMAR8gmAAu7lX4zAWAueTn06ntbOzM+dRUkzPAmJIC4WC/uZv/iaOMmOSgIiS+Sxqh5KMss8//1wbGxu6ubnRf/7P/1nffffdXJtASdF+i1ZjJKQpcXBv7PDwUD/88IMymYy+/PJLvXz5UsvLy1Ecns/nA75YJKJBMk/syml1dTWaSnhOwiFeBvlO1sXLIEAw3EFqt9tqt9vK5XLa2dmZg2m4DtFdPp+P4mf/O+/PZDLx99FopNXVVTWbzcjRn5+fRzcbrkttLs+I0sB5cEi41Wqp1WpFg45SqbRwfU9brZZKpVLMNafG4BjjEBHZS7PCd0cj3MBJmnN8QRO8JIl6wMnk7vQSyCc44rnc3RmuS0tL6na7Ojg4CHl2hi0ODkzPyWQSyAN7q1KpqF6v6+XLl4FYra+vK5fLzbXXJEJZWlqKs2LdyWPtF0mOJem7777Ts2fPtLe3p3w+H6RJb7yfTqe1t7cXtc+OlHlOkwPtve7djVk6ndann34arwHJg85hLwiY6vV6GGzIet1uN+qtKUNBZrkGhk+aP4XLbYuzty8uLtTv9wPqpyHG+vr6HPICae7i4mKuzvSfGw8+kgxhYdOBL8O89dwD3ouTbYB98S5TqVTAMb5ghN+TyUS1Wk0vX77Uzc2Nzs7O1Gq1JM0UPfcmzeo5h8Nh5MJyuZxKpVIcN1MsFufo2USeMIkRGoQfGMC966+//lrfffedlpaWtL6+ru3tbUmKjYFHQ6ecRRkeLTocBjSCV+4ePnPEe6UZoYdruZFDcDGokiJPRTG7Xwtjzf5DCIhO7vNu2ZtElZI+KDNByXpeVFJETQ41sl+IbmAQspcXaY2lOwcXEpTDn+SFWT8nZThi4DwDfnuaBAPM/ErzpKwkCQlF5i39UPIwsv2eQAP8vmh4wfVABcrlckS8RJ3sg36/r0qlMtfEw/sp4zBgRBdpnJ+f68mTJ1HChcMCvImepf8whseRB+YbGfAzQbvdbhz6AeyLrHqpmcP1ksKAUh7VaDTCEb64uIiyFV5jv4EW+YEUrheSbFnknf1D5Ek6jj3FvkWePxZheJDxJBJjMhAGJh2asddtulFzhpQTP4geESYGE8GBpUwqOU8m1idXmp3WIc2OLPImB7lcLmo6abuHMsBTghDkw3M5W1tbWl9fV6FQ0BdffKFPP/00vCWEzpXNogzPG7mzAAwGNOPwPRuZfALGEmPkZC6iFDeykoJezhwS6fd6PV1cXEiaGeHBYBDlRl7mgIHLZDIREXJ/CAk5WK8d9ZII2L/cNxEW34FhplQJ2GrRohIIf1dXV8rn89HS0hWK53XdkXAITdIHnjqGjKgSpSvNctvSLM+KYuNvvm/IpTuLksH9okw96kA5epmT5+symVlTcO6fdXY9RgoKMtkijU8++USFQiHK+FgPHHt3cHBC0LVeCkIqDKPJ+9GzkC9p+UhufGlpSdVqNc5x5lB61pz8uKMYOF++R1zXODQPzOpri7PMdTmrGdTUkTTkm79nMncd8ZIo2u8bDzKehNnOXEQJ0ZbOGXfSDJPG8CQ9ACw+f0MJO1OPfrXSHcuzVqvFNVDywKkUBWOInUXHewuFgp4/f67BYBB9Wbvdrr799lsdHR0pnU7HodiQgWD5IXB/9Vd/pb/8y79UsVjU8+fP4xSSy8vL6PvqdUiLMjBCEG/YbOSbKf/wjXp2dhZMNhAD6gcREI8wERYUcCqVinZu6fSshpYjq96+fRvfn81mdXZ2plevXkV+Ak+xVCrFgbZ7e3va3d2dI6Dh6eJdgqDQIMPrB7lXeqh6ZOuoSbvdjmYPizSARV+9ejXnBHtzE1CcJHve1415Be5DVkBwktGl59GA9Yh+gUupqR6NRlpbW4tUDg4x7HZJ8Tk4Dhyc7vAee8/3CjXJ3AfKGV0zmUyipzWKv9Fo/Ndepn/R+Oyzz5ROp+PYN04awgEkAMGgjcfj6ANNJA66AzOWVBo1uji6R0dH0UL1+vpaNzc3KpVK+nf/7t/p6dOnc/wTmLfYENYSHZvkW6BL2FfS3R74zW9+o/fv32t1dTX6VWMkJ5NJpCWYg/39/Tni03g81tnZmS4vL4O532g0Is//h8aDjGeyx6k0qwd09hz5CN6XzEd5zQ6vcW0iFD6XjH68/ETSnMfBZ53cQBSczJXCrsXjYHE92ez5Dr6fGtPV1VXt7e2pXC6rVqtF0rnVas156IsYeUrziXjWwpPuzCNOkSMGrqySjgOG07+LPXBf1IPz4icz0C2KnBVrs7u7q1Tqrp8mSt+RDvYZ5/45/Z5CbCc24RzwHl73PY8juWilKqAHlIWsra2FYmWuHD3yqJTP8z6UIoYpGQGwj1Cc7Cf/8Vy7szwx5F6u4Mxm9o4rXGnW+s8hQ4+eMeJEMw4PIvs3NzfBffBnX5RBz9abmxu1Wq3QUwQ2yXSKR97A1QzmxVmuTtyiUQzli6RGJEVqz9M0Xh/q0K4TlnzdPEolQr66ugqYF+jdU290keOeeR6//s3NjZrNZjSRB7r/mPEg49nr9YJW7qwqzx9yc2xmjKJ7tSSg8WjpWgK8kzQ8uVxOtVotYDfPebAJmHRvXIxQY0RhWdIVYzKZqNFoxMLncjk9ffo0no0N5K2qqEfkpAD3jKRZdC7N2ISLxNJDkZEjgSiBY+CtzCTFuuOt4dmxwW9v75qnHxwc6ObmRpVKJWAc8lPSTDg9koHGTq1lu92OvEi73Q54HOEol8va2tqKVpCbm5uSFLmtZH6TPQhykuxn7Dku2o8xN+wtlMCiDTgKlG0hJ8BZkOmA55AhyBze7B0EwBt/k28kGmQukSXWnTIwSD98J9Aw//dCfgh9pFb8mEPujdypG2hpdvoN+kVSOFWecnJI06PnRRp+YtHS0pI6nY663a7S6XR02/K6XUkRUVLDTUS/t7cX9f2u0zlU+/379zo8PAyjtbm5qXK5rPF4HHLL9/iPO+jAs45ekpfHoHGAAchgtVoNxIluX6ThqtVq5HJphO+oEqWOzWYz2Ofkcj9mPMh4drvdoBbTQYIFSnbuB9dmE5ObAB+HVcUhw7CtnJqOEoOU4cMjVyYknU5H8ptCWyAJsHGUAd4Qn7+5udGzZ890dnY251WTp02l7o6lKpVKweRCaQwGg4hca7WaCoXCXEuvRTOeKBO88cvLS93e3ur09DQ2Np4nnwHOb7VacUo7Udv333+vv/u7v9PJyYl+/vOf62//9m+jyQVGkwNqpRlTl5N4IJRRh3V9fR0eJ2dFcpwRQr63t6f19fVg17ZarVDkmUwmPFTqSPle+hfzTDgFFN3jYJEbTdafLcqgfhkZ4DB50BYcBdinyHqn0wknslAoxHFQQJ0YmEqlEsoWJwm4jv7QKGogUjrekK/EiZU0d9Sdl0gUi8VQ9KyZn5zkKBDRiqd6UKykDKT5s2EhCzrkuyjj+vp6jvRzenqqo6MjjcdjvXz5Mtix7lyQDyUYocxjd3dXu7u7czyAdrut9+/f6/r6Wq9fv9Zvf/tbSdIvf/lL7e3tBZx+fn4e+wfWLCkYXx/2IM446TzuZzgc6s2bN3rz5k3c69bWlkqlUnBYJpNJsMPpTZ1KpaJJBqgDRKKzszOdnp5GQxeM88eMB7Ntk7CV/0gftj5zqNZ/42lIM5jVw3qu5Qw9aT6q9eH/d6OI8Pm1vZDWv9dPkHdCk/fRhFEmzcgvPC8Lc1/Od5GGOww8hzTrDsT6sb4OaXo5D/vl5uZG5+fnOj8/V7fb1c3NzRx0CuyJg8P1iPbwSIk2cdRQbkRBoA40s2bPOPP3PsjQFSMIBYgHSsW9ZIdx/WeRhsumO6A+H/yNeUzKpqdOnCHtTm0SIZJmegS5csiQ6/n1HUaHfIasJVM2yfvz9eO7QcocVr5vDV1n+TUWZTDPPhcumzyvP/t9z4yjA9TPnDlhD93Ae5FDjCLGczAYBKM+uT5JlMDvzYmppGNoaEGDjeR9J4mpBHzoKddVcCB6vd6fpkmCCwKLA9wC8Yc8FXAYXqF/LpPJBPxHLQ8ThUAR3UoKBhgPzWb3yUKgqEdKYucsHINre46FourkBmIBxuNxnKyQyWTUaDQ+ELiLi4vIxVEys0j5MK+hI39Yr9c1Ho/j9Bmfn8lkEmw+1oAyA7q6wHBeWVnRxcWF/vN//s8BrXmekcjw9PQ05pk9x9mB19fX2tjY0M9//vO5KCOXy+nZs2fa3d2Na3JuJAcJQJSQ7ta/Wq2qXC7PGQyIJNKMPCVJ9Xpd9Xo99p3Dj8zBIo3Xr19re3s7yqruUzasPzLM2rLuEAQh0TnkDRTr0b4rVmQZ6B2CD0YUVMFZs452gfbA0AXavby8jPwV6SWeyfOmtPdzwoyzTSXNkRmdD7EoYzAYhBNZKBS0u7sbe3t9fV2lUmmOwOlzD7ckmf9Dp0+n0zgrFeicoOFnP/uZPv/88zCOvsYEHxhVD07Yd+wf6U4/U+eLwW00GoHy+f5w6Hc6nUZHIUhJIBfedWhlZUXr6+uSZvX9fxLjmUyaA6EQZqOIgH3IMXloznU8OmAy2eDAMcViUdPpNDBpJyIkiSVcmzybwy5sJASO73GoQNKcsHqkyvUpMh6Px9re3o4jyYiGhsOhTk5OdHBwEOQicnuLMvDm2HRekIxhxfNkXclNwljDs4TsA3xeKBSCPYsQkP+sVqsqFosaDAb6/vvv9dvf/lb5fF5Pnz6NQ61PTk7UarW0tbWlzz//XNvb22E8s9msarValNIQtaIcUdhEKd4D8+bmJvoew6hOpVJxhFMqldLGxoaq1WowEnl/p9OJ71qk8fXXXwfT1Ukc/AaZwUGRFH2tR6OROp2Oer1evJbNZsP4ENUwJ26MIdyNx3eHitMchXzVzc1NlCBQcwm6gIH2+UZeSc1wclKj0YjyFZ6F5+I+yMkShThJCIMDBChp4eo8h8PhHAEGKN2dX9YGwpefWkLKLUm25Hro0dFoFE1h0um7ZglbW1tR7XB5eal8Pj/XVpWj5ZzQA+dAmqEZ6BecaXoSe7mhs3cxnkTXICLUpBJJ4xTn83ltb2+r3+/Hwd4fewDAgyNPZ88lWZNJKI9JcCZcMiTnPW5A3TAyUNTJPGcSfksy4vw7HV5E+fO3+zaUw0XJBLffp38PUIDDng59/thHcn6lGXvS4Z7k8zM80c9nUcIIpRM1HNoj8nFhZY8RZaysrGh1dTUK3okmvGXXxzyfRyTJ5/E8Jt4u94Dw+R5P7utFGPfdryNA972XNeLfvNfTMc6aR0E58eaPmbv71ozhe5P7chlPQpPJNfd1TxKWktdYtOGpE2me1S59uAd8TZJ/T8KqvoY4I+SN/TCO5Pw7dA97977vQP4dXsURdgY965ZcT77Tn8VhYl/r+/bGx4wHGc9araZcLhfkAM81QAoA3sRjo5u9d3Twuh1/WM+behso6rpYJJig4Oz8ezwez7VXg1EJdMemARqExEStkrOBffHwaqgR5R7pjdnv9wMSWFlZCegQVuYiFdDj7TFX19fXevXqlQaDQfTABDIplUoaj8fBhCYPgQe5srKi29tb1ev1WHf3/l0AiDDy+bxevHgR763ValpdXVW5XNZnn32mpaUlbW1taWNjQ4VCIaIdaVacn8lkAiKCMXx1dRVpAmBKUg7T6awXK1EK+5gIB5KLNDumzgvy7+ux+2Men376qZ4+fRqRpXv63tQA0kgmkwkCFcqMtUNeKAFLpe66hl1dXUUZASUSQOHeOAPCkDeYRya9dARD4J2EgObIoe7u7sZaENUi1wzPw4GusFc8FdVut9XtdrW0tBTrvUgDUqbne5M6Lp2+Y49DyEQ3u5wyL5Lm5gCeArXSz58/DwMNGVBSsHq99O/i4kLX19fRaAYiKW39cJz5DPrCDzeHgOROwfLyctgeDO9kMonacfYzew3IWVIQQv8ksC1w1uXlpXq93hyMB9yRSt017WYzQhAZDocBrwEPUITPD6E7xpNJBIemAQLt9drtdhhP4CJ6Z+bz+TgmDPIHORW6+QMBIKhexItC5vtvb29DKaNcycN6L18vlYH1u0iK1R0i8oZv3rzR9fW1qtWqarWaVlZWIv85mUxCYTqxAEdjOBwqn89HA/JKpaKNjY0o0oeZy/fm8/lgxUkzoletVtNPf/rTyNGRs8KxwtBxegSM2NHo7gSf4+NjFQoFbW9va2lpKQwE64pzRQRL1MG+4rBz9gDP7t7wIo3nz5/HWgLZoRhxGFkXz1kzT074QMnhMMKwpddssVicO5DZz5WUNOekYJC9JaY368DwAZtjiJeWltRoNFSpVOIZMRxJpr6kgA4xnt6ggRK8ZrMZdZ5bW1t/+kX5Vx6Xl5dzuVpPJXk3LuerePMQcpWO1HnQ1Ov14nCMZ8+eaWNjQ6lUKhpNYDzdCLP+FxcXurq6UiaT0fr6ejizJycnc4dqS7Nm/cinp+KwG+w7N/rUnBLUAPu32+1I75HnpK3q2tran4ZtS0TC5naY08N5vFj+73Ccl6BI843HeY+H3ShlZ1PxGgvvLL37fpLQkCfDk7lNz836d7tx5zVISTxz8hqLBuVJM2/N69tYB4yMnzrBszrEjfH0dcWoMu9EbElIGPTAT2/BOyZfBvpAvgokxCFjN8ge2SZTAUkYh2v6vuT1JJvP13nR1joJbyZTMd4mzefU2ZrML8YNo8N8QPCRNGdscU4c0nPIzFMeSdlkPXGeWA8nnUgfnvqSlGtGcu1YZ+4zec1FGkTenvP1OfG1STam8H0uzfZLUn/zN67nujBpF3hNmlU8YEeSaRO+h/tO8mO4T/YJtoXvSNoSnhF9tLq6GnXelOOg25iHPzQe3CRhdXVV1Wp1Dptm8GC06Uqn08F84wH89AkIRXg6LACEIm80j2ARehPhrqysRP0fTDlOffGyA1/oSqUSTFngHKAjnsONRaVSifvCCODhACvRcNlp+M4CXJQBTOWt1YCfnzx5oqdPnwYURgIeCN5zFNfX17EuXntLYT1QOnWUKEfgWtrlEeWx9tPp3ckcT548US6X09nZWcCDhUIhjrobje7OMUyl7lh+L168iDV1gcZYQgbBKZIUEW0qlVKxWIzomVowTxcsGpkER4K9mSzRgXjl84F8EZkCfcK2RtaB6Or1ehiu4+PjkL21tbU5siHRPCiWG0RP9TDnuVwuDmKgk5SvLYgB8BzRl+dg3ZgmoUFIUTBLnfm5SOPi4kKrq6sBzyOf3uVrNBrp6uoq0mLSDGEEAURuqYP2hjg4wBBuMH4Yau9zi6FcWVnRzs6OarWaKpVKQKpra2taX18PAh/NFarVqur1uiSFwSN1RFehi4uL2AcYehAFSTo7O9P+/r4k6enTp9rZ2dF4PNbJyYlOT08j8vTGEX9oPNh4QtjAywQ2xWuAWtxsNrW8vBwtoVyhkhtL5jQQNIwn4Tmb1iMcIAgW+fLyMvJflKpwTfd86M0ILu5t2hwCAmZyI8imQMgQQq9BZbPA3AWqWpTR7XbDSLE+KLZGoxFHvMGodgOCc0QTaRStpMiXufFCKPEScZTIdQKBLy8vRxnCzc1NNKjndSIaP9mBonvuu1QqaTKZnfUqzZwkICjWnn3nZVhcG8XM39i7i7TGkiIaYe/7IcDeQAHjNR7fnWGLQwF7HWd1MBhodXVV/X4/kAHg/MvLy+AY0DKNdZYUKESyF62TQEilkG/GkVleXp5rtoHM4+Dwfo+IcK6kGfKFk4RyTxKQiLoWaYDIwGS/vr6eOxTe30fzApwbRxkkBXLjOhj9iPGkKYM7SJKC7MP8crgHtaAQ/mDkk1bhsG5OxkHXYNDR46QGvY+5JO3s7KhcLoetOjw8VCaT0SeffBINVJBl9jzG9mPGg09VYQId5mIyfbLpQOObmvcDBfGTy+U+IA+BvztUIM1gJL4P74bIBCgnyXJ1RQAZifvmekTBTphxeCPJzHL2pZ8v6Ir0IeytH8twVMHhGWc1JuEwnxOECmNZKBRi7zgRQJpvYMA1WUvPfQPheO2vpDmvFseGtfZWjv4d7CdXzo56+DrfBwN7LRlztGiQnq9bEsZkD+M8OUSfTJkgr0T+ONYOufo8O/zq88t1uDdpJrMO3SZhVl8Xh2V9T/j6INf+ffw9GZFyLXTMopUjETUnYVmcESLI39dvmrlGLzpRLJfLRVvT29vbSLWwXlwb/cj3SDPWNrBtkkHte8zz6tPpNAIm8uqUxBFpOrObAyDQHeVyOdYd55dADTTtIfr6QcaT+hqiCwyfdAdxkSQGWkun7xoGcxCx5xqdcoyQuuGh7yAPSiIfz5WEPjBwOp0OEgvJYyYEaI5NAuEpm81qa2tL5XJZkuYi5mq1OgfLegSSSs3OiyTiqdfrccII3jkbYZGMJxuVbiGewyIB7zkOaUaBlxQEFLzC6XQaLF0IPhxd5O3v8B4dVRgOhzo6Ooq2kBygixeZTqcDDcETRQC4tkeSPANEEfYjpBRgH96fREhY1263+0ETh0WC5iVFjR3377wBmK/JnBXyRFoC1AWllRzsJXeGkHFXXK7w+Pt4PJ5jVroz68aQFJGkOceZ/Lg72u7QgTa4McdQeATLXJ2dnenk5OS/xtL8q41Go6GVlZWotZZm+UyOEPP8/srKiqrVaux35mM4HAZhbmVlJVIjFxcX+tWvfqV+v6+/+Iu/0LNnz6LFHagUhms8Hofcl8tlPXnyZK7GOMkZcBIfED8NTAqFgrrdrv7pn/5J3333ncrlsp49exYnq5RKpWj3SmvR5eVlffnll/F9BwcHgTJsb2/POXJ/EtgWtixt0lCUeKZMmDNM2YwYPqJDZ9Z6vsu9eyaV/AXvhyTU7/d1fn4eMADCzXcAA6RSqYhUYOq9f/8+MHbPvdKhBIaeF93yTHhKPDsKBAH1iG3RjKc0i84c6pJm+QZHB5gHlJtDccwP3WOAe7m+NIsEHEnw0oKrqys1m02VSiWtr68HSnFxcTGnmJORZ7LOln3GOrP/EBicKwwn18H5Aqocj8fBrna0Y9EgPSdzSZpbUy8S99Iljntj4OSUy+UoYcEwenTusuK5R59fjz7QGch7ktzk0afnq9lzkuYgRp7Xy1Zc97iRdwKb50Svrq50fn7+J1uPP8UolUrK5XLhDOH8S4o0GmvBsybJPjjSzWZT/X5fOzs7ajQaEdUdHR3p+vpan332WTivpMJ8XsfjcTQg8JOpXO/7SK4RCJM75QcHB/rHf/xH7e3t6fnz59HLtlqtBpnz8PAwDqQgSLq4uNDFxUWkhbheUib+0Pgo48nEdjqdKDGgrhElSwcHx6X9s04CANP22h8+B2yKgUWYOVeP16gxInTHe/XuQvRNhRhBvstPZeh0OtHZhOeCzZfsWOHXI7fJxiB64dqSwiPmd9K7+jEN7o3nx/hQJoSnTl6Dz7iBQtAgG6Ewgf7S6XTMMcLrkSc5KhQcDcBBCfhuoJok6w5hdWWMECLUlLYgXESvTjzh2SHRAAFxfeYEeIp79Xn8sQ7uj7lkLf0oJx9EYckOMG7oyJ26LOOMsM44GxDS+E4QDr4D58RLWdA53B/lFtJs33AvRMY8q0PGRFmZTGbuem7A/QBslDr7EKdiUda43+8HUsb6sb7sYRxWxvX1dZR0QAqjNpO8ZqfTCVlCD8IxIOLzQ6qBvXu9XuyzTqcTzgp7jDOhIaSxZ/yINPKg7XY7CIncF3oWW8A5u9Ststd97bvdbqATGM+P1dep6UfshPfv32tvb++ha/g4EmN/f1+7u7v//76Ne8fjGv/rjB/zGkuP6/yvMR7X+L+N8YfW+aOMJ+EvFObH8bAxnd6dUM+p5j/G8bjG/7KxCGssPa7zv2Q8rvF/G+Nj1/mjjOfjeByP43E8jsfxOGbjx+s+PY7H8Tgex+N4HD/S8Wg8H8fjeByP43E8jgeOR+P5OB7H43gcj+NxPHA8Gs/H8Tgex+N4HI/jgePReD6Ox/E4HsfjeBwPHI/G83E8jsfxOB7H43jgeDSej+NxPI7H8TgexwPHo/F8HI/jcTyOx/E4HjgejefjeByP43E8jsfxwPFoPB/H43gcj+NxPI4Hjkfj+Tgex+N4HI/jcTxwPBrPx/E4HsfjeByP44Hjo87zfOzS/y8bi3Aaw+Ma/8vGIqyx9LjO/5LxuMb/bYyPXeePMp6Hh4eP58P9K4wf8zmAj2v8rzN+zGssPa7zv8Z4XOP/NsYfWuePMp7FYlGS9H/+n/+n1tbW4vXpdBqnbQ+HQw0Ggzg9XJJyuZzK5bLW1tbiRPbb21ul02nlcjllMhnlcrk47bzZbGp/f1/D4VBbW1taX1/XdDrV/v6+Xr16paWlJe3s7KhcLiuTyWh1dVW5XG7uXgeDgTqdjkajUZwonkqllM/nlc/n596bSqXiBPnb21tdXFyo3W6rUCioWq0ql8vp9vZW3W5X4/FY4/E4TmJfWlqK7+Zv2WxWtVotntdPTv9f/pf/Jebxxzi4t//0n/6T0um0Li4uNBgMdHt7q5ubG0nS2tqaCoWCJKnZbOri4kLZbFbPnj1TpVLRdDrV7e2tRqORisWiGo2GlpeX1ev1dHJyol6vp9FoFKfXLy8vx5rc3NxoOBxqPB7HCfBLS0taXV3V8vKyhsOhut2uhsOhtre3tbu7q3w+r4uLC+3v72swGKhSqWhtbU2ZTEb5fF65XE6TyUTdblf9fl+5XE7ValWFQkG3t7dxEv3t7a0Gg4Emk4mWl5dVKBTiBHtOmt/Z2VGtVtN0OlWr1VKn09Ht7W2cVN/r9fS//q//6496jaXZOv/v//v/rk8//VTPnj1TPp/X+fm5Xr9+reFwqHq9rmq1qlQqpWw2q0wmo8lkon6/H3sBuV9bW1Oj0VA+n9f19bXOzs50c3Oj5eVlLS8vh2yNRiONRiO9f/9eJycnymazev78udbX1yVJo9FI0+lUvV5PBwcH6na7ev78ub744gsVCgXd3Nyo2+1qMpmE3HIf0+lUqVRKS0tLymQyGo/HGgwGGo1GWlpa0vLysjKZzJw+YO0kaXNzU9VqVdPpVMfHx3r//r2Gw6Gurq7U6XTi+25ubvS//W//28Ks8f/xf/wfSqVSOjs7Cz10dXWl6XSqFy9e6JNPPlE6ndZgMNBgMNDNzY0ODg50eXmpcrmsP//zP9f6+rqur691eHiodrutbrery8tLjUYjra+va29vL2Qmn89raWlJ+Xxe2WxWk8kkZJm9lEqllMvlVCwWlcvl1O12dXh4qOvra/X7ffX7fUnS9va2Go1GrBv7qNlsqtlszslvNpvV6uqqstms6vW6tra2lM1mdXFxobdv3+r29lbPnz/X9va2ptOpjo6O9ObNG6VSKVWr1fhstVrV8vKyut2u/s2/+Td/cJ0/yngS+hcKBRUKhdiAGJPpdKqlpSUtLS1pOp1qPB5rMpkom80ql8vFpGWzWU2nU2WzWa2srMRnELLBYKBSqaThcKilpaVQsul0WqVSSdlsVsVicU5Bcm1+EPTRaKSVlRWtra2FgeQ5JpNJGHheX1paUrlc1vLycixuNpsNIzwej2MuuE4qlYrnRVC5P1cYCPqPGULxe8tkMlpZWQnngDkaj8ehrKrVqiqVitLptAqFwtwzLi0tKZvNKp1OK5PJxLqwH3wdUMIrKytaXV3VdDrV2tqahsOh0um0lpeXYy+srKxoMBioWCxqeXk5hKbRaOj29larq6txLwjdZDLReDxWOp3W0tKS0um0ptNpPGM+n9doNArjyWelO+eP/b62tqZyuTy3dyaTiVZWVjQajUIR/5jXWJrd3+7urqrVqtLpdMhqtVrVaDRSuVwOB8JlHJljLlOplIrFour1euiGVCqlwWAQMicp9MFoNAplmsvlVKlUVC6X5/ZJt9vVzc1NOE7oj/F4rKWlpVjP0WgUijibzc59TyaTUa1Wi3t0eWWgkCUpn89reXk5HLqVlZVwGljz8Xisbrf7wXV+jIP7QwYLhUIYli+++GJOd0rS7e1tzFu1Wg29uba2FroZ5/Hq6ip0daFQiLlBdqSZY5VKpVQoFGJu/f5wWjF+7B3eh6ymUqnYf6PRKJzsTCajzc3NcJBvb29jj7A/19bW9OTJE00mk7hX6c65+MlPfhL6B/vF55aWlubm8feNjzKeDDdm6XRa4/E4XsO4SAqjQTTG3/FcWUy/BhOHwm61Wjo+Po6Hw6gRsTKp4/E4lDOKgP+vrq6qWq1qaWlJw+FQNzc3IcTD4fCDzebeshsDBCnpTaNwb29vY8F5jslkol6vp3a7HYp1Ecbp6alWV1fD215dXVWpVAoPdn9/X9Kd8q3X65pMJmq1Wmo2m3PrMB6PY5MPBgN1u91waLj+1dWVjo6OlEqltL29Hcp8dXVVkuJ6XAOhy2Qy4XVOp1OVSqVwytg/w+FQw+EwhFu627/n5+dxH6VSScvLy/Hsk8kkPHQ3khhTBgrZHb8kqvFjHzs7O8rlcrq8vAz5Y11cZi8vL3V5ealUKqW1tbUwLMw1RhP0CHkYDofq9/uhlFFOhUIhHDOcF5QnTnW73Q657nQ6urm50WAwUK/Xi4iRaGZ7ezvWv9vtqtvtqlQqqVqtqlwuh2OETkJmpZlTeHNzo6urK00mE11fX8d3l8vlMNw3Nzc/6jznfaPT6YSBzGaz+uSTT/Ty5UstLS3p9PRU7969U6/XU6fTUbfbVTqdnovE0JvpdFr1el2ZTEalUinQoclkosvLS0l3gRVBDboa5zafz2s6nQaS1e/3dXR0pG63q3w+H4GRNEMSut1uGFLWezQaqdfr6ebmRpVKRS9evFC9Xtf19bX29/cDrUJPZzKZQDa63a7evXundDqtzc1NbW5uajQa6fj4OJAQSer3+x+trx9kPJPeA695BMHAiGEc3TvwCIbPY3QwXMCvePe5XG7OG0FQUfJ+PY9CMbbArXyfR5KS5qIVPs8zeXSK0Ucp+N/5DIoHA4JxXYQBvMlzAk/zfMPhMOY2n89rMpmo3W5rMBjEfCTX4vb2NiJxIhcMbK/Xk6SYT+YSRcV6TCYTLS0thWIbjUbh7eIpemQpaW7NuUa/39dgMJCkSEHwbHwn9+pOVHLwfhwrhG9RxsrKiqQ7uPzm5iZgbuYfOcGZINWCs4G8MEf836NASR/II4aUtfLX2HceTSI7GGSc1l6vF1Eu9wp8zh4DlWLP8j7QJO4NOeVv6KFsNqvl5eVw0pNO1I993N7ehvxIM3QHA0MEj6OJwVxZWZlDm9CjbpiAenFgWXtQutvb23CuHLkjtdNqtdRut1UqlcJY+yDKnE6nkT7BiUE+gYjZI3wvqMTKykrs106no06no0wmo62trfgcgZCkCKg8sPrnxoOMp294lAqGiM0t3UVwRA9MRDqdjlwl3q1/XlJAR0zS+/fvNZ1Otb6+ru3t7Zgsjxak+dxlOp2eizgcAmahPTRH0QILsCgoElfOo9FIl5eXsVm4DopBUni/bEqfq0UYQGU4ABg3nmFnZyfWD8UF5O1GM5vNRg4EgzWdTtXv98OoXV5eqt/vB1wH5IrgYqBJB7iDQmTo78dIT6fTgHeIZF3IpLv1bjabarVaEQWhMIGPPWIaj8dqt9txbVfAizgcllxdXZ3LB/oolUoxv0SY7mSyRzAwkmJeUHSsEetVLpcDRWJuLy4uwlhPJhOtrq7GmkgzFCKVSmljY0Pb29uSFNExn0UZXl1dzcHFRJtEzaAh5LmBFn2P8FmMDPt2UQaOCHPY6/V0eXmppaUlXV5eqt1uazgcanV1VZVKJaDpy8tL5fN5bW1taWVlJYyrdOdskT7L5/PBgQDmTafTMVcELYPBIHQxhq1SqYTDxn5ZWloKeNVRpJWVFW1ubs6hl9lsVpeXl3N7jJylpAjWcLI8fYZDSDqnUqkol8sFTP2xTtKDjKcrE89ncJP9fl/pdFrFYjFyBb1eT9fX1yoUCqpUKlpdXZ3zIBwe87zX+fm5rq6uAj7Z29ub86KkebKA5zQ7nY6m02mQmPBiSEavra0FzEbUjLFDybPp8KhSqdQcOWVzc1Pr6+sfJLRPTk50enoaShtvblEGxhOFOBwOgzRRLBa1tbUVAgK8kcvllM/nY11Ho9Fc3jidTgcU5xAMBIF0Oq1WqxUQKEYSwfL5w3ii5O5z5Igw+/2+8vm8Go2GqtVqCC/w3PHxsXq9njY2NvT06dMQZoQWb1u6Uxqnp6dzJDl+swcWaQCREhX4M4GaoOQqlYqkeZQGPTAajSIPxjWBfXu9Xigv1jWbzWp9fT0cYSD4d+/e6fT0VCsrK6rVaiqVSnNG2iPJarWqWq2myWSit2/f6vXr15IUMPDt7a0ODg5C9thH+XxexWJRS0tLurm50fn5uW5uboKnIM1HzChXDABkqUUZnuaS7hx75uri4iJSLU+fPlW9XtfNzY3+8R//Ua9evYq8N2St8/Nz9fv9CIwwmpIC8uc1AgjmrtfrhT7GeDYajQ+iflJtkuYCl2q1qmKxGM73YDBQv9/X999/r4uLC5VKJT179iwIfawdMLGkcNJTqZR6vZ4uLi7i/9VqNRwCOBYfMx6k1R1SSxoxvDRgM4fB4sv+C+zJhCe9djfKyfyleygu6J6c5reTBDxK4b6kWR7LI5nkNRke8XguLQnrSgrviDzOoilWhz5RqkQMGDSP8jzPKX24Dg7pMQ9AKyhoINUklM6a+PWS6+X70VMI7pQlIUNHKBx68u/wz0iaM9hu4JOR2iINUhFEf85bYD7ceUnKhZMDuZ7Lpq8BShNGrCMGkiJHyt7zv7N/uA+MIvdLVARcy2vD4TCcYOTar8se9L3MPDjZzHOkizR4Vk9jEEA4euJ7nUADIh0D1j3rgIPkup7XHGnw1BxziRPlOgOkx50l33/JdAA6hHtljxAIJfef712CgvtSD/9cqiY5HmQ8i8VikAqkeUbU7e2tOp2OpDvD1Ov1wuuDxuxKltAeI0Pkdnp6GteqVCoxecCvPLA0U66QCFBuTmLgM3y/pKBROxSUSqUih+fKwuHeyWSi7e3tYHXhXeHhTSYT5fN5bWxsKJfLRZnFIkWezAfPC0yOVwjj8erqSm/evFEmk9HGxobW1tbmYFtKS1By5XJZxWIxkv2+wR0+lGYRZC6XU6lUCu8XBYfnyXWJUsjDTKfTQBbwfpvNZghTPp9XKpXS+vp6kMpwztyIE3lId3uBPCHv9b24aAO6P89HvhC5QDZ8XVwJXl9fhxPJD6hSNpvVcDiMfQPagGIDJi+VSpEiACL0nFi5XFa9XlculwujBlllf38/5B4nlfyZpHD8MLQoVtCubDar3d3dMJ7sL6B8GLvcY7lcXjhSmDRzcCTN5awxdDyzNDOoXnYi3en59fX1iEZLpZKWlpZ0cXGhV69eaTgcand3N2xBv99Xu92eI1mCToJESJpzmoFtMYQOt4NUSQqHZzKZaGtrK/SDV0c498QHuqvdbqvVaimdTs/xaXC2YFX/ofEgrU4eAo/CjSfKEuju/Pxc+XxeT58+Va1Wm4PApBncS43Q0tKSzs7O9Pbt25isWq0WuRkE1b1LNsdoNNLFxYU6nY7K5XIYL1du+Xw+hNO9bI9GIAg4DDgcDkOpLC8va319PWBGaqa89hXYyqn2i6Rg3WtEEZbL5XCEyB+fnZ3pq6++0tLSkq6vr/XkyZMP3oMzs7q6Gtfw+fQ8m5cLeNQAIxaojTXpdrtR2rS2tqZsNhslDihNmJLtdjugxSQTjxIYRzYwBuwTPocDRpmMe7mLNk5PT4N1nE6n1e12dXJyotvb25CV5eXlYF86SWs4HOry8lJXV1dheChxYc9ImmNZ8h7yksPhUBsbGxGBrK+vq1gsRp1np9NRqVQK5ejcivfv3+v/+X/+H41GI+3u7urJkydaXl5WqVQK/eTlE8i3pPh+0grSHYRJneHx8bEODw9jv/Fcm5ubCxd5SvOETvYxCADzdH5+rlarFf9fW1sLRxk9X6lUgoRTLBaVyWR0eXkZ+no6napYLCqdTgc5x2snJUV+3BEL1scJPji8vId7k2Zpmmw2G6Uq0jw66ERBfjsv5fLyMhwkatcd3YTn8YfGHwXbulXnQfjhwWHWQuDwh/l9g8llgnloLwtJQmlMnI/7vsdf84n0zzpc4HATC5lsyJC8Jr8RVpLWi0Q0IPLw4vIkxMb7HJbx/UAEh2FJ1siihJx16RGej+T1f989+15wGMphZf9BWPx+8YB9Dzjc72xgl4NFJJMAXaG4yEehsFz+PAXibPnk+jvkyXwxnw6nO7Lhc46j7HvBI07mmUg2iQr5/krmcZP70x3r+1I47kA5q3+Rhs+Hw6eSPlhbhjNrnZTH+/0ayXmC3evy7u/nNWkGgTtnxPVuEvJ1WN0DovvShw7X/nNz48PJYX8Stq00M3B4ocViMSLCzc1N9ft9ffXVV3r16lUU2/p7MIaSYqJ7vV6QSvACIRql02k1m001Gg2trq5qd3dXtVptLgJYWlpSvV6PpDLCRcEzkDAwFfDOdDqNuh4EhG42rVYrBNOVBYlnSQE3A3PgpYHF7+/vq9lsRp5hEYbDZRgVdwBQhJVKRU+fPlU6ndbGxkaQo4CqB4NBsPlubm7CE3Vo1TtE0alHmik75hI4BoWZSqVUKpUCgru8vAwhdMVNBLS+vq56vT5HVMtms1pbWwuYqdlsRpTBs9NFSJrl6xFgnEPqEBeplle6W8fr6+uIQEEBgPao1cM5gBEL2jKdTiMiBCpFHslpEZ17VE90kc1m1Wq1osSJOk/WBVl7+/ZtMLZbrZb6/b6++eabYL1fXV0FOxTCF2QRokz2RblcDmalr6GkgGTr9XoYCqJYoutFM55E2ER+g8FABwcHwUwmCqULHFHe9fV1ELkgP+LYuBNxenoayIAkHR0dhZzQoYoua+Q0iWA9XQYi2e/3dXJyEgbbnRoMK/LLnsDBZ995La/rABywyWSicrmscrk8F+g4pP+HDC/jjzKe5Dtgx2KQmKyvvvpKP/zwg1ZXV7WzsxNtkUg4JynthMlXV1dqNpvqdrvRhmk6nQajam1tLZQ4kBLRS6lUkqRoEQYFG8HBGLOACIYbace+uQde94g6lUqpVqsFFOmQI8p2NBrpd7/7XbQ8W5RxdXWlYrEYVPJutxu0fxQshm9vby/WHujTGWsYH2DBTCYTKIKkIB9Np9NwnKbTaXye/XRfVMqcTyYTXVxcSLrLyZP/BA5yT5pSo8lkEtT0bDar8/PzgCF/+tOfxuuj0UitVisEH2NAGcxgMIjPfSzU82MZyMT+/r5ubm5Uq9W0s7MThtNz9USpJycnevXqVZQxuALyKMcJJHwXCnN5eTmc6WazqZubG62trUW7RZR9sViMtnC0yjs5OYl/X1xcxB7D0U22AmWfSQqHC6Y9f/cyuVQqpXq9HnuciApneNHIYcgAz0YrPLoDra2tKZfLhS4jwEFu0YGpVCp0IG0SQeKAamlAkslktL29HddDn2ezd61LsReglB79DodDnZ+fazAYhG1JEob6/X5wTa6vr+dqU4mWvf0n+451xFmAv+DlTF5O8zHjQcYzCY95SM5EUKtDnpMbdyYf7/fhm9WLd3l4SEDknYgAHN/+Q/Be8r6T0IBDSjyLJ7EhCjns6zADA4NNnmyRhI7I0echyYojKiRnhMfHnDhTDsH1PIfDgKwfkYA0I3Sxzigzj36TrcW4D4fPHU6UZv1T7/tunpOcHnsCg+mfT0LED2Ho/VgGTgXIDMYSZcXcE3XBSpbm2fXIg/MEuL7rC4hj7ggh4xBMUGDkrJPEEfYSvac9h+dwrKS5GlEGz4NOcmPv6+hrLs3a3C3quC9l5c0onJPB88NDuE9Pex2nz7mvA3J43z7xPeBrsLy8HAade0D+c7lcfCffgVHldzabDZTM95c03/iEhhCuK+6DsP/QeJDxxPtiwieTSTBsV1ZWom7sz/7sz2IDFgoF9Xq9eGggEybWjRewGj/dblfLy8va3d3VL3/5S62srKharQazk/f4wxPpMJl8rwsZzC++j/vwHB1GhNq1ZAE59+ibxHNpxWJRf/Znf6b19fWFikp++tOfqlAoBPQlKSBuaUYVL5VKKpfLQR46OjpSqVQKT9RZ1Bgkhpe7gC6QCiDC5xow/GBgA9kk2ySy15JdcobDYUDnnrfEs+beiEiGw6Fev34dDlutVpOkaG6PkBPNQjZINu74sQ+eDTjb89ooq+n0rt6aGl1Hc3q9XvwfRiyGlnkHhh+NRsHEZe4pm7i5udHl5aX+4R/+QZ1OR1tbW/of/of/QfV6XdIdNDgej1Wr1fTkyZPIz7LmDGo4ITc5ScidqP39fU0mkyjqB2lCf4AgAdt6ZLNIncIkRXDBPMEg5vkh/qRSs05NpKFIx8BiR4ZwLHE80bOOQnpggVPsNbcgdDhJ6On19XWtr68HI/b8/FySVKlUVCgUPmh2QR9er+WFrAox8fz8/APyX6vVijQT13Yn6mON6IN72+KhYrz6/X7AWngqm5uboViBxPAEk6UQThpgUvFy6SSxvr6uTz75ZM5TQvlhPJMekHvPzugiSqLDBJELG83ZleRnUJBcZzq9605DMwb3kPCIVlZWtLGxoVKp9NHU5x/DQBHS85S5kGbeG97/yspKNA9Aye3u7sZ6sOasJ0LkbdPIT9AHFSUHE5SSBqIf2Jw4ahhToNgk+YA9eHJyopWVlcidY7jprwnDtNPp6P3795LuHImNjQ2lUnc9Vsmt1mq1yLU4tX6RBuxUHBnv6csawWL/4YcflMlkVK/XVSqVImdGf1mgTvaHI0aSAkKTZgQ8UiBA33//93+vr7/+Wn/7t3+rX/7yl1pdXQ3jO5lMVCqVtLu7G045ugP9gkNDiYU3a+CH8qp2u61PPvkkeqp6ratDzTjQyMCirbETwKS7qJI8P32K0YfOQ8EYlUol5fP56CkM8uZ5Qd5Pk3/2krdNRK6JeLkWTrKji9zfyclJ6Oh8Ph8pO/TA8vJywK/OlAVi9r3liBEch+vr65B5grGHjgfDtlh/pz/zW/qwVZ6XLzhj0x/Go1Jn7TKS0Cr3QhTs7/MczHQ6DdKAQ0sIL4oa4+f3xD07/MTG8fdIszIYaUaoug+qXoSBwXQIjTnHoWFdgeKYC+AwyFl+cgJ5clpgSfMt17wml39TauKwIRCQe9NenO1QoaQgrFCbhlFlPSmT4m/UJbMXPHpyQpL/+L5elIFj4aQ4ZMKhNY++va+t9z9GUbLOOEmkLNxJ5ZgvJ+JlMncnZNze3oYhZl/BK6BkKZPJxN4cje5OaTk/P1cul4u6Xe7LIXa+D2dYUnQfwyjwzHy3M0h9zy3KwDl11MyDCEeTHMaW9EFAIc0gXRzG1dXVOFosOX9O0KT5P8aP30SfnppBlnCK2YsO/4MwObzr6RnIX15G5bbDP+vpAbdbHzMeZDxhxiFkKD2MmBtQFgIYhbohN55sWoTMW4ERUeLl0hPVuxgBqwIpkcTGG4FNOB6Pg2ElSe12O1rOeas+7olO/8B49Kr1foswfNkcvPfo6EjHx8cBf5C/W5RxdXWlXC4XStCVD+ShVOquvRZ1fdIdo5VIlEbxnU4nCB5HR0dxTivC5IIMhObCNh6Pg7TggicpGJ7Aw5LmkBAcH0mqVquqVqvB1gPCheTm0QnCCQry5s2bEGo36ux10BTPGy3CGI/vesK+f/9eNzc3oQipT+aZt7e39eTJE43HY11dXanVas3VMN/c3Ojt27eBILA+nEiytLQUfWR7vZ5+/etf67e//a2Wl5f1k5/8RDs7O1pbW9P/+D/+j5HzWllZCTLIy5cvQ7niKLdaLbVaLXW7XX399df6p3/6p0ATbm9vgwxGVO1OE3thPB4HwsCzS3etPYnWiMTRcYvmDJ+fn0cKivlLdmGSNNdhydG5TqcTUaek0KvIZrVaDWdHmjU9AI0CoUJPUG99e3sbTU7cOa9WqwEVS5pLtfFeb2rAGtMCkGeoVquSpFqtpq2trUBDSCngPHsjG1Iv6PmPGQ8ynhgvvFX3OFx5uPEEQvEGxUwyMAlQLAQbcOykJyNpzkNweMkhV6IgmhwDN9O8vN/v6+zsLIwh8AXXJ1lOUwUUt3tgnnfz56Oh/fLysra3tyNyXZTR6XTi3EyndxM1nJ2dzRkSnChyYXR9wenguKfLy8vIkTnB574CaZyiwWAQCjvJosPYsW/wVj0vwt/peUrzBSIjP/GBz6FwYfEeHh5qOp2qXq/HwQYgJR6lLRqhBMfk8PBQnU5H9Xo9nGEiraWlpegMBbRHcTlzOh6PgxmPXCCDTrTq9/vRGeg//sf/GJ2dgNG/+OKLyMcRMaF4Uc4oPqJdmPW//e1vtba2pu3tba2vryuXy2kwGAS5ENn0Uz5arVYYFw50Rn6JRHDayectkhxLCs4I8uHojiNLGE9H2ZJkTM8jExAA1WYymZArkKJOpxOkQhwbmifAp0CmaZqCvsjlcnGknKdgpBn6QdDlzUroasUaE9Swpwiw+DcOBVUfyPWfJPJEoKSZEWNynd7r/UIlzd2UR55cB8XlihrPolAozLW5o47H4WBXYq7caKtFDgbPg0iHjkJEEmwK8nEYgySj2JPK0+nsyBy6IFWr1SAweAPlRRgImzRfGzUejyOPJM3W7fb2rhk+zgglLqwHJy8Ap7nhc9aqK17WEMXnbRPZdwg36+8CxD3jIWOgXYAkRUcihFiaL7TGC0Wh8B7PoWPQFw3So54SqPM+Upw0I50g3+7UshZ02HICVaVSCfIYztR4PFahUNDm5mbkzJ0DkZxHIgrnLjh6MBwOVSgUtLe3F9dDyeOIOxEQBQl6hgPkfXVxBHHE0TMOcy7KIA+MLLKvPfXEvnZSpwcSzumQZixtT1v5vLIHcFzQrW6QyEUmG+3TIhInGEfNT/OhnAmHDJnGhvizOCEVo47hxnhSg8/rD2l48iDjCYHDw21+MDJsRnKNXryczA3xOV6DwYeipt/l1taWKpWKptPZaSu0iUIAXbiB7PyInH6/H/WAy8vLajQaYaA5284ZsxTtsyiew/U813g81uHhofb394NM8uLFi7l+mDCSF2FQ9Ox9S718COYlud12u62///u/1zfffBPzCgPzyy+/VKVSCe+QWjwE1okERDNuOCUFI5DNjTH0XrfkPSh5AL5nz/FZomIUJb99sFfY357LbrfbEWGvrKyEI7eIxhMkhppL4Hb2OooV1iIGCCWGUVpaWtLe3l4wajluDFkB/uTUpfX1df3t3/6tlpaW1Gg0Aj2SZh1rJMV6UmPsRxFeXFzo4uJCg8FA6+vr+uUvf6lsNhvt/oDjIB3ReIXjtSA38Zy0A11aWlKtVosIGKhZUkS7izRqtVrkJFkzDpV3g3Z9fa3Ly8vQlRBokFEnYOVyOVUqlQiiJAViA6mq1+tFkwSMKA4rcvTNN9/o+PhYlUpF6+vr4VRLCmSg3W4HIY3a/L29vWhkQaTr8ndzcxNIFU4hJKarq6s50hE6wGWcOfqY8UcfSSZpTgESDiNwePWw37z2h4GCwqP3ycCDATKhxIXFwYgRGXjkyW8wfiAY2v7BpPU6ITxWhBcoIynQvvFQMO12W2/evInGDUS1QJGL1CQh6Wl79EmULs36/gKdff311wH3kkv06I/IEzjPHS/m1SNPlC+f8RpRJwYBP5GncaPqa+WRMkiE5y35txeBA01KCljKG2tL8/WkizTYn+R32+32XN5ImnEAvBOPk/GISlBQQLFeJzkej+dIPu4gEaUmIx0G0Qdwf7FYVCp11zgDx9ZL5HBsQJGIUMix4ah5ugFEYjAYBOmIiNWRMNcDizK8pIo18xITHFSiMhwEZNRPj8K4kSZhbtFtvI7j6uSyZNBEeRvHO8KwzWazUf53eXmpk5OTeD/GcH19fS4nTeMdIlxQBGyCk8xwoN14cn1PIX1sbvvBsK3DWEw8k4TQMBH83TtB4DHwIB4hTKfTIALk8/k5KrIfvAzzDqNI7hSo1jdKkmQCzOQneDDZTLhDyX5NSeG5cd8QT549exaGB0jIYYNFGZeXlwFr8PysGx6mC52TaVKplM7OztRut3V7e9dwvV6vz23oSqUSEQLzjBfb7/fnGK03Nzc6Ojqaq9XCIOOUuVK9vr6OBvAQwZyt5zm9JLOQyIoc+HQ6nYt2ULrsxU6nE145379IAwcX2BmlxdpSkgTCwHx5HS/7gn0gKTr3sI7An5ACifoymUyciOMcB5w1PgdSgbMGaQQiSKvVCvYuDi/5S9IE5OWWl5dDB3gO3dGq8Xgca+t1jey/RRpJNjRGxmFY1iRZ8sG8+D7wphbJiI95Yq6oy4R3cnNzo2azGQHM9va28vm8qtVqIIyUpUnz6TwiQxw0ImMcMCcMuZNDFMq+4sBvHOGkXvb7/5jxIOPp+TDCW6JGJwgwgPlarVZEgMC+4NTehECSjo+P1Ww29emnnwYTD/IPRpnuIhhmsHCHEvCcCNXz+bxqtVooO9p4cQSRK1YElc+xoVCa0+l07qDnRqMR9W9ENjz/opWs/O53v1M+n4/mEbVaLeYbTx9li2OSzWbjRIw3b94E6ehXv/pVlILgAT99+lQvX76MfQB89vbt2zDA0p2gtFotffXVV9rf3w9DCSIBm9Nz3BR+FwqFqLGVZvWpmUwmlL9D77BBvcEGew0nkPo06Y5U1e/3g9hAGcwiDZwj2I9e34dsA11SE8eBwxgijI0z4ZvNZsCsOKgwIFFak8ld9ygY284CRUljBEulktLpu5M6YM5Xq1Xt7OxoPB7r22+/1fn5eawXhpprIs+OBmFQiEZpmEAE/v79+3C2fCwabFsoFMKpJHpPlpXAiE06l+hyT0+5USGvjGHDePG5tbU13dzc6M2bN3r37t0cipXJZIJFvbq6qlqtFgRNHFF4LskmD6VSSfV6PdYUVnCz2dTV1dUcgZA9k07fNXxoNBqxH5wE2e125/b8xzbDeJDEu7fusIcrPJ9wpy6zST1f4pOCkoJFh+ePx0o0h5A7rOiv4zk4JIzS9y4XzuCDHOQRJp4mkZV75J50JzJN5ncc8lmkyLPZbCqXy4VyzWazHxxPxJwzmAM6xsCa6/f7Md+U7dA0gvkFFbiP5dZsNvXDDz/ozZs3YaCJJDDaDs/yGmtFhMk64mV75Mnf/ToOI/PcTkBAufM+9tUiDeYEngGMceSK9aHpPZA5c8Ize4E9kYk310CeHColYscZd2jPvx+EB2KHIxV0wfJGCEm59PQN9+51fV414EQ29I+jLItIGGLuk9UISb2NjErzRxL6e5x4gwPEGqfT6YDGpVnXoXQ6Hcxbd0ZoegAzFl4EaTpJ0YfYUUru1cv/cHYJyHgOT+NIs7ws+1CaNf2B7evP+THjwe35kkbHO0+wST3viIDwgE7yYDJ4OBQ1hvXq6ipIJpVKJRbL6wP5wVg5zR7PaDwex+ccosHDITL0kN2Zh+QDOCEAuBiPHXiIBcSQ4g0tUoehRqMRnqikD8herC8KrFAo6NmzZwFzbW5uRnkQRAzmCMcJ2MeVJWc+OqNuOr0rEQEG9Dozol7vz0r9HwzMp0+fSlIYAAygswT9uz1fkySIOasXDxqljve7SMPTHNPpdC6KRw4cQsfQttvtUF65XC6UqEfm0oy9OJ1OdXZ2FgckwGikRhR43+FC1yPsEyBjcu8YtVKppEajEWvHZ1lTjADvJ3r0PK63ElxZWYmDLPxZyJUt0mi322GggESJ5D3AoCxMUsDfzidwdEe6my8MJo7G2dmZTk9PNZ1OPzjEg9O2Tk5OgnTHOuGwYQ+AiTl8gE5gnU4n0D+PFEej0VxNOk42egHEM5PJzJXPcH+sPY7FQ1DCBxlPPAiGdyjBKCFIJGm9owcCheL1pgMsIk0SWJB8Pq+NjQ1Js6Q00ajn3oj2iFaBb6hRw4C7cSUaxoPGC5cUisFzIBBkJpO70wcGg0HAQ5zSgkNBvg6cf1EGLdiSZQsIEwKEomIDVyqVYLT1er1ocweMhyDBtsPhwOm4vLzU2dlZsDBhV3MSA4YL4UaA6vV6rOvh4aFevXqltbU1ffHFF/rFL34REDNdaJw97G3CiGxwupIOmht/IH1ybgjwIg1kyI/S8+YPkmI+cE5pdeYpGAwwyhRD6yU879690zfffBNt0a6vryOqGI/H4RzzXRhHnB26zbAnkO9U6q6xyu7u7lwuy6F49BHGnSjDESGQMVIDFNmzxjhHi7bGp6enqtfrqlar0TiCIISIDjlgrglckAuie/QngcN0etc0BULX/v6+3r17F6keSta2t7f17NkznZ+f6/vvv9d3332njY2NQCFJt2E8IfNxr9gFUKXr62s1m805vguwNGhBpVIJyJdrXF9f6+TkJNAvZ5lzHYiJSQTs940H97bFM5A+ZMclIQE8Ro9WPdx2CJiwnro+h8kYSWjNYTdpdryMv5f3+Wd8YIT5Hu7DhdejDS/T8ft2iIO5AYJepPM8kwxkFyifP+YHuKVcLodQoUwpM3CoBwF0kok0X7bk+wa43QkEGDOE3htwUOPlzG3PQ7M/uB4KguHIiQ8nTnlZE/f9sXmSH8vwnFcSrpZmMgmChIxgyJz97NdJXoO1h+1Ody8U183NTTRbcMiViJf1ctn2vSDdOQKsgcspqIenefgs9+fXY3iHmeTzLdJg/3vAwN7GSCDXHwtV4qQQsJCi8SMFcazZQ+SgWU9n8HselfVBXyP3OK6kZrw5vSMI/jm+z22O13J7itEdRN/Tf2g8yHhyUCltvDzX4xCLb0pqKXlYQminL7PInKDCQdYUx0JSkBSUY1dyrgCBEtLpu+JsatfwnjKZzBxxAfiVqNjbewEP+rmULBxRM9djQwAdAk3VarWFijxhRhOF+GHhEHLYaN4ScXNzM2AtkAVa4rFB0+m7A88vLy8DSifHsby8rK2tLWWzWW1tbcWpGgjgcDgMFq83lMdDTaVSUXrBmnz33XeS7uArYFveTwsxOtFwDqgLOd+FUHqZDYLInFDSsigD48m+BZpOp9PREhGZfPbs2VzKBLQFBQnxBm4BTHgU0draWjQOmUwmgRJ1u12dn59HV5mrqysVCoVoWE+dJ0X1p6enIZ/oHpjzRD8XFxfRtGFzc3NOAXt+HePqiIoz7dmzzImTbBZl4HiyV0GKQAUdycHB9/UDYUHex+O7Fo3Hx8ehF1qtVnweRMD7HtNpLJ1O66c//al2dnZChjqdTrQCxSH2lAkD4hhOMfWfDEikk8ldgxrsBobdZTWTycTxd8g59b+QRz822HmQ8Xz79q2m02lArng00sxr8MS9pGA4ep0NXqWTfvBQnj9/rsFgoNXV1VCE3onEow82tMMwRMfT6TQOygUaAl+nTRRK0CPc6XQarC8gYkkRVQHvYTxJimOQLy8vdXFxETRqum0syri+vg7oMpW6Y7weHBxoPB7rJz/5SfTz7XQ6kculBAAIl5o7auYgDKXTab17905/93d/F63DQBlo44URJTeDg8LRVeQngAWB6afTafQtBTb/+7//+4CG6JuKIu90Ojo7O4u9xvmzHiWTK02n01HL6I6Dk5g8WlmEAarikDoplH6/r6OjI0mK/rOurLx+G+XISRfUWpJLSqVSkZeETHd6eqrJZBIHpNMD+ejoSI1GQ19++WUov/fv36vVaml/f1+/+93vwgniHn72s5/p888/V7/f1/7+vl6/fq1arTbXos3zqJLC4fYWlKAe7B0UsudfF40Uhp5GJxIMuGFy40n5EGkSonn+PhqNdH5+ru+++y7kH0e4VCoF9O4pstvb26i2+Iu/+Autra3p5OREv/rVr3RxcRFQLDlt56Ogl1dWVgJ+ZV9hFzDU9FCnm9nS0tJcZIxTJinK6fL5vPb29lSr1WJv4sx9zPij6jzZSB49+nC2nLPeHNZJMuT4HNCYM/H4rDSD3VBiSQjVjaBDxD4wmoTpXrOEJ5p8vxvo5PfxmkNPzBc/izKI4FEY7nU6dMb/mVuHWT0CgYBD1E/TC8+zeQ0en/F+pMwfHjHQkDR/qorvyeRaJGHF+2BGxn371J0832PJfbco47597JAZjmayLzWwqkcHDsVJM2aqQ6ewWWFXomSdqY4DmrzP5Bp6yYPDkknWLv9OXoPfyegbo4oh9T20aOsrzWBpnwfW474UG59xHcvaEJFjSMkBQ8qCYwIqkSRoYuDcuDF8/zhq6fcCcpBswPz1OqEAAEcbSURBVJNMz0kzHeZkMfYG+5IKi+T+9+/8Q+NBWv0Xv/iFGo1GeAge7nupCJEYk48Sxjt3WAwPUFK0ASOy85o8Bg/uE+yKnteZcI5TovxCmh1k7ZNE2N7tdrW5uanl5WUVi0VdX1/r/Pw86sKurq40mUyi/RcLghLP5/OhHIAPFgnuofMGJINUKhWnpIzH42gA7oQQlGQ6fXcKx+7ubpAz/IxIIP+/+qu/ihrgq6srSXesSVh4bGr2DIKDkHktlzTLrZ2enurbb7/VeDzWzs5OwHa0HCyVSlG4TaREDSvNFYiGcQTYIxwIzGAvt9vtIE8s0qBYHTQItnAmc9dicnd3N2Buou4k/0CalaAQvRFFdDodHR8fB+z9ySefaDwe68mTJ9F0gfZpEHKI5rlWOp1WrVYLh2tnZ0fD4VCtVkvNZlPZbFbPnz/Xs2fPQrETOT1//jyIhugbN/ielyNCRnGSEoAg5CmdRRqXl5fK5XLa2tqK5i0Q7TBkRGu0JASKhbyJ00PZR6vV0rt37+LUFPT+5uamfvrTn4bhxCmi0c3Kykr8ezAYBMGQ9e/3+1GHS4kUtqVYLKpSqWg4HOr8/FzHx8dzPc+lWT6TdozSDM5NBmvINchJu90Oe8D++5jxIOP5/PlzVSqVyD9ChnGKvzQrwMYjwLB5WYpj7vwb2I8HB+rzqAfvwzF5FJ3X8HANjBfGHuHwk9NTqbsWXcfHxzo7O1Ov11OpVIq8DK9hQKW7Ewtg6uIg4A1JCkr0fc0jfswDj4y+waPRSOVyOYqgOZIMTx/FKSk6ChUKBV1fX+vdu3chrHilq6urwZqEXTsajeKMvmRuCaeEvYPnDJzrpJ+Liwt9//33mkwmqtfrUXxdLpdDoFHw7Fno7+SpYfficUt3ypO+uel0OgwKRgcnYZGGn1OKI0Rrtq2tLT1//jzk3CNtfiOPOKTu7Ut30Ni7d+80Go20u7sbHbicwIPs9ft9/fDDDzo9PY15JydVrVZVLBa1u7sbsvT27ds4oBsjSd4WY7uxsRG1oJQ1efTpDE/gWpxxIEqPujyyXpTRarUCwi4UCmq1Wjo7OwvSF23xkJHhcKjDw0NdXFzM9SlGxqjhPjg40OnpaRAF4XZ88cUXYZClu4gXuc5ms3GE2NramsrlcsDjrI03toA7QgpobW0t8qwnJydzh6O7c9PtdnVxcaHb21s9ffpUn3zyibLZrPr9fhxF6I43NsTJjn8S48km8v/zGkIEuQMYJMnQdDYTQohn4PCBQzBeSpDcxA5JONzg1/dre3jOPcHQIupwRqgTXlC4fEdykpMsskUymgyEwQlBbsCYb1c+vlYMoD/mU5qHOaUPGdGsRbJlI8Lrn3EYhpZhKNz77sUZe8mR/DvK23OryXy+E2Jgoy7SAOaGT+CvSZqTU/7m8+Dds5CvJOSFkfQuXS6bPhxe8+/EuLtTBdGMdeO9XnYBquWpBvaW7yvuAzKTp2yQgeQeXJThKSOHcJ186TA4z+dznUSXfO8TIIAYsf58LxG/t/pEl4NOuo1wMhBlg/AdaBmabFLjepz963bmPsdP0pzOwQl36P+j5vchi4FFRwign4/H4zjthHwlAoPX70bIFwWPBiH0olkiSWqEgBOTNUIOAXu+hrpMIh8/nxNhBTriuba2tsIzgUVIstq7qZCIx2P1sojb29sgsngEswjjZz/7mZaWlnR2djbXZQhjCYuOAmSH/ojuqZvb2NiIRs4e9fN3oh+HvGl5RxEz7DdHGZw53W639fr1a3W7XfX7/TiXMpPJxKkpQOggAwgL+w42H8JOtIynCyyPoIOQYBjwrhdpAJvCVPZ2dbe3t9HWjKhBUqwz64hChYxClDeZTOZYutTtSgrIVdIcW13SB12OBoNBMDvL5XIclEwTDO4P5XpwcKA3b94on8/HZ4D4iYI47/Pi4kLv3r2Lk1mAeGFmTyaTYGWirBcNXeCEI+87SxtRSfGc3W430g/ZbDZOOUH/IisYMOlOZiF3wTinpr1er8f5p9gFaRbUtFotvXnzRu12W+vr64EunJyc6Le//W3oTz9vt9lsxtnAjkJiJIl44VqMRiMVi8WwC15hAeJIWoKafXTMxwY9DzKezWYzYDPPW04mk9i40+lUW1tb2tzcjCiBSE76kLwDcQcPyDsPAek1m019++23ymQycdwXQs3xWfx4mynqj8bjcdDXJc1R1lkkImWKZylTgORyH72dqIRm2B7pslEXjWyAsXv9+rXOzs6CRYcSQuEBBSF8TuYAjiE3Tr4QI4riJdeNgQP6J588GAx0fn4e9WO+6b0Rx8nJiTqdThygzPXYD240Pacqac6DXlpaUrfbjfxbt9sNwacrCZEu+5q89iKtsaQw/NVqNZiJQNewKoGoUYTkioG56KZFNEekBgxP7p+c83Q61cXFhS4vL8PJBhaUZnlIjCfdZTBapEFyuZwajUZEnuyp8/NznZ6ehgHu9XpaWVlRtVoNY0AZTLvd1unpqa6vr+PoLlAHnrHf76vVasXeWzTjCWTr9Yuk1ng+UjFApNVqNdIWrvO8OxRRW7Va1ZMnT0J2kEH4EvQWf//+fcg733t2dqZutxvlNCsrK7q+vtarV6/U6XS0vb2tzc3NkGOMJq09HfX0xiY4+tgbgh2CmmS0SqtAHGxSOh8zHkwD5Qs91IWqXC6XNZlMgvxBjgLPxwtaPewGBnRYlAd2IyXNFC0GPGmcHEajRIKoF2XNJnKWH5sLDN4nms3iUEAS0mKRHAZ2RtuiDK9Z9Y3pSs2haYTLj/hx+BMPEQF0qA/HhPVnnqhF8zqzJIsy6X0m4RgMW/KsPnf8kozM+67DHrkPUvQ0wiKhC9Is5cI+xwA5PD6ZTCI6Z228IXwSrgU285y4w3/sFYiB7XY7vov5pbEITjM5Zc51Bd3AkBGtQjiBRAKKgRwCVTrcDnLi+8nLM9ATPN+iEYY4qxJnwvWQyxzzxVohc8gCucSrq6vgfAD5c6qRX9MNGKkbn1NypNgMnG66A1Eq6MiE9zbmORwJ9KAmycaWNLfX2W/sSddh/HzMeHCpytramur1eniMKEQYW9PpNKBQScGQ8nyReyHuoeJV8rCc+ACMRnju5wAm6z65DkYetu3Z2ZkODg6USqW0s7MTB6pStE/0AcQDycBp8J6jdSUOPEydFA0W3IAuyjg7O9N4PA42JiQg6rFQeJ6PbrVacaIBwurdf3q9nq6urgKmZS2p30JoIW4cHh6GcnbYGMXNnhiPx1HHy+cRjGq1qqdPn0aaoN1uBwxFTteJK0STQP9Aw+xjPGRJIYRE2czXIg2MGI4lkdjt7a2KxWIoxPPz8+gX/PLlSzUajTB85Jkhk6FQMVZeh40j3Gw2dXJyon6/r+Pj42iMwIkt7XZbx8fHku6QroODgzjzkZrpd+/e6fvvvw9oDlRpbW1Nn3/+eaRjkEGcfUlzaMf29rZub2+VzWZjLri/VCqlYrEYLFQOOVikcXR0pFQqFfoI/SvNnCCgWoIMUhXOcWi1Wnr16pXevn0b8g8E/vz5c1Wr1TA6XrMN+YwUDdFmvV7X7u5ukJRo51mtVvVXf/VXc07s7e2t3r59q/fv3yuVSsURdpICWcTAglSCAoIqkpagYQ7QbiqVihRSv9/X6enpn67OU7qDVtiYeAsIIEljPD4UKxPOoHB2MBhoc3MzCtTxPsl30LMQb4fIEE9Kmi9X8QQwypY8J03aJenJkydBiUagV1ZW5jaZ9GGLsmR0gbImenXj7dHxIhlP8lHesxgYh5wXkQqeH5Cfk00kxSYnn8Yh5qwz18ZogUxcXV3p4uIi8p8wqT0PA2xIno6B8WQ9MYzev5I95tGskye8/MjP8/QSGs/ZO/KwKMPz0KnUXTMMeteyLsCsR0dHKpVKevnypVZXV+dy/VyLrl8QkJxElow6KbB/+/atvv/+e62vrwdaRVSJgaZMjC5Ey8vLGgwGOjk5iVI5/ra5uRk5XGSPfebRCmtOf10Y15Ry4GgBYbInyPctymi325Fr5pkdsmRvS7PGEeQ2PQWF4fvhhx/i/aB66+vrKpfL6vf70UkIOJ48c6VSCcf75uZGxWJRL1++VLVa1dXVlV69eqVer6fV1VVtbW0pnb7rDgfqQAMMdD9H3bH+RLkYT3QU3498oivQ0S63NFQgNfEx48G9bT38dgjOfzw5i4fvODWTjyLlesnrEHlQX7m8vKzz8/PYEEnILQnHEObzb6JQPBEnKRFtSor8qRftEtk6K8+jK56HnBpeDQ2qF2UA3yAQIAB4dzgjzKGzGr0UAWGUZse4ueAmWW0+z3726urqapT/eG7bO8Z0u905pby8vBzEFVfc0+k0oiSiV8oziE68DAboR1K0i+Q+3WFbJOeI4XlKnoUTjdi7kgIu5XAH5o9zPiEHEakwd/zb0yhEDpB2IIqUSqW5wnpJQULCiG9tbcVarK2taWNjI3LaOLeFQiE4C0D+/t2uJ1wXeeonl8tFDo98Nvtn0SJP9jQ1sy6DlN5J8w3w0aHsbXghRIscao2ebzabsf/5vuFwGHntyWQS9fAESWtraxEJDofDubZ+XAs5BJ0sl8uSFHlPaVYS6Wggn2dNcXwgr2JkkygiHA0ciI8ZDz5Vpd1ux1lsvunYiLDSuAG8RacoU7iOEuWkBd5LNAcsfHp6qh9++CE8GlpMef2oEwKYLGcQrqysBPsPeIb7x7u8uLiI+0axYwxR1iwOhCJyRU4ugr17cXER3tOiDAgVUMd7vZ5+85vfaDqdand3V5ubm0qn03EA7Wg0OxLIPUM8VjdYo9Fozit1ZeT5jGq1GoQQnJJ+v6/Dw8MgGaDgJAX8BxlldXVVn332WVDhfR9APjo7O9N3332nZrOpcrmszc1NFQoFPX/+XJ9++mmgKDh2ntOHHCHNynQWTbFCkGk2m4GawDilMUgmk9He3p7W19cl3SEIh4eHGg6HOjs7U6vVUrlc1pMnTwIe44fDsDHQGKAnT54om81GQ5Jer6dyuax6vR6HHOO4lstlbW9vh3OKbtjY2NDy8nIo6WazGT2wNzc3NRgM4v68RMbLMTw3Js1y4tQiOnkGo7KIhKF8Ph/zjEGUFC1KpZmOxtjh/OAMV6tVffbZZ6rX6zo9PdWvf/3r+Pzr1691eXmpnZ0d7ezsSFIcT5bNZqP93WRy13cWnQ6iQBtPctlUb4BeLi8vq16v68mTJ1HKcnZ2pkajESxud9LIXTs5ESec+nLsGM4YKb4nT548qBf5gyQeVin5ITcm7sXRBcQXAK+H3w7tAhHiAQCboVD7/b4uLy9D6CjudfiPTc81U6lUsLpQ/HyOfofSrMZvOp3OQTbJMhO+z3uYInheysEze8HuIp2qgqIqFArRBODw8FCj0UiNRiNaYsGsIwJnnhA8zwcCxyZJX0kvEcH1dn7eYBrWHa/zt16vF4YTY+AdpFCUbujPz8/17t07HR4eamtrS5PJJPL5TkrDOBKdeoQt6QM5WJQBbEWOCAeU+QQOg5E7mUx0enoaJUGQeZA5EAmGt9dkj8BZgL1NboyyJzq/kBJqNBra2dkJwgmRhhMWh8NhnPXovaiB4p00kow8+b+TAR09gXTkBKhFGn4QhjR/MhB9aSUFm9pTXx59ggQBb+Mo0jhkOp2q0WjEnqJ/MQbJ+wvD2j46OlKr1VI6ndbm5maUFzkhCbSAAx/goXBOqZev8Xz3EdQkRVAjae6cVz7HPLDmHzMeZDxhRno+zOEzn3AnC/AA3BjEAmjI0kzB4d15zc3Gxob+8i//UtIdZENEA/TKRILhY0hp/4bAeYSQ7EwhSdVqNbwkWnTxDEB49zFogTVgkoG3r62txf0tymBuUVZE13iFnU4nCCbQ+CFXkAv3nCJCs7a2ForRyV6gCOTLJEX04fMtzfI0HuW5pwnU4+3B8F65rp+c02w2tbq6qo2NDX322Wcql8va29uLqJb9wV6DcIAhcGhr0SJPIE9yjZ7T9ZF0kJE51pr6WOao0+nE34F83TkC7gWyw4BzkounglZXV2N/0N3Gmb84MiBhDsXzN69PRrGDRuD0gYilUqkg/OEccS84CIs0YK6SA3RZQL6ZZ2B5ZB7ZQ47Y95lMRhsbG3Fo+JMnT4JbcHJyoul0Oncyk8OgRPDIDwYSWNmdbIdx3ZizniAb9BEolUqBfOGwTSZ3J7cQlPkBHfcRyLw88mPGgyQeGAZPD9YrCs4JOxhVn3SHBDGu7hXh0XquQpI+//xz/fSnP1Wv19ObN290fHwc2Hu73VaxWIx2XJAHCoVC9EFEOE9PT7WysqLd3V3V6/WIQI6OjlSpVPTFF1+oVqsF84qzIT3n4QxNIhuOufJ8LwaF2qFFGZyAgPOAYrm9vdXZ2VlE7ycnJzo6OlI2m9XOzk50JiJil2Z9T6G0J/PkNFQgxwrcy3cSBbDHOBnFC+m9XAWWJa0FiURg6Dkk2Gg0tLy8rIuLC7148UKff/55MAST5VIo5cvLyxBg9gEQ36IRhvr9fkBiGBMvVUkS8ZDjbrerpaUl1Wq1UFZEga1WS9988406nU70IyVvSfTRbDZDbmntCfyKksdphhEr3e3Lo6MjDYfDub7SuVxO6+vrETHj7OBMk0uFaIR+YYzHYx0dHeng4EBLS0v6+c9/HqkJriMperMu0tjY2FA2m1W329Xt7W2UbjlqN51OI7dLfS96L5fLaWVlJdZpMBgom81qd3dXk8lEn332mf7yL/8yGNC//vWvNRqNAkUgqAEextGFlYshJ63jHYRAJBwRQQcUCgWtra2pVqvFMYaw4cmRjsdjnZ2dRTtCnHP2Ms4xaCMtHdFTHzMeZDwJb93bT3qq0ocHx5K0dRKBR6bAuihrIgMmjfMS+/2+Dg4OAq7hJHNyUjBC3VtF8eO9DIfDIB8AKcL0cvjJy0x41t87if9lgZ2Y4lHoIilWvE7PU2Gk/Jgp2mc53I5B8fVH+XrO2CEzSkOkWftGlJa/F/ZrEu6VZrV7vsdQDigBlLc/G7m8Wq0WTav93jGSGHQ6FiHUPN8iwra+R4kOPR3z+4hQOLZEMcmmBiASRBEoNAbziBPDvThzGqcUY84+5HNAqvcxJ71rlf+wx3AS2CuTySQO6abhgudI0V2LiC44KRNnhPVi/TyFxnDHiblAB6bT6XByvSSFVA4lS8y5kzYxjKTVkOUksZCB/HJP0oy4ifHl3vnhvawZe4h9xGCf47xxL8j8x4wH7QYeGjo60CcTjfcCQ1PSXOsyXxCMk6Qg7AD3OGyAd4TnQ3NjiCW0d3r58qVqtVpsECYfxVsoFKL1HtEzEBAbAAyfqAuPGqjSPWI3iDwzxt+T1CinRRmQbMhX5vN5vXz5UtKMTCQpTiNJMpCvr68DEmPj4lygZKUPz3/FMDnhDG+UXAnohaTwhnu9XnjIbHy6E52cnMxFvC7AMIlRoO40OJyYZA5LmhNoyAWLxKiWFM3tpZmyARXy8oabmxsdHh4GLEvxuhfWs65E/tPpXXct6oO9ppASMdaSGm46O5ECWVlZCSgOlGt3dzciG+TYeQ5nZ2dx2goON+gWypPUkR9yjyHAAUS2O51OnHPJnlqk0el0lM1mA8ZmnjxNAqKA47K8vKz19fU4FAKOALlqBhA30DelPehw1gXnBeeHXDrlb25EXSegR3q9nvb39/XDDz9EPwFY2rTWc+cIFAPd8+TJE0mK9YMcVCwWNR6Po4QOZi/lKh8zHmQ88eqYHE/IIkxY+bOzM0mzo6YYeBNMLAovOWlOq3biECdnVKtVffnll9ra2tL29rZ+8YtfxCHHx8fH0TIOpVkqlbS3txebieL6VCoVFGoXJjbbYDAISIljdLhnFh2olgiFkg4gxEXyWJn7q6srjUYjbW1txckE1EsiLBgyjzwoNqembzQaBT0dx8ajFdYZIgpRCMqOCJdWYCsrK+r1enHSDYd3c9A1CMJgMNC3334bbMl6vS5phpoQGRHtYkyvr6/jgN9qtRo5PSeWoTA8GlokaF66OwAAUhjkCRQeyo0a6Ddv3kSpAQYN+FyaEecymUwcY1Wr1aLciDknvwYScHFxEQry4OBA5+fnevLkifb29qL+m/vxbjTSDNEAEiaNQ8029cEQ125vb+caytPOD4UKaxP0ajQa6fj4WMfHx1peXtbGxsa9KNuPeXDyCfeNgXAI1Pc8cDxyPRqNorkJLeyYQyJ+HIqlpSXt7Ox8QLDEcYLo026343B04FWIYO7c0h+g2+3q22+/1d///d8rm80GrF6pVFSpVMK28Iw3Nzfa399Xt9vV9va2nj9/rqWlpWjUkslktLOzo/X1dU0md/2L0Vk4ER8ryw/W6hg/p6Bz84TCRHsMp0g7zOVJYBSy14RimPkOJ684MxM21srKSoTgSdYYw+FCj4R5HoeuGNyPf3eS2QWs4XPiOeBFGjhFOBfenMDJMkQTDq0yDx6N8zrwjw8no/g1WCPKTBAS5pzIlrXAKHvOEniffcP3+O/kGvKdDi95Ph/HKunY/XOw/o9xeErCYTpJITfSLLr2ntMOh/r6sw44ns5Kdv3gcuGyR4Tk5A1nRCadLofmWUeeJ8lLcFlPlq44BAha5fKOg7xobFtQG2nm4PpgflzXQsjBiWWvO1RfKBTmIFKuBXyOs+SyxW/2ilcu3GcbyI1SJ9/r9SJH6lEtz+XPx7r5e51hS9AGgTHJ0P1YWX6Q8axWqwHR0Qmk2WxqMpnEQcNg6Ht7e1paWlK9Xp/rS4lCThpYHrRWq80xPUejkQ4ODnR0dBQQAuQgmgXTqQgPM5vNqlwuB/sPb+Sbb75RNpvVy5cv9cknn4TQujFM3tvy8rJ2d3fjvRgFiqkZEAtc+fvPogyUFCgCDEkEiijajSsKEoaxKyBp5jwlBRhhY9M6ioFyKxQKEb0yx51OR1dXV9GJhjQC0Uk+n9fe3l4gDZAPXDghlvCsQJHj8Vi1Wi0MAGgLdarSrBwHY80cLdKg2wsRt+eXcDokRVu+dDodxBJqeb1+m1yXNxX3emygd4hF6A4IPGtra3r27Fmco9tut4O4lkqlQmGnUqlg67J+lGN4eZw0a/pfLpfnFDQDpVsqlbSxsRHwv6RglSbrxhdpwOlw4hdRI2cxs9bsAVraIbvO1JX0gUPDvOI0YRv8BBZyq6AEnidlrTCo5ECRR9pFAtGCBuVydyfjwGngtZWVlThwvVqthh4CpXAiGFE3NbDOyfmY8WDjSU6DXODbt281HA61vb0dMBgMTJhw4MsOyfJAKFMinEqlElALGPnp6am++uqrWMjNzU1NJneNDoDvqtWqdnZ2tLa2Fqc4AMd1u1393d/9nf7v//v/Vjab1b//9/9eX3zxRcAJHiky8JAKhYIajYay2WwU6I5Go4CuJAV5yQ0BP4tmPFE+3gAcdrXXSnk0iTe/tLQUOW6P/J145MLqpAInI0FE8agOVIB+lldXV1FQjVBSaoTC59gqd5Ccgs89wAx0gcbzxbh4dOZEGZ5xkcqRJEX7Q8o/iChSqdQcOWpzc1PVanXOAfK6amdJkk9i/qjZY31Y54uLizCel5eXymRmR0MBLZL/ZE9wLmw6ndbV1VX0IEVJe6oFRY+zVy6XgwxEKoFB7g4SITIMTM2zYPQXaWA8PTrECUG/cq6mpIDu/SQWBmhOslzP0UNSeaSvpBmHIp/PRy7VSxzRG1ybNXO2bqFQCMZ8sViMk4AuLi7UbrdVr9fnTkbZ2toK4hdoGXKOYQTl6PV6ajabUcsKEe1jxh+VjEvmHRz+cTYU0A0Kkg3ucEGSOOLX9WiFKMi9HWqIEAaUo+ckuQeE2SFfjEPyOz3y5DWHe/wefAPxukMKizY8v3cf6zIJx/++H38/10Ep+XX93z7Xvq98b7iz5VHyZDIJIaOBuBMRfD19Lf3v/h6+i/3iUOF9KYlFg/QcRUHhObT++4rPfX193vhJ/j35vvvqhz0NwNqjQ/x6nhfDcCYbcPy+NE0S6XLYme8CGQNRcQeQ71mkAWSJc4HOvc+pv89g+B6R9MF6JIfreeesoGedKOrr4SkQl3WH70nPObzu0LoHQZ4qwGn356Nph7NwPYD6WFl+kPGEbUcRseefvLTDywW8CQLJWcJ4Qn3vg+uCzCQWi0U1Go05BieGmN6kP/3pT7W3tzeXXx0MBpEHLZfLEQ3jYcCa5f7JmxL5golzj6lUKnpnkgdhI1HiAvRH5LZokSfnaUI0cCdmMpkEjOmQC/ONJ+f1e5PJJKAa8qZsbt4jKaIPrg3DlbwHQss6bW9vhxIGdtnd3dXGxsYHJDQEhNfxkBE+mJdeaoP3DHEKZZ/NZlWv1+eaA4BgLNIgH0ZxvOfmfc0hUQCPAd9fX1+H/PhBwp7/JBoHdRqNRrq4uIiuW0CHvAedsLGxEREG7N7xeBwpIj8TtFarxWH1QPm+hoPBQKenp/GMpASWl5fjhBjSSq7UkWt0zOnpqQ4ODv5rL9O/aDx9+lSZTCYOtu92uzo8PAw0Bp0NuoJjg8ydn5+r2WxGRIdO8/l1DgHG9ubmJljodCQjqqVLl/cWd8cKvQvBazKZaH19XZ9//nk0Ztje3o5gCB3AYdk40/l8Xs1mU+/fv5+rDU6lUpFicTIZMvwQff1g4ykpQn/HqHkIlCqRC0pnOBzOGU8mE+F0WE/SHP68urqqer0e1+DAUqC15eXlmFRfGI7HWl5eVrFY1O7urpaXl6MrBQOlyEkcMNKAovDEyRlIdwoGxc8mmU6nc5sFj2uRjCeG7r4IA1o37/N8hTTbjBg9Tpbf2tqKvLE0M7bsm1RqdgI810EJU/8HlAP8wrp49Lq5uRm1m5zK4BC6598w5Ag70LQTjmB3wwjt9/shmCgSaUYaWqSBYwn71KMAj7hgTXs7REhEXrfnEDvXYH/Aj4ARC4MT2NCRqGw2q0ajofX19SiGz2Qykee8vb3V6elptHbb3d0N5iSlBx45DAaD6FldrVYjt5nL5aKXLuUO7nhLMzLMzc2NDg4O9Pr16/+KK/QvHzCESV3Rs1i66z4E/OmpFerkOTKOxih7e3shFx55uoPKGuLQOhLIfqBZBXLtaRwiQZwo9H+9XtfNzY3y+Xwckk1/ZWzL+fn5nGNLWc7+/r56vZ7W19fn+nLjZDn5yPfwx4wHGU9nNzns6tCcDw+XPYz3vxHVAZWwmP5dTigh7wVRBIN2HyzhrFFyH0A0RJLg8Z5jcw/aDSdzwAZyrwt2l0OXRNSL1CTBow4G/3aoy+GN3wdj+p5IEqlc4Bz2lzS3jjc3N3FogDTrWpSEb5PMO/8ba4qA8B5HSJx97ffMM7vDx/369yzacOTI4Vb+nZQ7aUYSQya8I1BSvn0POGvZ8+MeJeDker7SYXR35DxX5vB/snEDw+XauQjupPFdwHmui5L3s0gjqRcxDO7Q+7qw5qTIkoxpJ5YlbYDDu84fSEaqvn+S+4b7gZcASuB9hl1X3Ofke2rQr4fz53lxaeas+zx9zHhwe75MJqObm5vwBjudTuRHeDgE5r4HSlKMKcQdDAaq1WpqNBoB9wLpQC64vr7W+/fvdXh4qFqtpj//8z/X1taWNjY21O124xBdBgddX19fa21tTS9fvozFPD4+Vi53d0wN7Mrr6+to7oBgEhkTAcMm9YiGwlpXQmw8hwkWYUD48QjC813JkgUfk8ms7RWwqbdmI4ppt9tz5QwoQC97mk7vaj9fv36tw8PDKHyHPVutVuPzTq3H4x2Px0E+ub6+jhZlwPXT6TRaAtK3FgOL8h2Px9GSzbuwAF97A4BFK0cCPcJp8Kbq3lgfeMx7ooL4sEdc2bjiw7llvlOpVDRPoMsP+elGoxGH0d/e3qrZbM5Fg54LLRaLsTfJd0uKGl9pPv/GNby9YL/fV6fT0WQyCbKUdHeeLVEMbFtJHyjcRRh+RikoDI6B53ZB5ggqIOLRG5e9TckYpB+ayrjzNB6PYx09cMKJpesb5SfsFfYJuob+ANPpNO4Hw8lhH5PJZO5gAnQOJ6b0+/3Y5/V6Xevr68pkMnEIN+gY55DSEvRjg50HGU8sN3AleYvxeBxsJ4yiezg8aNKTkRSL2+/3o6wlm83GqR3S7MTw6+tr7e/va39/X5PJRI1GQz//+c+DPXZ2dhZRgqRoZH5zc6Pl5eVgX6ZSKR0eHkYutVqtxsktp6ensZlQyjwDXi3G3Qv5ycEkiUWpVGqhCuid6ZqE8JwZ59GAe34YLn577gLjeXp6Gk0nvLQlGb33ej0dHR3p3bt3YTSz2WwUtMMORam5o8O9shdpeE+uL5W6K39Ip9NqtVrBAHXj6VAxrcjIvbXb7XjuRSQMobBAfVh3nsX3t7e89MjBuQeSAmrDSfZTVdAZq6urKpVKgfxgtDFUnnsjB+4kL4hh3CdrzLXYa0SQbjzRNel0Og4/lu4aRuAIXF1d6eDgIMofKEfziGtRBsYTeNxRQtaROcR5mEwmkc+mcgE4nNwhpB1vFuIRJA3b0Y1wFjy9RwqI9XcnGjQR41mr1aLj2Xg8VqvVmku/sO/QA71eL/LdpFho+L+0tBR7l+Ymfl/87WPGg4ynK0lJc9GXQ3BJyCX5+SS0R6ichHXZ/JxYTsK41+upXq/PERfoDuJElqurqzkYjwVmQjESzrwiiuYePfRHkeChoXgcAvENwIZYJI+V/KIbSncg/FmdCu6ep5N0MKDOuv59BffkiGlxCNrgh/aixAqFggqFQggP10ZQk6UuTkzgGVD6XmbBM3jqwMkjnl5w6HPRBgqH55Hme5rSGMOdwKT8MsdJuFyaMRqd90DUQ44RhMKNLvuOe0gaZ8+bJ50k7/SVhGN5PpyAdDodNZye98UpY4+i14huFmmAEELWw0BIiubtvmYO07tcuRONvnR+iutKjyDR68hvkvvhe4t1xXF1A+97i/Vw44luTqZPHAnkvpNQruugpO36Q+PBpSquhAjxYSshAIx0Oh1GCmHidWAQDBFlJFCa/bUXL15od3dX3W5XGxsbev78eRTNf//993OLAbmDaLharUa9EIYW4gAbCqYWEbAbPYcSeVaffM9puvA7Q81P6fixj4ODA+3u7sb5fJBpPD8kKSD68Xisy8vLiMSINpw8BNTP5iSioDOUb+J+v68ffvhB33zzTdT4Xl9fR14a5dtoNAJSc5gXQoQzp53YhWK9vb07qxTCEpC8N/5wWNmPrstkMnGY+6JFI4xqtRpreHt7G88o3e3ter0+5/y4o+CyjnJ0xQih6Pr6OiKZ6+vrME6QuhgYvtFoFI4y+wiDSPQvKY4zY795K8Gjo6OAdoF0UaKDwSDuY2dnR8+ePZs7sYMoB+QqnU4HsrZoJ6pId4dSr6+va3d3V5lMRt1uVycnJ5pMJkGgSaXuGrqT1jg/P48GFV5b63nK8/PziORBmaQZJ8Z7GXOa1erqqmq1WpAR0ZFenuQOG06X61f2Uq/XC2IjqQYYwj6ox5fuolHgeBzvyWQSJFF0i+dT/9D4o+o8ufh94W7SS0UxSvPECk/435c89lIH8G9YWhQ89/t9nZ+fz0U85C1vb2+1u7sbR2UxuXgsKG2gHAriMeAOxTGh3kAZ448yvo8QwQZcJCbm+fl5FIczz07qYm4cEuVwW4dU8fLZE+wLb+rt5A4cKcoCXr16FZATitKjgLW1tWi+gRCPRqPoS8u5rO4he0RCIX632/2gJy7PiyfNd/PssLidCLFoZBLvTyrNSG8YGqJwPzLQHWP2hzNtJc051t1ud650gRyl9zmGrEWZCX+n7y5lTziiqVRqjlFL1CrdRVo0f+DHFaE3SchkMuFYu/4BzUD/sPfoz7xI4+rqKjryJA/EKBQKc4cmYKDgfjAwgjiJQPgYJuTA9b7nqGmvhwzxHn+f60x3yp3cJd3tLQiEDNATP6XH7Ywzvlut1tx+wQnE2Hta4mPGg4wnysfJJI6BOwxLaI1SwSPhgXlA6vum02kkfJOKyxcGej1KF6WGcqfzyXh8d+QUjaqlGaEFZSkplDPJZ5Ld3AdeEgvKYiRztwgzDgGwlLepWoRBHgyPmyg+Cd2igJgT8gnuOTrsi3JFaJ18w+90Oh0ODJ+jjpD64mq1GkosKWC/b+O7cXNji1JEiSPAPBd72aHCJLEBeVgkB0maQdU4k5xXOhqNokWb55/cAfIfcksYNOYFpwloV5qxOj36R9ZZC4f7MOQOF3Jt1gfiB7l1DnnggGw+Sw6WPFq5XA5l7ixi1jKZdkpCgoswyNezFug4ZIayMw5fGI/HcaoNLHSXLU9/SDMCYVJHI09cazqdP9MXx1nSXLN+on+ccr6bvQFyQYSLIeX9LquS5gwvcj2ZTKI7Gc6hB3IPQZMeZDxRmt7AmdMqmEwUJcwlD9MpvnccOpfLqdFoxHmKJLnvy43Bjt3a2orFh1zgfU6JfiqVShxTViwWdXFxoaWlJW1ubqrRaGg8Huv4+DiOHOMAX5Q27EzOCvWI2sfq6upcjoXFpI5pkQhDudzd0Wxv376NCNMNnTeGQJggfPjzs+GXlpbm2txtbGwEJNzpdNRsNkNhgQIg1MA07XZb6+vr2tvb07Nnz6JnJfswmXf3+5DmczlOXkAQV1ZWIg+HJ8rwyNkZn0QnOEeLtMaSQj45lur09FS/+tWvoi53b28v2mUmnRV3IG5vb3VycqKrq6soPSGCcITB0Rmug9GD5IdThf5AEUt368BJSHQXkhTRLdA7fXg9quX76cnruXWUqBOhkmkY6f4OPD/2gRGkBR8RJxHcwcFByBFGpF6va2dnJ/Q4n+O3d3RyBE/SnPHEcV5dXdWnn34qaeaIQOBBBkEiIBL5OvA9BEUYeiB1P9+V4AtD7kRBHInhcKg3b97o9PRUuVxOz549iwO1cba49z80/qjI02snPapz742o7T4vJekpoLi8KwyRLZPOwiAACLF3HYIhtrm5GRR4jDcQIIn/fD4fQgIUzPMg2Age3nlSmJJRjs+BLx5deRZhMKcc0wPjEM+VtfFIi+gE48rauPeOwsRYLS0tzR1f5ico+LWJLCRF1xmIG8nIE9gmOZwo5JEFHqznXtwD5bNJFCRJiMDRWqTBHHjd8+XlpTqdjgqFQrCWPUrw3KaTjGC1J/ufFgqFe8uZcHJwqug8g4PKvOKokJfFWXKIjr0BMYYmJZ6H43sLhULUeuOkOcqB0+zwn39+0YbXMDNINfV6PbVarTk0CQSxWCxGWsORmqRj6mmqJFTqjRGI+LwZDn/nO3mP2xhnS7O33DBDQnP+jN+HR8us6Xg8DkY1/XZdpv+kkScPkJw0YBUmG6+h1WrFAwKleG7TH9aNrjQ7XSOZG0N5cloCJRC3t7dz3iVKm2tsbGyEUAFHZjJ3Z/k5PETOh3vg3hBcx+u5J8hFMEUlBbzsUMKPfbBx2JjOvgWK4e8wF1nX++BdBKVarcb1uSZEFYf6vFcl8BoCjdElz+p7B0in0WiEsLTbbUkK8hblLuS56FhDtCMpSCVex+jph+l0GtAySmQRawAxVihFCDlEgUmlSTTnXjlyjfcOCjSdTsN5dZh2Mrk7p/Hy8lKSooNQOp0OJ/Pm5kZXV1caDofa2dnRZ599FgczQ+w7OzvT2dlZGERg5pcvX2p9fT32Bb+9Mw7wcpLk5EQ4/u/6yHNlizLOz8/naps9x+310d7dizVC13mkKWmuBIloDt3pQY47lsl0X9Ko8R50NXA8PQScJZzJZEKPg2xJs7UmAMpkMrq6ugoiFH9H51Cv6qQogpw/yXmew+EwJtqJEkQiGKRerxdwCJBopVLR8+fPA+Lkgd2weC4DGAehxWDT8T+bzcYRaX4fHr3gwaRSqWDxEYVeXFzEZgDCRSmirD0/wCJ7vRqeNQLM+6CIw8jE4CzCwNMHHmHzZrNZ1Wq1gPCazaY6nY6Wl5dVrVbjVHmiSGnm+fEeNimNKDCs0iz3zA9F9PV6XUtLS9HvFBjq4uJCw+FwLmeytrYWLNH9/X29evVK2WxWz58/j5aMHFkGqxYjDJxFvW+v19Pq6mrAmxhvSdEQg3z9opHCJEUdc7vd1mAwUDabjWP9QGUcYsWhxEnEwVhZWdHLly+1vLysTqejw8ND3dzcBIuRyAdlfHZ2pm+++UbLy8v6/PPPtbOzo+FwqMPDQ7VaLR0eHuo//If/oLdv3+rf/tt/q2fPnqlSqej29lZv377V1dWVvv/+e/3mN7/RcDhUsVhUsViM9NHa2tqcbkKWIYNBJvThpD8UKjBxr9eL8pVFcoIl6dtvv9X6+ro2NjYi/YQMkt9Mpe6Y1cCoh4eHOjg4mMtdSjP0z9fVc9+e3vHSP5jWIE44U56PxPg6YkWN93A4DCOYz+f1s5/9TJ988smcQzwYDGKt4FSAoB0cHET/WtJBS0tLWl9fVz6fD30AaY02nB8z/qjIMwlb8TfPXfF/XgOS9eRyciSZq8kkrsNMeEAU9+IZwdh0g8rnMGKe+/LokM95NJlkfjkrzWFJjAD3yYZYtKjE4UrWjmhC0lzk4fWbyXwDAyMDDR0lCizvRAGvnSUfwjo7jR0mrzOfHQZin8LUlGYdYhBy2MJejwqKkXQaxuNxwNLSjGWO45Zkoi7CSJL7MI7IJ+vvCFESzmbO3Hmkq5OXIvh3kh/2iDeVmpWYtdttvX79Wu/evdP5+XkYbpzzXq+nq6srHR4eRiMFmLkcr+bpItaH+8A5c3jOYUiHaqVZdL1o6yspmiMgpzxjMgUBbA5xEma09OEpNc6D8NSVB0KONIDkYIi9dtfTXHyO4blt9gW6BJ1NN7RMJqNerxd7ju/ye0zC8egUR089ffQx40HGs9/vz7Vrwnt3uE1SQKtOqPDz/HzhPBHtUYQXy/qE+HscIvVJZ5J9QfA6eQ8KArYW9wRV3RfYySfOsvT8Hg4DCWxpJqiLRCZhUznN3/PNDt0DubVarSB4SHfeP5Aa8wYEhLBKs1651I795je/0fX1tY6OjnR+fh5eJIb54uIi5p+Iw2EkSZFHTafTUctIaQn7DaHOZrOBDlADPBqNAob2o80olQDycdJUq9VaqBaM0l0ZAxEmDg3yxDN7yRWwHA4HzcbT6bTK5XKQMdADTrBi/6TTaW1tbYXMXl9f6+uvv1an09GbN2+iCf+LFy+0tbWlSqWit2/fBrmFMpMnT57of/6f/+c5x4UDlpvNZqwdytFL6UgBkUNNMjTRTxh2ojU+s0jj008/jXpXYEk/kxSnHmiTNNb29vYHvBRkldwlHX9gSydzkehGWN3IC/sHgqcfcs7e8RKl6XQaxDVP23AdIkxQQ1pLYjyfPHmim5sbnZ6e6vj4OFIKRKfsZV6HlPQx40HGE4FjMa6urvSb3/wmeh7CSgViAwbj2DCMqePSeJXD4d2hp+RdPAol3zCZTKIJvOdAfHiHEATX4ThJgXeTFKcoeGNjI2BJj0rciODN4BlJiiOxHIcH2qL5wqIMzsTE+WDNiPDw3mhfdnt7d8rFxcWFSqWSnj9/rkqlImkWxTL3tPdCGSNwKMf/7//7/9TpdAKCqVQqwYQbj8fRMKFer2t7e/sDdhzwDfuGEzSAVpOkBZyEwWCgTqcTuRfys96O0U9SIW96c3Ojw8NDnZ+ff7TA/VjG0dFREMEkBfMUuBwDirPq3AZY0RTcV6vVQG6SfXGRCZADGnBcX1/rV7/6lV6/fq1Op6Pf/OY3Ojo60s7Ojv77//6/j7zW119/ra+//jqMnSR98sknevr0qZaWlkK/4OS+f/9exWJRL168iBQPDhXsYnQXzRZwkiQFMxUHHl2H/lqk8Wd/9mdBjsI5Oj8/12QyiTI+6U6vw5ZuNBra3d3V7e1ttERlLoB7r66uQpYgFYH8SJozxKQ7XKfTSxpSJhUY3rgEY8jfcQKWlpZCL3uZoUetrHUul9Pz5881Ht81cnn//r1Go5GePn0aDh+yn83Oemf/SXKeHoH5ROCtSjN6N0bGJ9LDeYYn9x0a8uSxv8f/TjjuE5eEG1zovTUVA6/FsX2ul1yUJIThkDWeKtCiv+7X+LEPXz82NM/gz+55CqLrJDRP5IFycyYyjg0O1HA4jAgOwfGSAeBzZ8oi0L5mzo4F9kWwncnnzyvNyGqgHCAefDbJxiMyw5FaNMVKNMazSvPwJWvnxEA8fhxLT9G4XOOwEhkQsSRJR9PpNBoodDqd6GddKBRUqVSijo81d9iuXq8H+YyifRi0Hi25LCcZs57W8dd4TiDBJItzUQaG3+WH0g24IJLmIj1pdnIReyApO+gEkAZkO+lgJVM5rj89svWfJLNXmp3DSqSMHoBghqyCGHBPLqc8v9fuoz/8ex6SZnuQ8VxfX5/zVtfW1vRnf/Znur29jcbZ1HPi6Wez2WBXcrOTySSs+2Ry1+Dd81RAhM7s9FZNLDIRpmPvPLxDMQgC+VEmJykQzhSDbZnJzLcic2PCIuOtOiuV+wOfX5RBfgJSmCsdFySPzFdWVuKAcaJMRxc8l+yEKtAEiD/b29tqt9s6OTkJFiyNEYrFop4/fx4wmqTInToTkDZq5MdALdgTeLNE1CgROhYl87X+g3A7mWplZUWbm5sLBc1LM7Ylec5qtapGo6HhcKharaZ6va7l5eUgh0h3sumkOhpW4GDwWqFQiFwXqJIzs2lQwrwVi0U1m02lUik9efJEa2tr0QwFFMAduFKpFPIGmQskoVwuq1QqRSNw0gfk8k5OTiKXTZmCp2aSSBOGhOdZpAGhT9KcEeE5MSRwBdLpdCAwyGej0VCv19O7d++iHAnI00/iwaBJs1QZaTCuVSqVQq9DCspms3OpOxyefD4f6woygCN+dHQ0F5gh4zSr57Qc/658Pq/PPvtMqVRKT58+1d7e3lxqIpkq/JjxIONZr9ejxnI6nc6dOuBwLh4L1h/F5QoMb7FQKKhWqymTyajT6ejs7Ezj8Tg6hUiaO/LLWV7knnzTe+LaJ4JNBHmI153g4sYTSAB8HNYg3+FKuNvt6urqKhYLo0H+dJHIBmxoz1X4j3uhGK/l5eVgO8KucxjE274Bo5FvoO/w8vJyNP/nqDtOt6nX66rX69rd3Y0aNOA6oh/pzrkrl8tzpA+8VspTaNGIEez3+2GgMcooUlqR8bxEmDgDwJvAuIs0UDhAare3t9ra2tJoNFKtVosSIXKJOLAQN7LZu1aMKEdIGOVyWZPJRJeXl2o2m1H0DpnIS1j29vbive12O3KipVIp8s7/v/bO9aeta4ni69gmyiGx5UeIFSBqpDaq+qH//3+TNoJgqG0ZP2Li8HA/oN94nR3fW7hpdbG6R0K0wT6P/ZjHmjWzSSF4eYOkaLAAnCcpcuzAfBhpadOt6vfff9doNNJPP/2kn3/+OdjbTmIiWnKUa9fSL9J9D2DYx+hkBGPHvoajMplMtFqt1Gq1gul8e3vfTGYwGKjdbuvo6CjKjCgXhNjDvvASEshokLtAokidERjxeeB19jX8hpubG41Go2DIE6iUZRnrFXauOwa836+//qpnz57pzZs36na7klRBuNwOPEQeZTw9h4gyxBCl8NY2A5aG6s5+cnghffhtUJvf0xmD3Md/uzikiCH142wcMvDnxGik7+UkCqJTHx8fi12QbXOTshL5b34zFu69o/A8anN4x+FOfrZB3HitwH0oMzxV96B97F1S44cT5I5eCi2t1+sKy9gjUK6T1pjtkvj+ZYzLsgzvX9ow6D0yYB+me5VxIlLjdxq58zn4A5QD0b6NchgiY28Tx7wgqa5I9Uu6DnD4QA1SqH/b2vFr71L6RVJlrNFF5Ax9LH0cfT86bO+O9DZdzRpK54drcD9HEDxwSYWgS6o2RkirGTxy9Gd0Hc41OFDbS3DcgfCA6iHy6FIV+p7e3d1VzmGjW0hRFJUTLbw0AVYTAwfkCkQqKc70I5/hsKhPDHWgZVmG5+j9NX3ipGo+Bw8YONdb8nEuJ4NK4pznhfjAYoE5xj0w9D6Bu7bp3BsDmiE6wUB58TNznxo6fqi9/fLlSyXyYEOtVisNh0N9/PgxGNwoS/JfRBHktgaDgZbLZWwe75RDVMtcQE64vr7W5eVlHO4MNEk0eX19HUiDdK9IiLTcccSIMB6QMnZJlstltMUkMme9L5dLnZ2dSVIwlaXNcVDSRjE7kccZ2NTKkVd1piQM97IsA00AaWi323r16pU6nU6FQwCxgzRPp9NRURRxLuf19X3jb2Dgu7u7QCGYOyoDiqKIE3iADUETPELzPL0r810RL8eQFEewgQKkQY20cX7c0DSbTb1//z72Ie1PV6tVnGLU6XQCfZrNZtEKFXRivV4HOdOdc5AhacM7kBT3B9FA79KrHOIezpUz4andHI1GOjs70+3trY6OjuIUJghLONzML/d8KH/hf+ptS96Dh4UGTUMEZ6d5xxhgNgqXmVRvr4fiAtpNWVUeZbIpUWiLxaJCdvlPZAi8bEnx/dVqpYuLC00mk4hGnQbN4gOm8jpBnAA3nmkuZVeEjQSBgDxF6gw4UQDnhUjBDScR6Hw+jxwY3iPjdXV1pfF4rN9++y2UGEqa3IezrGG5LhYLlWUZLG9IR0A5PDfz8fXrV41GI83ncx0dHandbqvVagVzFLIKjEycRL7vxpOSBvbBruXDYIjDRE7JXycnJ8E6ZS673W7khZk/9j5QLtcCSoX3AB8C41mr1QJuK8tSs9ksSocODg6+gVxhxkvS4eFhwG4Y1aurK52dneny8jLSOQcHB6EHarVaNL7H6F5cXERagTkmJ+uIEu+5a8bTTwyRNmTAFFlzdACn1p3g/f19HR8fB0mLzwDN39zcqNPpRH6a4+j29vbU6/VUlqW+fv2q8XgcJ5vQx5j1VRSbc1+lqvF0pLFer8cRYpSW+Pus1+s43OPi4iJy3ORPJQUb3G0D7+ttW/9Kvgu29QlxL9EVLcK/sUg9p8bkpp/18BzmluckpCqLzv8Nw8c18C7YFM4OYwC5dwrfpeQjf/cUQvbJ9gW6S4LC8fFKN5lH9uQT3WgyZnzWDSvX889AQABaI8L19eFjyT0dCfAfrss1mDPPwftcotglhdHw3JfnQ3bNIdomfu4qxsPH12Eyh1CdLyCp4qC6oBR9HUmq7CuvMZX0zakqvpc8QvH15XC9PyPX9TUMgQXnHgfQdZXXJnoqAaRhl8TRHana69X3Bs6mp0JwOh2q9+ul+p/r82/wRLiOM9K5Z5ric/3N51z3pt/bls7z94STwHe8OYaTRvkeKYt/xHhynA/wLd4jDFeiA0nhjRZFUeleARQLFJO2vnJlxuADz0rVJgh+9iLRLBErcCK1mAcHB+r1eqEwYPexuXkfGLnc23O5eKlAdd64AW+I9l5s6l1rDC9tTj1w5eoGU6oqsP39ffV6vW/yGJ4b7Pf7FcINTpR0P9btdls//vijZrOZPn78GLWe0oYd7ey69+/fV8qVJFV6dJLX8sipVqsFGYYWfeRLHdIZDAbxrLD42HTudLGZd7GA/u3bt3r+/LmGw2FEj35CyQ8//CBJleMG3ZFwRrs7zERqRVEEJCypQuYj7/bp0ycNh0NJ9/segh3wKy3lUMbsq2azWcmpMvb9fl+Hh4fxjtPptOJcwcKVFM3Br6+v9eLFi4g2SUF4lAlTdzKZ/PMT8zcKaTWc0eVyGdG3NwqAbMNnSIdMp9PKKSfuZPCbc3OLotBsNovIkP25XC41HA7j80ScXqPN3qRm1MmfHoRgbxqNRqTYFotF6B+iUJ67LEv98ssvsR6Hw6H29vb0+vXrqF3m/nxvPB7/M3WeabsjPDgWJ62X0v6Ae3t74eF5fhNl6IYJT8IXtG9UD9GBgtfrdSXyo9h7NptVMHnguOl0qul0qqIoQuHyHGnzZ94LqDFlcaE82fjerDhV7rsgjCXOwHK5DGa0E2QYKzdOHmljJBnXVquloigCYqOjFNd7+fKlDg4OVJalTk9PK22ymHvWBrT3er0eSh/2Hg4cUHyKXrhSpPSCPA752fPzc3358kXtdjtKsxzikRRIBj+7RAqTFO9L8wrPcz9//lztdjsY49D9nUjiRB4vVHelx56gVIXoD7bz+fm5Pnz4EIc2wOykVpMzXNlj6AEYwugRnqnX6+nly5fRQ3c+nweMJylgYvbyhw8fonctETXNIoDwYJ7PZrNosrIrgnPPvF1dXQXMKimCFlIjKZzLvvK9jt6FFAibl7Gr1+tRWkb+fDQaRUkRxo9no6QNB07aBEgpMojTtr+/H4z8i4sLtdvtWK9waxaLhZrNpt68eaN6va7BYKDz8/OKo+zoCCxdDO9D5NGN4aWNQXHoK2VO8sKE4EyCF607HIPydWLQNtgwhVJ8s6ZQgJ8VxyLy5Dieh5fQbBMnSTi8w/UcJmBSdhXWA0nwd2Ohu3J06CedZySFeJkTb5fHHFIryhl7JPlR3H7t9Jo4dZCb1ut1FMzzd9aGM/IQoibWKEQEntGJBcw1a8VzLrskRP/OJ/DCeZwCYHSp2vSDCJOSH/7fz1XEUeFvjCHy4sWLKBGiNAXnDeWM4+Ydybyo38kvzKOkcGTJ+2EIpU2agLWCA40OwDHCQSiKIghKuyQ4+lLV+LB3mG8IUynr3de073VJW51JjCuNC7xVY5rO8kiWvelwrV/bdS0ONb8dAXNUkj3P/HlNs6d1nBSGfnIo+L/Jo4znp0+fooCZZC2LzQ+WZQA8V3B3dxfMVv5O5AdsQIcZ4DYYgECfRHHAiNwLhcym5Xe3260cXwMMiDJAUeIl8ay+aFAermARnsEP52VyXMHskmI9PDxUo9HQaDTSarWKGsharabZbKbpdBobEYdHUmXDoSjxUNPcF5E+9bE3Nzfq9/vqdDparVZ69+6dxuOxms2m+v1+XI8m13i2RVFUlGqz2VSr1dLt7a2Gw6FOT09jE3e73YiovRsW88X8P3v2TMfHx4EyeF4OI0HbRUgG5HV2SRgb5tkNDLWTRBOOADDWOC6cfjGfz/X69Wvd3NzEd6n5XK/Xury8rDjZ9Xpd796909HRUVxbqjYV//z5czTM6Ha76vf72tvb03A4rOwtiCrktYCAYeT3er1K9AzJjxNdms1mpGuoO4bNCXEFHbFLMh6PA72TFPoXo4lepa2l9O2BFxga5s3n3rsBeTB1cnIS7PNGY3NQtUfCHHtG/ScIBff1IMerLSaTSSVChnDmVR1Aw+5UAfUTeWKfKF1izVBn/hB5lPGcTCYBwRFBMnheRIxSwYB4S7WUqOGGD3iXSeJlnVyAAkV8Mp3h6XAEChQPm0nBqPph3FzTsX2Pqvy7DmN4qzPPje2a8aQrC02kaX7RaDTizNTb29sg95AXTaNz92ClTSSDV4jDBaPaN0Gn04mmE61WK64H3Ev/YfdoyVdzuod0n9eq1WpRnO2e57b8rKRAK6T7hg9AVxhNojVgSDrdPJTe/lTkjz/+kKQoKHcl63uPji2SIpLjM5KibIiewhxthSKSNmkbJyWRg+RvXnvJWuJMR6BVjhSkzES6b9wCLOuolzeBwNmnZyr3Z63Tv1faEKRw8rgGx6LtklBiR34PFjTjnfJQPA3n+W1H/tCtzL+jCuyD4XCowWAQXIdXr15V9LIjHiAHODVS9aB1dD9ICd29HAb29eXoB88J78bPh5aqJ0eBVHg64K/kQcYTBbhcLqOLkOcoWdDbjCf1c+5JMDDS/SKfzWZqNBpRzkDZCcpusVhEBxBgHBciVaJLP8wYJZn2YaSzxXw+DyXBffyd/b/deLrX9fnz54i6F4tFwJ5MOOPylI0oz0YtHe+0WCw0n8+jlpF5ANLzBcp1mGs8OiDtlDULtMrGY3w9zwosSv6EOmOaXTvSwTPd3m6a8tdq9zWHPDcbTfq2u5Sk6FIibSj33JPI05uRe6sxH8enKjwfeR2cUfY0TkK696Tt3Vior+aIOMp7PIJhnolKHVrbZjxd36TXbjQacU8+47Ad+xMHSVIQUdx4Mreew5Oqp/8Az3snLB/Dpyo+fowvqQd4AG48PR2DISEY8XQN88bYetRGAIGTyzm4IJIYViJMjOB6vekhTJciD0jIYXrZIqxYkC+CFr+2kwVBDUHMnDntSAjX3WYDtkmxfsBKOD091du3b793Tv/1cnJyouPj4//3Y2yVPMd/jzzlOZbyPP8dkuf43yF/Nc8PMp53d3c6Ozv7pnF2lofJen3fXePw8PDJsjLzHH+f7MIcS3mev0fyHP875KHz/CDjmSVLlixZsmTZyNN1n7JkyZIlS5YnKtl4ZsmSJUuWLI+UbDyzZMmSJUuWR0o2nlmyZMmSJcsjJRvPLFmyZMmS5ZGSjWeWLFmyZMnySMnGM0uWLFmyZHmk/AmvL/+WIo0T0wAAAABJRU5ErkJggg==",
      "text/plain": [
       "<Figure size 600x600 with 20 Axes>"
      ]
     },
     "metadata": {},
     "output_type": "display_data"
    }
   ],
   "source": [
    "### Problem 2b: Ablation Study 2\n",
    "n_T, n_inference = 1000, 100\n",
    "ddpm = DDPM(nn_model=ContextUnet(in_channels=1, n_feat=n_feat, n_classes=10), betas=(1e-4, 0.02), n_T=n_T, \\\n",
    "    device=device, n_inference=n_inference, drop_prob=0.1)\n",
    "ddpm.to(device)\n",
    "\n",
    "tf = transforms.Compose([transforms.ToTensor()]) # mnist is already normalised 0 to 1\n",
    "\n",
    "optim = torch.optim.Adam(ddpm.parameters(), lr=lr)\n",
    "train_main_loop(ddpm, optim, train_loader, lr, ws_test, n_epoch, batch_size)"
   ]
  },
  {
   "cell_type": "code",
   "execution_count": null,
   "metadata": {},
   "outputs": [
=======
     "name": "stdout",
     "output_type": "stream",
     "text": [
      "epoch 19, train_loss: 0.0840, valid loss: 0.1267, min_valid_loss: 0.0818, wait: 0 / 20\n"
     ]
    },
    {
     "name": "stderr",
     "output_type": "stream",
     "text": [
      " 10%|█         | 21/200 [03:34<30:41, 10.29s/it]"
     ]
    },
    {
     "name": "stdout",
     "output_type": "stream",
     "text": [
      "epoch 20, train_loss: 0.0962, valid loss: 0.1312, min_valid_loss: 0.0818, wait: 1 / 20\n"
     ]
    },
    {
     "name": "stderr",
     "output_type": "stream",
     "text": [
      " 11%|█         | 22/200 [03:44<30:38, 10.33s/it]"
     ]
    },
    {
     "name": "stdout",
     "output_type": "stream",
     "text": [
      "epoch 21, train_loss: 0.0835, valid loss: 0.1347, min_valid_loss: 0.0818, wait: 2 / 20\n"
     ]
    },
    {
     "name": "stderr",
     "output_type": "stream",
     "text": [
      " 12%|█▏        | 23/200 [03:55<30:34, 10.36s/it]"
     ]
    },
    {
     "name": "stdout",
     "output_type": "stream",
     "text": [
      "epoch 22, train_loss: 0.0808, valid loss: 0.0922, min_valid_loss: 0.0818, wait: 3 / 20\n"
     ]
    },
    {
     "name": "stderr",
     "output_type": "stream",
     "text": [
      " 12%|█▏        | 24/200 [04:05<30:27, 10.39s/it]"
     ]
    },
    {
     "name": "stdout",
     "output_type": "stream",
     "text": [
      "epoch 23, train_loss: 0.0815, valid loss: 0.1197, min_valid_loss: 0.0818, wait: 4 / 20\n"
     ]
    },
    {
     "name": "stderr",
     "output_type": "stream",
     "text": [
      " 12%|█▎        | 25/200 [04:16<30:09, 10.34s/it]"
     ]
    },
    {
     "name": "stdout",
     "output_type": "stream",
     "text": [
      "epoch 24, train_loss: 0.0690, valid loss: 0.1281, min_valid_loss: 0.0818, wait: 5 / 20\n"
     ]
    },
    {
     "name": "stderr",
     "output_type": "stream",
     "text": [
      " 13%|█▎        | 26/200 [04:26<29:50, 10.29s/it]"
     ]
    },
    {
     "name": "stdout",
     "output_type": "stream",
     "text": [
      "epoch 25, train_loss: 0.0709, valid loss: 0.0819, min_valid_loss: 0.0818, wait: 6 / 20\n"
     ]
    },
    {
     "name": "stderr",
     "output_type": "stream",
     "text": [
      " 14%|█▎        | 27/200 [04:36<29:46, 10.33s/it]"
     ]
    },
    {
     "name": "stdout",
     "output_type": "stream",
     "text": [
      "epoch 26, train_loss: 0.0728, valid loss: 0.0904, min_valid_loss: 0.0818, wait: 7 / 20\n"
     ]
    },
    {
     "name": "stderr",
     "output_type": "stream",
     "text": [
      " 14%|█▍        | 28/200 [04:47<29:37, 10.34s/it]"
     ]
    },
    {
     "name": "stdout",
     "output_type": "stream",
     "text": [
      "epoch 27, train_loss: 0.0710, valid loss: 0.1181, min_valid_loss: 0.0818, wait: 8 / 20\n"
     ]
    },
    {
     "name": "stderr",
     "output_type": "stream",
     "text": [
      " 14%|█▍        | 29/200 [04:57<29:29, 10.35s/it]"
     ]
    },
    {
     "name": "stdout",
     "output_type": "stream",
     "text": [
      "epoch 28, train_loss: 0.0704, valid loss: 0.1230, min_valid_loss: 0.0818, wait: 9 / 20\n"
     ]
    },
    {
     "name": "stderr",
     "output_type": "stream",
     "text": [
      " 15%|█▌        | 30/200 [05:07<29:20, 10.35s/it]"
     ]
    },
    {
     "name": "stdout",
     "output_type": "stream",
     "text": [
      "epoch 29, train_loss: 0.0633, valid loss: 0.1061, min_valid_loss: 0.0818, wait: 10 / 20\n"
     ]
    },
    {
     "name": "stderr",
     "output_type": "stream",
     "text": [
      " 16%|█▌        | 31/200 [05:18<29:08, 10.35s/it]"
     ]
    },
    {
     "name": "stdout",
     "output_type": "stream",
     "text": [
      "epoch 30, train_loss: 0.0617, valid loss: 0.1077, min_valid_loss: 0.0818, wait: 11 / 20\n"
     ]
    },
    {
     "name": "stderr",
     "output_type": "stream",
     "text": [
      " 16%|█▌        | 32/200 [05:28<28:50, 10.30s/it]"
     ]
    },
    {
     "name": "stdout",
     "output_type": "stream",
     "text": [
      "epoch 31, train_loss: 0.0618, valid loss: 0.0848, min_valid_loss: 0.0818, wait: 12 / 20\n"
     ]
    },
    {
     "name": "stderr",
     "output_type": "stream",
     "text": [
      " 16%|█▋        | 33/200 [05:38<28:34, 10.26s/it]"
     ]
    },
    {
     "name": "stdout",
     "output_type": "stream",
     "text": [
      "epoch 32, train_loss: 0.0562, valid loss: 0.1097, min_valid_loss: 0.0818, wait: 13 / 20\n"
     ]
    },
    {
     "name": "stderr",
     "output_type": "stream",
     "text": [
      " 17%|█▋        | 34/200 [05:48<28:27, 10.28s/it]"
     ]
    },
    {
     "name": "stdout",
     "output_type": "stream",
     "text": [
      "epoch 33, train_loss: 0.0620, valid loss: 0.1012, min_valid_loss: 0.0818, wait: 14 / 20\n"
     ]
    },
    {
     "name": "stderr",
     "output_type": "stream",
     "text": [
      " 18%|█▊        | 35/200 [05:59<28:18, 10.30s/it]"
     ]
    },
    {
     "name": "stdout",
     "output_type": "stream",
     "text": [
      "epoch 34, train_loss: 0.0537, valid loss: 0.0858, min_valid_loss: 0.0818, wait: 15 / 20\n"
     ]
    },
    {
     "name": "stderr",
     "output_type": "stream",
     "text": [
      " 18%|█▊        | 36/200 [06:09<28:16, 10.35s/it]"
     ]
    },
    {
     "name": "stdout",
     "output_type": "stream",
     "text": [
      "epoch 35, train_loss: 0.0547, valid loss: 0.0800\n"
     ]
    },
    {
     "name": "stderr",
     "output_type": "stream",
     "text": [
      " 18%|█▊        | 37/200 [06:19<28:05, 10.34s/it]"
     ]
    },
    {
     "name": "stdout",
     "output_type": "stream",
     "text": [
      "epoch 36, train_loss: 0.0597, valid loss: 0.1003, min_valid_loss: 0.0800, wait: 0 / 20\n"
     ]
    },
    {
     "name": "stderr",
     "output_type": "stream",
     "text": [
      " 19%|█▉        | 38/200 [06:30<27:54, 10.34s/it]"
     ]
    },
    {
     "name": "stdout",
     "output_type": "stream",
     "text": [
      "epoch 37, train_loss: 0.0571, valid loss: 0.0942, min_valid_loss: 0.0800, wait: 1 / 20\n"
     ]
    },
    {
     "name": "stderr",
     "output_type": "stream",
     "text": [
      " 20%|█▉        | 39/200 [06:40<27:50, 10.38s/it]"
     ]
    },
    {
     "name": "stdout",
     "output_type": "stream",
     "text": [
      "epoch 38, train_loss: 0.0570, valid loss: 0.0760\n"
     ]
    },
    {
     "name": "stderr",
     "output_type": "stream",
     "text": [
      " 20%|██        | 40/200 [06:51<27:37, 10.36s/it]"
     ]
    },
    {
     "name": "stdout",
     "output_type": "stream",
     "text": [
      "epoch 39, train_loss: 0.0554, valid loss: 0.0912, min_valid_loss: 0.0760, wait: 0 / 20\n"
     ]
    },
    {
     "name": "stderr",
     "output_type": "stream",
     "text": [
      " 20%|██        | 41/200 [07:01<27:32, 10.39s/it]"
     ]
    },
    {
     "name": "stdout",
     "output_type": "stream",
     "text": [
      "epoch 40, train_loss: 0.0464, valid loss: 0.0640\n"
     ]
    },
    {
     "name": "stderr",
     "output_type": "stream",
     "text": [
      " 21%|██        | 42/200 [07:11<27:19, 10.38s/it]"
     ]
    },
    {
     "name": "stdout",
     "output_type": "stream",
     "text": [
      "epoch 41, train_loss: 0.0530, valid loss: 0.0789, min_valid_loss: 0.0640, wait: 0 / 20\n"
     ]
    },
    {
     "name": "stderr",
     "output_type": "stream",
     "text": [
      " 22%|██▏       | 43/200 [07:22<27:06, 10.36s/it]"
     ]
    },
    {
     "name": "stdout",
     "output_type": "stream",
     "text": [
      "epoch 42, train_loss: 0.0618, valid loss: 0.0731, min_valid_loss: 0.0640, wait: 1 / 20\n"
     ]
    },
    {
     "name": "stderr",
     "output_type": "stream",
     "text": [
      " 22%|██▏       | 44/200 [07:32<26:54, 10.35s/it]"
     ]
    },
    {
     "name": "stdout",
     "output_type": "stream",
     "text": [
      "epoch 43, train_loss: 0.0524, valid loss: 0.0951, min_valid_loss: 0.0640, wait: 2 / 20\n"
     ]
    },
    {
     "name": "stderr",
     "output_type": "stream",
     "text": [
      " 22%|██▎       | 45/200 [07:42<26:42, 10.34s/it]"
     ]
    },
    {
     "name": "stdout",
     "output_type": "stream",
     "text": [
      "epoch 44, train_loss: 0.0503, valid loss: 0.1070, min_valid_loss: 0.0640, wait: 3 / 20\n"
     ]
    },
    {
     "name": "stderr",
     "output_type": "stream",
     "text": [
      " 23%|██▎       | 46/200 [07:53<26:32, 10.34s/it]"
     ]
    },
    {
     "name": "stdout",
     "output_type": "stream",
     "text": [
      "epoch 45, train_loss: 0.0625, valid loss: 0.0661, min_valid_loss: 0.0640, wait: 4 / 20\n"
     ]
    },
    {
     "name": "stderr",
     "output_type": "stream",
     "text": [
      " 24%|██▎       | 47/200 [08:03<26:21, 10.34s/it]"
     ]
    },
    {
     "name": "stdout",
     "output_type": "stream",
     "text": [
      "epoch 46, train_loss: 0.0542, valid loss: 0.0862, min_valid_loss: 0.0640, wait: 5 / 20\n"
     ]
    },
    {
     "name": "stderr",
     "output_type": "stream",
     "text": [
      " 24%|██▍       | 48/200 [08:13<26:17, 10.38s/it]"
     ]
    },
    {
     "name": "stdout",
     "output_type": "stream",
     "text": [
      "epoch 47, train_loss: 0.0521, valid loss: 0.0637\n"
     ]
    },
    {
     "name": "stderr",
     "output_type": "stream",
     "text": [
      " 24%|██▍       | 49/200 [08:24<26:05, 10.37s/it]"
     ]
    },
    {
     "name": "stdout",
     "output_type": "stream",
     "text": [
      "epoch 48, train_loss: 0.0535, valid loss: 0.0801, min_valid_loss: 0.0637, wait: 0 / 20\n"
     ]
    },
    {
     "name": "stderr",
     "output_type": "stream",
     "text": [
      " 25%|██▌       | 50/200 [08:34<25:46, 10.31s/it]"
     ]
    },
    {
     "name": "stdout",
     "output_type": "stream",
     "text": [
      "epoch 49, train_loss: 0.0482, valid loss: 0.0641, min_valid_loss: 0.0637, wait: 1 / 20\n"
     ]
    },
    {
     "name": "stderr",
     "output_type": "stream",
     "text": [
      " 26%|██▌       | 51/200 [08:44<25:36, 10.31s/it]"
     ]
    },
    {
     "name": "stdout",
     "output_type": "stream",
     "text": [
      "epoch 50, train_loss: 0.0524, valid loss: 0.0665, min_valid_loss: 0.0637, wait: 2 / 20\n"
     ]
    },
    {
     "name": "stderr",
     "output_type": "stream",
     "text": [
      " 26%|██▌       | 52/200 [08:54<25:18, 10.26s/it]"
     ]
    },
    {
     "name": "stdout",
     "output_type": "stream",
     "text": [
      "epoch 51, train_loss: 0.0458, valid loss: 0.0825, min_valid_loss: 0.0637, wait: 3 / 20\n"
     ]
    },
    {
     "name": "stderr",
     "output_type": "stream",
     "text": [
      " 26%|██▋       | 53/200 [09:05<25:09, 10.27s/it]"
     ]
    },
    {
     "name": "stdout",
     "output_type": "stream",
     "text": [
      "epoch 52, train_loss: 0.0478, valid loss: 0.0506\n"
     ]
    },
    {
     "name": "stderr",
     "output_type": "stream",
     "text": [
      " 27%|██▋       | 54/200 [09:15<24:54, 10.24s/it]"
     ]
    },
    {
     "name": "stdout",
     "output_type": "stream",
     "text": [
      "epoch 53, train_loss: 0.0511, valid loss: 0.0893, min_valid_loss: 0.0506, wait: 0 / 20\n"
     ]
    },
    {
     "name": "stderr",
     "output_type": "stream",
     "text": [
      " 28%|██▊       | 55/200 [09:25<24:41, 10.22s/it]"
     ]
    },
    {
     "name": "stdout",
     "output_type": "stream",
     "text": [
      "epoch 54, train_loss: 0.0529, valid loss: 0.0646, min_valid_loss: 0.0506, wait: 1 / 20\n"
     ]
    },
    {
     "name": "stderr",
     "output_type": "stream",
     "text": [
      " 28%|██▊       | 56/200 [09:35<24:29, 10.21s/it]"
     ]
    },
    {
     "name": "stdout",
     "output_type": "stream",
     "text": [
      "epoch 55, train_loss: 0.0473, valid loss: 0.0950, min_valid_loss: 0.0506, wait: 2 / 20\n"
     ]
    },
    {
     "name": "stderr",
     "output_type": "stream",
     "text": [
      " 28%|██▊       | 57/200 [09:46<24:27, 10.26s/it]"
     ]
    },
    {
     "name": "stdout",
     "output_type": "stream",
     "text": [
      "epoch 56, train_loss: 0.0425, valid loss: 0.0575, min_valid_loss: 0.0506, wait: 3 / 20\n"
     ]
    },
    {
     "name": "stderr",
     "output_type": "stream",
     "text": [
      " 29%|██▉       | 58/200 [09:56<24:23, 10.30s/it]"
     ]
    },
    {
     "name": "stdout",
     "output_type": "stream",
     "text": [
      "epoch 57, train_loss: 0.0496, valid loss: 0.0782, min_valid_loss: 0.0506, wait: 4 / 20\n"
     ]
    },
    {
     "name": "stderr",
     "output_type": "stream",
     "text": [
      " 30%|██▉       | 59/200 [10:06<24:17, 10.33s/it]"
     ]
    },
    {
     "name": "stdout",
     "output_type": "stream",
     "text": [
      "epoch 58, train_loss: 0.0440, valid loss: 0.0922, min_valid_loss: 0.0506, wait: 5 / 20\n"
     ]
    },
    {
     "name": "stderr",
     "output_type": "stream",
     "text": [
      " 30%|███       | 60/200 [10:17<24:08, 10.35s/it]"
     ]
    },
    {
     "name": "stdout",
     "output_type": "stream",
     "text": [
      "epoch 59, train_loss: 0.0430, valid loss: 0.0710, min_valid_loss: 0.0506, wait: 6 / 20\n"
     ]
    },
    {
     "name": "stderr",
     "output_type": "stream",
     "text": [
      " 30%|███       | 61/200 [10:27<23:50, 10.29s/it]"
     ]
    },
    {
     "name": "stdout",
     "output_type": "stream",
     "text": [
      "epoch 60, train_loss: 0.0467, valid loss: 0.0646, min_valid_loss: 0.0506, wait: 7 / 20\n"
     ]
    },
    {
     "name": "stderr",
     "output_type": "stream",
     "text": [
      " 31%|███       | 62/200 [10:37<23:43, 10.32s/it]"
     ]
    },
    {
     "name": "stdout",
     "output_type": "stream",
     "text": [
      "epoch 61, train_loss: 0.0522, valid loss: 0.0951, min_valid_loss: 0.0506, wait: 8 / 20\n"
     ]
    },
    {
     "name": "stderr",
     "output_type": "stream",
     "text": [
      " 32%|███▏      | 63/200 [10:48<23:36, 10.34s/it]"
     ]
    },
    {
     "name": "stdout",
     "output_type": "stream",
     "text": [
      "epoch 62, train_loss: 0.0488, valid loss: 0.0672, min_valid_loss: 0.0506, wait: 9 / 20\n"
     ]
    },
    {
     "name": "stderr",
     "output_type": "stream",
     "text": [
      " 32%|███▏      | 64/200 [10:58<23:27, 10.35s/it]"
     ]
    },
    {
     "name": "stdout",
     "output_type": "stream",
     "text": [
      "epoch 63, train_loss: 0.0427, valid loss: 0.0725, min_valid_loss: 0.0506, wait: 10 / 20\n"
     ]
    },
    {
     "name": "stderr",
     "output_type": "stream",
     "text": [
      " 32%|███▎      | 65/200 [11:09<23:18, 10.36s/it]"
     ]
    },
    {
     "name": "stdout",
     "output_type": "stream",
     "text": [
      "epoch 64, train_loss: 0.0456, valid loss: 0.0709, min_valid_loss: 0.0506, wait: 11 / 20\n"
     ]
    },
    {
     "name": "stderr",
     "output_type": "stream",
     "text": [
      " 33%|███▎      | 66/200 [11:19<23:08, 10.36s/it]"
     ]
    },
    {
     "name": "stdout",
     "output_type": "stream",
     "text": [
      "epoch 65, train_loss: 0.0441, valid loss: 0.0854, min_valid_loss: 0.0506, wait: 12 / 20\n"
     ]
    },
    {
     "name": "stderr",
     "output_type": "stream",
     "text": [
      " 34%|███▎      | 67/200 [11:29<22:50, 10.30s/it]"
     ]
    },
    {
     "name": "stdout",
     "output_type": "stream",
     "text": [
      "epoch 66, train_loss: 0.0396, valid loss: 0.0639, min_valid_loss: 0.0506, wait: 13 / 20\n"
     ]
    },
    {
     "name": "stderr",
     "output_type": "stream",
     "text": [
      " 34%|███▍      | 68/200 [11:39<22:34, 10.26s/it]"
     ]
    },
    {
     "name": "stdout",
     "output_type": "stream",
     "text": [
      "epoch 67, train_loss: 0.0432, valid loss: 0.0551, min_valid_loss: 0.0506, wait: 14 / 20\n"
     ]
    },
    {
     "name": "stderr",
     "output_type": "stream",
     "text": [
      " 34%|███▍      | 69/200 [11:49<22:19, 10.23s/it]"
     ]
    },
    {
     "name": "stdout",
     "output_type": "stream",
     "text": [
      "epoch 68, train_loss: 0.0458, valid loss: 0.0563, min_valid_loss: 0.0506, wait: 15 / 20\n"
     ]
    },
    {
     "name": "stderr",
     "output_type": "stream",
     "text": [
      " 35%|███▌      | 70/200 [12:00<22:06, 10.20s/it]"
     ]
    },
    {
     "name": "stdout",
     "output_type": "stream",
     "text": [
      "epoch 69, train_loss: 0.0391, valid loss: 0.0770, min_valid_loss: 0.0506, wait: 16 / 20\n"
     ]
    },
    {
     "name": "stderr",
     "output_type": "stream",
     "text": [
      " 36%|███▌      | 71/200 [12:10<21:53, 10.18s/it]"
     ]
    },
    {
     "name": "stdout",
     "output_type": "stream",
     "text": [
      "epoch 70, train_loss: 0.0432, valid loss: 0.0618, min_valid_loss: 0.0506, wait: 17 / 20\n"
     ]
    },
    {
     "name": "stderr",
     "output_type": "stream",
     "text": [
      " 36%|███▌      | 72/200 [12:20<21:42, 10.17s/it]"
     ]
    },
    {
     "name": "stdout",
     "output_type": "stream",
     "text": [
      "epoch 71, train_loss: 0.0438, valid loss: 0.0688, min_valid_loss: 0.0506, wait: 18 / 20\n"
     ]
    },
    {
     "name": "stderr",
     "output_type": "stream",
     "text": [
      " 36%|███▌      | 72/200 [12:30<22:14, 10.42s/it]"
     ]
    },
>>>>>>> 7880c3ad5fa28724f80d6a84baf0436bf55929f1
    {
     "name": "stdout",
     "output_type": "stream",
     "text": [
      "epoch 72, train_loss: 0.0406, valid loss: 0.0761, min_valid_loss: 0.0506, wait: 19 / 20\n"
     ]
    },
    {
     "name": "stderr",
     "output_type": "stream",
     "text": [
      "\n"
     ]
    }
   ],
   "source": [
    "transformer = Transformer(src_vocab_size, tgt_vocab_size, d_model, num_heads, num_layers, d_ff, max_seq_length, dropout).to(DEVICE)\n",
    "ddpm = DDPM(nn_model=transformer, betas=(1e-4, 0.02), n_T=n_T, \\\n",
    "    device=DEVICE, n_inference=1000, drop_prob=0.1)\n",
    "ddpm.to(DEVICE)\n",
    "optim = torch.optim.Adam(ddpm.parameters(), lr=lr)\n",
    "train_main_loop(ddpm, optim, trainset, validset, testset, lr, n_epoch, DEVICE, 0, 20)\n"
   ]
  },
  {
   "cell_type": "code",
<<<<<<< HEAD
   "execution_count": null,
   "metadata": {
    "id": "HIYYxtkArxKy"
   },
=======
   "execution_count": 68,
   "metadata": {},
>>>>>>> 7880c3ad5fa28724f80d6a84baf0436bf55929f1
   "outputs": [
    {
     "name": "stderr",
     "output_type": "stream",
     "text": [
      "  4%|▍         | 4/100 [00:37<14:48,  9.26s/it]\n"
     ]
    }
   ],
   "source": [
    "eval_main_loop(ddpm, \"model_best_diffusion.pt\", testset, DEVICE, 0.1, 1)"
   ]
  }
 ],
 "metadata": {
  "accelerator": "GPU",
  "colab": {
   "gpuType": "T4",
   "machine_shape": "hm",
   "provenance": []
  },
  "kernelspec": {
   "display_name": "deepml",
   "language": "python",
   "name": "python3"
  },
  "language_info": {
   "codemirror_mode": {
    "name": "ipython",
    "version": 3
   },
   "file_extension": ".py",
   "mimetype": "text/x-python",
   "name": "python",
   "nbconvert_exporter": "python",
   "pygments_lexer": "ipython3",
   "version": "3.10.12"
  }
 },
 "nbformat": 4,
 "nbformat_minor": 0
}
