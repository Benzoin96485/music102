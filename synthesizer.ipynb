{
 "cells": [
  {
   "cell_type": "code",
   "execution_count": 4,
   "metadata": {},
   "outputs": [],
   "source": [
    "from pretty_midi import PrettyMIDI, instrument_name_to_program, Instrument, note_name_to_number, Note\n",
    "from os import system\n",
    "import pandas as pd"
   ]
  },
  {
   "cell_type": "code",
   "execution_count": 31,
   "metadata": {},
   "outputs": [],
   "source": [
    "def synthesize(midi_file, chords, beats, durations, output, instrument=\"String Ensemble 1\", velocity=50, group=3, melody_only=True, to_mp3=False):\n",
    "    KEYS = (\"C\", \"C#\", \"D\", \"Eb\", \"E\", \"F\", \"F#\", \"G\", \"Ab\", \"A\", \"Bb\", \"B\")\n",
    "    midi_data = PrettyMIDI(midi_file)\n",
    "    if melody_only:\n",
    "        midi_data.instruments = [midi_data.instruments[0]]\n",
    "    program = instrument_name_to_program(instrument)\n",
    "    accompany = Instrument(program=program, name=\"accompany\")\n",
    "    old_chord = []\n",
    "    for chord, beat, duration in zip(chords + [[]], beats + [0], durations + [0]):\n",
    "        if chord != old_chord:\n",
    "            if old_chord:\n",
    "                for bit, key in zip(old_chord, KEYS):\n",
    "                    if bit:\n",
    "                        note_number = note_name_to_number(f\"{key}{group}\")\n",
    "                        note = Note(velocity=velocity, pitch=note_number, start=old_beat, end=old_beat+total_duration)\n",
    "                        accompany.notes.append(note)\n",
    "            old_beat = beat\n",
    "            total_duration = duration\n",
    "            old_chord = chord\n",
    "        else:\n",
    "            total_duration += duration\n",
    "    midi_data.instruments.append(accompany)\n",
    "    midi_data.write(output)\n",
    "    if to_mp3:\n",
    "        system(f\"Musescore4 {output} -o {output.replace('mid', 'mp3')}\")"
   ]
  },
  {
   "cell_type": "code",
   "execution_count": 25,
   "metadata": {},
   "outputs": [],
   "source": [
    "def parse_csv(csv_file):\n",
    "    df = pd.read_csv(csv_file)\n",
    "    chords = df[\"chord\"].apply(lambda x: eval(x.replace(\".\", \",\"))).to_list()\n",
    "    beats = df[\"time\"].to_list()\n",
    "    durations = df[\"duration\"].to_list()\n",
    "    return chords, beats, durations"
   ]
  },
  {
   "cell_type": "code",
   "execution_count": 32,
   "metadata": {},
   "outputs": [],
   "source": [
    "synthesize(\n",
    "    r\"POP909\\POP909\\001\\001.mid\", \n",
    "    *parse_csv(r\"POP909\\POP909\\001\\melody_chord_1_2_beat.csv\"),\n",
    "    \"test.mid\"\n",
    ")"
   ]
  }
 ],
 "metadata": {
  "kernelspec": {
   "display_name": "music101",
   "language": "python",
   "name": "python3"
  },
  "language_info": {
   "codemirror_mode": {
    "name": "ipython",
    "version": 3
   },
   "file_extension": ".py",
   "mimetype": "text/x-python",
   "name": "python",
   "nbconvert_exporter": "python",
   "pygments_lexer": "ipython3",
   "version": "3.12.0"
  }
 },
 "nbformat": 4,
 "nbformat_minor": 2
}
