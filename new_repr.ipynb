{
 "cells": [
  {
   "cell_type": "code",
   "execution_count": 1,
   "metadata": {},
   "outputs": [],
   "source": [
    "import pandas as pd\n",
    "from tqdm import tqdm\n",
    "import pickle"
   ]
  },
  {
   "cell_type": "code",
   "execution_count": 2,
   "metadata": {},
   "outputs": [],
   "source": [
    "old_trainset = pickle.load(open('trainset_w.pkl', 'rb'))\n",
    "old_validset = pickle.load(open('validset_w.pkl', 'rb'))\n",
    "old_testset = pickle.load(open('testset_w.pkl', 'rb'))\n",
    "\n",
    "trainset_idx = [data[0] for data in old_trainset]\n",
    "validset_idx = [data[0] for data in old_validset]\n",
    "testset_idx = [data[0] for data in old_testset]"
   ]
  },
  {
   "cell_type": "code",
   "execution_count": 5,
   "metadata": {},
   "outputs": [
    {
     "name": "stderr",
     "output_type": "stream",
     "text": [
      "100%|██████████| 909/909 [00:09<00:00, 98.08it/s] \n"
     ]
    }
   ],
   "source": [
    "for i in tqdm(range(1, 910)):\n",
    "    idx = f\"{i:0>3}\"\n",
    "    data_frame = pd.read_csv(f'POP909/POP909/{idx}/melody_chord_1_beat.csv', index_col=0)\n",
    "    mask_set = set()\n",
    "    mask_seg = []\n",
    "    for i in range(len(data_frame)):\n",
    "        if sum(eval(data_frame.iloc[i][\"melody\"])) == 0:\n",
    "            mask_seg.append(i)\n",
    "        else:\n",
    "            if len(mask_seg) >= 4 or (mask_seg and mask_seg[0] == 0):\n",
    "                mask_set.update(mask_seg)\n",
    "            mask_seg = []\n",
    "    mask_set.update(mask_seg)\n",
    "    data_frame.drop(mask_set).to_csv(f'POP909/POP909/{idx}/melody_chord_1_beat_clean.csv')\n"
   ]
  },
  {
   "cell_type": "code",
   "execution_count": 6,
   "metadata": {},
   "outputs": [],
   "source": [
    "def get_repr(df):\n",
    "    chords = []\n",
    "    melody_reprs = []\n",
    "    for i in range(len(df)):\n",
    "        chord_str = df.iloc[i][\"chord\"][1:-1]\n",
    "        chord_repr = [int(float(x)) for x in chord_str.split()]\n",
    "        chords.append(chord_repr)\n",
    "        melody_reprs.append(eval(df.iloc[i][\"melody\"]))\n",
    "    transition_progress = [0.] * (len(chords) + 1)\n",
    "    next_chords = [[0] * 12] + [None] * len(chords)\n",
    "    last_chord_repr = [0] * 12\n",
    "    start_idx = 0\n",
    "    last_length = 1\n",
    "    for i, chord_repr in enumerate(chords):\n",
    "        if chord_repr == last_chord_repr:\n",
    "            last_length += 1\n",
    "        else:\n",
    "            end_idx = start_idx + last_length\n",
    "            for j in range(start_idx, end_idx):\n",
    "                transition_progress[j] = (end_idx - j - 1) / last_length\n",
    "                next_chords[j] = chord_repr\n",
    "            start_idx = end_idx\n",
    "            last_length = 1\n",
    "            last_chord_repr = chord_repr\n",
    "    end_idx = start_idx + last_length\n",
    "    for j in range(start_idx, end_idx):\n",
    "        transition_progress[j] = (end_idx - j - 1) / last_length\n",
    "        next_chords[j] = [0] * 12\n",
    "    return transition_progress, next_chords, melody_reprs\n"
   ]
  },
  {
   "cell_type": "code",
   "execution_count": 36,
   "metadata": {},
   "outputs": [
    {
     "name": "stderr",
     "output_type": "stream",
     "text": [
      "100%|██████████| 909/909 [00:09<00:00, 100.74it/s]\n"
     ]
    }
   ],
   "source": [
    "new_trainset = []\n",
    "new_validset = []\n",
    "new_testset = []\n",
    "\n",
    "for i in tqdm(range(1, 910)):\n",
    "    idx = f\"{i:0>3}\"\n",
    "    data_frame = pd.read_csv(f'POP909/POP909/{idx}/melody_chord_1_beat_clean.csv', index_col=0)\n",
    "    transition_progress, next_chords, melody_reprs = get_repr(data_frame)\n",
    "    if idx in trainset_idx:\n",
    "        new_trainset.append((idx, transition_progress, next_chords, melody_reprs))\n",
    "    elif idx in validset_idx:\n",
    "        new_validset.append((idx, transition_progress, next_chords, melody_reprs))\n",
    "    else:\n",
    "        new_testset.append((idx, transition_progress, next_chords, melody_reprs))\n",
    "pickle.dump(new_trainset, open(f'new_trainset.pkl', 'wb'))\n",
    "pickle.dump(new_validset, open(f'new_validset.pkl', 'wb'))\n",
    "pickle.dump(new_testset, open(f'new_testset.pkl', 'wb'))"
   ]
  }
 ],
 "metadata": {
  "kernelspec": {
   "display_name": "music101",
   "language": "python",
   "name": "python3"
  },
  "language_info": {
   "codemirror_mode": {
    "name": "ipython",
    "version": 3
   },
   "file_extension": ".py",
   "mimetype": "text/x-python",
   "name": "python",
   "nbconvert_exporter": "python",
   "pygments_lexer": "ipython3",
   "version": "3.12.7"
  }
 },
 "nbformat": 4,
 "nbformat_minor": 2
}
