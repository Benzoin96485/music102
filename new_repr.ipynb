{
 "cells": [
  {
   "cell_type": "code",
   "execution_count": null,
   "metadata": {},
   "outputs": [],
   "source": [
    "import pandas as pd\n",
    "from tqdm import tqdm\n",
    "\n",
    "# mouyangetbrhber"
   ]
  },
  {
   "cell_type": "code",
   "execution_count": 15,
   "metadata": {},
   "outputs": [
    {
     "name": "stderr",
     "output_type": "stream",
     "text": [
      "100%|██████████| 909/909 [00:22<00:00, 41.27it/s]\n"
     ]
    }
   ],
   "source": [
    "for i in tqdm(range(1, 910)):\n",
    "    idx = f\"{i:0>3}\"\n",
    "    data_frame = pd.read_csv(f'POP909/POP909/{idx}/melody_chord_1_beat.csv', index_col=0)\n",
    "    mask_set = set()\n",
    "    mask_seg = []\n",
    "    for i in range(len(data_frame)):\n",
    "        if sum(eval(data_frame.iloc[i][\"melody\"])) == 0:\n",
    "            mask_seg.append(i)\n",
    "        else:\n",
    "            if len(mask_seg) >= 4 or (mask_seg and mask_seg[0] == 0):\n",
    "                mask_set.update(mask_seg)\n",
    "            mask_seg = []\n",
    "    mask_set.update(mask_seg)\n",
    "    data_frame.drop(mask_set).to_csv(f'POP909/POP909/{idx}/melody_chord_1_beat_clean.csv')\n"
   ]
  }
 ],
 "metadata": {
  "kernelspec": {
   "display_name": "music101",
   "language": "python",
   "name": "python3"
  },
  "language_info": {
   "codemirror_mode": {
    "name": "ipython",
    "version": 3
   },
   "file_extension": ".py",
   "mimetype": "text/x-python",
   "name": "python",
   "nbconvert_exporter": "python",
   "pygments_lexer": "ipython3",
   "version": "3.11.4"
  }
 },
 "nbformat": 4,
 "nbformat_minor": 2
}
