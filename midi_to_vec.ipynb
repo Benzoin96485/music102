{
 "cells": [
  {
   "cell_type": "code",
   "execution_count": 16,
   "metadata": {},
   "outputs": [],
   "source": [
    "# Convert the time stamps in midi to seconds\n",
    "\n",
    "import pretty_midi\n",
    "import numpy as np\n",
    "import pandas as pd\n",
    "from tqdm import tqdm\n",
    "\n",
    "# Define the unit of observations in terms of beats\n",
    "UNIT = 1/2\n",
    "KEYS = (\"C\", \"C#\", \"D\", \"Eb\", \"E\", \"F\", \"F#\", \"G\", \"Ab\", \"A\", \"Bb\", \"B\")\n",
    "COMPOSITION = pd.read_csv(\"chroma_composition.csv\")\n",
    "\n",
    "def chord2vec(chord):\n",
    "    vec = np.zeros(12)\n",
    "    if \":\" in chord:\n",
    "        root, chroma = chord.split(\":\")\n",
    "        root_idx = KEYS.index(root)\n",
    "        composition = COMPOSITION[COMPOSITION[\"chroma\"] == chroma][\"composition\"].item()\n",
    "        for key_idx in composition.split():\n",
    "            vec[(int(key_idx) + root_idx) % 12] = 1\n",
    "    return vec"
   ]
  },
  {
   "cell_type": "code",
   "execution_count": 17,
   "metadata": {},
   "outputs": [],
   "source": [
    "def extend_array(array, u = 0.5):\n",
    "    r = int(1 / u)\n",
    "    res = array\n",
    "    for s in range(1, r):\n",
    "        res = np.append(res, (array[:-1] * s * u) + (array[1:] * (r - s) * u))\n",
    "    return np.sort(res)\n"
   ]
  },
  {
   "cell_type": "code",
   "execution_count": 28,
   "metadata": {},
   "outputs": [
    {
     "name": "stderr",
     "output_type": "stream",
     "text": [
      "100%|██████████| 909/909 [02:28<00:00,  6.10it/s]\n"
     ]
    }
   ],
   "source": [
    "for i in tqdm(range(1,910)):\n",
    "    idx = f\"{i:0>3}\"\n",
    "    midi = pd.read_csv(rf\"POP909/POP909/{idx}/all_in_text_{idx}.csv\", sep=\",\", index_col = \"Unnamed: 0\") \n",
    "    midi['chord'] = midi['chord'].astype(str)\n",
    "\n",
    "    time_stamp_in_data = extend_array(np.append(np.unique(midi.beat_start), midi.tail(1).chord_end),  u  = UNIT)\n",
    "    time_stamp_in_data = time_stamp_in_data[~np.isnan(time_stamp_in_data)]\n",
    "    data = pd.DataFrame({'time':time_stamp_in_data}).reset_index()\n",
    "\n",
    "    data = pd.merge(data, midi, on = 'time', how = 'outer').sort_values(by = 'time')[['index', 'time', 'mel_start', 'mel_end', 'mel_pitch', 'chord_start', 'chord_end', 'chord']].reset_index(drop = True)\n",
    "    data = data.ffill()\n",
    "    rows = data.time > data.mel_end\n",
    "    data.loc[rows, ['mel_start', 'mel_end', 'mel_pitch']] = np.NaN\n",
    "    rows = data.time > data.chord_end\n",
    "    data.loc[rows, ['chord_start', 'chord_end', 'chord']] = np.NaN\n",
    "\n",
    "    data.chord_start = np.max(np.vstack((data.time, data.chord_start)), axis = 0)\n",
    "    data.chord_end = np.append(np.min(np.vstack((data.time[1:], data.chord_end[:-1])), axis = 0), data.tail(1).chord_start)\n",
    "\n",
    "\n",
    "    data.mel_start = np.max(np.vstack((data.time, data.mel_start)), axis = 0)\n",
    "    data.mel_end = np.append(np.min(np.vstack((data.time[1:], data.mel_end[:-1])), axis = 0), data.tail(1).mel_start)\n",
    "    data = data.drop_duplicates()\n",
    "\n",
    "    data['chord_duration'] = data.chord_end - data.chord_start\n",
    "    data['mel_duration'] = data.mel_end - data.mel_start\n",
    "\n",
    "    data.mel_pitch = (data.mel_pitch - 60) % 12\n",
    "\n",
    "    for p in range(12):\n",
    "        data[f'mel_pit_{p}'] = (data.mel_pitch == p)\n",
    "        data[f'wmel_pit_{p}'] = data[f'mel_pit_{p}'] * data['mel_duration']\n",
    "\n",
    "\n",
    "\n",
    "    by_beat = data.groupby(by=['index']).agg(chord = (\"chord\", \"first\"),\n",
    "                                            mel_pit_0 = (\"wmel_pit_0\", \"sum\"),\n",
    "                                            mel_pit_1 = (\"wmel_pit_1\", \"sum\"),\n",
    "                                            mel_pit_2 = (\"wmel_pit_2\", \"sum\"),\n",
    "                                            mel_pit_3 = (\"wmel_pit_3\", \"sum\"),\n",
    "                                            mel_pit_4 = (\"wmel_pit_4\", \"sum\"),\n",
    "                                            mel_pit_5 = (\"wmel_pit_5\", \"sum\"),\n",
    "                                            mel_pit_6 = (\"wmel_pit_6\", \"sum\"),\n",
    "                                            mel_pit_7 = (\"wmel_pit_7\", \"sum\"),\n",
    "                                            mel_pit_8 = (\"wmel_pit_8\", \"sum\"),\n",
    "                                            mel_pit_9 = (\"wmel_pit_9\", \"sum\"),\n",
    "                                            mel_pit_10 = (\"wmel_pit_10\", \"sum\"),\n",
    "                                            mel_pit_11 = (\"wmel_pit_11\", \"sum\"),\n",
    "                                            )\n",
    "\n",
    "    by_beat = by_beat.fillna(0)\n",
    "\n",
    "    by_beat['duration'] = np.append(time_stamp_in_data[1:] - time_stamp_in_data[:-1], 0)\n",
    "    for p in range(12):\n",
    "        by_beat[f'mel_pit_{p}'] = by_beat[f'mel_pit_{p}'] / by_beat['duration']\n",
    "\n",
    "    by_beat['melody'] = by_beat[['mel_pit_0', 'mel_pit_1', 'mel_pit_2', 'mel_pit_3', 'mel_pit_4',\\\n",
    "                                'mel_pit_5', 'mel_pit_6', 'mel_pit_7', 'mel_pit_8', 'mel_pit_9',\\\n",
    "                                'mel_pit_10','mel_pit_11']].values.tolist() \n",
    "\n",
    "    by_beat = by_beat[['chord', 'melody', 'duration']]\n",
    "    by_beat['chord'] = by_beat['chord'].apply(chord2vec)\n",
    "    by_beat.drop(by_beat.tail(1).index,inplace=True) \n",
    "    by_beat.to_csv(rf\"POP909/POP909/{idx}/melody_chord_1_2_beat.csv\")"
   ]
  },
  {
   "cell_type": "code",
   "execution_count": 29,
   "metadata": {},
   "outputs": [
    {
     "name": "stderr",
     "output_type": "stream",
     "text": [
      "100%|██████████| 909/909 [00:16<00:00, 56.11it/s]\n"
     ]
    }
   ],
   "source": [
    "# Add the notation by downbeats\n",
    "for i in tqdm(range(1,910)):\n",
    "    idx = f\"{i:0>3}\"\n",
    "\n",
    "    midi = pd.read_csv(rf\"POP909/POP909/{idx}/all_in_text_{idx}.csv\", sep=\",\", index_col = \"Unnamed: 0\") \n",
    "    midi['chord'] = midi['chord'].astype(str)\n",
    "    time_stamp_in_data = extend_array(np.append(np.unique(midi.beat_start), midi.tail(1).chord_end),  u  = UNIT)\n",
    "    time_stamp_in_data = time_stamp_in_data[~np.isnan(time_stamp_in_data)]\n",
    "\n",
    "    beat = pd.read_csv(rf\"POP909/POP909/{idx}/beat_midi.txt\", sep=\" \", header = None) \n",
    "    beat = beat.rename(columns = {0: 'time', 1: 'downbeat1', 2: 'downbeat2'})\n",
    "    beat['db_index1'] = beat['downbeat1'].cumsum()\n",
    "    if beat['db_index1'][0] == 0.0:\n",
    "        beat['db_index1'] = beat['db_index1'] + 1.0\n",
    "    beat['db_index2'] = beat['downbeat2'].cumsum()\n",
    "    if beat['db_index2'][0] == 0.0:\n",
    "        beat['db_index2'] = beat['db_index2'] + 1.0\n",
    "\n",
    "    beat = beat[['time', 'db_index1', 'db_index2']]\n",
    "\n",
    "    data = pd.read_csv(rf\"POP909/POP909/{idx}/melody_chord_1_2_beat.csv\", sep=\",\") \n",
    "    data['time'] = time_stamp_in_data[:-1]\n",
    "\n",
    "    data = data.merge(beat, on = 'time', how = 'left')\n",
    "    data['db_index1'] = data['db_index1'].ffill()\n",
    "    data['db_index2'] = data['db_index2'].ffill()\n",
    "\n",
    "    data. to_csv(rf\"POP909/POP909/{idx}/melody_chord_1_2_beat.csv\")"
   ]
  }
 ],
 "metadata": {
  "kernelspec": {
   "display_name": "Python 3 (ipykernel)",
   "language": "python",
   "name": "python3"
  },
  "language_info": {
   "codemirror_mode": {
    "name": "ipython",
    "version": 3
   },
   "file_extension": ".py",
   "mimetype": "text/x-python",
   "name": "python",
   "nbconvert_exporter": "python",
   "pygments_lexer": "ipython3",
   "version": "3.8.18"
  }
 },
 "nbformat": 4,
 "nbformat_minor": 2
}
