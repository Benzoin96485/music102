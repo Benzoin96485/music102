{
 "cells": [
  {
   "cell_type": "code",
   "execution_count": 110,
   "metadata": {},
   "outputs": [],
   "source": [
    "from pretty_midi import PrettyMIDI, instrument_name_to_program, Instrument, note_name_to_number, Note\n",
    "from os import system\n",
    "import pandas as pd\n",
    "import pickle\n",
    "import torch"
   ]
  },
  {
   "cell_type": "code",
   "execution_count": 39,
   "metadata": {},
   "outputs": [],
   "source": [
    "trainset = pickle.load(open(\"new_trainset.pkl\", \"rb\"))\n",
    "testset = pickle.load(open(\"new_testset.pkl\", \"rb\"))"
   ]
  },
  {
   "cell_type": "code",
   "execution_count": 4,
   "metadata": {},
   "outputs": [
    {
     "data": {
      "text/plain": [
       "709"
      ]
     },
     "execution_count": 4,
     "metadata": {},
     "output_type": "execute_result"
    }
   ],
   "source": [
    "len(trainset)"
   ]
  },
  {
   "cell_type": "code",
   "execution_count": 111,
   "metadata": {},
   "outputs": [],
   "source": [
    "KEYS = (\"C\", \"C#\", \"D\", \"Eb\", \"E\", \"F\", \"F#\", \"G\", \"Ab\", \"A\", \"Bb\", \"B\") \n",
    "\n",
    "def synthesize(transition_progress, next_chords, original_csv_path, cleaned_csv_path, original_midi_path, output_midi_path, transition_progress_threshold=0.05, instrument=\"String Ensemble 1\", velocity=50, group=3, melody_only=True, to_mp3=False):\n",
    "    midi = PrettyMIDI(original_midi_path)\n",
    "    if melody_only:\n",
    "        midi.instruments = [midi.instruments[0]]\n",
    "    program = instrument_name_to_program(instrument)\n",
    "    accompany = Instrument(program=program, name=\"accompany\")\n",
    "\n",
    "    cleaned_df = pd.read_csv(cleaned_csv_path, index_col=0)\n",
    "    last_start_index = int(cleaned_df.index[0])\n",
    "    last_index = last_start_index\n",
    "    last_total_duration = 0\n",
    "    this_chord = next_chords[0]\n",
    "    original_df = pd.read_csv(original_csv_path, index_col=0)\n",
    "    for i, (transition, next_chord) in enumerate(zip(transition_progress[1:], next_chords[1:])):\n",
    "        index = int(cleaned_df.index[i]) # start index of the current chord\n",
    "        if index - last_index <= 1:\n",
    "            last_total_duration += original_df.loc[index, \"duration\"]\n",
    "        if transition < transition_progress_threshold or index - last_index > 1 or i == len(transition_progress) - 2:\n",
    "            start_time = original_df.loc[last_start_index, \"time\"]\n",
    "            #print(start_time, last_start_index, last_total_duration)\n",
    "            for bit, key in zip(this_chord, KEYS):\n",
    "                if bit:\n",
    "                    note_number = note_name_to_number(f\"{key}{group}\")\n",
    "                    note = Note(velocity=velocity, pitch=note_number, start=start_time, end=start_time+last_total_duration)\n",
    "                    accompany.notes.append(note)\n",
    "            if i < len(transition_progress) - 2:\n",
    "                if transition < transition_progress_threshold:\n",
    "                    this_chord = next_chord\n",
    "                    last_total_duration = 0\n",
    "                    last_start_index = int(cleaned_df.index[i + 1])\n",
    "                else:\n",
    "                    last_total_duration = original_df.loc[index, \"duration\"]\n",
    "                    last_start_index = int(cleaned_df.index[i])\n",
    "                \n",
    "                \n",
    "        last_index = index\n",
    "    midi.instruments.append(accompany)\n",
    "    midi.write(output_midi_path)\n",
    "    if to_mp3:\n",
    "        system(f\"Musescore4 {output_midi_path} -o {output_midi_path.replace('mid', 'mp3')}\")"
   ]
  },
  {
   "cell_type": "code",
   "execution_count": 45,
   "metadata": {},
   "outputs": [],
   "source": [
    "idx, transition_progress, next_chords, melody_reprs = trainset[0]\n",
    "len(transition_progress), len(next_chords)\n",
    "synthesize(transition_progress, next_chords, f\"POP909/POP909/{idx}/melody_chord_1_beat.csv\", f\"POP909/POP909/{idx}/melody_chord_1_beat_clean.csv\", f\"POP909/POP909/{idx}/{idx}.mid\", f\"test.mid\")\n"
   ]
  },
  {
   "cell_type": "code",
   "execution_count": 116,
   "metadata": {},
   "outputs": [],
   "source": [
    "idx = \"001\"\n",
    "predicted = torch.load(f\"song_{idx}_regularized.pt\", map_location=\"cpu\")[0,1:,:12]\n",
    "original_df = pd.read_csv(f\"POP909/POP909/{idx}/melody_chord_1_beat.csv\", index_col=0)\n",
    "cleaned_df = pd.read_csv(f\"POP909/POP909/{idx}/melody_chord_1_beat_clean.csv\", index_col=0)\n",
    "original_midi_path = f\"POP909/POP909/{idx}/{idx}.mid\"\n",
    "midi = PrettyMIDI(original_midi_path)\n",
    "midi.instruments = [midi.instruments[0]]\n",
    "program = instrument_name_to_program(\"String Ensemble 1\")\n",
    "accompany = Instrument(program=program, name=\"accompany\")\n",
    "last_chord = None\n",
    "this_duration = 0\n",
    "last_start_time = 0\n",
    "last_index = -1\n",
    "for i in range(len(predicted)):\n",
    "    index = int(cleaned_df.index[i])\n",
    "    start_time = original_df.loc[index, \"time\"]\n",
    "    duration = original_df.loc[index, \"duration\"]\n",
    "    predicted_chord = predicted[i]\n",
    "    if last_chord is None or (predicted_chord != last_chord).any() or index - last_index > 1:\n",
    "        if last_chord is not None:\n",
    "            for bit, key in zip(last_chord, KEYS):\n",
    "                if bit:\n",
    "                    note_number = note_name_to_number(f\"{key}{3}\")\n",
    "                    note = Note(velocity=50, pitch=note_number, start=last_start_time, end=last_start_time+this_duration)\n",
    "                    accompany.notes.append(note)\n",
    "        last_chord = predicted_chord\n",
    "        last_start_time = start_time\n",
    "        this_duration = duration\n",
    "    else:\n",
    "        this_duration += duration\n",
    "    last_index = index\n",
    "midi.instruments.append(accompany)\n",
    "midi.write(f\"test_{idx}_music103.mid\")"
   ]
  },
  {
   "cell_type": "code",
   "execution_count": 137,
   "metadata": {},
   "outputs": [],
   "source": [
    "def synthesize2(chord_reprs, original_csv_path, original_midi_path, output_midi_path, instrument=\"String Ensemble 1\", velocity=50, group=3, melody_only=True, to_mp3=False):\n",
    "    midi = PrettyMIDI(original_midi_path)\n",
    "    if melody_only:\n",
    "        midi.instruments = [midi.instruments[0]]\n",
    "    program = instrument_name_to_program(instrument)\n",
    "    accompany = Instrument(program=program, name=\"accompany\")\n",
    "    original_df = pd.read_csv(original_csv_path, index_col=0)\n",
    "    beat_count = 0\n",
    "    for chord_repr in chord_reprs[1:]:\n",
    "        this_chord = chord_repr[:-1]\n",
    "        last_length = chord_repr[-1]\n",
    "        start_time = original_df.loc[beat_count, \"time\"]\n",
    "        end_beat = beat_count + last_length - 1\n",
    "        if end_beat >= len(original_df):\n",
    "            end_beat = len(original_df) - 1\n",
    "        end_time = original_df.loc[end_beat, \"time\"] + original_df.loc[end_beat, \"duration\"]\n",
    "        for bit, key in zip(this_chord, KEYS):\n",
    "            if bit:\n",
    "                note_number = note_name_to_number(f\"{key}{group}\")\n",
    "                note = Note(velocity=velocity, pitch=note_number, start=start_time, end=end_time)\n",
    "                accompany.notes.append(note)\n",
    "        beat_count += last_length\n",
    "    midi.instruments.append(accompany)\n",
    "    midi.write(output_midi_path)\n",
    "    if to_mp3:\n",
    "        system(f\"Musescore4 {output_midi_path} -o {output_midi_path.replace('mid', 'mp3')}\")"
   ]
  },
  {
   "cell_type": "code",
   "execution_count": 138,
   "metadata": {},
   "outputs": [],
   "source": [
    "trainset = pickle.load(open(\"new_trainset2.pkl\", \"rb\"))"
   ]
  },
  {
   "cell_type": "code",
   "execution_count": 139,
   "metadata": {},
   "outputs": [],
   "source": [
    "chord_lengths = []\n",
    "max_length = 0\n",
    "for idx, melody_reprs, chord_reprs in trainset:\n",
    "    for i, repr in enumerate(chord_reprs[1:]):\n",
    "        if repr[-1] > 20:\n",
    "            print(idx, i, repr[-1], repr)\n",
    "            max_length = repr[-1]\n",
    "        chord_lengths.append(repr[-1])\n"
   ]
  },
  {
   "cell_type": "code",
   "execution_count": 140,
   "metadata": {},
   "outputs": [
    {
     "data": {
      "text/plain": [
       "(2.7703324273468533, 1.535275970530481)"
      ]
     },
     "execution_count": 140,
     "metadata": {},
     "output_type": "execute_result"
    }
   ],
   "source": [
    "import numpy as np\n",
    "np.mean(chord_lengths), np.std(chord_lengths)"
   ]
  },
  {
   "cell_type": "code",
   "execution_count": 155,
   "metadata": {},
   "outputs": [
    {
     "name": "stdout",
     "output_type": "stream",
     "text": [
      "673\n"
     ]
    }
   ],
   "source": [
    "idx, melody_reprs, chord_reprs = trainset[521]\n",
    "print(idx)\n",
    "synthesize2(chord_reprs, f\"POP909/POP909/{idx}/melody_chord_1_beat.csv\", f\"POP909/POP909/{idx}/{idx}.mid\", f\"test.mid\")"
   ]
  }
 ],
 "metadata": {
  "kernelspec": {
   "display_name": "music",
   "language": "python",
   "name": "python3"
  },
  "language_info": {
   "codemirror_mode": {
    "name": "ipython",
    "version": 3
   },
   "file_extension": ".py",
   "mimetype": "text/x-python",
   "name": "python",
   "nbconvert_exporter": "python",
   "pygments_lexer": "ipython3",
   "version": "3.12.7"
  }
 },
 "nbformat": 4,
 "nbformat_minor": 2
}
