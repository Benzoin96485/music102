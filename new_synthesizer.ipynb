{
 "cells": [
  {
   "cell_type": "code",
   "execution_count": 1,
   "metadata": {},
   "outputs": [],
   "source": [
    "from pretty_midi import PrettyMIDI, instrument_name_to_program, Instrument, note_name_to_number, Note\n",
    "from os import system\n",
    "import pandas as pd\n",
    "import pickle\n",
    "import torch"
   ]
  },
  {
   "cell_type": "code",
   "execution_count": 2,
   "metadata": {},
   "outputs": [
    {
     "ename": "FileNotFoundError",
     "evalue": "[Errno 2] No such file or directory: 'new_trainset.pkl'",
     "output_type": "error",
     "traceback": [
      "\u001b[0;31m---------------------------------------------------------------------------\u001b[0m",
      "\u001b[0;31mFileNotFoundError\u001b[0m                         Traceback (most recent call last)",
      "Cell \u001b[0;32mIn[2], line 1\u001b[0m\n\u001b[0;32m----> 1\u001b[0m trainset \u001b[38;5;241m=\u001b[39m pickle\u001b[38;5;241m.\u001b[39mload(\u001b[38;5;28mopen\u001b[39m(\u001b[38;5;124m\"\u001b[39m\u001b[38;5;124mnew_trainset.pkl\u001b[39m\u001b[38;5;124m\"\u001b[39m, \u001b[38;5;124m\"\u001b[39m\u001b[38;5;124mrb\u001b[39m\u001b[38;5;124m\"\u001b[39m))\n\u001b[1;32m      2\u001b[0m testset \u001b[38;5;241m=\u001b[39m pickle\u001b[38;5;241m.\u001b[39mload(\u001b[38;5;28mopen\u001b[39m(\u001b[38;5;124m\"\u001b[39m\u001b[38;5;124mnew_testset.pkl\u001b[39m\u001b[38;5;124m\"\u001b[39m, \u001b[38;5;124m\"\u001b[39m\u001b[38;5;124mrb\u001b[39m\u001b[38;5;124m\"\u001b[39m))\n",
      "File \u001b[0;32m~/miniconda3/envs/music/lib/python3.12/site-packages/IPython/core/interactiveshell.py:324\u001b[0m, in \u001b[0;36m_modified_open\u001b[0;34m(file, *args, **kwargs)\u001b[0m\n\u001b[1;32m    317\u001b[0m \u001b[38;5;28;01mif\u001b[39;00m file \u001b[38;5;129;01min\u001b[39;00m {\u001b[38;5;241m0\u001b[39m, \u001b[38;5;241m1\u001b[39m, \u001b[38;5;241m2\u001b[39m}:\n\u001b[1;32m    318\u001b[0m     \u001b[38;5;28;01mraise\u001b[39;00m \u001b[38;5;167;01mValueError\u001b[39;00m(\n\u001b[1;32m    319\u001b[0m         \u001b[38;5;124mf\u001b[39m\u001b[38;5;124m\"\u001b[39m\u001b[38;5;124mIPython won\u001b[39m\u001b[38;5;124m'\u001b[39m\u001b[38;5;124mt let you open fd=\u001b[39m\u001b[38;5;132;01m{\u001b[39;00mfile\u001b[38;5;132;01m}\u001b[39;00m\u001b[38;5;124m by default \u001b[39m\u001b[38;5;124m\"\u001b[39m\n\u001b[1;32m    320\u001b[0m         \u001b[38;5;124m\"\u001b[39m\u001b[38;5;124mas it is likely to crash IPython. If you know what you are doing, \u001b[39m\u001b[38;5;124m\"\u001b[39m\n\u001b[1;32m    321\u001b[0m         \u001b[38;5;124m\"\u001b[39m\u001b[38;5;124myou can use builtins\u001b[39m\u001b[38;5;124m'\u001b[39m\u001b[38;5;124m open.\u001b[39m\u001b[38;5;124m\"\u001b[39m\n\u001b[1;32m    322\u001b[0m     )\n\u001b[0;32m--> 324\u001b[0m \u001b[38;5;28;01mreturn\u001b[39;00m io_open(file, \u001b[38;5;241m*\u001b[39margs, \u001b[38;5;241m*\u001b[39m\u001b[38;5;241m*\u001b[39mkwargs)\n",
      "\u001b[0;31mFileNotFoundError\u001b[0m: [Errno 2] No such file or directory: 'new_trainset.pkl'"
     ]
    }
   ],
   "source": [
    "trainset = pickle.load(open(\"new_trainset.pkl\", \"rb\"))\n",
    "testset = pickle.load(open(\"new_testset.pkl\", \"rb\"))"
   ]
  },
  {
   "cell_type": "code",
   "execution_count": 4,
   "metadata": {},
   "outputs": [
    {
     "data": {
      "text/plain": [
       "709"
      ]
     },
     "execution_count": 4,
     "metadata": {},
     "output_type": "execute_result"
    }
   ],
   "source": [
    "len(trainset)"
   ]
  },
  {
   "cell_type": "code",
   "execution_count": 4,
   "metadata": {},
   "outputs": [],
   "source": [
    "KEYS = (\"C\", \"C#\", \"D\", \"Eb\", \"E\", \"F\", \"F#\", \"G\", \"Ab\", \"A\", \"Bb\", \"B\") \n",
    "\n",
    "def synthesize(transition_progress, next_chords, original_csv_path, cleaned_csv_path, original_midi_path, output_midi_path, transition_progress_threshold=0.05, instrument=\"String Ensemble 1\", velocity=50, group=3, melody_only=True, to_mp3=False):\n",
    "    midi = PrettyMIDI(original_midi_path)\n",
    "    if melody_only:\n",
    "        midi.instruments = [midi.instruments[0]]\n",
    "    program = instrument_name_to_program(instrument)\n",
    "    accompany = Instrument(program=program, name=\"accompany\")\n",
    "\n",
    "    cleaned_df = pd.read_csv(cleaned_csv_path, index_col=0)\n",
    "    last_start_index = int(cleaned_df.index[0])\n",
    "    last_index = last_start_index\n",
    "    last_total_duration = 0\n",
    "    this_chord = next_chords[0]\n",
    "    original_df = pd.read_csv(original_csv_path, index_col=0)\n",
    "    for i, (transition, next_chord) in enumerate(zip(transition_progress[1:], next_chords[1:])):\n",
    "        index = int(cleaned_df.index[i]) # start index of the current chord\n",
    "        if index - last_index <= 1:\n",
    "            last_total_duration += original_df.loc[index, \"duration\"]\n",
    "        if transition < transition_progress_threshold or index - last_index > 1 or i == len(transition_progress) - 2:\n",
    "            start_time = original_df.loc[last_start_index, \"time\"]\n",
    "            #print(start_time, last_start_index, last_total_duration)\n",
    "            for bit, key in zip(this_chord, KEYS):\n",
    "                if bit:\n",
    "                    note_number = note_name_to_number(f\"{key}{group}\")\n",
    "                    note = Note(velocity=velocity, pitch=note_number, start=start_time, end=start_time+last_total_duration)\n",
    "                    accompany.notes.append(note)\n",
    "            if i < len(transition_progress) - 2:\n",
    "                if transition < transition_progress_threshold:\n",
    "                    this_chord = next_chord\n",
    "                    last_total_duration = 0\n",
    "                    last_start_index = int(cleaned_df.index[i + 1])\n",
    "                else:\n",
    "                    last_total_duration = original_df.loc[index, \"duration\"]\n",
    "                    last_start_index = int(cleaned_df.index[i])\n",
    "                \n",
    "                \n",
    "        last_index = index\n",
    "    midi.instruments.append(accompany)\n",
    "    midi.write(output_midi_path)\n",
    "    if to_mp3:\n",
    "        system(f\"Musescore4 {output_midi_path} -o {output_midi_path.replace('mid', 'mp3')}\")"
   ]
  },
  {
   "cell_type": "code",
   "execution_count": 45,
   "metadata": {},
   "outputs": [],
   "source": [
    "idx, transition_progress, next_chords, melody_reprs = trainset[0]\n",
    "len(transition_progress), len(next_chords)\n",
    "synthesize(transition_progress, next_chords, f\"POP909/POP909/{idx}/melody_chord_1_beat.csv\", f\"POP909/POP909/{idx}/melody_chord_1_beat_clean.csv\", f\"POP909/POP909/{idx}/{idx}.mid\", f\"test.mid\")\n"
   ]
  },
  {
   "cell_type": "code",
   "execution_count": 13,
   "metadata": {},
   "outputs": [],
   "source": [
    "idx = \"001\"\n",
    "predicted = torch.load(f\"song_{idx}_regularized.pt\", map_location=\"cpu\")[0,1:,:12]\n",
    "original_df = pd.read_csv(f\"POP909/POP909/{idx}/melody_chord_1_beat.csv\", index_col=0)\n",
    "cleaned_df = pd.read_csv(f\"POP909/POP909/{idx}/melody_chord_1_beat_clean.csv\", index_col=0)\n",
    "original_midi_path = f\"POP909/POP909/{idx}/{idx}.mid\"\n",
    "midi = PrettyMIDI(original_midi_path)\n",
    "midi.instruments = [midi.instruments[0]]\n",
    "program = instrument_name_to_program(\"String Ensemble 1\")\n",
    "accompany = Instrument(program=program, name=\"accompany\")\n",
    "last_chord = None\n",
    "this_duration = 0\n",
    "last_start_time = 0\n",
    "last_index = -1\n",
    "for i in range(len(predicted)):\n",
    "    index = int(cleaned_df.index[i])\n",
    "    start_time = original_df.loc[index, \"time\"]\n",
    "    duration = original_df.loc[index, \"duration\"]\n",
    "    predicted_chord = predicted[i]\n",
    "    if last_chord is None or (predicted_chord != last_chord).any() or index - last_index > 1:\n",
    "        if last_chord is not None:\n",
    "            for bit, key in zip(last_chord, KEYS):\n",
    "                if bit:\n",
    "                    note_number = note_name_to_number(f\"{key}{3}\")\n",
    "                    note = Note(velocity=50, pitch=note_number, start=last_start_time, end=last_start_time+this_duration)\n",
    "                    accompany.notes.append(note)\n",
    "        last_chord = predicted_chord\n",
    "        last_start_time = start_time\n",
    "        this_duration = duration\n",
    "    else:\n",
    "        this_duration += duration\n",
    "    last_index = index\n",
    "midi.instruments.append(accompany)\n",
    "midi.write(f\"test_{idx}_music103.mid\")"
   ]
  },
  {
   "cell_type": "code",
   "execution_count": 5,
   "metadata": {},
   "outputs": [],
   "source": [
    "def synthesize2(chord_reprs, original_csv_path, original_midi_path, output_midi_path, instrument=\"String Ensemble 1\", velocity=50, group=3, melody_only=True, to_mp3=False):\n",
    "    midi = PrettyMIDI(original_midi_path)\n",
    "    if melody_only:\n",
    "        midi.instruments = [midi.instruments[0]]\n",
    "    program = instrument_name_to_program(instrument)\n",
    "    accompany = Instrument(program=program, name=\"accompany\")\n",
    "    original_df = pd.read_csv(original_csv_path, index_col=0)\n",
    "    beat_count = 0\n",
    "    for chord_repr in chord_reprs[1:]:\n",
    "        this_chord = chord_repr[:-1]\n",
    "        last_length = chord_repr[-1]\n",
    "        start_time = original_df.loc[beat_count, \"time\"]\n",
    "        end_beat = beat_count + last_length - 1\n",
    "        if end_beat >= len(original_df):\n",
    "            end_beat = len(original_df) - 1\n",
    "        end_time = original_df.loc[end_beat, \"time\"] + original_df.loc[end_beat, \"duration\"]\n",
    "        for bit, key in zip(this_chord, KEYS):\n",
    "            if bit:\n",
    "                note_number = note_name_to_number(f\"{key}{group}\")\n",
    "                note = Note(velocity=velocity, pitch=note_number, start=start_time, end=end_time)\n",
    "                accompany.notes.append(note)\n",
    "        beat_count += last_length\n",
    "    midi.instruments.append(accompany)\n",
    "    midi.write(output_midi_path)\n",
    "    if to_mp3:\n",
    "        system(f\"Musescore4 {output_midi_path} -o {output_midi_path.replace('mid', 'mp3')}\")"
   ]
  },
  {
   "cell_type": "code",
   "execution_count": 156,
   "metadata": {},
   "outputs": [],
   "source": [
    "\n",
    "predicted = torch.load(f\"song_{idx}_regularized.pt\", map_location=\"cpu\")[0,1:,:]"
   ]
  },
  {
   "cell_type": "code",
   "execution_count": 16,
   "metadata": {},
   "outputs": [
    {
     "name": "stdout",
     "output_type": "stream",
     "text": [
      "2\n",
      "2\n",
      "2\n",
      "2\n",
      "2\n",
      "2\n",
      "2\n",
      "4\n",
      "4\n",
      "4\n",
      "4\n",
      "2\n",
      "2\n",
      "2\n",
      "2\n",
      "2\n",
      "2\n",
      "2\n",
      "4\n",
      "2\n",
      "2\n",
      "2\n",
      "2\n",
      "2\n",
      "2\n",
      "2\n",
      "2\n",
      "4\n",
      "2\n",
      "2\n",
      "2\n",
      "2\n",
      "4\n",
      "2\n",
      "2\n",
      "2\n",
      "2\n",
      "2\n",
      "2\n",
      "2\n",
      "2\n",
      "2\n",
      "2\n",
      "2\n",
      "2\n",
      "2\n",
      "2\n",
      "2\n",
      "2\n",
      "2\n",
      "2\n",
      "4\n",
      "4\n",
      "4\n",
      "4\n",
      "4\n",
      "4\n",
      "2\n",
      "2\n",
      "2\n",
      "2\n",
      "4\n",
      "4\n",
      "2\n",
      "2\n",
      "2\n",
      "2\n",
      "2\n",
      "2\n",
      "2\n",
      "2\n",
      "2\n",
      "2\n",
      "2\n",
      "2\n",
      "2\n",
      "2\n",
      "2\n",
      "2\n",
      "2\n",
      "2\n",
      "2\n",
      "2\n",
      "2\n",
      "2\n",
      "2\n",
      "2\n",
      "2\n",
      "2\n",
      "2\n",
      "2\n",
      "2\n",
      "2\n",
      "2\n",
      "2\n",
      "6\n",
      "5\n",
      "0\n",
      "0\n"
     ]
    }
   ],
   "source": [
    "idx = \"024\"\n",
    "predicted = torch.load(f\"song_{idx}_regularized.pt\", map_location=\"cpu\")[0,1:,:]\n",
    "original_csv_path = f\"POP909/POP909/{idx}/melody_chord_1_beat.csv\"\n",
    "original_midi_path = f\"POP909/POP909/{idx}/{idx}.mid\"\n",
    "midi = PrettyMIDI(original_midi_path)\n",
    "midi.instruments = [midi.instruments[0]]\n",
    "program = instrument_name_to_program(\"String Ensemble 1\")\n",
    "accompany = Instrument(program=program, name=\"accompany\")\n",
    "original_df = pd.read_csv(original_csv_path, index_col=0)\n",
    "beat_count = 0\n",
    "for repr in predicted:\n",
    "    this_chord = repr[:12]\n",
    "    last_length = torch.argmax(repr[12:]).item()\n",
    "    print(last_length)\n",
    "    start_time = original_df.loc[beat_count, \"time\"]\n",
    "    end_beat = beat_count + last_length - 1\n",
    "    if end_beat >= len(original_df):\n",
    "        end_beat = len(original_df) - 1\n",
    "    end_time = original_df.loc[end_beat, \"time\"] + original_df.loc[end_beat, \"duration\"]\n",
    "    for bit, key in zip(this_chord, KEYS):\n",
    "        if bit:\n",
    "            note_number = note_name_to_number(f\"{key}{3}\")\n",
    "            note = Note(velocity=50, pitch=note_number, start=start_time, end=end_time)\n",
    "            accompany.notes.append(note)\n",
    "    beat_count += last_length\n",
    "    if beat_count >= len(original_df):\n",
    "        break\n",
    "midi.instruments.append(accompany)\n",
    "midi.write(f\"test_{idx}_music103.mid\")"
   ]
  },
  {
   "cell_type": "code",
   "execution_count": 138,
   "metadata": {},
   "outputs": [],
   "source": [
    "trainset = pickle.load(open(\"new_trainset2.pkl\", \"rb\"))"
   ]
  },
  {
   "cell_type": "code",
   "execution_count": 139,
   "metadata": {},
   "outputs": [],
   "source": [
    "chord_lengths = []\n",
    "max_length = 0\n",
    "for idx, melody_reprs, chord_reprs in trainset:\n",
    "    for i, repr in enumerate(chord_reprs[1:]):\n",
    "        if repr[-1] > 20:\n",
    "            print(idx, i, repr[-1], repr)\n",
    "            max_length = repr[-1]\n",
    "        chord_lengths.append(repr[-1])\n"
   ]
  },
  {
   "cell_type": "code",
   "execution_count": 140,
   "metadata": {},
   "outputs": [
    {
     "data": {
      "text/plain": [
       "(2.7703324273468533, 1.535275970530481)"
      ]
     },
     "execution_count": 140,
     "metadata": {},
     "output_type": "execute_result"
    }
   ],
   "source": [
    "import numpy as np\n",
    "np.mean(chord_lengths), np.std(chord_lengths)"
   ]
  },
  {
   "cell_type": "code",
   "execution_count": 155,
   "metadata": {},
   "outputs": [
    {
     "name": "stdout",
     "output_type": "stream",
     "text": [
      "673\n"
     ]
    }
   ],
   "source": [
    "idx, melody_reprs, chord_reprs = trainset[521]\n",
    "print(idx)\n",
    "synthesize2(chord_reprs, f\"POP909/POP909/{idx}/melody_chord_1_beat.csv\", f\"POP909/POP909/{idx}/{idx}.mid\", f\"test.mid\")"
   ]
  },
  {
   "cell_type": "code",
   "execution_count": 31,
   "metadata": {},
   "outputs": [
    {
     "name": "stdout",
     "output_type": "stream",
     "text": [
      "639\n"
     ]
    },
    {
     "ename": "RuntimeError",
     "evalue": "Boolean value of Tensor with more than one value is ambiguous",
     "output_type": "error",
     "traceback": [
      "\u001b[0;31m---------------------------------------------------------------------------\u001b[0m",
      "\u001b[0;31mRuntimeError\u001b[0m                              Traceback (most recent call last)",
      "Cell \u001b[0;32mIn[31], line 16\u001b[0m\n\u001b[1;32m     14\u001b[0m beat \u001b[38;5;241m=\u001b[39m original_df\u001b[38;5;241m.\u001b[39mloc[i, \u001b[38;5;124m\"\u001b[39m\u001b[38;5;124mtime\u001b[39m\u001b[38;5;124m\"\u001b[39m]\n\u001b[1;32m     15\u001b[0m duration \u001b[38;5;241m=\u001b[39m original_df\u001b[38;5;241m.\u001b[39mloc[i, \u001b[38;5;124m\"\u001b[39m\u001b[38;5;124mduration\u001b[39m\u001b[38;5;124m\"\u001b[39m]\n\u001b[0;32m---> 16\u001b[0m \u001b[38;5;28;01mif\u001b[39;00m (chord \u001b[38;5;241m!=\u001b[39m old_chord) \u001b[38;5;129;01mor\u001b[39;00m i \u001b[38;5;241m==\u001b[39m \u001b[38;5;28mlen\u001b[39m(chord_reprs) \u001b[38;5;241m-\u001b[39m \u001b[38;5;241m1\u001b[39m:\n\u001b[1;32m     17\u001b[0m     \u001b[38;5;28;01mif\u001b[39;00m old_chord:\n\u001b[1;32m     18\u001b[0m         \u001b[38;5;28;01mfor\u001b[39;00m bit, key \u001b[38;5;129;01min\u001b[39;00m \u001b[38;5;28mzip\u001b[39m(old_chord, KEYS):\n",
      "\u001b[0;31mRuntimeError\u001b[0m: Boolean value of Tensor with more than one value is ambiguous"
     ]
    }
   ],
   "source": [
    "predicted = torch.load(\"song_test_music103.pt\", map_location=\"cpu\")\n",
    "for idx_, chord_reprs_ in predicted:\n",
    "    idx = idx_[0]\n",
    "    chord_reprs = chord_reprs_[0]\n",
    "    print(idx)\n",
    "    original_df = pd.read_csv(f\"POP909/POP909/{idx}/melody_chord_1_beat.csv\", index_col=0)\n",
    "    original_midi_path = f\"POP909/POP909/{idx}/{idx}.mid\"\n",
    "    midi = PrettyMIDI(original_midi_path)\n",
    "    midi.instruments = [midi.instruments[0]]\n",
    "    program = instrument_name_to_program(\"String Ensemble 1\")\n",
    "    accompany = Instrument(program=program, name=\"accompany\")\n",
    "    old_chord = None\n",
    "    for i, chord in enumerate(chord_reprs):\n",
    "        beat = original_df.loc[i, \"time\"]\n",
    "        duration = original_df.loc[i, \"duration\"]\n",
    "        if (chord != old_chord) or i == len(chord_reprs) - 1:\n",
    "            if old_chord:\n",
    "                for bit, key in zip(old_chord, KEYS):\n",
    "                    if bit:\n",
    "                        note_number = note_name_to_number(f\"{key}{3}\")\n",
    "                        note = Note(velocity=50, pitch=note_number, start=old_beat, end=old_beat+total_duration)\n",
    "                        accompany.notes.append(note)\n",
    "            old_beat = beat\n",
    "            total_duration = duration\n",
    "            old_chord = chord\n",
    "        else:\n",
    "            total_duration += duration\n",
    "    midi.instruments.append(accompany)\n",
    "    midi.write(f\"test_{idx}_music103.mid\")"
   ]
  },
  {
   "cell_type": "code",
   "execution_count": 21,
   "metadata": {},
   "outputs": [
    {
     "data": {
      "text/plain": [
       "tensor([[[0, 0, 1,  ..., 1, 0, 0],\n",
       "         [0, 1, 1,  ..., 1, 0, 1],\n",
       "         [0, 1, 1,  ..., 1, 0, 0],\n",
       "         ...,\n",
       "         [0, 1, 1,  ..., 1, 0, 1],\n",
       "         [0, 0, 1,  ..., 1, 0, 0],\n",
       "         [0, 1, 1,  ..., 1, 0, 1]]])"
      ]
     },
     "execution_count": 21,
     "metadata": {},
     "output_type": "execute_result"
    }
   ],
   "source": [
    "chord_reprs"
   ]
  }
 ],
 "metadata": {
  "kernelspec": {
   "display_name": "music",
   "language": "python",
   "name": "python3"
  },
  "language_info": {
   "codemirror_mode": {
    "name": "ipython",
    "version": 3
   },
   "file_extension": ".py",
   "mimetype": "text/x-python",
   "name": "python",
   "nbconvert_exporter": "python",
   "pygments_lexer": "ipython3",
   "version": "3.12.7"
  }
 },
 "nbformat": 4,
 "nbformat_minor": 2
}
