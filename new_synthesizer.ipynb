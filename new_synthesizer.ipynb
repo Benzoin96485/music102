{
 "cells": [
  {
   "cell_type": "code",
   "execution_count": 3,
   "metadata": {},
   "outputs": [],
   "source": [
    "from pretty_midi import PrettyMIDI, instrument_name_to_program, Instrument, note_name_to_number, Note\n",
    "from os import system\n",
    "import pandas as pd\n",
    "import pickle"
   ]
  },
  {
   "cell_type": "code",
   "execution_count": 7,
   "metadata": {},
   "outputs": [],
   "source": [
    "trainset = pickle.load(open(\"new_testset.pkl\", \"rb\"))"
   ]
  },
  {
   "cell_type": "code",
   "execution_count": null,
   "metadata": {},
   "outputs": [],
   "source": [
    "KEYS = (\"C\", \"C#\", \"D\", \"Eb\", \"E\", \"F\", \"F#\", \"G\", \"Ab\", \"A\", \"Bb\", \"B\") \n",
    "\n",
    "def synthesize(transition_progress, next_chords, original_csv_path, cleaned_csv_path, original_midi_path, output_midi_path, transition_progress_threshold=0.05, instrument=\"String Ensemble 1\", velocity=50, group=3, melody_only=True, to_mp3=False):\n",
    "    midi = PrettyMIDI(original_midi_path)\n",
    "    if melody_only:\n",
    "        midi.instruments = [midi.instruments[0]]\n",
    "    program = instrument_name_to_program(instrument)\n",
    "    accompany = Instrument(program=program, name=\"accompany\")\n",
    "\n",
    "    "
   ]
  }
 ],
 "metadata": {
  "kernelspec": {
   "display_name": "music",
   "language": "python",
   "name": "python3"
  },
  "language_info": {
   "codemirror_mode": {
    "name": "ipython",
    "version": 3
   },
   "file_extension": ".py",
   "mimetype": "text/x-python",
   "name": "python",
   "nbconvert_exporter": "python",
   "pygments_lexer": "ipython3",
   "version": "3.12.7"
  }
 },
 "nbformat": 4,
 "nbformat_minor": 2
}
